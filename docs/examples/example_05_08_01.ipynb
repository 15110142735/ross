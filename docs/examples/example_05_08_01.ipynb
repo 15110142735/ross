{
 "cells": [
  {
   "cell_type": "markdown",
   "metadata": {},
   "source": [
    "# Example 5.8.1"
   ]
  },
  {
   "cell_type": "code",
   "execution_count": null,
   "metadata": {},
   "outputs": [],
   "source": [
    "import numpy as np\n",
    "import matplotlib.pyplot as plt\n",
    "import ross as rs"
   ]
  },
  {
   "cell_type": "code",
   "execution_count": null,
   "metadata": {},
   "outputs": [],
   "source": [
    "steel = rs.materials.steel"
   ]
  },
  {
   "cell_type": "code",
   "execution_count": null,
   "metadata": {},
   "outputs": [],
   "source": [
    "number_of_elements = [2, 4, 6, 8, 10, 12, 14, 16, 18, 20, 40, 60]"
   ]
  },
  {
   "cell_type": "code",
   "execution_count": null,
   "metadata": {},
   "outputs": [],
   "source": [
    "def create_rotor(n_el):\n",
    "    \"\"\"Create example rotor with given number of elements.\"\"\"\n",
    "    shaft = [\n",
    "        rs.ShaftElement(1.2/(n_el), i_d=0.03, o_d=0.08, material=steel)\n",
    "        for i in range(n_el)\n",
    "    ]\n",
    "\n",
    "    disks = [\n",
    "        rs.DiskElement.from_geometry(n=(n_el / 2), material=steel,\n",
    "                                     width=0.08, i_d=0.08, o_d=0.4)\n",
    "    ]\n",
    "\n",
    "    bearings = [\n",
    "        rs.BearingElement(0, kxx=1e15, cxx=0),\n",
    "        rs.BearingElement(n_el, kxx=1e15, cxx=0)\n",
    "    ]\n",
    "    \n",
    "    return rs.Rotor(shaft, disks, bearings, sparse=False)"
   ]
  },
  {
   "cell_type": "code",
   "execution_count": null,
   "metadata": {},
   "outputs": [],
   "source": [
    "def analysis(speed):\n",
    "    \"\"\"Perform convergence analysis for a given speed.\"\"\"\n",
    "    # create reference rotor with 80 elements\n",
    "    rotor_80 = create_rotor(80)\n",
    "    rotor_80.w = speed\n",
    "    rotor_80.run_modal()\n",
    "\n",
    "    n_eigen = 8 \n",
    "    errors = np.zeros([len(number_of_elements), n_eigen])\n",
    "\n",
    "    for i, n_el in enumerate(number_of_elements):\n",
    "        rotor = create_rotor(n_el)\n",
    "        rotor.w = speed\n",
    "        rotor.run_modal()\n",
    "        errors[i, :] = abs(\n",
    "            100 * (rotor.wn[:n_eigen] - rotor_80.wn[:n_eigen]) \n",
    "            / rotor_80.wn[:n_eigen])\n",
    "        \n",
    "    fig, ax = plt.subplots()\n",
    "    for i in range(8):\n",
    "        ax.semilogy(number_of_elements, errors[:, i])"
   ]
  },
  {
   "cell_type": "code",
   "execution_count": null,
   "metadata": {},
   "outputs": [],
   "source": [
    "analysis(speed=0)"
   ]
  },
  {
   "cell_type": "code",
   "execution_count": null,
   "metadata": {},
   "outputs": [],
   "source": [
    "analysis(speed=500)"
   ]
  },
  {
   "cell_type": "code",
   "execution_count": null,
   "metadata": {},
   "outputs": [],
   "source": []
  }
 ],
 "metadata": {
  "kernelspec": {
   "display_name": "Python 3",
   "language": "python",
   "name": "python3"
  },
  "language_info": {
   "codemirror_mode": {
    "name": "ipython",
    "version": 3
   },
   "file_extension": ".py",
   "mimetype": "text/x-python",
   "name": "python",
   "nbconvert_exporter": "python",
   "pygments_lexer": "ipython3",
   "version": "3.7.3"
  }
 },
 "nbformat": 4,
 "nbformat_minor": 2
}
