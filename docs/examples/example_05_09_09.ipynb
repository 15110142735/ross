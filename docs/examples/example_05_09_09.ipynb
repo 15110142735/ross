{
 "cells": [
  {
   "cell_type": "markdown",
   "metadata": {},
   "source": [
    "Example 8 - Overhung rotor.\n",
    "=========\n",
    "In this example, we use the rotor seen in Example 5.9.9 from 'Dynamics of Rotating Machinery' by MI Friswell, JET Penny, SD Garvey & AW Lees, published by Cambridge University Press, 2010.\n",
    "\n",
    "The shaft is $1.5m$ long and the diameter is $50 mm$ with a disk of diameter $350mm$ and thickness $70 mm$. The two bearings, have a stiffness of $10 MN/m$ in each direction. The shaft and disk are made of steel. Damping is neglected."
   ]
  },
  {
   "cell_type": "code",
   "execution_count": null,
   "metadata": {},
   "outputs": [],
   "source": [
    "import ross as rs\n",
    "import numpy as np\n",
    "from bokeh.io import output_notebook\n",
    "output_notebook()"
   ]
  },
  {
   "cell_type": "code",
   "execution_count": null,
   "metadata": {},
   "outputs": [],
   "source": [
    "shaft_elements =[]\n",
    "disk_elements = []\n",
    "bearing_seal_elements = []\n",
    "Steel = rs.steel\n",
    "\n",
    "bearing_seal_elements.append(rs.BearingElement(n=0,kxx=10e6,kyy=10e6,cxx=0,cyy=0))\n",
    "bearing_seal_elements.append(rs.BearingElement(n=1,kxx=10e6,kyy=10e6,cxx=0,cyy=0))\n",
    "\n",
    "shaft_elements.append(rs.ShaftElement(material=Steel, n=0,L=1,o_d=0.05,i_d=0))\n",
    "shaft_elements.append(rs.ShaftElement(material=Steel, n=1,L=.5,o_d=0.05,i_d=0))\n",
    "\n",
    "disk_elements.append(rs.DiskElement.from_geometry(n=2,i_d=0.05,o_d=0.35,width=0.07,material=Steel))\n",
    "\n",
    "#Moment approach\n",
    "overhung_rotor = rs.Rotor(shaft_elements=shaft_elements,\n",
    "                          bearing_seal_elements=bearing_seal_elements,\n",
    "                          disk_elements=disk_elements)\n",
    "#from section approach\n",
    "leng_data = [1.0,0.5]\n",
    "\n",
    "overhung_from_section_rotor = rs.Rotor.from_section(brg_seal_data=bearing_seal_elements,\n",
    "                                                    disk_data=disk_elements,\n",
    "                                                    leng_data=leng_data,\n",
    "                                                    i_ds_data= [0,0] ,\n",
    "                                                    o_ds_data= [0.05,0.05]                                                 \n",
    "                                                   )\n",
    "overhung_from_section_rotor.plot_rotor()"
   ]
  },
  {
   "cell_type": "code",
   "execution_count": null,
   "metadata": {},
   "outputs": [],
   "source": [
    "\n",
    "print('From section approach =',overhung_from_section_rotor.wn/(2*np.pi))"
   ]
  },
  {
   "cell_type": "code",
   "execution_count": null,
   "metadata": {},
   "outputs": [],
   "source": [
    "overhung_from_section_rotor.run_campbell(np.linspace(0,4000*np.pi/30,100)).plot()"
   ]
  }
 ],
 "metadata": {
  "kernelspec": {
   "display_name": "Python 3",
   "language": "python",
   "name": "python3"
  },
  "language_info": {
   "codemirror_mode": {
    "name": "ipython",
    "version": 3
   },
   "file_extension": ".py",
   "mimetype": "text/x-python",
   "name": "python",
   "nbconvert_exporter": "python",
   "pygments_lexer": "ipython3",
   "version": "3.7.3"
  }
 },
 "nbformat": 4,
 "nbformat_minor": 2
}
