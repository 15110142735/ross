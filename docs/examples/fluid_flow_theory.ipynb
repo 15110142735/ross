{
 "cells": [
  {
   "cell_type": "markdown",
   "metadata": {},
   "source": [
    "Fluid-flow theory\n",
    "=================\n",
    "\n",
    "The FluidFlow code is responsible for providing Ross with simulations of thin thickness fluid in hydrodynamic bearings, returning to the rest of the program, information necessary for the analysis of the stability of rotating dynamic systems. In this section, the main theoretical foundations of the modeling described in the code will be synthesized, as well as examples of its use."
   ]
  },
  {
   "cell_type": "code",
   "execution_count": 6,
   "metadata": {},
   "outputs": [],
   "source": [
    "import ross\n",
    "from ross.fluid_flow.fluid_flow import fluid_flow_example\n",
    "my_fluid_flow = fluid_flow_example()"
   ]
  },
  {
   "cell_type": "markdown",
   "metadata": {},
   "source": [
    "**PROBLEM DESCRIPTION**\n",
    "\n",
    "Fluid flow occurs in the annular space between the shaft and the bearing, both of $ L $ length. These structures will be called rotor and stator, respectively. The stator is fixed with radius $R_{o}$ and the rotor, with radius $R_{i} $, is an axis with rotation speed $\\omega$, as shown in the figure below.\n",
    "\n",
    "<img src=\"https://docs.google.com/uc?id=1ZVqsNZEBQ8PhKZ5v4IlXHpwUTkgO4sM8\" width=\"350\" height=\"350\" />\n",
    "\n",
    "Due to the rotation of the shaft, pressures are generated in the lubricating oil film and, consequently, forces acting on it. If the speed of rotation is constant, these forces cause the axis to move until it reaches a certain location, called the equilibrium position. In this position there is an eccentricity between the cylinders, $e$ being the distance between the centers and $\\beta$ the attitude angle, formed between the center line and the vertical axis.\n",
    "\n",
    "For this reason, the description of the rotor from the center of the stator varies in the tangential direction. Using the cosine law and calling the description of the rotor $R_{\\theta}$, we get:\n",
    "\n",
    "$$ R_{\\theta} = \\sqrt{R_i ^2 - e^2 \\sin^2{\\alpha}} + e \\cos{\\alpha},$$\n",
    "where $\\alpha =$ \n",
    "$\\begin{cases} \n",
    "\\dfrac{3\\pi}{2} - \\theta + \\beta \\text{,} \n",
    "&\\mbox{se } \\dfrac{\\pi}{2} + \\beta \\leq \\theta < \\dfrac{3\\pi}{2} + \\beta \\\\ \\\\\n",
    "- \\left(\\dfrac{3\\pi}{2} - \\theta + \\beta\\right) \\text{,} \n",
    "& \\mbox{se } \\dfrac{3\\pi}{2} + \\beta \\leq \\theta < \\dfrac{5\\pi}{2} + \\beta \n",
    "\\end{cases}.\n",
    "$"
   ]
  },
  {
   "cell_type": "code",
   "execution_count": 7,
   "metadata": {},
   "outputs": [
    {
     "data": {
      "application/vnd.plotly.v1+json": {
       "config": {
        "plotlyServerURL": "https://plot.ly"
       },
       "data": [
        {
         "customdata": [
          [
           45,
           0.0001,
           0.2,
           0.2002,
           0.4,
           "cylindrical"
          ],
          [
           45,
           0.0001,
           0.2,
           0.2002,
           0.4,
           "cylindrical"
          ],
          [
           45,
           0.0001,
           0.2,
           0.2002,
           0.4,
           "cylindrical"
          ],
          [
           45,
           0.0001,
           0.2,
           0.2002,
           0.4,
           "cylindrical"
          ],
          [
           45,
           0.0001,
           0.2,
           0.2002,
           0.4,
           "cylindrical"
          ],
          [
           45,
           0.0001,
           0.2,
           0.2002,
           0.4,
           "cylindrical"
          ],
          [
           45,
           0.0001,
           0.2,
           0.2002,
           0.4,
           "cylindrical"
          ],
          [
           45,
           0.0001,
           0.2,
           0.2002,
           0.4,
           "cylindrical"
          ],
          [
           45,
           0.0001,
           0.2,
           0.2002,
           0.4,
           "cylindrical"
          ],
          [
           45,
           0.0001,
           0.2,
           0.2002,
           0.4,
           "cylindrical"
          ],
          [
           45,
           0.0001,
           0.2,
           0.2002,
           0.4,
           "cylindrical"
          ],
          [
           45,
           0.0001,
           0.2,
           0.2002,
           0.4,
           "cylindrical"
          ],
          [
           45,
           0.0001,
           0.2,
           0.2002,
           0.4,
           "cylindrical"
          ],
          [
           45,
           0.0001,
           0.2,
           0.2002,
           0.4,
           "cylindrical"
          ],
          [
           45,
           0.0001,
           0.2,
           0.2002,
           0.4,
           "cylindrical"
          ],
          [
           45,
           0.0001,
           0.2,
           0.2002,
           0.4,
           "cylindrical"
          ],
          [
           45,
           0.0001,
           0.2,
           0.2002,
           0.4,
           "cylindrical"
          ],
          [
           45,
           0.0001,
           0.2,
           0.2002,
           0.4,
           "cylindrical"
          ],
          [
           45,
           0.0001,
           0.2,
           0.2002,
           0.4,
           "cylindrical"
          ],
          [
           45,
           0.0001,
           0.2,
           0.2002,
           0.4,
           "cylindrical"
          ],
          [
           45,
           0.0001,
           0.2,
           0.2002,
           0.4,
           "cylindrical"
          ],
          [
           45,
           0.0001,
           0.2,
           0.2002,
           0.4,
           "cylindrical"
          ],
          [
           45,
           0.0001,
           0.2,
           0.2002,
           0.4,
           "cylindrical"
          ],
          [
           45,
           0.0001,
           0.2,
           0.2002,
           0.4,
           "cylindrical"
          ],
          [
           45,
           0.0001,
           0.2,
           0.2002,
           0.4,
           "cylindrical"
          ],
          [
           45,
           0.0001,
           0.2,
           0.2002,
           0.4,
           "cylindrical"
          ],
          [
           45,
           0.0001,
           0.2,
           0.2002,
           0.4,
           "cylindrical"
          ],
          [
           45,
           0.0001,
           0.2,
           0.2002,
           0.4,
           "cylindrical"
          ],
          [
           45,
           0.0001,
           0.2,
           0.2002,
           0.4,
           "cylindrical"
          ],
          [
           45,
           0.0001,
           0.2,
           0.2002,
           0.4,
           "cylindrical"
          ],
          [
           45,
           0.0001,
           0.2,
           0.2002,
           0.4,
           "cylindrical"
          ],
          [
           45,
           0.0001,
           0.2,
           0.2002,
           0.4,
           "cylindrical"
          ]
         ],
         "hovertemplate": "Stator radius: 2.00e-01<br>Ellipticity ratio: 0.40<br>Shape Geometry: cylindrical<br>",
         "legendgroup": "Stator",
         "line": {
          "color": "#d62728"
         },
         "marker": {
          "color": "#d62728"
         },
         "mode": "markers+lines",
         "name": "Stator",
         "type": "scatter",
         "x": [
          -0.1415627775935468,
          -0.16716135684896793,
          -0.18591633051436687,
          -0.19705986776426632,
          -0.20013575087434538,
          -0.19501805282867649,
          -0.18191629278655333,
          -0.16136685834349185,
          -0.13421104576004703,
          -0.10156061719405757,
          -0.06475228502727738,
          -0.02529298670341036,
          0.015201809467894378,
          0.0550742417734464,
          0.09269192814984523,
          0.12651479609694996,
          0.15515813342698848,
          0.17744927854421924,
          0.19247562934844492,
          0.199622005272219,
          0.19859583284555873,
          0.18943912368818172,
          0.17252675454885863,
          0.14855111980727234,
          0.11849378476676087,
          0.08358530025546965,
          0.045254823730863744,
          0.0050716094055002605,
          -0.035319237204813204,
          -0.07426411009412762,
          -0.11016860159052569,
          -0.14156277759354663
         ],
         "y": [
          0.14156277759354682,
          0.11016860159052576,
          0.07426411009412753,
          0.03531923720481329,
          -0.005071609405500175,
          -0.04525482373086366,
          -0.08358530025546958,
          -0.1184937847667608,
          -0.14855111980727229,
          -0.17252675454885857,
          -0.18943912368818175,
          -0.1985958328455587,
          -0.199622005272219,
          -0.19247562934844495,
          -0.1774492785442193,
          -0.15515813342698853,
          -0.12651479609695002,
          -0.09269192814984531,
          -0.05507424177344649,
          -0.015201809467894461,
          0.025292986703410278,
          0.06475228502727746,
          0.10156061719405747,
          0.13421104576004694,
          0.1613668583434918,
          0.1819162927865533,
          0.19501805282867649,
          0.20013575087434538,
          0.19705986776426634,
          0.18591633051436685,
          0.167161356848968,
          0.14156277759354696
         ]
        },
        {
         "customdata": [
          [
           45,
           0.0001,
           0.2,
           0.2002,
           0.4,
           "cylindrical"
          ],
          [
           45,
           0.0001,
           0.2,
           0.2002,
           0.4,
           "cylindrical"
          ],
          [
           45,
           0.0001,
           0.2,
           0.2002,
           0.4,
           "cylindrical"
          ],
          [
           45,
           0.0001,
           0.2,
           0.2002,
           0.4,
           "cylindrical"
          ],
          [
           45,
           0.0001,
           0.2,
           0.2002,
           0.4,
           "cylindrical"
          ],
          [
           45,
           0.0001,
           0.2,
           0.2002,
           0.4,
           "cylindrical"
          ],
          [
           45,
           0.0001,
           0.2,
           0.2002,
           0.4,
           "cylindrical"
          ],
          [
           45,
           0.0001,
           0.2,
           0.2002,
           0.4,
           "cylindrical"
          ],
          [
           45,
           0.0001,
           0.2,
           0.2002,
           0.4,
           "cylindrical"
          ],
          [
           45,
           0.0001,
           0.2,
           0.2002,
           0.4,
           "cylindrical"
          ],
          [
           45,
           0.0001,
           0.2,
           0.2002,
           0.4,
           "cylindrical"
          ],
          [
           45,
           0.0001,
           0.2,
           0.2002,
           0.4,
           "cylindrical"
          ],
          [
           45,
           0.0001,
           0.2,
           0.2002,
           0.4,
           "cylindrical"
          ],
          [
           45,
           0.0001,
           0.2,
           0.2002,
           0.4,
           "cylindrical"
          ],
          [
           45,
           0.0001,
           0.2,
           0.2002,
           0.4,
           "cylindrical"
          ],
          [
           45,
           0.0001,
           0.2,
           0.2002,
           0.4,
           "cylindrical"
          ],
          [
           45,
           0.0001,
           0.2,
           0.2002,
           0.4,
           "cylindrical"
          ],
          [
           45,
           0.0001,
           0.2,
           0.2002,
           0.4,
           "cylindrical"
          ],
          [
           45,
           0.0001,
           0.2,
           0.2002,
           0.4,
           "cylindrical"
          ],
          [
           45,
           0.0001,
           0.2,
           0.2002,
           0.4,
           "cylindrical"
          ],
          [
           45,
           0.0001,
           0.2,
           0.2002,
           0.4,
           "cylindrical"
          ],
          [
           45,
           0.0001,
           0.2,
           0.2002,
           0.4,
           "cylindrical"
          ],
          [
           45,
           0.0001,
           0.2,
           0.2002,
           0.4,
           "cylindrical"
          ],
          [
           45,
           0.0001,
           0.2,
           0.2002,
           0.4,
           "cylindrical"
          ],
          [
           45,
           0.0001,
           0.2,
           0.2002,
           0.4,
           "cylindrical"
          ],
          [
           45,
           0.0001,
           0.2,
           0.2002,
           0.4,
           "cylindrical"
          ],
          [
           45,
           0.0001,
           0.2,
           0.2002,
           0.4,
           "cylindrical"
          ],
          [
           45,
           0.0001,
           0.2,
           0.2002,
           0.4,
           "cylindrical"
          ],
          [
           45,
           0.0001,
           0.2,
           0.2002,
           0.4,
           "cylindrical"
          ],
          [
           45,
           0.0001,
           0.2,
           0.2002,
           0.4,
           "cylindrical"
          ],
          [
           45,
           0.0001,
           0.2,
           0.2002,
           0.4,
           "cylindrical"
          ],
          [
           45,
           0.0001,
           0.2,
           0.2002,
           0.4,
           "cylindrical"
          ]
         ],
         "hovertemplate": "Attitude angle: 45.00°<br>Eccentricity: 1.00e-04<br>Rotor radius: 2.00e-01<br>",
         "legendgroup": "Rotor",
         "line": {
          "color": "#1f77b4"
         },
         "marker": {
          "color": "#1f77b4"
         },
         "mode": "markers+lines",
         "name": "Rotor",
         "type": "scatter",
         "x": [
          -0.07948328968047916,
          -0.0986547357497817,
          -0.1127042482694153,
          -0.12105696132371704,
          -0.12337050102293251,
          -0.1195490691274134,
          -0.10974754018729616,
          -0.0943653761325628,
          -0.07403056614969294,
          -0.04957420174698124,
          -0.021996681710038404,
          0.007573106786164484,
          0.03792398213366534,
          0.06781214988891912,
          0.09601232257221826,
          0.12136815261570144,
          0.14283987000996276,
          0.15954712622047343,
          0.17080524560501,
          0.17615336613783816,
          0.17537329951203304,
          0.16849833975015913,
          0.15581167985745456,
          0.13783453710733873,
          0.11530451866681425,
          0.08914516121767581,
          0.060427934176944156,
          0.030328292381209196,
          7.759054684145991e-05,
          -0.02908717803237854,
          -0.055973785264271395,
          -0.07948328968047903
         ],
         "y": [
          0.07948328968047919,
          0.05597378526427145,
          0.02908717803237847,
          -7.759054684139746e-05,
          -0.030328292381209133,
          -0.0604279341769441,
          -0.08914516121767577,
          -0.1153045186668142,
          -0.13783453710733867,
          -0.15581167985745453,
          -0.16849833975015915,
          -0.175373299512033,
          -0.17615336613783816,
          -0.17080524560501004,
          -0.15954712622047346,
          -0.1428398700099628,
          -0.12136815261570148,
          -0.09601232257221831,
          -0.06781214988891918,
          -0.0379239821336654,
          -0.007573106786164546,
          0.021996681710038452,
          0.04957420174698117,
          0.0740305661496929,
          0.09436537613256278,
          0.10974754018729613,
          0.1195490691274134,
          0.12337050102293251,
          0.12105696132371704,
          0.11270424826941527,
          0.09865473574978176,
          0.07948328968047928
         ]
        },
        {
         "customdata": [
          [
           45,
           0.0001,
           0.2,
           0.2002,
           0.4,
           "cylindrical"
          ]
         ],
         "hovertemplate": "Attitude angle: 45.00°<br>Eccentricity: 1.00e-04<br>Rotor radius: 2.00e-01<br>",
         "legendgroup": "Rotor",
         "marker": {
          "color": "#1f77b4",
          "size": 8
         },
         "name": "Rotor",
         "showlegend": false,
         "type": "scatter",
         "x": [
          0.026582727497502973
         ],
         "y": [
          -0.026582727497502973
         ]
        },
        {
         "customdata": [
          [
           45,
           0.0001,
           0.2,
           0.2002,
           0.4,
           "cylindrical"
          ]
         ],
         "hovertemplate": "Stator radius: 2.00e-01<br>Ellipticity ratio: 0.40<br>Shape Geometry: cylindrical<br>",
         "legendgroup": "Stator",
         "marker": {
          "color": "#d62728",
          "size": 8
         },
         "name": "Stator",
         "showlegend": false,
         "type": "scatter",
         "x": [
          0
         ],
         "y": [
          0
         ]
        }
       ],
       "layout": {
        "template": {
         "data": {
          "bar": [
           {
            "error_x": {
             "color": "#2a3f5f"
            },
            "error_y": {
             "color": "#2a3f5f"
            },
            "marker": {
             "line": {
              "color": "white",
              "width": 0.5
             }
            },
            "type": "bar"
           }
          ],
          "barpolar": [
           {
            "marker": {
             "line": {
              "color": "white",
              "width": 0.5
             }
            },
            "type": "barpolar"
           }
          ],
          "carpet": [
           {
            "aaxis": {
             "endlinecolor": "#2a3f5f",
             "gridcolor": "#C8D4E3",
             "linecolor": "#C8D4E3",
             "minorgridcolor": "#C8D4E3",
             "startlinecolor": "#2a3f5f"
            },
            "baxis": {
             "endlinecolor": "#2a3f5f",
             "gridcolor": "#C8D4E3",
             "linecolor": "#C8D4E3",
             "minorgridcolor": "#C8D4E3",
             "startlinecolor": "#2a3f5f"
            },
            "type": "carpet"
           }
          ],
          "choropleth": [
           {
            "colorbar": {
             "outlinewidth": 0,
             "ticks": ""
            },
            "type": "choropleth"
           }
          ],
          "contour": [
           {
            "colorbar": {
             "outlinewidth": 0,
             "ticks": ""
            },
            "colorscale": [
             [
              0,
              "#0d0887"
             ],
             [
              0.1111111111111111,
              "#46039f"
             ],
             [
              0.2222222222222222,
              "#7201a8"
             ],
             [
              0.3333333333333333,
              "#9c179e"
             ],
             [
              0.4444444444444444,
              "#bd3786"
             ],
             [
              0.5555555555555556,
              "#d8576b"
             ],
             [
              0.6666666666666666,
              "#ed7953"
             ],
             [
              0.7777777777777778,
              "#fb9f3a"
             ],
             [
              0.8888888888888888,
              "#fdca26"
             ],
             [
              1,
              "#f0f921"
             ]
            ],
            "type": "contour"
           }
          ],
          "contourcarpet": [
           {
            "colorbar": {
             "outlinewidth": 0,
             "ticks": ""
            },
            "type": "contourcarpet"
           }
          ],
          "heatmap": [
           {
            "colorbar": {
             "outlinewidth": 0,
             "ticks": ""
            },
            "colorscale": [
             [
              0,
              "#0d0887"
             ],
             [
              0.1111111111111111,
              "#46039f"
             ],
             [
              0.2222222222222222,
              "#7201a8"
             ],
             [
              0.3333333333333333,
              "#9c179e"
             ],
             [
              0.4444444444444444,
              "#bd3786"
             ],
             [
              0.5555555555555556,
              "#d8576b"
             ],
             [
              0.6666666666666666,
              "#ed7953"
             ],
             [
              0.7777777777777778,
              "#fb9f3a"
             ],
             [
              0.8888888888888888,
              "#fdca26"
             ],
             [
              1,
              "#f0f921"
             ]
            ],
            "type": "heatmap"
           }
          ],
          "heatmapgl": [
           {
            "colorbar": {
             "outlinewidth": 0,
             "ticks": ""
            },
            "colorscale": [
             [
              0,
              "#0d0887"
             ],
             [
              0.1111111111111111,
              "#46039f"
             ],
             [
              0.2222222222222222,
              "#7201a8"
             ],
             [
              0.3333333333333333,
              "#9c179e"
             ],
             [
              0.4444444444444444,
              "#bd3786"
             ],
             [
              0.5555555555555556,
              "#d8576b"
             ],
             [
              0.6666666666666666,
              "#ed7953"
             ],
             [
              0.7777777777777778,
              "#fb9f3a"
             ],
             [
              0.8888888888888888,
              "#fdca26"
             ],
             [
              1,
              "#f0f921"
             ]
            ],
            "type": "heatmapgl"
           }
          ],
          "histogram": [
           {
            "marker": {
             "colorbar": {
              "outlinewidth": 0,
              "ticks": ""
             }
            },
            "type": "histogram"
           }
          ],
          "histogram2d": [
           {
            "colorbar": {
             "outlinewidth": 0,
             "ticks": ""
            },
            "colorscale": [
             [
              0,
              "#0d0887"
             ],
             [
              0.1111111111111111,
              "#46039f"
             ],
             [
              0.2222222222222222,
              "#7201a8"
             ],
             [
              0.3333333333333333,
              "#9c179e"
             ],
             [
              0.4444444444444444,
              "#bd3786"
             ],
             [
              0.5555555555555556,
              "#d8576b"
             ],
             [
              0.6666666666666666,
              "#ed7953"
             ],
             [
              0.7777777777777778,
              "#fb9f3a"
             ],
             [
              0.8888888888888888,
              "#fdca26"
             ],
             [
              1,
              "#f0f921"
             ]
            ],
            "type": "histogram2d"
           }
          ],
          "histogram2dcontour": [
           {
            "colorbar": {
             "outlinewidth": 0,
             "ticks": ""
            },
            "colorscale": [
             [
              0,
              "#0d0887"
             ],
             [
              0.1111111111111111,
              "#46039f"
             ],
             [
              0.2222222222222222,
              "#7201a8"
             ],
             [
              0.3333333333333333,
              "#9c179e"
             ],
             [
              0.4444444444444444,
              "#bd3786"
             ],
             [
              0.5555555555555556,
              "#d8576b"
             ],
             [
              0.6666666666666666,
              "#ed7953"
             ],
             [
              0.7777777777777778,
              "#fb9f3a"
             ],
             [
              0.8888888888888888,
              "#fdca26"
             ],
             [
              1,
              "#f0f921"
             ]
            ],
            "type": "histogram2dcontour"
           }
          ],
          "mesh3d": [
           {
            "colorbar": {
             "outlinewidth": 0,
             "ticks": ""
            },
            "type": "mesh3d"
           }
          ],
          "parcoords": [
           {
            "line": {
             "colorbar": {
              "outlinewidth": 0,
              "ticks": ""
             }
            },
            "type": "parcoords"
           }
          ],
          "pie": [
           {
            "automargin": true,
            "type": "pie"
           }
          ],
          "scatter": [
           {
            "marker": {
             "colorbar": {
              "outlinewidth": 0,
              "ticks": ""
             }
            },
            "type": "scatter"
           }
          ],
          "scatter3d": [
           {
            "line": {
             "colorbar": {
              "outlinewidth": 0,
              "ticks": ""
             }
            },
            "marker": {
             "colorbar": {
              "outlinewidth": 0,
              "ticks": ""
             }
            },
            "type": "scatter3d"
           }
          ],
          "scattercarpet": [
           {
            "marker": {
             "colorbar": {
              "outlinewidth": 0,
              "ticks": ""
             }
            },
            "type": "scattercarpet"
           }
          ],
          "scattergeo": [
           {
            "marker": {
             "colorbar": {
              "outlinewidth": 0,
              "ticks": ""
             }
            },
            "type": "scattergeo"
           }
          ],
          "scattergl": [
           {
            "marker": {
             "colorbar": {
              "outlinewidth": 0,
              "ticks": ""
             }
            },
            "type": "scattergl"
           }
          ],
          "scattermapbox": [
           {
            "marker": {
             "colorbar": {
              "outlinewidth": 0,
              "ticks": ""
             }
            },
            "type": "scattermapbox"
           }
          ],
          "scatterpolar": [
           {
            "marker": {
             "colorbar": {
              "outlinewidth": 0,
              "ticks": ""
             }
            },
            "type": "scatterpolar"
           }
          ],
          "scatterpolargl": [
           {
            "marker": {
             "colorbar": {
              "outlinewidth": 0,
              "ticks": ""
             }
            },
            "type": "scatterpolargl"
           }
          ],
          "scatterternary": [
           {
            "marker": {
             "colorbar": {
              "outlinewidth": 0,
              "ticks": ""
             }
            },
            "type": "scatterternary"
           }
          ],
          "surface": [
           {
            "colorbar": {
             "outlinewidth": 0,
             "ticks": ""
            },
            "colorscale": [
             [
              0,
              "#0d0887"
             ],
             [
              0.1111111111111111,
              "#46039f"
             ],
             [
              0.2222222222222222,
              "#7201a8"
             ],
             [
              0.3333333333333333,
              "#9c179e"
             ],
             [
              0.4444444444444444,
              "#bd3786"
             ],
             [
              0.5555555555555556,
              "#d8576b"
             ],
             [
              0.6666666666666666,
              "#ed7953"
             ],
             [
              0.7777777777777778,
              "#fb9f3a"
             ],
             [
              0.8888888888888888,
              "#fdca26"
             ],
             [
              1,
              "#f0f921"
             ]
            ],
            "type": "surface"
           }
          ],
          "table": [
           {
            "cells": {
             "fill": {
              "color": "#EBF0F8"
             },
             "line": {
              "color": "white"
             }
            },
            "header": {
             "fill": {
              "color": "#C8D4E3"
             },
             "line": {
              "color": "white"
             }
            },
            "type": "table"
           }
          ]
         },
         "layout": {
          "annotationdefaults": {
           "arrowcolor": "#2a3f5f",
           "arrowhead": 0,
           "arrowwidth": 1
          },
          "coloraxis": {
           "colorbar": {
            "outlinewidth": 0,
            "ticks": ""
           }
          },
          "colorscale": {
           "diverging": [
            [
             0,
             "#8e0152"
            ],
            [
             0.1,
             "#c51b7d"
            ],
            [
             0.2,
             "#de77ae"
            ],
            [
             0.3,
             "#f1b6da"
            ],
            [
             0.4,
             "#fde0ef"
            ],
            [
             0.5,
             "#f7f7f7"
            ],
            [
             0.6,
             "#e6f5d0"
            ],
            [
             0.7,
             "#b8e186"
            ],
            [
             0.8,
             "#7fbc41"
            ],
            [
             0.9,
             "#4d9221"
            ],
            [
             1,
             "#276419"
            ]
           ],
           "sequential": [
            [
             0,
             "#0d0887"
            ],
            [
             0.1111111111111111,
             "#46039f"
            ],
            [
             0.2222222222222222,
             "#7201a8"
            ],
            [
             0.3333333333333333,
             "#9c179e"
            ],
            [
             0.4444444444444444,
             "#bd3786"
            ],
            [
             0.5555555555555556,
             "#d8576b"
            ],
            [
             0.6666666666666666,
             "#ed7953"
            ],
            [
             0.7777777777777778,
             "#fb9f3a"
            ],
            [
             0.8888888888888888,
             "#fdca26"
            ],
            [
             1,
             "#f0f921"
            ]
           ],
           "sequentialminus": [
            [
             0,
             "#0d0887"
            ],
            [
             0.1111111111111111,
             "#46039f"
            ],
            [
             0.2222222222222222,
             "#7201a8"
            ],
            [
             0.3333333333333333,
             "#9c179e"
            ],
            [
             0.4444444444444444,
             "#bd3786"
            ],
            [
             0.5555555555555556,
             "#d8576b"
            ],
            [
             0.6666666666666666,
             "#ed7953"
            ],
            [
             0.7777777777777778,
             "#fb9f3a"
            ],
            [
             0.8888888888888888,
             "#fdca26"
            ],
            [
             1,
             "#f0f921"
            ]
           ]
          },
          "colorway": [
           "#1f77b4",
           "#ff7f0e",
           "#2ca02c",
           "#d62728",
           "#9467bd",
           "#8c564b",
           "#e377c2",
           "#7f7f7f",
           "#bcbd22",
           "#17becf"
          ],
          "font": {
           "color": "#2a3f5f"
          },
          "geo": {
           "bgcolor": "white",
           "lakecolor": "white",
           "landcolor": "white",
           "showlakes": true,
           "showland": true,
           "subunitcolor": "#C8D4E3"
          },
          "hoverlabel": {
           "align": "left"
          },
          "hovermode": "closest",
          "mapbox": {
           "style": "light"
          },
          "paper_bgcolor": "white",
          "plot_bgcolor": "white",
          "polar": {
           "angularaxis": {
            "gridcolor": "#EBF0F8",
            "linecolor": "#EBF0F8",
            "ticks": ""
           },
           "bgcolor": "white",
           "radialaxis": {
            "gridcolor": "#EBF0F8",
            "linecolor": "#EBF0F8",
            "ticks": ""
           }
          },
          "scene": {
           "camera": {
            "center": {
             "x": 0,
             "y": 0,
             "z": 0
            },
            "eye": {
             "x": 2,
             "y": 2,
             "z": 2
            },
            "up": {
             "x": 0,
             "y": 0,
             "z": 1
            }
           },
           "xaxis": {
            "backgroundcolor": "white",
            "gridcolor": "#DFE8F3",
            "gridwidth": 2,
            "linecolor": "#EBF0F8",
            "showbackground": true,
            "showspikes": false,
            "ticks": "",
            "zerolinecolor": "#EBF0F8"
           },
           "yaxis": {
            "backgroundcolor": "white",
            "gridcolor": "#DFE8F3",
            "gridwidth": 2,
            "linecolor": "#EBF0F8",
            "showbackground": true,
            "showspikes": false,
            "ticks": "",
            "zerolinecolor": "#EBF0F8"
           },
           "zaxis": {
            "backgroundcolor": "white",
            "gridcolor": "#DFE8F3",
            "gridwidth": 2,
            "linecolor": "#EBF0F8",
            "showbackground": true,
            "showspikes": false,
            "ticks": "",
            "zerolinecolor": "#EBF0F8"
           }
          },
          "shapedefaults": {
           "line": {
            "color": "#2a3f5f"
           }
          },
          "ternary": {
           "aaxis": {
            "gridcolor": "#DFE8F3",
            "linecolor": "#A2B1C6",
            "ticks": ""
           },
           "baxis": {
            "gridcolor": "#DFE8F3",
            "linecolor": "#A2B1C6",
            "ticks": ""
           },
           "bgcolor": "white",
           "caxis": {
            "gridcolor": "#DFE8F3",
            "linecolor": "#A2B1C6",
            "ticks": ""
           }
          },
          "title": {
           "x": 0.05
          },
          "xaxis": {
           "automargin": true,
           "gridcolor": "#EBF0F8",
           "linecolor": "black",
           "linewidth": 2,
           "mirror": true,
           "showline": true,
           "ticks": "",
           "title": {
            "standoff": 15
           },
           "zeroline": false,
           "zerolinecolor": "#EBF0F8",
           "zerolinewidth": 2
          },
          "yaxis": {
           "automargin": true,
           "gridcolor": "#EBF0F8",
           "linecolor": "black",
           "linewidth": 2,
           "mirror": true,
           "showline": true,
           "ticks": "",
           "title": {
            "standoff": 15
           },
           "zeroline": false,
           "zerolinecolor": "#EBF0F8",
           "zerolinewidth": 2
          }
         }
        },
        "title": {
         "text": "<b>Cut in plane Z=4</b>"
        },
        "xaxis": {
         "title": {
          "text": "<b>X axis</b>"
         }
        },
        "yaxis": {
         "scaleanchor": "x",
         "scaleratio": 1,
         "title": {
          "text": "<b>Y axis</b>"
         }
        }
       }
      },
      "text/html": [
       "<div>\n",
       "        \n",
       "        \n",
       "            <div id=\"7a9c3c86-30ef-4824-ac38-f82b149edd8e\" class=\"plotly-graph-div\" style=\"height:525px; width:100%;\"></div>\n",
       "            <script type=\"text/javascript\">\n",
       "                require([\"plotly\"], function(Plotly) {\n",
       "                    window.PLOTLYENV=window.PLOTLYENV || {};\n",
       "                    \n",
       "                if (document.getElementById(\"7a9c3c86-30ef-4824-ac38-f82b149edd8e\")) {\n",
       "                    Plotly.newPlot(\n",
       "                        '7a9c3c86-30ef-4824-ac38-f82b149edd8e',\n",
       "                        [{\"customdata\": [[45.0, 0.0001, 0.2, 0.2002, 0.4, \"cylindrical\"], [45.0, 0.0001, 0.2, 0.2002, 0.4, \"cylindrical\"], [45.0, 0.0001, 0.2, 0.2002, 0.4, \"cylindrical\"], [45.0, 0.0001, 0.2, 0.2002, 0.4, \"cylindrical\"], [45.0, 0.0001, 0.2, 0.2002, 0.4, \"cylindrical\"], [45.0, 0.0001, 0.2, 0.2002, 0.4, \"cylindrical\"], [45.0, 0.0001, 0.2, 0.2002, 0.4, \"cylindrical\"], [45.0, 0.0001, 0.2, 0.2002, 0.4, \"cylindrical\"], [45.0, 0.0001, 0.2, 0.2002, 0.4, \"cylindrical\"], [45.0, 0.0001, 0.2, 0.2002, 0.4, \"cylindrical\"], [45.0, 0.0001, 0.2, 0.2002, 0.4, \"cylindrical\"], [45.0, 0.0001, 0.2, 0.2002, 0.4, \"cylindrical\"], [45.0, 0.0001, 0.2, 0.2002, 0.4, \"cylindrical\"], [45.0, 0.0001, 0.2, 0.2002, 0.4, \"cylindrical\"], [45.0, 0.0001, 0.2, 0.2002, 0.4, \"cylindrical\"], [45.0, 0.0001, 0.2, 0.2002, 0.4, \"cylindrical\"], [45.0, 0.0001, 0.2, 0.2002, 0.4, \"cylindrical\"], [45.0, 0.0001, 0.2, 0.2002, 0.4, \"cylindrical\"], [45.0, 0.0001, 0.2, 0.2002, 0.4, \"cylindrical\"], [45.0, 0.0001, 0.2, 0.2002, 0.4, \"cylindrical\"], [45.0, 0.0001, 0.2, 0.2002, 0.4, \"cylindrical\"], [45.0, 0.0001, 0.2, 0.2002, 0.4, \"cylindrical\"], [45.0, 0.0001, 0.2, 0.2002, 0.4, \"cylindrical\"], [45.0, 0.0001, 0.2, 0.2002, 0.4, \"cylindrical\"], [45.0, 0.0001, 0.2, 0.2002, 0.4, \"cylindrical\"], [45.0, 0.0001, 0.2, 0.2002, 0.4, \"cylindrical\"], [45.0, 0.0001, 0.2, 0.2002, 0.4, \"cylindrical\"], [45.0, 0.0001, 0.2, 0.2002, 0.4, \"cylindrical\"], [45.0, 0.0001, 0.2, 0.2002, 0.4, \"cylindrical\"], [45.0, 0.0001, 0.2, 0.2002, 0.4, \"cylindrical\"], [45.0, 0.0001, 0.2, 0.2002, 0.4, \"cylindrical\"], [45.0, 0.0001, 0.2, 0.2002, 0.4, \"cylindrical\"]], \"hovertemplate\": \"Stator radius: 2.00e-01<br>Ellipticity ratio: 0.40<br>Shape Geometry: cylindrical<br>\", \"legendgroup\": \"Stator\", \"line\": {\"color\": \"#d62728\"}, \"marker\": {\"color\": \"#d62728\"}, \"mode\": \"markers+lines\", \"name\": \"Stator\", \"type\": \"scatter\", \"x\": [-0.1415627775935468, -0.16716135684896793, -0.18591633051436687, -0.19705986776426632, -0.20013575087434538, -0.19501805282867649, -0.18191629278655333, -0.16136685834349185, -0.13421104576004703, -0.10156061719405757, -0.06475228502727738, -0.02529298670341036, 0.015201809467894378, 0.0550742417734464, 0.09269192814984523, 0.12651479609694996, 0.15515813342698848, 0.17744927854421924, 0.19247562934844492, 0.199622005272219, 0.19859583284555873, 0.18943912368818172, 0.17252675454885863, 0.14855111980727234, 0.11849378476676087, 0.08358530025546965, 0.045254823730863744, 0.0050716094055002605, -0.035319237204813204, -0.07426411009412762, -0.11016860159052569, -0.14156277759354663], \"y\": [0.14156277759354682, 0.11016860159052576, 0.07426411009412753, 0.03531923720481329, -0.005071609405500175, -0.04525482373086366, -0.08358530025546958, -0.1184937847667608, -0.14855111980727229, -0.17252675454885857, -0.18943912368818175, -0.1985958328455587, -0.199622005272219, -0.19247562934844495, -0.1774492785442193, -0.15515813342698853, -0.12651479609695002, -0.09269192814984531, -0.05507424177344649, -0.015201809467894461, 0.025292986703410278, 0.06475228502727746, 0.10156061719405747, 0.13421104576004694, 0.1613668583434918, 0.1819162927865533, 0.19501805282867649, 0.20013575087434538, 0.19705986776426634, 0.18591633051436685, 0.167161356848968, 0.14156277759354696]}, {\"customdata\": [[45.0, 0.0001, 0.2, 0.2002, 0.4, \"cylindrical\"], [45.0, 0.0001, 0.2, 0.2002, 0.4, \"cylindrical\"], [45.0, 0.0001, 0.2, 0.2002, 0.4, \"cylindrical\"], [45.0, 0.0001, 0.2, 0.2002, 0.4, \"cylindrical\"], [45.0, 0.0001, 0.2, 0.2002, 0.4, \"cylindrical\"], [45.0, 0.0001, 0.2, 0.2002, 0.4, \"cylindrical\"], [45.0, 0.0001, 0.2, 0.2002, 0.4, \"cylindrical\"], [45.0, 0.0001, 0.2, 0.2002, 0.4, \"cylindrical\"], [45.0, 0.0001, 0.2, 0.2002, 0.4, \"cylindrical\"], [45.0, 0.0001, 0.2, 0.2002, 0.4, \"cylindrical\"], [45.0, 0.0001, 0.2, 0.2002, 0.4, \"cylindrical\"], [45.0, 0.0001, 0.2, 0.2002, 0.4, \"cylindrical\"], [45.0, 0.0001, 0.2, 0.2002, 0.4, \"cylindrical\"], [45.0, 0.0001, 0.2, 0.2002, 0.4, \"cylindrical\"], [45.0, 0.0001, 0.2, 0.2002, 0.4, \"cylindrical\"], [45.0, 0.0001, 0.2, 0.2002, 0.4, \"cylindrical\"], [45.0, 0.0001, 0.2, 0.2002, 0.4, \"cylindrical\"], [45.0, 0.0001, 0.2, 0.2002, 0.4, \"cylindrical\"], [45.0, 0.0001, 0.2, 0.2002, 0.4, \"cylindrical\"], [45.0, 0.0001, 0.2, 0.2002, 0.4, \"cylindrical\"], [45.0, 0.0001, 0.2, 0.2002, 0.4, \"cylindrical\"], [45.0, 0.0001, 0.2, 0.2002, 0.4, \"cylindrical\"], [45.0, 0.0001, 0.2, 0.2002, 0.4, \"cylindrical\"], [45.0, 0.0001, 0.2, 0.2002, 0.4, \"cylindrical\"], [45.0, 0.0001, 0.2, 0.2002, 0.4, \"cylindrical\"], [45.0, 0.0001, 0.2, 0.2002, 0.4, \"cylindrical\"], [45.0, 0.0001, 0.2, 0.2002, 0.4, \"cylindrical\"], [45.0, 0.0001, 0.2, 0.2002, 0.4, \"cylindrical\"], [45.0, 0.0001, 0.2, 0.2002, 0.4, \"cylindrical\"], [45.0, 0.0001, 0.2, 0.2002, 0.4, \"cylindrical\"], [45.0, 0.0001, 0.2, 0.2002, 0.4, \"cylindrical\"], [45.0, 0.0001, 0.2, 0.2002, 0.4, \"cylindrical\"]], \"hovertemplate\": \"Attitude angle: 45.00\\u00b0<br>Eccentricity: 1.00e-04<br>Rotor radius: 2.00e-01<br>\", \"legendgroup\": \"Rotor\", \"line\": {\"color\": \"#1f77b4\"}, \"marker\": {\"color\": \"#1f77b4\"}, \"mode\": \"markers+lines\", \"name\": \"Rotor\", \"type\": \"scatter\", \"x\": [-0.07948328968047916, -0.0986547357497817, -0.1127042482694153, -0.12105696132371704, -0.12337050102293251, -0.1195490691274134, -0.10974754018729616, -0.0943653761325628, -0.07403056614969294, -0.04957420174698124, -0.021996681710038404, 0.007573106786164484, 0.03792398213366534, 0.06781214988891912, 0.09601232257221826, 0.12136815261570144, 0.14283987000996276, 0.15954712622047343, 0.17080524560501, 0.17615336613783816, 0.17537329951203304, 0.16849833975015913, 0.15581167985745456, 0.13783453710733873, 0.11530451866681425, 0.08914516121767581, 0.060427934176944156, 0.030328292381209196, 7.759054684145991e-05, -0.02908717803237854, -0.055973785264271395, -0.07948328968047903], \"y\": [0.07948328968047919, 0.05597378526427145, 0.02908717803237847, -7.759054684139746e-05, -0.030328292381209133, -0.0604279341769441, -0.08914516121767577, -0.1153045186668142, -0.13783453710733867, -0.15581167985745453, -0.16849833975015915, -0.175373299512033, -0.17615336613783816, -0.17080524560501004, -0.15954712622047346, -0.1428398700099628, -0.12136815261570148, -0.09601232257221831, -0.06781214988891918, -0.0379239821336654, -0.007573106786164546, 0.021996681710038452, 0.04957420174698117, 0.0740305661496929, 0.09436537613256278, 0.10974754018729613, 0.1195490691274134, 0.12337050102293251, 0.12105696132371704, 0.11270424826941527, 0.09865473574978176, 0.07948328968047928]}, {\"customdata\": [[45.0, 0.0001, 0.2, 0.2002, 0.4, \"cylindrical\"]], \"hovertemplate\": \"Attitude angle: 45.00\\u00b0<br>Eccentricity: 1.00e-04<br>Rotor radius: 2.00e-01<br>\", \"legendgroup\": \"Rotor\", \"marker\": {\"color\": \"#1f77b4\", \"size\": 8}, \"name\": \"Rotor\", \"showlegend\": false, \"type\": \"scatter\", \"x\": [0.026582727497502973], \"y\": [-0.026582727497502973]}, {\"customdata\": [[45.0, 0.0001, 0.2, 0.2002, 0.4, \"cylindrical\"]], \"hovertemplate\": \"Stator radius: 2.00e-01<br>Ellipticity ratio: 0.40<br>Shape Geometry: cylindrical<br>\", \"legendgroup\": \"Stator\", \"marker\": {\"color\": \"#d62728\", \"size\": 8}, \"name\": \"Stator\", \"showlegend\": false, \"type\": \"scatter\", \"x\": [0], \"y\": [0]}],\n",
       "                        {\"template\": {\"data\": {\"bar\": [{\"error_x\": {\"color\": \"#2a3f5f\"}, \"error_y\": {\"color\": \"#2a3f5f\"}, \"marker\": {\"line\": {\"color\": \"white\", \"width\": 0.5}}, \"type\": \"bar\"}], \"barpolar\": [{\"marker\": {\"line\": {\"color\": \"white\", \"width\": 0.5}}, \"type\": \"barpolar\"}], \"carpet\": [{\"aaxis\": {\"endlinecolor\": \"#2a3f5f\", \"gridcolor\": \"#C8D4E3\", \"linecolor\": \"#C8D4E3\", \"minorgridcolor\": \"#C8D4E3\", \"startlinecolor\": \"#2a3f5f\"}, \"baxis\": {\"endlinecolor\": \"#2a3f5f\", \"gridcolor\": \"#C8D4E3\", \"linecolor\": \"#C8D4E3\", \"minorgridcolor\": \"#C8D4E3\", \"startlinecolor\": \"#2a3f5f\"}, \"type\": \"carpet\"}], \"choropleth\": [{\"colorbar\": {\"outlinewidth\": 0, \"ticks\": \"\"}, \"type\": \"choropleth\"}], \"contour\": [{\"colorbar\": {\"outlinewidth\": 0, \"ticks\": \"\"}, \"colorscale\": [[0.0, \"#0d0887\"], [0.1111111111111111, \"#46039f\"], [0.2222222222222222, \"#7201a8\"], [0.3333333333333333, \"#9c179e\"], [0.4444444444444444, \"#bd3786\"], [0.5555555555555556, \"#d8576b\"], [0.6666666666666666, \"#ed7953\"], [0.7777777777777778, \"#fb9f3a\"], [0.8888888888888888, \"#fdca26\"], [1.0, \"#f0f921\"]], \"type\": \"contour\"}], \"contourcarpet\": [{\"colorbar\": {\"outlinewidth\": 0, \"ticks\": \"\"}, \"type\": \"contourcarpet\"}], \"heatmap\": [{\"colorbar\": {\"outlinewidth\": 0, \"ticks\": \"\"}, \"colorscale\": [[0.0, \"#0d0887\"], [0.1111111111111111, \"#46039f\"], [0.2222222222222222, \"#7201a8\"], [0.3333333333333333, \"#9c179e\"], [0.4444444444444444, \"#bd3786\"], [0.5555555555555556, \"#d8576b\"], [0.6666666666666666, \"#ed7953\"], [0.7777777777777778, \"#fb9f3a\"], [0.8888888888888888, \"#fdca26\"], [1.0, \"#f0f921\"]], \"type\": \"heatmap\"}], \"heatmapgl\": [{\"colorbar\": {\"outlinewidth\": 0, \"ticks\": \"\"}, \"colorscale\": [[0.0, \"#0d0887\"], [0.1111111111111111, \"#46039f\"], [0.2222222222222222, \"#7201a8\"], [0.3333333333333333, \"#9c179e\"], [0.4444444444444444, \"#bd3786\"], [0.5555555555555556, \"#d8576b\"], [0.6666666666666666, \"#ed7953\"], [0.7777777777777778, \"#fb9f3a\"], [0.8888888888888888, \"#fdca26\"], [1.0, \"#f0f921\"]], \"type\": \"heatmapgl\"}], \"histogram\": [{\"marker\": {\"colorbar\": {\"outlinewidth\": 0, \"ticks\": \"\"}}, \"type\": \"histogram\"}], \"histogram2d\": [{\"colorbar\": {\"outlinewidth\": 0, \"ticks\": \"\"}, \"colorscale\": [[0.0, \"#0d0887\"], [0.1111111111111111, \"#46039f\"], [0.2222222222222222, \"#7201a8\"], [0.3333333333333333, \"#9c179e\"], [0.4444444444444444, \"#bd3786\"], [0.5555555555555556, \"#d8576b\"], [0.6666666666666666, \"#ed7953\"], [0.7777777777777778, \"#fb9f3a\"], [0.8888888888888888, \"#fdca26\"], [1.0, \"#f0f921\"]], \"type\": \"histogram2d\"}], \"histogram2dcontour\": [{\"colorbar\": {\"outlinewidth\": 0, \"ticks\": \"\"}, \"colorscale\": [[0.0, \"#0d0887\"], [0.1111111111111111, \"#46039f\"], [0.2222222222222222, \"#7201a8\"], [0.3333333333333333, \"#9c179e\"], [0.4444444444444444, \"#bd3786\"], [0.5555555555555556, \"#d8576b\"], [0.6666666666666666, \"#ed7953\"], [0.7777777777777778, \"#fb9f3a\"], [0.8888888888888888, \"#fdca26\"], [1.0, \"#f0f921\"]], \"type\": \"histogram2dcontour\"}], \"mesh3d\": [{\"colorbar\": {\"outlinewidth\": 0, \"ticks\": \"\"}, \"type\": \"mesh3d\"}], \"parcoords\": [{\"line\": {\"colorbar\": {\"outlinewidth\": 0, \"ticks\": \"\"}}, \"type\": \"parcoords\"}], \"pie\": [{\"automargin\": true, \"type\": \"pie\"}], \"scatter\": [{\"marker\": {\"colorbar\": {\"outlinewidth\": 0, \"ticks\": \"\"}}, \"type\": \"scatter\"}], \"scatter3d\": [{\"line\": {\"colorbar\": {\"outlinewidth\": 0, \"ticks\": \"\"}}, \"marker\": {\"colorbar\": {\"outlinewidth\": 0, \"ticks\": \"\"}}, \"type\": \"scatter3d\"}], \"scattercarpet\": [{\"marker\": {\"colorbar\": {\"outlinewidth\": 0, \"ticks\": \"\"}}, \"type\": \"scattercarpet\"}], \"scattergeo\": [{\"marker\": {\"colorbar\": {\"outlinewidth\": 0, \"ticks\": \"\"}}, \"type\": \"scattergeo\"}], \"scattergl\": [{\"marker\": {\"colorbar\": {\"outlinewidth\": 0, \"ticks\": \"\"}}, \"type\": \"scattergl\"}], \"scattermapbox\": [{\"marker\": {\"colorbar\": {\"outlinewidth\": 0, \"ticks\": \"\"}}, \"type\": \"scattermapbox\"}], \"scatterpolar\": [{\"marker\": {\"colorbar\": {\"outlinewidth\": 0, \"ticks\": \"\"}}, \"type\": \"scatterpolar\"}], \"scatterpolargl\": [{\"marker\": {\"colorbar\": {\"outlinewidth\": 0, \"ticks\": \"\"}}, \"type\": \"scatterpolargl\"}], \"scatterternary\": [{\"marker\": {\"colorbar\": {\"outlinewidth\": 0, \"ticks\": \"\"}}, \"type\": \"scatterternary\"}], \"surface\": [{\"colorbar\": {\"outlinewidth\": 0, \"ticks\": \"\"}, \"colorscale\": [[0.0, \"#0d0887\"], [0.1111111111111111, \"#46039f\"], [0.2222222222222222, \"#7201a8\"], [0.3333333333333333, \"#9c179e\"], [0.4444444444444444, \"#bd3786\"], [0.5555555555555556, \"#d8576b\"], [0.6666666666666666, \"#ed7953\"], [0.7777777777777778, \"#fb9f3a\"], [0.8888888888888888, \"#fdca26\"], [1.0, \"#f0f921\"]], \"type\": \"surface\"}], \"table\": [{\"cells\": {\"fill\": {\"color\": \"#EBF0F8\"}, \"line\": {\"color\": \"white\"}}, \"header\": {\"fill\": {\"color\": \"#C8D4E3\"}, \"line\": {\"color\": \"white\"}}, \"type\": \"table\"}]}, \"layout\": {\"annotationdefaults\": {\"arrowcolor\": \"#2a3f5f\", \"arrowhead\": 0, \"arrowwidth\": 1}, \"coloraxis\": {\"colorbar\": {\"outlinewidth\": 0, \"ticks\": \"\"}}, \"colorscale\": {\"diverging\": [[0, \"#8e0152\"], [0.1, \"#c51b7d\"], [0.2, \"#de77ae\"], [0.3, \"#f1b6da\"], [0.4, \"#fde0ef\"], [0.5, \"#f7f7f7\"], [0.6, \"#e6f5d0\"], [0.7, \"#b8e186\"], [0.8, \"#7fbc41\"], [0.9, \"#4d9221\"], [1, \"#276419\"]], \"sequential\": [[0.0, \"#0d0887\"], [0.1111111111111111, \"#46039f\"], [0.2222222222222222, \"#7201a8\"], [0.3333333333333333, \"#9c179e\"], [0.4444444444444444, \"#bd3786\"], [0.5555555555555556, \"#d8576b\"], [0.6666666666666666, \"#ed7953\"], [0.7777777777777778, \"#fb9f3a\"], [0.8888888888888888, \"#fdca26\"], [1.0, \"#f0f921\"]], \"sequentialminus\": [[0.0, \"#0d0887\"], [0.1111111111111111, \"#46039f\"], [0.2222222222222222, \"#7201a8\"], [0.3333333333333333, \"#9c179e\"], [0.4444444444444444, \"#bd3786\"], [0.5555555555555556, \"#d8576b\"], [0.6666666666666666, \"#ed7953\"], [0.7777777777777778, \"#fb9f3a\"], [0.8888888888888888, \"#fdca26\"], [1.0, \"#f0f921\"]]}, \"colorway\": [\"#1f77b4\", \"#ff7f0e\", \"#2ca02c\", \"#d62728\", \"#9467bd\", \"#8c564b\", \"#e377c2\", \"#7f7f7f\", \"#bcbd22\", \"#17becf\"], \"font\": {\"color\": \"#2a3f5f\"}, \"geo\": {\"bgcolor\": \"white\", \"lakecolor\": \"white\", \"landcolor\": \"white\", \"showlakes\": true, \"showland\": true, \"subunitcolor\": \"#C8D4E3\"}, \"hoverlabel\": {\"align\": \"left\"}, \"hovermode\": \"closest\", \"mapbox\": {\"style\": \"light\"}, \"paper_bgcolor\": \"white\", \"plot_bgcolor\": \"white\", \"polar\": {\"angularaxis\": {\"gridcolor\": \"#EBF0F8\", \"linecolor\": \"#EBF0F8\", \"ticks\": \"\"}, \"bgcolor\": \"white\", \"radialaxis\": {\"gridcolor\": \"#EBF0F8\", \"linecolor\": \"#EBF0F8\", \"ticks\": \"\"}}, \"scene\": {\"camera\": {\"center\": {\"x\": 0, \"y\": 0, \"z\": 0}, \"eye\": {\"x\": 2.0, \"y\": 2.0, \"z\": 2.0}, \"up\": {\"x\": 0, \"y\": 0, \"z\": 1}}, \"xaxis\": {\"backgroundcolor\": \"white\", \"gridcolor\": \"#DFE8F3\", \"gridwidth\": 2, \"linecolor\": \"#EBF0F8\", \"showbackground\": true, \"showspikes\": false, \"ticks\": \"\", \"zerolinecolor\": \"#EBF0F8\"}, \"yaxis\": {\"backgroundcolor\": \"white\", \"gridcolor\": \"#DFE8F3\", \"gridwidth\": 2, \"linecolor\": \"#EBF0F8\", \"showbackground\": true, \"showspikes\": false, \"ticks\": \"\", \"zerolinecolor\": \"#EBF0F8\"}, \"zaxis\": {\"backgroundcolor\": \"white\", \"gridcolor\": \"#DFE8F3\", \"gridwidth\": 2, \"linecolor\": \"#EBF0F8\", \"showbackground\": true, \"showspikes\": false, \"ticks\": \"\", \"zerolinecolor\": \"#EBF0F8\"}}, \"shapedefaults\": {\"line\": {\"color\": \"#2a3f5f\"}}, \"ternary\": {\"aaxis\": {\"gridcolor\": \"#DFE8F3\", \"linecolor\": \"#A2B1C6\", \"ticks\": \"\"}, \"baxis\": {\"gridcolor\": \"#DFE8F3\", \"linecolor\": \"#A2B1C6\", \"ticks\": \"\"}, \"bgcolor\": \"white\", \"caxis\": {\"gridcolor\": \"#DFE8F3\", \"linecolor\": \"#A2B1C6\", \"ticks\": \"\"}}, \"title\": {\"x\": 0.05}, \"xaxis\": {\"automargin\": true, \"gridcolor\": \"#EBF0F8\", \"linecolor\": \"black\", \"linewidth\": 2.0, \"mirror\": true, \"showline\": true, \"ticks\": \"\", \"title\": {\"standoff\": 15}, \"zeroline\": false, \"zerolinecolor\": \"#EBF0F8\", \"zerolinewidth\": 2}, \"yaxis\": {\"automargin\": true, \"gridcolor\": \"#EBF0F8\", \"linecolor\": \"black\", \"linewidth\": 2.0, \"mirror\": true, \"showline\": true, \"ticks\": \"\", \"title\": {\"standoff\": 15}, \"zeroline\": false, \"zerolinecolor\": \"#EBF0F8\", \"zerolinewidth\": 2}}}, \"title\": {\"text\": \"<b>Cut in plane Z=4</b>\"}, \"xaxis\": {\"title\": {\"text\": \"<b>X axis</b>\"}}, \"yaxis\": {\"scaleanchor\": \"x\", \"scaleratio\": 1, \"title\": {\"text\": \"<b>Y axis</b>\"}}},\n",
       "                        {\"responsive\": true}\n",
       "                    ).then(function(){\n",
       "                            \n",
       "var gd = document.getElementById('7a9c3c86-30ef-4824-ac38-f82b149edd8e');\n",
       "var x = new MutationObserver(function (mutations, observer) {{\n",
       "        var display = window.getComputedStyle(gd).display;\n",
       "        if (!display || display === 'none') {{\n",
       "            console.log([gd, 'removed!']);\n",
       "            Plotly.purge(gd);\n",
       "            observer.disconnect();\n",
       "        }}\n",
       "}});\n",
       "\n",
       "// Listen for the removal of the full notebook cells\n",
       "var notebookContainer = gd.closest('#notebook-container');\n",
       "if (notebookContainer) {{\n",
       "    x.observe(notebookContainer, {childList: true});\n",
       "}}\n",
       "\n",
       "// Listen for the clearing of the current output cell\n",
       "var outputEl = gd.closest('.output');\n",
       "if (outputEl) {{\n",
       "    x.observe(outputEl, {childList: true});\n",
       "}}\n",
       "\n",
       "                        })\n",
       "                };\n",
       "                });\n",
       "            </script>\n",
       "        </div>"
      ]
     },
     "metadata": {},
     "output_type": "display_data"
    }
   ],
   "source": [
    "from ross.fluid_flow.fluid_flow_graphics import plot_eccentricity\n",
    "fig = plot_eccentricity(my_fluid_flow, z=int(my_fluid_flow.nz/2), scale_factor=0.5)\n",
    "fig.show()"
   ]
  },
  {
   "cell_type": "markdown",
   "metadata": {},
   "source": [
    "**THEORETICAL MODELING**\n",
    "\n",
    "We will start from the Navier Stokes and continuity equations:\n",
    "\n",
    "$$\\rho \\left(\\dfrac{\\partial \\mathbf{v}}{\\partial t} + \\mathbf{v} \\cdot \\nabla \\mathbf{v} \\right) = \\nabla \\cdot \\sigma$$\n",
    "$$\\dfrac{\\partial \\rho}{\\partial t} + \\nabla \\cdot \\left( \\rho \\mathbf{v} \\right) = 0$$\n",
    "where $\\rho$ is the specific mass of the fluid, $\\mathbf{v}$ is the velocity field whose components are represented by $u$, $v$ and $w$, and $\\sigma=-p \\mathbf{I} + \\tau $ is Cauchy's tensor, in which $p$ represents the pressure field, $\\tau$ is the tension tensor and $\\mathbf{I}$ the identity tensor.\n",
    "\n",
    "Considering the following hypotheses:\n",
    "\n",
    "* Newtonian fluid: ${\\mathbf  {\\tau }}={\\mathbf  {\\mu }}(\\nabla \\mathbf{v}) $\n",
    "* Incompressible fluid: $\\rho$ constante\n",
    "* Permanent regime: $\\dfrac{\\partial(*)}{\\partial t}=0$\n",
    "\n",
    "Thus, the equations can be rewritten as\n",
    "\n",
    "$$\\rho \\left(\\mathbf{v} \\cdot \\nabla \\mathbf{v}\\right) = - \\nabla p + \\mu \\nabla ^2\\mathbf{v}$$\n",
    "$$\\nabla \\cdot \\mathbf{v}=0$$\n",
    "\n",
    "In order to consider the effects of curvature, the equations will be worked in cylindrical coordinates.\n",
    "\n",
    "* Direction $z$ (similar to directions $r$ and $\\theta$):\n",
    "\n",
    "$${\\rho \n",
    "\\left(\n",
    "u \\dfrac{\\partial{u}}{\\partial{z}} \n",
    "+ v \\dfrac{\\partial{u}}{\\partial{r}} \n",
    "+ \\dfrac{w}{r} \\dfrac{\\partial{u}}{\\partial{\\theta}}\n",
    "\\right)}\n",
    "=\n",
    "{-\\dfrac{\\partial{p}}{\\partial{z}} \n",
    "+ \\mu \n",
    "\\left(\n",
    "\\dfrac{1}{r} \\dfrac{\\partial{}}{\\partial{r}}\\left[r\\dfrac{\\partial{u}}{\\partial{r}} \\right] \n",
    "+ \\dfrac{1}{r^2}\\dfrac{\\partial^2{u}}{\\partial{\\theta ^2}} \n",
    "+ \\dfrac{\\partial^2{u}}{\\partial{z^2}}  \n",
    "\\right)}$$\n",
    "\n",
    "* Continuity:\n",
    "\n",
    "$$\\dfrac{1}{r} \\dfrac{\\partial{\\left(rv\\right)}}{\\partial{r}}+\\dfrac{1}{r}\\dfrac{\\partial{w}}{\\partial{\\theta}}+\\dfrac{\\partial{u}}{\\partial{z}} = 0$$\n",
    "\n",
    "**Dimensionaless Analysis**\n",
    "\n",
    "Considering U and L as a typical speed and sizes, with the following relation:\n",
    "\n",
    "$$(R_{o}-R_{i}) = F \\ll L$$\n",
    "\n",
    "The dimensionless quantities will be denoted with a circumflex accent. The equation that represents movement in the $z$ direction, in its dimensionless form:\n",
    "\n",
    "$${\\rho \n",
    "\\left(\n",
    "U\\hat{u} \\dfrac{\\partial{U\\hat{u}}}{\\partial{L\\hat{z}}} \n",
    "+ U\\hat{v} \\dfrac{\\partial{U\\hat{u}}}{\\partial{F\\hat{r}}} \n",
    "+ \\dfrac{U\\hat{w}}{L\\hat{r}} \\dfrac{\\partial{U\\hat{u}}}{\\partial{\\theta}}\n",
    "\\right)}\n",
    "=\n",
    "{-\\dfrac{\\partial{P\\hat{p}}}{\\partial{L\\hat{z}}} \n",
    "+ \\mu \n",
    "\\left(\n",
    "\\dfrac{1}{L\\hat{r}} \\dfrac{\\partial{}}{\\partial{F\\hat{r}}}\\left[L\\hat{r}\\dfrac{\\partial{U\\hat{u}}}{\\partial{F\\hat{r}}} \\right] \n",
    "+ \\dfrac{1}{L^2\\hat{r}^2}\\dfrac{\\partial^2{U\\hat{u}}}{\\partial{\\theta ^2}} \n",
    "+ \\dfrac{\\partial^2{U\\hat{u}}}{\\partial{L^2\\hat{z}^2}}  \n",
    "\\right)}$$\n",
    "\n",
    "We rearranged the previous equation:\n",
    "\n",
    "* to show the Reynolds number $\\left(\\mathbf{Re}=\\dfrac{\\rho U L}{\\mu}\\right)$\n",
    "* using that $P = \\dfrac{\\mu UL}{F^2}$\n",
    "* multiplying by $\\left(\\dfrac{F^2}{L^2}\\right)$ on both sides.\n",
    "\n",
    "We get:\n",
    "\n",
    "$${ \\mathbf{Re} \n",
    "\\left(\n",
    "\\left(\\dfrac{F^2}{L^2}\\right)\\hat{u} \\dfrac{\\partial{\\hat{u}}}{\\partial{\\hat{z}}} \n",
    "+ \\left(\\dfrac{F}{L} \\right) \\hat{v} \\dfrac{\\partial{\\hat{u}}}{\\partial{\\hat{r}}} \n",
    "+ \\left(\\dfrac{F^2}{L^2}\\right) \\dfrac{\\hat{w}}{\\hat{r}} \\dfrac{\\partial{\\hat{u}}}{\\partial{\\theta}}\n",
    "\\right)}\n",
    "=\n",
    "{-\\dfrac{\\partial{\\hat{p}}}{\\partial{\\hat{z}}} \n",
    "+ \\left(\n",
    "\\dfrac{1}{\\hat{r}} \\dfrac{\\partial{}}{\\partial{\\hat{r}}}\\left[\\hat{r}\\dfrac{\\partial{\\hat{u}}}{\\partial{\\hat{r}}} \\right] \n",
    "+ \\left(\\dfrac{F^2}{L^2}\\right) \\dfrac{1}{\\hat{r}^2}\\dfrac{\\partial^2{\\hat{u}}}{\\partial{\\theta ^2}} \n",
    "+ \\left(\\dfrac{F^2}{L^2}\\right)\\dfrac{\\partial^2{\\hat{u}}}{\\partial{\\hat{z}^2}}  \n",
    "\\right)}$$\n",
    "\n",
    "Following the lubrication theory, significant simplifications occur:\n",
    "\n",
    "* $z$ direction:\n",
    "\n",
    "$$-\\dfrac{\\partial{\\hat{p}}}{\\partial{\\hat{z}}} \n",
    "+ \\dfrac{1}{\\hat{r}} \\dfrac{\\partial{}}{\\partial{\\hat{r}}}\\left(\\hat{r}\\dfrac{\\partial{\\hat{u}}}{\\partial{\\hat{r}}} \\right) =0$$\n",
    "\n",
    "* $r$ direction:\n",
    "\n",
    "$$-\\dfrac{\\partial{\\hat{p}}}{\\partial{\\hat{r}}}=0$$\n",
    "\n",
    "* $\\theta$ direction:\n",
    "\n",
    "$$\\dfrac{\\partial{}}{\\partial{\\hat{r}}} \n",
    "\\left(\\dfrac{1}{\\hat{r}}\\dfrac{\\partial{(\\hat{r}\\hat{w})}}{\\partial{\\hat{r}}}\\right)\n",
    "- \\dfrac{1}{\\hat{r}}\\dfrac{\\partial{\\hat{p}}}{\\partial{\\theta}}\n",
    "=0$$\n",
    "\n",
    "Bringing equations back to dimensional form:\n",
    "\n",
    "$$-\\dfrac{\\partial{p}}{\\partial{z}} \n",
    "+ \\mu \\left[\\dfrac{1}{r} \\dfrac{\\partial{}}{\\partial{r}}\\left(r\\dfrac{\\partial{u}}{\\partial{r}} \\right)\\right] =0$$\n",
    "$$-\\dfrac{1}{r} \\dfrac{\\partial{p}}{\\partial{\\theta}}\n",
    "+ \\mu \\left[\\dfrac{\\partial{}}{\\partial{r}}\\left(\\dfrac{1}{r}\\dfrac{\\partial{(rw)}}{\\partial{r}}\\right)\\right]\n",
    "=0$$\n",
    "\n",
    "**Speeds**\n",
    "\n",
    "It is now possible to integrate the above equations to find the velocities in the $z$ (axial velocity $u$) and $\\theta$ (tangential velocity w) directions.\n",
    "\n",
    "$$u = \\dfrac{1}{\\mu}\\left[\\dfrac{\\partial{p}}{\\partial{z}}\\dfrac{r^2}{4} + c_1 \\ln{r} + c_2\\right]$$\n",
    "$$w = \\dfrac{1}{\\mu} \\left\\{\\dfrac{1}{2}\\left[\\dfrac{\\partial{p}}{\\partial{\\theta}} r \\left(\\ln{r} -\\dfrac{1}{2}\\right) + c_3 r\\right] + \\dfrac{c_4}{r}\\right\\}$$\n",
    "where $c_1$, $c_2$, $c_3$ and $c_4$ are constant in the integration in the variable $ r $.\n",
    "\n",
    "Boundary Conditions:\n",
    "\n",
    "* $u(R_{o})=u(R_{\\theta})=0$\n",
    "* $w(R_{o})=0$ and $w(R_{\\theta}) = \\omega R_{i} = W$\n",
    "\n",
    "Applying boundary conditions:\n",
    "\n",
    "$$u = \n",
    "\\dfrac{1}{4\\mu} \n",
    "\\dfrac{\\partial{p}}{\\partial{z}} R_{\\theta}^2 \n",
    "\\left[\n",
    "    \\left(\n",
    "        \\dfrac{r}{R_{\\theta}} \n",
    "    \\right)^2\n",
    "    - \\dfrac{\\left(R_{o}^2 - R_{\\theta}^2\\right)}{R_{\\theta}^2 \\ln{\\left(\\dfrac{R_{o}}{R_{\\theta}}\\right)}}\n",
    "    \\left(\n",
    "        \\ln{\\dfrac{r}{R_{\\theta}}}\n",
    "    \\right)\n",
    "    - 1\n",
    "\\right]$$\n",
    "$$w =\n",
    "\\dfrac{1}{2 \\mu} \n",
    "\\dfrac{\\partial p}{\\partial \\theta} \n",
    "\\left[ \n",
    "    r \\left(\n",
    "        \\ln r - \\dfrac{1}{2}\n",
    "    \\right) \n",
    "    + k r  \n",
    "    - \\dfrac{R_{o}^2}{r} \\left( \n",
    "        \\ln R_{o} + k - \\dfrac{1}{2}\n",
    "        \\right)\n",
    "\\right]  \n",
    "+ \\dfrac{W R_{\\theta}}{\\left(R_{\\theta}^2 - R_{o}^2\\right)} \n",
    "\\left(\n",
    "    r - \\dfrac{R_{o}^2}{r}\n",
    "\\right)$$\n",
    "\n",
    "where $k = \n",
    "\\frac{1}{R^2_{\\theta}-R^2_{o}}\n",
    "\\left[\n",
    "    R^2_{o}\n",
    "    \\left(\n",
    "        \\ln R_{o} - \\frac{1}{2}\n",
    "    \\right)\n",
    "    -R^2_{\\theta}\n",
    "    \\left(\n",
    "        \\ln R_{\\theta} - \\frac{1}{2}\n",
    "    \\right)\n",
    "\\right]$\n",
    "\n",
    "**Pressure**\n",
    "\n",
    "With speeds, the continuity equation is integrated into the annular region of interest - from $R_{\\theta}$ to $R_o$:\n",
    "\n",
    "$$ \\int^{R_{o}}_{R_{\\theta}} \n",
    "    \\left(\n",
    "        \\frac{\\partial{(rv)}}{\\partial{r}}\n",
    "        + \\frac{\\partial{w}}{\\partial{\\theta}}\n",
    "        + \\frac{\\partial{(ru)}}{\\partial{z}}\n",
    "    \\right) \n",
    "    \\,dr = 0$$\n",
    "    \n",
    "By property, the sum integral can be written as the sum of three integrals. In the first installment, it is possible to use the fundamental theorem of calculus, while in the second and third installments the Leibnitz rule applies. \n",
    "\n",
    "1. $\\int^{R_{o}}_{R_{\\theta}} \n",
    "        \\left(\n",
    "            \\frac{\\partial{(rv)}}{\\partial{r}}\n",
    "        \\right) \\,dr \n",
    "        = \n",
    "        R_{o} v(R_{o}) - R_{\\theta} v(R_{\\theta})$\n",
    "2. $\\int^{R_{o}}_{R_{\\theta}}\n",
    "        \\left(\n",
    "            \\frac{\\partial{w}}{\\partial{\\theta}}\n",
    "        \\right) \\, dr \n",
    "        =\n",
    "        \\dfrac{\\partial}{\\partial \\theta}\n",
    "        \\int^{R_{o}}_{R_{\\theta}} w \\,dr \n",
    "        - \\left[\n",
    "            w(R_{o}) \\dfrac{\\partial R_{o}}{\\partial \\theta}\n",
    "            - w(R_{\\theta}) \\dfrac{\\partial R_{\\theta}}{\\partial \\theta}\n",
    "        \\right]$\n",
    "3. $\\int^{R_{o}}_{R_{\\theta}}\n",
    "        \\left(\n",
    "            \\frac{\\partial{(ru)}}{\\partial{z}}\n",
    "        \\right) \\, dr\n",
    "        =\n",
    "        \\dfrac{\\partial}{\\partial z}\n",
    "        \\int^{R_{o}}_{R_{\\theta}} (ru) \\,dr \n",
    "        - \\left[\n",
    "            u(R_{o}) \\dfrac{\\partial R_{o}}{\\partial z}\n",
    "            - u(R_{\\theta}) \\dfrac{\\partial R_i}{\\partial z}\n",
    "        \\right]$\n",
    "\n",
    "Some considerations:\n",
    "\n",
    "* The radial velocity is zero at $v(R_{o})=0$. However, $v(R_{\\theta})\\neq 0$ because the origin of the frame is not in the center of the rotor.\n",
    "* As seen earlier, $w(R_o) = 0$ and $w(R_{\\theta}) = W$. Due to the eccentricity, $\\dfrac{\\partial R_{\\theta}}{\\partial \\theta} \\neq 0$.\n",
    "* By the boundary condition it is known that $u(R_o)=u(R_{\\theta})=0$.\n",
    "\n",
    "We need to calculate $v(R_{\\theta})$ and $w(R_{\\theta})$.\n",
    "\n",
    "Consider any $ A $ point pertaining to the rotor surface. As a result of rotation, point $A$ has a velocity:\n",
    "\n",
    "$$v_{rot} = v_{rad}\\,e_{r} + v_{tan}\\,e_{\\theta}$$\n",
    "where $ e_{r} $ and $ e_{\\theta} $ are unit vectors of the cylindrical coordinate system\n",
    "\n",
    "<img src=\"https://docs.google.com/uc?id=1M9hvJYa6Hg_-PD8HpP9AriD59vR64e-P\" width=\"350\" height=\"350\" />\n",
    "\n",
    "Deriving the position vector $a=R_{\\theta} e_r$ in relation to time, we find the velocity $v_{rot}$ relative to an inertial frame:\n",
    "\n",
    "$$v_{rot}=\\omega \\dfrac{\\partial R_{\\theta}}{\\partial \\theta}\\,e_r \n",
    "    + \\omega R_{\\theta}\\,e_{\\theta}$$\n",
    "    \n",
    "where $v(R_{\\theta}) = \\omega \\dfrac{\\partial R_{\\theta}}{\\partial \\theta}$ and $w(R_{\\theta}) = \\omega R_{\\theta}$.\n",
    "\n",
    "Substituting the values of $v(R_{\\theta})$ and $w(R_{\\theta})$ found, we arrive at:\n",
    "\n",
    "$$\\dfrac{\\partial}{\\partial \\theta}\n",
    "    \\int^{R_{o}}_{R_{\\theta}} w \\,dr\n",
    "    + \\dfrac{\\partial}{\\partial z}\n",
    "    \\int^{R_{o}}_{R_{\\theta}} ru \\,dr\n",
    "    = 0$$\n",
    "\n",
    "Performing this integral and replacing the $u$ and $w$ speeds, we obtain:\n",
    "\n",
    "$$\\dfrac{\\partial}{\\partial \\theta}\n",
    "    \\left(\n",
    "        \\mathbf{C_1}\n",
    "        \\dfrac{\\partial p}{\\partial \\theta}\n",
    "    \\right)\n",
    "    +\n",
    "    \\dfrac{\\partial}{\\partial z}\n",
    "    \\left(\n",
    "        \\mathbf{C_2}\n",
    "        \\dfrac{\\partial p}{\\partial z}\n",
    "    \\right)\n",
    "    =\n",
    "    \\dfrac{\\partial}{\\partial \\theta}\n",
    "    \\mathbf{C_0}$$\n",
    "    \n",
    "where \n",
    "\n",
    "$$\\mathbf{C_0} = \n",
    "    - W R_{\\theta}\n",
    "    \\left[\n",
    "        \\ln{\\left(\\frac{R_{o}}{R_{\\theta}}\\right)}\n",
    "        \\left(\n",
    "            1 +\n",
    "            \\frac{R_{\\theta}^2}{(R_{o}^2-R_{\\theta}^2)}\n",
    "        \\right)\n",
    "        -\\dfrac{1}{2}\n",
    "    \\right]\\label{eq:C_0}\\text{,}$$\n",
    "    \n",
    "$$\\mathbf{C_1} =\n",
    "    \\dfrac{1}{4\\mu}\n",
    "    \\left\\{\n",
    "        \\left[\n",
    "            R_{o}^2 \\ln{R_{o}}\n",
    "            - R_{\\theta}^2 \\ln{R_{\\theta}}\n",
    "            + (R_{o}^2-R_{\\theta}^2)(k-1)\n",
    "        \\right]\n",
    "        - 2R_{o}^2\n",
    "        \\left[\n",
    "            \\left(\n",
    "                \\ln{R_{o}}+k-\\dfrac{1}{2}\n",
    "            \\right)\n",
    "            \\ln{\\left(\\frac{R_{o}}{R_{\\theta}}\\right)}\n",
    "        \\right]\n",
    "    \\right\\}\\label{eq:C_1}\\text{,}$$\n",
    "\n",
    "$$\\mathbf{C_2} =\n",
    "    - \\dfrac{R_{\\theta}^2}{8\\mu}\n",
    "    \\left\\{\n",
    "        \\left[\n",
    "            R_{o}^2-R_{\\theta}^2\n",
    "            -\\dfrac{(R_{o}^4-R_{\\theta}^4)}{2R_{\\theta}^2}\n",
    "        \\right]\n",
    "        +\n",
    "        \\left(\n",
    "            \\dfrac{R_{o}^2-R_{\\theta}^2}{R_{\\theta}^2 \\ln{\\left(\\dfrac{R_{o}}{R_{\\theta}}\\right)}}\n",
    "        \\right)\n",
    "        \\left[\n",
    "            R_{o}^2\\ln{\\left(\\dfrac{R_{o}}{R_{\\theta}}\\right)}\n",
    "            -\\dfrac{(R_{o}^2-R_{\\theta}^2)}{2}\n",
    "        \\right]\n",
    "    \\right\\}\\label{eq:C_2}\\text{.}$$\n",
    "\n",
    "This is a partial elliptical differential equation, which results in the pressure field p."
   ]
  },
  {
   "cell_type": "markdown",
   "metadata": {},
   "source": [
    "**NUMERICAL SOLUTION**\n",
    "\n",
    "<img src=\"https://docs.google.com/uc?id=1PTvlpNx6QlZq7wPWfwjKLsOa9M_qR9pp\" width=\"350\" height=\"350\" />\n",
    "\n",
    "The numerical method used will be finite centered differences, applied to a regular rectangular mesh with $𝑁_{z}$ nodes in the axial direction and $𝑁_{\\theta}$ nodes in the tangential direction. \n",
    "\n",
    "The discretized equation is given by:\n",
    "\n",
    "$$p_{i-1,j}\\frac{(\\mathbf{C_{2(i-1,j)}})}{\\Delta z^{2}} +  p_{i,j-1}\\frac{(\\mathbf{C_{1(i,j-1)}})}{\\Delta\\theta^{2}} - p_{i,j}\\left(\\frac{(\\mathbf{C_{1(i,j)}} + \\mathbf{C_{1(i,j-1)}})}{\\Delta\\theta^{2}} + \\frac{(\\mathbf{C_{2(i,j)}} + \\mathbf{C_{2(i-1,j)}})}{\\Delta z^{2}} \\right) + p_{i,j+1} \\frac{(\\mathbf{C_{1(i,j)}})}{\\Delta\\theta^{2}} + p_{i+1,j}\\frac{(\\mathbf{C_{2(i,j)}})}{\\Delta z^{2}} = \\frac{1}{\\Delta\\theta}\\left[\\mathbf{C_{0W(i,j)}}-\\mathbf{C_{0W(i,j-1)}}\\right]\\nonumber$$\n",
    "\n",
    "**Boundary Conditions:**\n",
    "\n",
    "$$p(z=0)=p(1,j)=P_{in}$$\n",
    "$$p(z=L)=p(NZ,j)=P_{out}$$\n",
    "$$p(\\theta=0)=p(\\theta=2\\pi)=p(i,1)=p(i,N\\theta)$$\n",
    "\n",
    "**Cavitation Condition:**\n",
    "\n",
    "According to DOWNSON; TAYLOR (1979), cavitation can be defined as the phenomenon that describes the discontinuity of a fluid due to the existence of gases or steam. This is a characteristic phenomenon in hydrodynamic bearings.\n",
    "\n",
    "It is important to note that this change in pressure behavior due to cavitation does not necessarily start at the point of least thickness in the annular space. Several studies seek to establish the appropriate boundary conditions to describe the beginning of cavitation in the fluid. ISHIDA; YAMAMOTO (2012) indicate that the condition of Gumbel is widely used because of its simplicity. Using the argument that lubricant evaporation and axial air flow from both ends can occur, the pressure in the region $\\pi < \\theta < 2\\pi $ is considered to be almost zero (that is, the atmospheric pressure ). $p = 0 $ is then defined across the divergent region.\n",
    "\n",
    "<img src=\"https://docs.google.com/uc?id=1pmKtHS0sW4t6kW0qq3sxwNIlBMJRQUaz\" width=\"250\" height=\"250\" />\n",
    "\n",
    "In addition, according to SANTOS (1995), although it violates mass conservation, this condition presents acceptable errors in the global parameters of the bearing. For these reasons, the present study will adopt the Gumbel boundary condition to describe the phenomenon of cavitation."
   ]
  },
  {
   "cell_type": "code",
   "execution_count": 8,
   "metadata": {},
   "outputs": [
    {
     "data": {
      "application/vnd.plotly.v1+json": {
       "config": {
        "plotlyServerURL": "https://plot.ly"
       },
       "data": [
        {
         "hovertemplate": "<b>Axial Length: %{x:.2f}</b><br><b>Numerical pressure: %{y:.2f}</b>",
         "line": {
          "color": "#1f77b4"
         },
         "mode": "lines",
         "name": "<b>Numerical pressure</b>",
         "showlegend": true,
         "type": "scatter",
         "x": [
          0,
          0.005714285714285714,
          0.011428571428571429,
          0.017142857142857144,
          0.022857142857142857,
          0.02857142857142857,
          0.03428571428571429,
          0.04
         ],
         "y": [
          0,
          17.31138004536046,
          30.889293584725355,
          38.28460644044492,
          38.2846064404449,
          30.88929358472533,
          17.311380045360448,
          0
         ]
        }
       ],
       "layout": {
        "template": {
         "data": {
          "bar": [
           {
            "error_x": {
             "color": "#2a3f5f"
            },
            "error_y": {
             "color": "#2a3f5f"
            },
            "marker": {
             "line": {
              "color": "white",
              "width": 0.5
             }
            },
            "type": "bar"
           }
          ],
          "barpolar": [
           {
            "marker": {
             "line": {
              "color": "white",
              "width": 0.5
             }
            },
            "type": "barpolar"
           }
          ],
          "carpet": [
           {
            "aaxis": {
             "endlinecolor": "#2a3f5f",
             "gridcolor": "#C8D4E3",
             "linecolor": "#C8D4E3",
             "minorgridcolor": "#C8D4E3",
             "startlinecolor": "#2a3f5f"
            },
            "baxis": {
             "endlinecolor": "#2a3f5f",
             "gridcolor": "#C8D4E3",
             "linecolor": "#C8D4E3",
             "minorgridcolor": "#C8D4E3",
             "startlinecolor": "#2a3f5f"
            },
            "type": "carpet"
           }
          ],
          "choropleth": [
           {
            "colorbar": {
             "outlinewidth": 0,
             "ticks": ""
            },
            "type": "choropleth"
           }
          ],
          "contour": [
           {
            "colorbar": {
             "outlinewidth": 0,
             "ticks": ""
            },
            "colorscale": [
             [
              0,
              "#0d0887"
             ],
             [
              0.1111111111111111,
              "#46039f"
             ],
             [
              0.2222222222222222,
              "#7201a8"
             ],
             [
              0.3333333333333333,
              "#9c179e"
             ],
             [
              0.4444444444444444,
              "#bd3786"
             ],
             [
              0.5555555555555556,
              "#d8576b"
             ],
             [
              0.6666666666666666,
              "#ed7953"
             ],
             [
              0.7777777777777778,
              "#fb9f3a"
             ],
             [
              0.8888888888888888,
              "#fdca26"
             ],
             [
              1,
              "#f0f921"
             ]
            ],
            "type": "contour"
           }
          ],
          "contourcarpet": [
           {
            "colorbar": {
             "outlinewidth": 0,
             "ticks": ""
            },
            "type": "contourcarpet"
           }
          ],
          "heatmap": [
           {
            "colorbar": {
             "outlinewidth": 0,
             "ticks": ""
            },
            "colorscale": [
             [
              0,
              "#0d0887"
             ],
             [
              0.1111111111111111,
              "#46039f"
             ],
             [
              0.2222222222222222,
              "#7201a8"
             ],
             [
              0.3333333333333333,
              "#9c179e"
             ],
             [
              0.4444444444444444,
              "#bd3786"
             ],
             [
              0.5555555555555556,
              "#d8576b"
             ],
             [
              0.6666666666666666,
              "#ed7953"
             ],
             [
              0.7777777777777778,
              "#fb9f3a"
             ],
             [
              0.8888888888888888,
              "#fdca26"
             ],
             [
              1,
              "#f0f921"
             ]
            ],
            "type": "heatmap"
           }
          ],
          "heatmapgl": [
           {
            "colorbar": {
             "outlinewidth": 0,
             "ticks": ""
            },
            "colorscale": [
             [
              0,
              "#0d0887"
             ],
             [
              0.1111111111111111,
              "#46039f"
             ],
             [
              0.2222222222222222,
              "#7201a8"
             ],
             [
              0.3333333333333333,
              "#9c179e"
             ],
             [
              0.4444444444444444,
              "#bd3786"
             ],
             [
              0.5555555555555556,
              "#d8576b"
             ],
             [
              0.6666666666666666,
              "#ed7953"
             ],
             [
              0.7777777777777778,
              "#fb9f3a"
             ],
             [
              0.8888888888888888,
              "#fdca26"
             ],
             [
              1,
              "#f0f921"
             ]
            ],
            "type": "heatmapgl"
           }
          ],
          "histogram": [
           {
            "marker": {
             "colorbar": {
              "outlinewidth": 0,
              "ticks": ""
             }
            },
            "type": "histogram"
           }
          ],
          "histogram2d": [
           {
            "colorbar": {
             "outlinewidth": 0,
             "ticks": ""
            },
            "colorscale": [
             [
              0,
              "#0d0887"
             ],
             [
              0.1111111111111111,
              "#46039f"
             ],
             [
              0.2222222222222222,
              "#7201a8"
             ],
             [
              0.3333333333333333,
              "#9c179e"
             ],
             [
              0.4444444444444444,
              "#bd3786"
             ],
             [
              0.5555555555555556,
              "#d8576b"
             ],
             [
              0.6666666666666666,
              "#ed7953"
             ],
             [
              0.7777777777777778,
              "#fb9f3a"
             ],
             [
              0.8888888888888888,
              "#fdca26"
             ],
             [
              1,
              "#f0f921"
             ]
            ],
            "type": "histogram2d"
           }
          ],
          "histogram2dcontour": [
           {
            "colorbar": {
             "outlinewidth": 0,
             "ticks": ""
            },
            "colorscale": [
             [
              0,
              "#0d0887"
             ],
             [
              0.1111111111111111,
              "#46039f"
             ],
             [
              0.2222222222222222,
              "#7201a8"
             ],
             [
              0.3333333333333333,
              "#9c179e"
             ],
             [
              0.4444444444444444,
              "#bd3786"
             ],
             [
              0.5555555555555556,
              "#d8576b"
             ],
             [
              0.6666666666666666,
              "#ed7953"
             ],
             [
              0.7777777777777778,
              "#fb9f3a"
             ],
             [
              0.8888888888888888,
              "#fdca26"
             ],
             [
              1,
              "#f0f921"
             ]
            ],
            "type": "histogram2dcontour"
           }
          ],
          "mesh3d": [
           {
            "colorbar": {
             "outlinewidth": 0,
             "ticks": ""
            },
            "type": "mesh3d"
           }
          ],
          "parcoords": [
           {
            "line": {
             "colorbar": {
              "outlinewidth": 0,
              "ticks": ""
             }
            },
            "type": "parcoords"
           }
          ],
          "pie": [
           {
            "automargin": true,
            "type": "pie"
           }
          ],
          "scatter": [
           {
            "marker": {
             "colorbar": {
              "outlinewidth": 0,
              "ticks": ""
             }
            },
            "type": "scatter"
           }
          ],
          "scatter3d": [
           {
            "line": {
             "colorbar": {
              "outlinewidth": 0,
              "ticks": ""
             }
            },
            "marker": {
             "colorbar": {
              "outlinewidth": 0,
              "ticks": ""
             }
            },
            "type": "scatter3d"
           }
          ],
          "scattercarpet": [
           {
            "marker": {
             "colorbar": {
              "outlinewidth": 0,
              "ticks": ""
             }
            },
            "type": "scattercarpet"
           }
          ],
          "scattergeo": [
           {
            "marker": {
             "colorbar": {
              "outlinewidth": 0,
              "ticks": ""
             }
            },
            "type": "scattergeo"
           }
          ],
          "scattergl": [
           {
            "marker": {
             "colorbar": {
              "outlinewidth": 0,
              "ticks": ""
             }
            },
            "type": "scattergl"
           }
          ],
          "scattermapbox": [
           {
            "marker": {
             "colorbar": {
              "outlinewidth": 0,
              "ticks": ""
             }
            },
            "type": "scattermapbox"
           }
          ],
          "scatterpolar": [
           {
            "marker": {
             "colorbar": {
              "outlinewidth": 0,
              "ticks": ""
             }
            },
            "type": "scatterpolar"
           }
          ],
          "scatterpolargl": [
           {
            "marker": {
             "colorbar": {
              "outlinewidth": 0,
              "ticks": ""
             }
            },
            "type": "scatterpolargl"
           }
          ],
          "scatterternary": [
           {
            "marker": {
             "colorbar": {
              "outlinewidth": 0,
              "ticks": ""
             }
            },
            "type": "scatterternary"
           }
          ],
          "surface": [
           {
            "colorbar": {
             "outlinewidth": 0,
             "ticks": ""
            },
            "colorscale": [
             [
              0,
              "#0d0887"
             ],
             [
              0.1111111111111111,
              "#46039f"
             ],
             [
              0.2222222222222222,
              "#7201a8"
             ],
             [
              0.3333333333333333,
              "#9c179e"
             ],
             [
              0.4444444444444444,
              "#bd3786"
             ],
             [
              0.5555555555555556,
              "#d8576b"
             ],
             [
              0.6666666666666666,
              "#ed7953"
             ],
             [
              0.7777777777777778,
              "#fb9f3a"
             ],
             [
              0.8888888888888888,
              "#fdca26"
             ],
             [
              1,
              "#f0f921"
             ]
            ],
            "type": "surface"
           }
          ],
          "table": [
           {
            "cells": {
             "fill": {
              "color": "#EBF0F8"
             },
             "line": {
              "color": "white"
             }
            },
            "header": {
             "fill": {
              "color": "#C8D4E3"
             },
             "line": {
              "color": "white"
             }
            },
            "type": "table"
           }
          ]
         },
         "layout": {
          "annotationdefaults": {
           "arrowcolor": "#2a3f5f",
           "arrowhead": 0,
           "arrowwidth": 1
          },
          "coloraxis": {
           "colorbar": {
            "outlinewidth": 0,
            "ticks": ""
           }
          },
          "colorscale": {
           "diverging": [
            [
             0,
             "#8e0152"
            ],
            [
             0.1,
             "#c51b7d"
            ],
            [
             0.2,
             "#de77ae"
            ],
            [
             0.3,
             "#f1b6da"
            ],
            [
             0.4,
             "#fde0ef"
            ],
            [
             0.5,
             "#f7f7f7"
            ],
            [
             0.6,
             "#e6f5d0"
            ],
            [
             0.7,
             "#b8e186"
            ],
            [
             0.8,
             "#7fbc41"
            ],
            [
             0.9,
             "#4d9221"
            ],
            [
             1,
             "#276419"
            ]
           ],
           "sequential": [
            [
             0,
             "#0d0887"
            ],
            [
             0.1111111111111111,
             "#46039f"
            ],
            [
             0.2222222222222222,
             "#7201a8"
            ],
            [
             0.3333333333333333,
             "#9c179e"
            ],
            [
             0.4444444444444444,
             "#bd3786"
            ],
            [
             0.5555555555555556,
             "#d8576b"
            ],
            [
             0.6666666666666666,
             "#ed7953"
            ],
            [
             0.7777777777777778,
             "#fb9f3a"
            ],
            [
             0.8888888888888888,
             "#fdca26"
            ],
            [
             1,
             "#f0f921"
            ]
           ],
           "sequentialminus": [
            [
             0,
             "#0d0887"
            ],
            [
             0.1111111111111111,
             "#46039f"
            ],
            [
             0.2222222222222222,
             "#7201a8"
            ],
            [
             0.3333333333333333,
             "#9c179e"
            ],
            [
             0.4444444444444444,
             "#bd3786"
            ],
            [
             0.5555555555555556,
             "#d8576b"
            ],
            [
             0.6666666666666666,
             "#ed7953"
            ],
            [
             0.7777777777777778,
             "#fb9f3a"
            ],
            [
             0.8888888888888888,
             "#fdca26"
            ],
            [
             1,
             "#f0f921"
            ]
           ]
          },
          "colorway": [
           "#1f77b4",
           "#ff7f0e",
           "#2ca02c",
           "#d62728",
           "#9467bd",
           "#8c564b",
           "#e377c2",
           "#7f7f7f",
           "#bcbd22",
           "#17becf"
          ],
          "font": {
           "color": "#2a3f5f"
          },
          "geo": {
           "bgcolor": "white",
           "lakecolor": "white",
           "landcolor": "white",
           "showlakes": true,
           "showland": true,
           "subunitcolor": "#C8D4E3"
          },
          "hoverlabel": {
           "align": "left"
          },
          "hovermode": "closest",
          "mapbox": {
           "style": "light"
          },
          "paper_bgcolor": "white",
          "plot_bgcolor": "white",
          "polar": {
           "angularaxis": {
            "gridcolor": "#EBF0F8",
            "linecolor": "#EBF0F8",
            "ticks": ""
           },
           "bgcolor": "white",
           "radialaxis": {
            "gridcolor": "#EBF0F8",
            "linecolor": "#EBF0F8",
            "ticks": ""
           }
          },
          "scene": {
           "camera": {
            "center": {
             "x": 0,
             "y": 0,
             "z": 0
            },
            "eye": {
             "x": 2,
             "y": 2,
             "z": 2
            },
            "up": {
             "x": 0,
             "y": 0,
             "z": 1
            }
           },
           "xaxis": {
            "backgroundcolor": "white",
            "gridcolor": "#DFE8F3",
            "gridwidth": 2,
            "linecolor": "#EBF0F8",
            "showbackground": true,
            "showspikes": false,
            "ticks": "",
            "zerolinecolor": "#EBF0F8"
           },
           "yaxis": {
            "backgroundcolor": "white",
            "gridcolor": "#DFE8F3",
            "gridwidth": 2,
            "linecolor": "#EBF0F8",
            "showbackground": true,
            "showspikes": false,
            "ticks": "",
            "zerolinecolor": "#EBF0F8"
           },
           "zaxis": {
            "backgroundcolor": "white",
            "gridcolor": "#DFE8F3",
            "gridwidth": 2,
            "linecolor": "#EBF0F8",
            "showbackground": true,
            "showspikes": false,
            "ticks": "",
            "zerolinecolor": "#EBF0F8"
           }
          },
          "shapedefaults": {
           "line": {
            "color": "#2a3f5f"
           }
          },
          "ternary": {
           "aaxis": {
            "gridcolor": "#DFE8F3",
            "linecolor": "#A2B1C6",
            "ticks": ""
           },
           "baxis": {
            "gridcolor": "#DFE8F3",
            "linecolor": "#A2B1C6",
            "ticks": ""
           },
           "bgcolor": "white",
           "caxis": {
            "gridcolor": "#DFE8F3",
            "linecolor": "#A2B1C6",
            "ticks": ""
           }
          },
          "title": {
           "x": 0.05
          },
          "xaxis": {
           "automargin": true,
           "gridcolor": "#EBF0F8",
           "linecolor": "black",
           "linewidth": 2,
           "mirror": true,
           "showline": true,
           "ticks": "",
           "title": {
            "standoff": 15
           },
           "zeroline": false,
           "zerolinecolor": "#EBF0F8",
           "zerolinewidth": 2
          },
          "yaxis": {
           "automargin": true,
           "gridcolor": "#EBF0F8",
           "linecolor": "black",
           "linewidth": 2,
           "mirror": true,
           "showline": true,
           "ticks": "",
           "title": {
            "standoff": 15
           },
           "zeroline": false,
           "zerolinecolor": "#EBF0F8",
           "zerolinewidth": 2
          }
         }
        },
        "title": {
         "text": "<b>Pressure along the flow (axial direction)<b><br><b>Theta=16</b>"
        },
        "xaxis": {
         "title": {
          "text": "<b>Axial Length</b>"
         }
        },
        "yaxis": {
         "title": {
          "text": "<b>Pressure</b>"
         }
        }
       }
      },
      "text/html": [
       "<div>\n",
       "        \n",
       "        \n",
       "            <div id=\"baf70879-359f-4cd0-ad98-8fe7b6683fce\" class=\"plotly-graph-div\" style=\"height:525px; width:100%;\"></div>\n",
       "            <script type=\"text/javascript\">\n",
       "                require([\"plotly\"], function(Plotly) {\n",
       "                    window.PLOTLYENV=window.PLOTLYENV || {};\n",
       "                    \n",
       "                if (document.getElementById(\"baf70879-359f-4cd0-ad98-8fe7b6683fce\")) {\n",
       "                    Plotly.newPlot(\n",
       "                        'baf70879-359f-4cd0-ad98-8fe7b6683fce',\n",
       "                        [{\"hovertemplate\": \"<b>Axial Length: %{x:.2f}</b><br><b>Numerical pressure: %{y:.2f}</b>\", \"line\": {\"color\": \"#1f77b4\"}, \"mode\": \"lines\", \"name\": \"<b>Numerical pressure</b>\", \"showlegend\": true, \"type\": \"scatter\", \"x\": [0.0, 0.005714285714285714, 0.011428571428571429, 0.017142857142857144, 0.022857142857142857, 0.02857142857142857, 0.03428571428571429, 0.04], \"y\": [0.0, 17.31138004536046, 30.889293584725355, 38.28460644044492, 38.2846064404449, 30.88929358472533, 17.311380045360448, 0.0]}],\n",
       "                        {\"template\": {\"data\": {\"bar\": [{\"error_x\": {\"color\": \"#2a3f5f\"}, \"error_y\": {\"color\": \"#2a3f5f\"}, \"marker\": {\"line\": {\"color\": \"white\", \"width\": 0.5}}, \"type\": \"bar\"}], \"barpolar\": [{\"marker\": {\"line\": {\"color\": \"white\", \"width\": 0.5}}, \"type\": \"barpolar\"}], \"carpet\": [{\"aaxis\": {\"endlinecolor\": \"#2a3f5f\", \"gridcolor\": \"#C8D4E3\", \"linecolor\": \"#C8D4E3\", \"minorgridcolor\": \"#C8D4E3\", \"startlinecolor\": \"#2a3f5f\"}, \"baxis\": {\"endlinecolor\": \"#2a3f5f\", \"gridcolor\": \"#C8D4E3\", \"linecolor\": \"#C8D4E3\", \"minorgridcolor\": \"#C8D4E3\", \"startlinecolor\": \"#2a3f5f\"}, \"type\": \"carpet\"}], \"choropleth\": [{\"colorbar\": {\"outlinewidth\": 0, \"ticks\": \"\"}, \"type\": \"choropleth\"}], \"contour\": [{\"colorbar\": {\"outlinewidth\": 0, \"ticks\": \"\"}, \"colorscale\": [[0.0, \"#0d0887\"], [0.1111111111111111, \"#46039f\"], [0.2222222222222222, \"#7201a8\"], [0.3333333333333333, \"#9c179e\"], [0.4444444444444444, \"#bd3786\"], [0.5555555555555556, \"#d8576b\"], [0.6666666666666666, \"#ed7953\"], [0.7777777777777778, \"#fb9f3a\"], [0.8888888888888888, \"#fdca26\"], [1.0, \"#f0f921\"]], \"type\": \"contour\"}], \"contourcarpet\": [{\"colorbar\": {\"outlinewidth\": 0, \"ticks\": \"\"}, \"type\": \"contourcarpet\"}], \"heatmap\": [{\"colorbar\": {\"outlinewidth\": 0, \"ticks\": \"\"}, \"colorscale\": [[0.0, \"#0d0887\"], [0.1111111111111111, \"#46039f\"], [0.2222222222222222, \"#7201a8\"], [0.3333333333333333, \"#9c179e\"], [0.4444444444444444, \"#bd3786\"], [0.5555555555555556, \"#d8576b\"], [0.6666666666666666, \"#ed7953\"], [0.7777777777777778, \"#fb9f3a\"], [0.8888888888888888, \"#fdca26\"], [1.0, \"#f0f921\"]], \"type\": \"heatmap\"}], \"heatmapgl\": [{\"colorbar\": {\"outlinewidth\": 0, \"ticks\": \"\"}, \"colorscale\": [[0.0, \"#0d0887\"], [0.1111111111111111, \"#46039f\"], [0.2222222222222222, \"#7201a8\"], [0.3333333333333333, \"#9c179e\"], [0.4444444444444444, \"#bd3786\"], [0.5555555555555556, \"#d8576b\"], [0.6666666666666666, \"#ed7953\"], [0.7777777777777778, \"#fb9f3a\"], [0.8888888888888888, \"#fdca26\"], [1.0, \"#f0f921\"]], \"type\": \"heatmapgl\"}], \"histogram\": [{\"marker\": {\"colorbar\": {\"outlinewidth\": 0, \"ticks\": \"\"}}, \"type\": \"histogram\"}], \"histogram2d\": [{\"colorbar\": {\"outlinewidth\": 0, \"ticks\": \"\"}, \"colorscale\": [[0.0, \"#0d0887\"], [0.1111111111111111, \"#46039f\"], [0.2222222222222222, \"#7201a8\"], [0.3333333333333333, \"#9c179e\"], [0.4444444444444444, \"#bd3786\"], [0.5555555555555556, \"#d8576b\"], [0.6666666666666666, \"#ed7953\"], [0.7777777777777778, \"#fb9f3a\"], [0.8888888888888888, \"#fdca26\"], [1.0, \"#f0f921\"]], \"type\": \"histogram2d\"}], \"histogram2dcontour\": [{\"colorbar\": {\"outlinewidth\": 0, \"ticks\": \"\"}, \"colorscale\": [[0.0, \"#0d0887\"], [0.1111111111111111, \"#46039f\"], [0.2222222222222222, \"#7201a8\"], [0.3333333333333333, \"#9c179e\"], [0.4444444444444444, \"#bd3786\"], [0.5555555555555556, \"#d8576b\"], [0.6666666666666666, \"#ed7953\"], [0.7777777777777778, \"#fb9f3a\"], [0.8888888888888888, \"#fdca26\"], [1.0, \"#f0f921\"]], \"type\": \"histogram2dcontour\"}], \"mesh3d\": [{\"colorbar\": {\"outlinewidth\": 0, \"ticks\": \"\"}, \"type\": \"mesh3d\"}], \"parcoords\": [{\"line\": {\"colorbar\": {\"outlinewidth\": 0, \"ticks\": \"\"}}, \"type\": \"parcoords\"}], \"pie\": [{\"automargin\": true, \"type\": \"pie\"}], \"scatter\": [{\"marker\": {\"colorbar\": {\"outlinewidth\": 0, \"ticks\": \"\"}}, \"type\": \"scatter\"}], \"scatter3d\": [{\"line\": {\"colorbar\": {\"outlinewidth\": 0, \"ticks\": \"\"}}, \"marker\": {\"colorbar\": {\"outlinewidth\": 0, \"ticks\": \"\"}}, \"type\": \"scatter3d\"}], \"scattercarpet\": [{\"marker\": {\"colorbar\": {\"outlinewidth\": 0, \"ticks\": \"\"}}, \"type\": \"scattercarpet\"}], \"scattergeo\": [{\"marker\": {\"colorbar\": {\"outlinewidth\": 0, \"ticks\": \"\"}}, \"type\": \"scattergeo\"}], \"scattergl\": [{\"marker\": {\"colorbar\": {\"outlinewidth\": 0, \"ticks\": \"\"}}, \"type\": \"scattergl\"}], \"scattermapbox\": [{\"marker\": {\"colorbar\": {\"outlinewidth\": 0, \"ticks\": \"\"}}, \"type\": \"scattermapbox\"}], \"scatterpolar\": [{\"marker\": {\"colorbar\": {\"outlinewidth\": 0, \"ticks\": \"\"}}, \"type\": \"scatterpolar\"}], \"scatterpolargl\": [{\"marker\": {\"colorbar\": {\"outlinewidth\": 0, \"ticks\": \"\"}}, \"type\": \"scatterpolargl\"}], \"scatterternary\": [{\"marker\": {\"colorbar\": {\"outlinewidth\": 0, \"ticks\": \"\"}}, \"type\": \"scatterternary\"}], \"surface\": [{\"colorbar\": {\"outlinewidth\": 0, \"ticks\": \"\"}, \"colorscale\": [[0.0, \"#0d0887\"], [0.1111111111111111, \"#46039f\"], [0.2222222222222222, \"#7201a8\"], [0.3333333333333333, \"#9c179e\"], [0.4444444444444444, \"#bd3786\"], [0.5555555555555556, \"#d8576b\"], [0.6666666666666666, \"#ed7953\"], [0.7777777777777778, \"#fb9f3a\"], [0.8888888888888888, \"#fdca26\"], [1.0, \"#f0f921\"]], \"type\": \"surface\"}], \"table\": [{\"cells\": {\"fill\": {\"color\": \"#EBF0F8\"}, \"line\": {\"color\": \"white\"}}, \"header\": {\"fill\": {\"color\": \"#C8D4E3\"}, \"line\": {\"color\": \"white\"}}, \"type\": \"table\"}]}, \"layout\": {\"annotationdefaults\": {\"arrowcolor\": \"#2a3f5f\", \"arrowhead\": 0, \"arrowwidth\": 1}, \"coloraxis\": {\"colorbar\": {\"outlinewidth\": 0, \"ticks\": \"\"}}, \"colorscale\": {\"diverging\": [[0, \"#8e0152\"], [0.1, \"#c51b7d\"], [0.2, \"#de77ae\"], [0.3, \"#f1b6da\"], [0.4, \"#fde0ef\"], [0.5, \"#f7f7f7\"], [0.6, \"#e6f5d0\"], [0.7, \"#b8e186\"], [0.8, \"#7fbc41\"], [0.9, \"#4d9221\"], [1, \"#276419\"]], \"sequential\": [[0.0, \"#0d0887\"], [0.1111111111111111, \"#46039f\"], [0.2222222222222222, \"#7201a8\"], [0.3333333333333333, \"#9c179e\"], [0.4444444444444444, \"#bd3786\"], [0.5555555555555556, \"#d8576b\"], [0.6666666666666666, \"#ed7953\"], [0.7777777777777778, \"#fb9f3a\"], [0.8888888888888888, \"#fdca26\"], [1.0, \"#f0f921\"]], \"sequentialminus\": [[0.0, \"#0d0887\"], [0.1111111111111111, \"#46039f\"], [0.2222222222222222, \"#7201a8\"], [0.3333333333333333, \"#9c179e\"], [0.4444444444444444, \"#bd3786\"], [0.5555555555555556, \"#d8576b\"], [0.6666666666666666, \"#ed7953\"], [0.7777777777777778, \"#fb9f3a\"], [0.8888888888888888, \"#fdca26\"], [1.0, \"#f0f921\"]]}, \"colorway\": [\"#1f77b4\", \"#ff7f0e\", \"#2ca02c\", \"#d62728\", \"#9467bd\", \"#8c564b\", \"#e377c2\", \"#7f7f7f\", \"#bcbd22\", \"#17becf\"], \"font\": {\"color\": \"#2a3f5f\"}, \"geo\": {\"bgcolor\": \"white\", \"lakecolor\": \"white\", \"landcolor\": \"white\", \"showlakes\": true, \"showland\": true, \"subunitcolor\": \"#C8D4E3\"}, \"hoverlabel\": {\"align\": \"left\"}, \"hovermode\": \"closest\", \"mapbox\": {\"style\": \"light\"}, \"paper_bgcolor\": \"white\", \"plot_bgcolor\": \"white\", \"polar\": {\"angularaxis\": {\"gridcolor\": \"#EBF0F8\", \"linecolor\": \"#EBF0F8\", \"ticks\": \"\"}, \"bgcolor\": \"white\", \"radialaxis\": {\"gridcolor\": \"#EBF0F8\", \"linecolor\": \"#EBF0F8\", \"ticks\": \"\"}}, \"scene\": {\"camera\": {\"center\": {\"x\": 0, \"y\": 0, \"z\": 0}, \"eye\": {\"x\": 2.0, \"y\": 2.0, \"z\": 2.0}, \"up\": {\"x\": 0, \"y\": 0, \"z\": 1}}, \"xaxis\": {\"backgroundcolor\": \"white\", \"gridcolor\": \"#DFE8F3\", \"gridwidth\": 2, \"linecolor\": \"#EBF0F8\", \"showbackground\": true, \"showspikes\": false, \"ticks\": \"\", \"zerolinecolor\": \"#EBF0F8\"}, \"yaxis\": {\"backgroundcolor\": \"white\", \"gridcolor\": \"#DFE8F3\", \"gridwidth\": 2, \"linecolor\": \"#EBF0F8\", \"showbackground\": true, \"showspikes\": false, \"ticks\": \"\", \"zerolinecolor\": \"#EBF0F8\"}, \"zaxis\": {\"backgroundcolor\": \"white\", \"gridcolor\": \"#DFE8F3\", \"gridwidth\": 2, \"linecolor\": \"#EBF0F8\", \"showbackground\": true, \"showspikes\": false, \"ticks\": \"\", \"zerolinecolor\": \"#EBF0F8\"}}, \"shapedefaults\": {\"line\": {\"color\": \"#2a3f5f\"}}, \"ternary\": {\"aaxis\": {\"gridcolor\": \"#DFE8F3\", \"linecolor\": \"#A2B1C6\", \"ticks\": \"\"}, \"baxis\": {\"gridcolor\": \"#DFE8F3\", \"linecolor\": \"#A2B1C6\", \"ticks\": \"\"}, \"bgcolor\": \"white\", \"caxis\": {\"gridcolor\": \"#DFE8F3\", \"linecolor\": \"#A2B1C6\", \"ticks\": \"\"}}, \"title\": {\"x\": 0.05}, \"xaxis\": {\"automargin\": true, \"gridcolor\": \"#EBF0F8\", \"linecolor\": \"black\", \"linewidth\": 2.0, \"mirror\": true, \"showline\": true, \"ticks\": \"\", \"title\": {\"standoff\": 15}, \"zeroline\": false, \"zerolinecolor\": \"#EBF0F8\", \"zerolinewidth\": 2}, \"yaxis\": {\"automargin\": true, \"gridcolor\": \"#EBF0F8\", \"linecolor\": \"black\", \"linewidth\": 2.0, \"mirror\": true, \"showline\": true, \"ticks\": \"\", \"title\": {\"standoff\": 15}, \"zeroline\": false, \"zerolinecolor\": \"#EBF0F8\", \"zerolinewidth\": 2}}}, \"title\": {\"text\": \"<b>Pressure along the flow (axial direction)<b><br><b>Theta=16</b>\"}, \"xaxis\": {\"title\": {\"text\": \"<b>Axial Length</b>\"}}, \"yaxis\": {\"title\": {\"text\": \"<b>Pressure</b>\"}}},\n",
       "                        {\"responsive\": true}\n",
       "                    ).then(function(){\n",
       "                            \n",
       "var gd = document.getElementById('baf70879-359f-4cd0-ad98-8fe7b6683fce');\n",
       "var x = new MutationObserver(function (mutations, observer) {{\n",
       "        var display = window.getComputedStyle(gd).display;\n",
       "        if (!display || display === 'none') {{\n",
       "            console.log([gd, 'removed!']);\n",
       "            Plotly.purge(gd);\n",
       "            observer.disconnect();\n",
       "        }}\n",
       "}});\n",
       "\n",
       "// Listen for the removal of the full notebook cells\n",
       "var notebookContainer = gd.closest('#notebook-container');\n",
       "if (notebookContainer) {{\n",
       "    x.observe(notebookContainer, {childList: true});\n",
       "}}\n",
       "\n",
       "// Listen for the clearing of the current output cell\n",
       "var outputEl = gd.closest('.output');\n",
       "if (outputEl) {{\n",
       "    x.observe(outputEl, {childList: true});\n",
       "}}\n",
       "\n",
       "                        })\n",
       "                };\n",
       "                });\n",
       "            </script>\n",
       "        </div>"
      ]
     },
     "metadata": {},
     "output_type": "display_data"
    },
    {
     "data": {
      "application/vnd.plotly.v1+json": {
       "config": {
        "plotlyServerURL": "https://plot.ly"
       },
       "data": [
        {
         "hovertemplate": "<b>Theta: %{x:.2f}</b><br><b>Numerical pressure: %{y:.2f}</b>",
         "line": {
          "color": "#1f77b4"
         },
         "mode": "lines",
         "name": "<b>Numerical pressure</b>",
         "showlegend": true,
         "type": "scatter",
         "x": [
          2.356194490192345,
          2.558877887198138,
          2.761561284203931,
          2.964244681209724,
          3.166928078215517,
          3.36961147522131,
          3.5722948722271033,
          3.7749782692328964,
          3.9776616662386894,
          4.1803450632444825,
          4.3830284602502765,
          4.585711857256069,
          4.788395254261863,
          4.991078651267655,
          5.193762048273449,
          5.396445445279241,
          5.599128842285035,
          5.801812239290827,
          6.004495636296621,
          6.207179033302413,
          6.409862430308207,
          6.612545827314,
          6.815229224319793,
          7.0179126213255865,
          7.2205960183313795,
          7.423279415337173,
          7.625962812342966,
          7.828646209348759,
          8.031329606354552,
          8.234013003360346,
          8.436696400366138,
          8.63937979737193
         ],
         "y": [
          0,
          76.41972712179992,
          223.66217284110473,
          400.47299210948484,
          619.8884044098351,
          903.794007317573,
          1281.7893346730218,
          1792.2245487538719,
          2480.259002617444,
          3386.792855894615,
          4517.015644213125,
          5774.2552302519425,
          6861.771547039673,
          7224.25503554323,
          6211.625241299464,
          3590.9152652782013,
          38.2846064404449,
          0,
          0,
          0,
          0,
          0,
          0,
          0,
          0,
          0,
          0,
          0,
          0,
          0,
          0,
          0
         ]
        }
       ],
       "layout": {
        "template": {
         "data": {
          "bar": [
           {
            "error_x": {
             "color": "#2a3f5f"
            },
            "error_y": {
             "color": "#2a3f5f"
            },
            "marker": {
             "line": {
              "color": "white",
              "width": 0.5
             }
            },
            "type": "bar"
           }
          ],
          "barpolar": [
           {
            "marker": {
             "line": {
              "color": "white",
              "width": 0.5
             }
            },
            "type": "barpolar"
           }
          ],
          "carpet": [
           {
            "aaxis": {
             "endlinecolor": "#2a3f5f",
             "gridcolor": "#C8D4E3",
             "linecolor": "#C8D4E3",
             "minorgridcolor": "#C8D4E3",
             "startlinecolor": "#2a3f5f"
            },
            "baxis": {
             "endlinecolor": "#2a3f5f",
             "gridcolor": "#C8D4E3",
             "linecolor": "#C8D4E3",
             "minorgridcolor": "#C8D4E3",
             "startlinecolor": "#2a3f5f"
            },
            "type": "carpet"
           }
          ],
          "choropleth": [
           {
            "colorbar": {
             "outlinewidth": 0,
             "ticks": ""
            },
            "type": "choropleth"
           }
          ],
          "contour": [
           {
            "colorbar": {
             "outlinewidth": 0,
             "ticks": ""
            },
            "colorscale": [
             [
              0,
              "#0d0887"
             ],
             [
              0.1111111111111111,
              "#46039f"
             ],
             [
              0.2222222222222222,
              "#7201a8"
             ],
             [
              0.3333333333333333,
              "#9c179e"
             ],
             [
              0.4444444444444444,
              "#bd3786"
             ],
             [
              0.5555555555555556,
              "#d8576b"
             ],
             [
              0.6666666666666666,
              "#ed7953"
             ],
             [
              0.7777777777777778,
              "#fb9f3a"
             ],
             [
              0.8888888888888888,
              "#fdca26"
             ],
             [
              1,
              "#f0f921"
             ]
            ],
            "type": "contour"
           }
          ],
          "contourcarpet": [
           {
            "colorbar": {
             "outlinewidth": 0,
             "ticks": ""
            },
            "type": "contourcarpet"
           }
          ],
          "heatmap": [
           {
            "colorbar": {
             "outlinewidth": 0,
             "ticks": ""
            },
            "colorscale": [
             [
              0,
              "#0d0887"
             ],
             [
              0.1111111111111111,
              "#46039f"
             ],
             [
              0.2222222222222222,
              "#7201a8"
             ],
             [
              0.3333333333333333,
              "#9c179e"
             ],
             [
              0.4444444444444444,
              "#bd3786"
             ],
             [
              0.5555555555555556,
              "#d8576b"
             ],
             [
              0.6666666666666666,
              "#ed7953"
             ],
             [
              0.7777777777777778,
              "#fb9f3a"
             ],
             [
              0.8888888888888888,
              "#fdca26"
             ],
             [
              1,
              "#f0f921"
             ]
            ],
            "type": "heatmap"
           }
          ],
          "heatmapgl": [
           {
            "colorbar": {
             "outlinewidth": 0,
             "ticks": ""
            },
            "colorscale": [
             [
              0,
              "#0d0887"
             ],
             [
              0.1111111111111111,
              "#46039f"
             ],
             [
              0.2222222222222222,
              "#7201a8"
             ],
             [
              0.3333333333333333,
              "#9c179e"
             ],
             [
              0.4444444444444444,
              "#bd3786"
             ],
             [
              0.5555555555555556,
              "#d8576b"
             ],
             [
              0.6666666666666666,
              "#ed7953"
             ],
             [
              0.7777777777777778,
              "#fb9f3a"
             ],
             [
              0.8888888888888888,
              "#fdca26"
             ],
             [
              1,
              "#f0f921"
             ]
            ],
            "type": "heatmapgl"
           }
          ],
          "histogram": [
           {
            "marker": {
             "colorbar": {
              "outlinewidth": 0,
              "ticks": ""
             }
            },
            "type": "histogram"
           }
          ],
          "histogram2d": [
           {
            "colorbar": {
             "outlinewidth": 0,
             "ticks": ""
            },
            "colorscale": [
             [
              0,
              "#0d0887"
             ],
             [
              0.1111111111111111,
              "#46039f"
             ],
             [
              0.2222222222222222,
              "#7201a8"
             ],
             [
              0.3333333333333333,
              "#9c179e"
             ],
             [
              0.4444444444444444,
              "#bd3786"
             ],
             [
              0.5555555555555556,
              "#d8576b"
             ],
             [
              0.6666666666666666,
              "#ed7953"
             ],
             [
              0.7777777777777778,
              "#fb9f3a"
             ],
             [
              0.8888888888888888,
              "#fdca26"
             ],
             [
              1,
              "#f0f921"
             ]
            ],
            "type": "histogram2d"
           }
          ],
          "histogram2dcontour": [
           {
            "colorbar": {
             "outlinewidth": 0,
             "ticks": ""
            },
            "colorscale": [
             [
              0,
              "#0d0887"
             ],
             [
              0.1111111111111111,
              "#46039f"
             ],
             [
              0.2222222222222222,
              "#7201a8"
             ],
             [
              0.3333333333333333,
              "#9c179e"
             ],
             [
              0.4444444444444444,
              "#bd3786"
             ],
             [
              0.5555555555555556,
              "#d8576b"
             ],
             [
              0.6666666666666666,
              "#ed7953"
             ],
             [
              0.7777777777777778,
              "#fb9f3a"
             ],
             [
              0.8888888888888888,
              "#fdca26"
             ],
             [
              1,
              "#f0f921"
             ]
            ],
            "type": "histogram2dcontour"
           }
          ],
          "mesh3d": [
           {
            "colorbar": {
             "outlinewidth": 0,
             "ticks": ""
            },
            "type": "mesh3d"
           }
          ],
          "parcoords": [
           {
            "line": {
             "colorbar": {
              "outlinewidth": 0,
              "ticks": ""
             }
            },
            "type": "parcoords"
           }
          ],
          "pie": [
           {
            "automargin": true,
            "type": "pie"
           }
          ],
          "scatter": [
           {
            "marker": {
             "colorbar": {
              "outlinewidth": 0,
              "ticks": ""
             }
            },
            "type": "scatter"
           }
          ],
          "scatter3d": [
           {
            "line": {
             "colorbar": {
              "outlinewidth": 0,
              "ticks": ""
             }
            },
            "marker": {
             "colorbar": {
              "outlinewidth": 0,
              "ticks": ""
             }
            },
            "type": "scatter3d"
           }
          ],
          "scattercarpet": [
           {
            "marker": {
             "colorbar": {
              "outlinewidth": 0,
              "ticks": ""
             }
            },
            "type": "scattercarpet"
           }
          ],
          "scattergeo": [
           {
            "marker": {
             "colorbar": {
              "outlinewidth": 0,
              "ticks": ""
             }
            },
            "type": "scattergeo"
           }
          ],
          "scattergl": [
           {
            "marker": {
             "colorbar": {
              "outlinewidth": 0,
              "ticks": ""
             }
            },
            "type": "scattergl"
           }
          ],
          "scattermapbox": [
           {
            "marker": {
             "colorbar": {
              "outlinewidth": 0,
              "ticks": ""
             }
            },
            "type": "scattermapbox"
           }
          ],
          "scatterpolar": [
           {
            "marker": {
             "colorbar": {
              "outlinewidth": 0,
              "ticks": ""
             }
            },
            "type": "scatterpolar"
           }
          ],
          "scatterpolargl": [
           {
            "marker": {
             "colorbar": {
              "outlinewidth": 0,
              "ticks": ""
             }
            },
            "type": "scatterpolargl"
           }
          ],
          "scatterternary": [
           {
            "marker": {
             "colorbar": {
              "outlinewidth": 0,
              "ticks": ""
             }
            },
            "type": "scatterternary"
           }
          ],
          "surface": [
           {
            "colorbar": {
             "outlinewidth": 0,
             "ticks": ""
            },
            "colorscale": [
             [
              0,
              "#0d0887"
             ],
             [
              0.1111111111111111,
              "#46039f"
             ],
             [
              0.2222222222222222,
              "#7201a8"
             ],
             [
              0.3333333333333333,
              "#9c179e"
             ],
             [
              0.4444444444444444,
              "#bd3786"
             ],
             [
              0.5555555555555556,
              "#d8576b"
             ],
             [
              0.6666666666666666,
              "#ed7953"
             ],
             [
              0.7777777777777778,
              "#fb9f3a"
             ],
             [
              0.8888888888888888,
              "#fdca26"
             ],
             [
              1,
              "#f0f921"
             ]
            ],
            "type": "surface"
           }
          ],
          "table": [
           {
            "cells": {
             "fill": {
              "color": "#EBF0F8"
             },
             "line": {
              "color": "white"
             }
            },
            "header": {
             "fill": {
              "color": "#C8D4E3"
             },
             "line": {
              "color": "white"
             }
            },
            "type": "table"
           }
          ]
         },
         "layout": {
          "annotationdefaults": {
           "arrowcolor": "#2a3f5f",
           "arrowhead": 0,
           "arrowwidth": 1
          },
          "coloraxis": {
           "colorbar": {
            "outlinewidth": 0,
            "ticks": ""
           }
          },
          "colorscale": {
           "diverging": [
            [
             0,
             "#8e0152"
            ],
            [
             0.1,
             "#c51b7d"
            ],
            [
             0.2,
             "#de77ae"
            ],
            [
             0.3,
             "#f1b6da"
            ],
            [
             0.4,
             "#fde0ef"
            ],
            [
             0.5,
             "#f7f7f7"
            ],
            [
             0.6,
             "#e6f5d0"
            ],
            [
             0.7,
             "#b8e186"
            ],
            [
             0.8,
             "#7fbc41"
            ],
            [
             0.9,
             "#4d9221"
            ],
            [
             1,
             "#276419"
            ]
           ],
           "sequential": [
            [
             0,
             "#0d0887"
            ],
            [
             0.1111111111111111,
             "#46039f"
            ],
            [
             0.2222222222222222,
             "#7201a8"
            ],
            [
             0.3333333333333333,
             "#9c179e"
            ],
            [
             0.4444444444444444,
             "#bd3786"
            ],
            [
             0.5555555555555556,
             "#d8576b"
            ],
            [
             0.6666666666666666,
             "#ed7953"
            ],
            [
             0.7777777777777778,
             "#fb9f3a"
            ],
            [
             0.8888888888888888,
             "#fdca26"
            ],
            [
             1,
             "#f0f921"
            ]
           ],
           "sequentialminus": [
            [
             0,
             "#0d0887"
            ],
            [
             0.1111111111111111,
             "#46039f"
            ],
            [
             0.2222222222222222,
             "#7201a8"
            ],
            [
             0.3333333333333333,
             "#9c179e"
            ],
            [
             0.4444444444444444,
             "#bd3786"
            ],
            [
             0.5555555555555556,
             "#d8576b"
            ],
            [
             0.6666666666666666,
             "#ed7953"
            ],
            [
             0.7777777777777778,
             "#fb9f3a"
            ],
            [
             0.8888888888888888,
             "#fdca26"
            ],
            [
             1,
             "#f0f921"
            ]
           ]
          },
          "colorway": [
           "#1f77b4",
           "#ff7f0e",
           "#2ca02c",
           "#d62728",
           "#9467bd",
           "#8c564b",
           "#e377c2",
           "#7f7f7f",
           "#bcbd22",
           "#17becf"
          ],
          "font": {
           "color": "#2a3f5f"
          },
          "geo": {
           "bgcolor": "white",
           "lakecolor": "white",
           "landcolor": "white",
           "showlakes": true,
           "showland": true,
           "subunitcolor": "#C8D4E3"
          },
          "hoverlabel": {
           "align": "left"
          },
          "hovermode": "closest",
          "mapbox": {
           "style": "light"
          },
          "paper_bgcolor": "white",
          "plot_bgcolor": "white",
          "polar": {
           "angularaxis": {
            "gridcolor": "#EBF0F8",
            "linecolor": "#EBF0F8",
            "ticks": ""
           },
           "bgcolor": "white",
           "radialaxis": {
            "gridcolor": "#EBF0F8",
            "linecolor": "#EBF0F8",
            "ticks": ""
           }
          },
          "scene": {
           "camera": {
            "center": {
             "x": 0,
             "y": 0,
             "z": 0
            },
            "eye": {
             "x": 2,
             "y": 2,
             "z": 2
            },
            "up": {
             "x": 0,
             "y": 0,
             "z": 1
            }
           },
           "xaxis": {
            "backgroundcolor": "white",
            "gridcolor": "#DFE8F3",
            "gridwidth": 2,
            "linecolor": "#EBF0F8",
            "showbackground": true,
            "showspikes": false,
            "ticks": "",
            "zerolinecolor": "#EBF0F8"
           },
           "yaxis": {
            "backgroundcolor": "white",
            "gridcolor": "#DFE8F3",
            "gridwidth": 2,
            "linecolor": "#EBF0F8",
            "showbackground": true,
            "showspikes": false,
            "ticks": "",
            "zerolinecolor": "#EBF0F8"
           },
           "zaxis": {
            "backgroundcolor": "white",
            "gridcolor": "#DFE8F3",
            "gridwidth": 2,
            "linecolor": "#EBF0F8",
            "showbackground": true,
            "showspikes": false,
            "ticks": "",
            "zerolinecolor": "#EBF0F8"
           }
          },
          "shapedefaults": {
           "line": {
            "color": "#2a3f5f"
           }
          },
          "ternary": {
           "aaxis": {
            "gridcolor": "#DFE8F3",
            "linecolor": "#A2B1C6",
            "ticks": ""
           },
           "baxis": {
            "gridcolor": "#DFE8F3",
            "linecolor": "#A2B1C6",
            "ticks": ""
           },
           "bgcolor": "white",
           "caxis": {
            "gridcolor": "#DFE8F3",
            "linecolor": "#A2B1C6",
            "ticks": ""
           }
          },
          "title": {
           "x": 0.05
          },
          "xaxis": {
           "automargin": true,
           "gridcolor": "#EBF0F8",
           "linecolor": "black",
           "linewidth": 2,
           "mirror": true,
           "showline": true,
           "ticks": "",
           "title": {
            "standoff": 15
           },
           "zeroline": false,
           "zerolinecolor": "#EBF0F8",
           "zerolinewidth": 2
          },
          "yaxis": {
           "automargin": true,
           "gridcolor": "#EBF0F8",
           "linecolor": "black",
           "linewidth": 2,
           "mirror": true,
           "showline": true,
           "ticks": "",
           "title": {
            "standoff": 15
           },
           "zeroline": false,
           "zerolinecolor": "#EBF0F8",
           "zerolinewidth": 2
          }
         }
        },
        "title": {
         "text": "<b>Pressure along Theta | Z=4<b>"
        },
        "xaxis": {
         "title": {
          "text": "<b>Theta value</b>"
         }
        },
        "yaxis": {
         "title": {
          "text": "<b>Pressure</b>"
         }
        }
       }
      },
      "text/html": [
       "<div>\n",
       "        \n",
       "        \n",
       "            <div id=\"4feb9052-1c7a-4e0b-8b98-745791cfa527\" class=\"plotly-graph-div\" style=\"height:525px; width:100%;\"></div>\n",
       "            <script type=\"text/javascript\">\n",
       "                require([\"plotly\"], function(Plotly) {\n",
       "                    window.PLOTLYENV=window.PLOTLYENV || {};\n",
       "                    \n",
       "                if (document.getElementById(\"4feb9052-1c7a-4e0b-8b98-745791cfa527\")) {\n",
       "                    Plotly.newPlot(\n",
       "                        '4feb9052-1c7a-4e0b-8b98-745791cfa527',\n",
       "                        [{\"hovertemplate\": \"<b>Theta: %{x:.2f}</b><br><b>Numerical pressure: %{y:.2f}</b>\", \"line\": {\"color\": \"#1f77b4\"}, \"mode\": \"lines\", \"name\": \"<b>Numerical pressure</b>\", \"showlegend\": true, \"type\": \"scatter\", \"x\": [2.356194490192345, 2.558877887198138, 2.761561284203931, 2.964244681209724, 3.166928078215517, 3.36961147522131, 3.5722948722271033, 3.7749782692328964, 3.9776616662386894, 4.1803450632444825, 4.3830284602502765, 4.585711857256069, 4.788395254261863, 4.991078651267655, 5.193762048273449, 5.396445445279241, 5.599128842285035, 5.801812239290827, 6.004495636296621, 6.207179033302413, 6.409862430308207, 6.612545827314, 6.815229224319793, 7.0179126213255865, 7.2205960183313795, 7.423279415337173, 7.625962812342966, 7.828646209348759, 8.031329606354552, 8.234013003360346, 8.436696400366138, 8.63937979737193], \"y\": [0.0, 76.41972712179992, 223.66217284110473, 400.47299210948484, 619.8884044098351, 903.794007317573, 1281.7893346730218, 1792.2245487538719, 2480.259002617444, 3386.792855894615, 4517.015644213125, 5774.2552302519425, 6861.771547039673, 7224.25503554323, 6211.625241299464, 3590.9152652782013, 38.2846064404449, 0.0, 0.0, 0.0, 0.0, 0.0, 0.0, 0.0, 0.0, 0.0, 0.0, 0.0, 0.0, 0.0, 0.0, 0.0]}],\n",
       "                        {\"template\": {\"data\": {\"bar\": [{\"error_x\": {\"color\": \"#2a3f5f\"}, \"error_y\": {\"color\": \"#2a3f5f\"}, \"marker\": {\"line\": {\"color\": \"white\", \"width\": 0.5}}, \"type\": \"bar\"}], \"barpolar\": [{\"marker\": {\"line\": {\"color\": \"white\", \"width\": 0.5}}, \"type\": \"barpolar\"}], \"carpet\": [{\"aaxis\": {\"endlinecolor\": \"#2a3f5f\", \"gridcolor\": \"#C8D4E3\", \"linecolor\": \"#C8D4E3\", \"minorgridcolor\": \"#C8D4E3\", \"startlinecolor\": \"#2a3f5f\"}, \"baxis\": {\"endlinecolor\": \"#2a3f5f\", \"gridcolor\": \"#C8D4E3\", \"linecolor\": \"#C8D4E3\", \"minorgridcolor\": \"#C8D4E3\", \"startlinecolor\": \"#2a3f5f\"}, \"type\": \"carpet\"}], \"choropleth\": [{\"colorbar\": {\"outlinewidth\": 0, \"ticks\": \"\"}, \"type\": \"choropleth\"}], \"contour\": [{\"colorbar\": {\"outlinewidth\": 0, \"ticks\": \"\"}, \"colorscale\": [[0.0, \"#0d0887\"], [0.1111111111111111, \"#46039f\"], [0.2222222222222222, \"#7201a8\"], [0.3333333333333333, \"#9c179e\"], [0.4444444444444444, \"#bd3786\"], [0.5555555555555556, \"#d8576b\"], [0.6666666666666666, \"#ed7953\"], [0.7777777777777778, \"#fb9f3a\"], [0.8888888888888888, \"#fdca26\"], [1.0, \"#f0f921\"]], \"type\": \"contour\"}], \"contourcarpet\": [{\"colorbar\": {\"outlinewidth\": 0, \"ticks\": \"\"}, \"type\": \"contourcarpet\"}], \"heatmap\": [{\"colorbar\": {\"outlinewidth\": 0, \"ticks\": \"\"}, \"colorscale\": [[0.0, \"#0d0887\"], [0.1111111111111111, \"#46039f\"], [0.2222222222222222, \"#7201a8\"], [0.3333333333333333, \"#9c179e\"], [0.4444444444444444, \"#bd3786\"], [0.5555555555555556, \"#d8576b\"], [0.6666666666666666, \"#ed7953\"], [0.7777777777777778, \"#fb9f3a\"], [0.8888888888888888, \"#fdca26\"], [1.0, \"#f0f921\"]], \"type\": \"heatmap\"}], \"heatmapgl\": [{\"colorbar\": {\"outlinewidth\": 0, \"ticks\": \"\"}, \"colorscale\": [[0.0, \"#0d0887\"], [0.1111111111111111, \"#46039f\"], [0.2222222222222222, \"#7201a8\"], [0.3333333333333333, \"#9c179e\"], [0.4444444444444444, \"#bd3786\"], [0.5555555555555556, \"#d8576b\"], [0.6666666666666666, \"#ed7953\"], [0.7777777777777778, \"#fb9f3a\"], [0.8888888888888888, \"#fdca26\"], [1.0, \"#f0f921\"]], \"type\": \"heatmapgl\"}], \"histogram\": [{\"marker\": {\"colorbar\": {\"outlinewidth\": 0, \"ticks\": \"\"}}, \"type\": \"histogram\"}], \"histogram2d\": [{\"colorbar\": {\"outlinewidth\": 0, \"ticks\": \"\"}, \"colorscale\": [[0.0, \"#0d0887\"], [0.1111111111111111, \"#46039f\"], [0.2222222222222222, \"#7201a8\"], [0.3333333333333333, \"#9c179e\"], [0.4444444444444444, \"#bd3786\"], [0.5555555555555556, \"#d8576b\"], [0.6666666666666666, \"#ed7953\"], [0.7777777777777778, \"#fb9f3a\"], [0.8888888888888888, \"#fdca26\"], [1.0, \"#f0f921\"]], \"type\": \"histogram2d\"}], \"histogram2dcontour\": [{\"colorbar\": {\"outlinewidth\": 0, \"ticks\": \"\"}, \"colorscale\": [[0.0, \"#0d0887\"], [0.1111111111111111, \"#46039f\"], [0.2222222222222222, \"#7201a8\"], [0.3333333333333333, \"#9c179e\"], [0.4444444444444444, \"#bd3786\"], [0.5555555555555556, \"#d8576b\"], [0.6666666666666666, \"#ed7953\"], [0.7777777777777778, \"#fb9f3a\"], [0.8888888888888888, \"#fdca26\"], [1.0, \"#f0f921\"]], \"type\": \"histogram2dcontour\"}], \"mesh3d\": [{\"colorbar\": {\"outlinewidth\": 0, \"ticks\": \"\"}, \"type\": \"mesh3d\"}], \"parcoords\": [{\"line\": {\"colorbar\": {\"outlinewidth\": 0, \"ticks\": \"\"}}, \"type\": \"parcoords\"}], \"pie\": [{\"automargin\": true, \"type\": \"pie\"}], \"scatter\": [{\"marker\": {\"colorbar\": {\"outlinewidth\": 0, \"ticks\": \"\"}}, \"type\": \"scatter\"}], \"scatter3d\": [{\"line\": {\"colorbar\": {\"outlinewidth\": 0, \"ticks\": \"\"}}, \"marker\": {\"colorbar\": {\"outlinewidth\": 0, \"ticks\": \"\"}}, \"type\": \"scatter3d\"}], \"scattercarpet\": [{\"marker\": {\"colorbar\": {\"outlinewidth\": 0, \"ticks\": \"\"}}, \"type\": \"scattercarpet\"}], \"scattergeo\": [{\"marker\": {\"colorbar\": {\"outlinewidth\": 0, \"ticks\": \"\"}}, \"type\": \"scattergeo\"}], \"scattergl\": [{\"marker\": {\"colorbar\": {\"outlinewidth\": 0, \"ticks\": \"\"}}, \"type\": \"scattergl\"}], \"scattermapbox\": [{\"marker\": {\"colorbar\": {\"outlinewidth\": 0, \"ticks\": \"\"}}, \"type\": \"scattermapbox\"}], \"scatterpolar\": [{\"marker\": {\"colorbar\": {\"outlinewidth\": 0, \"ticks\": \"\"}}, \"type\": \"scatterpolar\"}], \"scatterpolargl\": [{\"marker\": {\"colorbar\": {\"outlinewidth\": 0, \"ticks\": \"\"}}, \"type\": \"scatterpolargl\"}], \"scatterternary\": [{\"marker\": {\"colorbar\": {\"outlinewidth\": 0, \"ticks\": \"\"}}, \"type\": \"scatterternary\"}], \"surface\": [{\"colorbar\": {\"outlinewidth\": 0, \"ticks\": \"\"}, \"colorscale\": [[0.0, \"#0d0887\"], [0.1111111111111111, \"#46039f\"], [0.2222222222222222, \"#7201a8\"], [0.3333333333333333, \"#9c179e\"], [0.4444444444444444, \"#bd3786\"], [0.5555555555555556, \"#d8576b\"], [0.6666666666666666, \"#ed7953\"], [0.7777777777777778, \"#fb9f3a\"], [0.8888888888888888, \"#fdca26\"], [1.0, \"#f0f921\"]], \"type\": \"surface\"}], \"table\": [{\"cells\": {\"fill\": {\"color\": \"#EBF0F8\"}, \"line\": {\"color\": \"white\"}}, \"header\": {\"fill\": {\"color\": \"#C8D4E3\"}, \"line\": {\"color\": \"white\"}}, \"type\": \"table\"}]}, \"layout\": {\"annotationdefaults\": {\"arrowcolor\": \"#2a3f5f\", \"arrowhead\": 0, \"arrowwidth\": 1}, \"coloraxis\": {\"colorbar\": {\"outlinewidth\": 0, \"ticks\": \"\"}}, \"colorscale\": {\"diverging\": [[0, \"#8e0152\"], [0.1, \"#c51b7d\"], [0.2, \"#de77ae\"], [0.3, \"#f1b6da\"], [0.4, \"#fde0ef\"], [0.5, \"#f7f7f7\"], [0.6, \"#e6f5d0\"], [0.7, \"#b8e186\"], [0.8, \"#7fbc41\"], [0.9, \"#4d9221\"], [1, \"#276419\"]], \"sequential\": [[0.0, \"#0d0887\"], [0.1111111111111111, \"#46039f\"], [0.2222222222222222, \"#7201a8\"], [0.3333333333333333, \"#9c179e\"], [0.4444444444444444, \"#bd3786\"], [0.5555555555555556, \"#d8576b\"], [0.6666666666666666, \"#ed7953\"], [0.7777777777777778, \"#fb9f3a\"], [0.8888888888888888, \"#fdca26\"], [1.0, \"#f0f921\"]], \"sequentialminus\": [[0.0, \"#0d0887\"], [0.1111111111111111, \"#46039f\"], [0.2222222222222222, \"#7201a8\"], [0.3333333333333333, \"#9c179e\"], [0.4444444444444444, \"#bd3786\"], [0.5555555555555556, \"#d8576b\"], [0.6666666666666666, \"#ed7953\"], [0.7777777777777778, \"#fb9f3a\"], [0.8888888888888888, \"#fdca26\"], [1.0, \"#f0f921\"]]}, \"colorway\": [\"#1f77b4\", \"#ff7f0e\", \"#2ca02c\", \"#d62728\", \"#9467bd\", \"#8c564b\", \"#e377c2\", \"#7f7f7f\", \"#bcbd22\", \"#17becf\"], \"font\": {\"color\": \"#2a3f5f\"}, \"geo\": {\"bgcolor\": \"white\", \"lakecolor\": \"white\", \"landcolor\": \"white\", \"showlakes\": true, \"showland\": true, \"subunitcolor\": \"#C8D4E3\"}, \"hoverlabel\": {\"align\": \"left\"}, \"hovermode\": \"closest\", \"mapbox\": {\"style\": \"light\"}, \"paper_bgcolor\": \"white\", \"plot_bgcolor\": \"white\", \"polar\": {\"angularaxis\": {\"gridcolor\": \"#EBF0F8\", \"linecolor\": \"#EBF0F8\", \"ticks\": \"\"}, \"bgcolor\": \"white\", \"radialaxis\": {\"gridcolor\": \"#EBF0F8\", \"linecolor\": \"#EBF0F8\", \"ticks\": \"\"}}, \"scene\": {\"camera\": {\"center\": {\"x\": 0, \"y\": 0, \"z\": 0}, \"eye\": {\"x\": 2.0, \"y\": 2.0, \"z\": 2.0}, \"up\": {\"x\": 0, \"y\": 0, \"z\": 1}}, \"xaxis\": {\"backgroundcolor\": \"white\", \"gridcolor\": \"#DFE8F3\", \"gridwidth\": 2, \"linecolor\": \"#EBF0F8\", \"showbackground\": true, \"showspikes\": false, \"ticks\": \"\", \"zerolinecolor\": \"#EBF0F8\"}, \"yaxis\": {\"backgroundcolor\": \"white\", \"gridcolor\": \"#DFE8F3\", \"gridwidth\": 2, \"linecolor\": \"#EBF0F8\", \"showbackground\": true, \"showspikes\": false, \"ticks\": \"\", \"zerolinecolor\": \"#EBF0F8\"}, \"zaxis\": {\"backgroundcolor\": \"white\", \"gridcolor\": \"#DFE8F3\", \"gridwidth\": 2, \"linecolor\": \"#EBF0F8\", \"showbackground\": true, \"showspikes\": false, \"ticks\": \"\", \"zerolinecolor\": \"#EBF0F8\"}}, \"shapedefaults\": {\"line\": {\"color\": \"#2a3f5f\"}}, \"ternary\": {\"aaxis\": {\"gridcolor\": \"#DFE8F3\", \"linecolor\": \"#A2B1C6\", \"ticks\": \"\"}, \"baxis\": {\"gridcolor\": \"#DFE8F3\", \"linecolor\": \"#A2B1C6\", \"ticks\": \"\"}, \"bgcolor\": \"white\", \"caxis\": {\"gridcolor\": \"#DFE8F3\", \"linecolor\": \"#A2B1C6\", \"ticks\": \"\"}}, \"title\": {\"x\": 0.05}, \"xaxis\": {\"automargin\": true, \"gridcolor\": \"#EBF0F8\", \"linecolor\": \"black\", \"linewidth\": 2.0, \"mirror\": true, \"showline\": true, \"ticks\": \"\", \"title\": {\"standoff\": 15}, \"zeroline\": false, \"zerolinecolor\": \"#EBF0F8\", \"zerolinewidth\": 2}, \"yaxis\": {\"automargin\": true, \"gridcolor\": \"#EBF0F8\", \"linecolor\": \"black\", \"linewidth\": 2.0, \"mirror\": true, \"showline\": true, \"ticks\": \"\", \"title\": {\"standoff\": 15}, \"zeroline\": false, \"zerolinecolor\": \"#EBF0F8\", \"zerolinewidth\": 2}}}, \"title\": {\"text\": \"<b>Pressure along Theta | Z=4<b>\"}, \"xaxis\": {\"title\": {\"text\": \"<b>Theta value</b>\"}}, \"yaxis\": {\"title\": {\"text\": \"<b>Pressure</b>\"}}},\n",
       "                        {\"responsive\": true}\n",
       "                    ).then(function(){\n",
       "                            \n",
       "var gd = document.getElementById('4feb9052-1c7a-4e0b-8b98-745791cfa527');\n",
       "var x = new MutationObserver(function (mutations, observer) {{\n",
       "        var display = window.getComputedStyle(gd).display;\n",
       "        if (!display || display === 'none') {{\n",
       "            console.log([gd, 'removed!']);\n",
       "            Plotly.purge(gd);\n",
       "            observer.disconnect();\n",
       "        }}\n",
       "}});\n",
       "\n",
       "// Listen for the removal of the full notebook cells\n",
       "var notebookContainer = gd.closest('#notebook-container');\n",
       "if (notebookContainer) {{\n",
       "    x.observe(notebookContainer, {childList: true});\n",
       "}}\n",
       "\n",
       "// Listen for the clearing of the current output cell\n",
       "var outputEl = gd.closest('.output');\n",
       "if (outputEl) {{\n",
       "    x.observe(outputEl, {childList: true});\n",
       "}}\n",
       "\n",
       "                        })\n",
       "                };\n",
       "                });\n",
       "            </script>\n",
       "        </div>"
      ]
     },
     "metadata": {},
     "output_type": "display_data"
    },
    {
     "data": {
      "application/vnd.plotly.v1+json": {
       "config": {
        "plotlyServerURL": "https://plot.ly"
       },
       "data": [
        {
         "customdata": [
          0.01,
          0.01,
          0.01,
          0.01,
          0.01,
          0.01,
          0.01,
          0.01,
          0.01,
          0.01,
          0.01,
          0.01,
          0.01,
          0.01,
          0.01,
          0.01,
          0.01,
          0.01,
          0.01,
          0.01,
          0.01,
          0.01,
          0.01,
          0.01,
          0.01,
          0.01,
          0.01,
          0.01,
          0.01,
          0.01,
          0.01,
          0.01,
          0.01,
          0.01,
          0.01,
          0.01,
          0.01,
          0.01,
          0.01,
          0.01,
          0.01,
          0.01,
          0.01,
          0.01,
          0.01,
          0.01,
          0.01,
          0.01,
          0.01,
          0.01,
          76.42972712179993,
          76.42972712179993,
          76.42972712179993,
          76.42972712179993,
          76.42972712179993,
          76.42972712179993,
          76.42972712179993,
          76.42972712179993,
          76.42972712179993,
          76.42972712179993,
          76.42972712179993,
          76.42972712179993,
          76.42972712179993,
          76.42972712179993,
          76.42972712179993,
          76.42972712179993,
          76.42972712179993,
          76.42972712179993,
          76.42972712179993,
          76.42972712179993,
          76.42972712179993,
          76.42972712179993,
          76.42972712179993,
          76.42972712179993,
          76.42972712179993,
          76.42972712179993,
          76.42972712179993,
          76.42972712179993,
          76.42972712179993,
          76.42972712179993,
          76.42972712179993,
          76.42972712179993,
          76.42972712179993,
          76.42972712179993,
          76.42972712179993,
          76.42972712179993,
          76.42972712179993,
          76.42972712179993,
          76.42972712179993,
          76.42972712179993,
          76.42972712179993,
          76.42972712179993,
          76.42972712179993,
          76.42972712179993,
          76.42972712179993,
          76.42972712179993,
          76.42972712179993,
          76.42972712179993,
          76.42972712179993,
          76.42972712179993,
          223.67217284110473,
          223.67217284110473,
          223.67217284110473,
          223.67217284110473,
          223.67217284110473,
          223.67217284110473,
          223.67217284110473,
          223.67217284110473,
          223.67217284110473,
          223.67217284110473,
          223.67217284110473,
          223.67217284110473,
          223.67217284110473,
          223.67217284110473,
          223.67217284110473,
          223.67217284110473,
          223.67217284110473,
          223.67217284110473,
          223.67217284110473,
          223.67217284110473,
          223.67217284110473,
          223.67217284110473,
          223.67217284110473,
          223.67217284110473,
          223.67217284110473,
          223.67217284110473,
          223.67217284110473,
          223.67217284110473,
          223.67217284110473,
          223.67217284110473,
          223.67217284110473,
          223.67217284110473,
          223.67217284110473,
          223.67217284110473,
          223.67217284110473,
          223.67217284110473,
          223.67217284110473,
          223.67217284110473,
          223.67217284110473,
          223.67217284110473,
          223.67217284110473,
          223.67217284110473,
          223.67217284110473,
          223.67217284110473,
          223.67217284110473,
          223.67217284110473,
          223.67217284110473,
          223.67217284110473,
          223.67217284110473,
          223.67217284110473,
          400.4829921094848,
          400.4829921094848,
          400.4829921094848,
          400.4829921094848,
          400.4829921094848,
          400.4829921094848,
          400.4829921094848,
          400.4829921094848,
          400.4829921094848,
          400.4829921094848,
          400.4829921094848,
          400.4829921094848,
          400.4829921094848,
          400.4829921094848,
          400.4829921094848,
          400.4829921094848,
          400.4829921094848,
          400.4829921094848,
          400.4829921094848,
          400.4829921094848,
          400.4829921094848,
          400.4829921094848,
          400.4829921094848,
          400.4829921094848,
          400.4829921094848,
          400.4829921094848,
          400.4829921094848,
          400.4829921094848,
          400.4829921094848,
          400.4829921094848,
          400.4829921094848,
          400.4829921094848,
          400.4829921094848,
          400.4829921094848,
          400.4829921094848,
          400.4829921094848,
          400.4829921094848,
          400.4829921094848,
          400.4829921094848,
          400.4829921094848,
          400.4829921094848,
          400.4829921094848,
          400.4829921094848,
          400.4829921094848,
          400.4829921094848,
          400.4829921094848,
          400.4829921094848,
          400.4829921094848,
          400.4829921094848,
          400.4829921094848,
          619.898404409835,
          619.898404409835,
          619.898404409835,
          619.898404409835,
          619.898404409835,
          619.898404409835,
          619.898404409835,
          619.898404409835,
          619.898404409835,
          619.898404409835,
          619.898404409835,
          619.898404409835,
          619.898404409835,
          619.898404409835,
          619.898404409835,
          619.898404409835,
          619.898404409835,
          619.898404409835,
          619.898404409835,
          619.898404409835,
          619.898404409835,
          619.898404409835,
          619.898404409835,
          619.898404409835,
          619.898404409835,
          619.898404409835,
          619.898404409835,
          619.898404409835,
          619.898404409835,
          619.898404409835,
          619.898404409835,
          619.898404409835,
          619.898404409835,
          619.898404409835,
          619.898404409835,
          619.898404409835,
          619.898404409835,
          619.898404409835,
          619.898404409835,
          619.898404409835,
          619.898404409835,
          619.898404409835,
          619.898404409835,
          619.898404409835,
          619.898404409835,
          619.898404409835,
          619.898404409835,
          619.898404409835,
          619.898404409835,
          619.898404409835,
          903.804007317573,
          903.804007317573,
          903.804007317573,
          903.804007317573,
          903.804007317573,
          903.804007317573,
          903.804007317573,
          903.804007317573,
          903.804007317573,
          903.804007317573,
          903.804007317573,
          903.804007317573,
          903.804007317573,
          903.804007317573,
          903.804007317573,
          903.804007317573,
          903.804007317573,
          903.804007317573,
          903.804007317573,
          903.804007317573,
          903.804007317573,
          903.804007317573,
          903.804007317573,
          903.804007317573,
          903.804007317573,
          903.804007317573,
          903.804007317573,
          903.804007317573,
          903.804007317573,
          903.804007317573,
          903.804007317573,
          903.804007317573,
          903.804007317573,
          903.804007317573,
          903.804007317573,
          903.804007317573,
          903.804007317573,
          903.804007317573,
          903.804007317573,
          903.804007317573,
          903.804007317573,
          903.804007317573,
          903.804007317573,
          903.804007317573,
          903.804007317573,
          903.804007317573,
          903.804007317573,
          903.804007317573,
          903.804007317573,
          903.804007317573,
          1281.7993346730218,
          1281.7993346730218,
          1281.7993346730218,
          1281.7993346730218,
          1281.7993346730218,
          1281.7993346730218,
          1281.7993346730218,
          1281.7993346730218,
          1281.7993346730218,
          1281.7993346730218,
          1281.7993346730218,
          1281.7993346730218,
          1281.7993346730218,
          1281.7993346730218,
          1281.7993346730218,
          1281.7993346730218,
          1281.7993346730218,
          1281.7993346730218,
          1281.7993346730218,
          1281.7993346730218,
          1281.7993346730218,
          1281.7993346730218,
          1281.7993346730218,
          1281.7993346730218,
          1281.7993346730218,
          1281.7993346730218,
          1281.7993346730218,
          1281.7993346730218,
          1281.7993346730218,
          1281.7993346730218,
          1281.7993346730218,
          1281.7993346730218,
          1281.7993346730218,
          1281.7993346730218,
          1281.7993346730218,
          1281.7993346730218,
          1281.7993346730218,
          1281.7993346730218,
          1281.7993346730218,
          1281.7993346730218,
          1281.7993346730218,
          1281.7993346730218,
          1281.7993346730218,
          1281.7993346730218,
          1281.7993346730218,
          1281.7993346730218,
          1281.7993346730218,
          1281.7993346730218,
          1281.7993346730218,
          1281.7993346730218,
          1792.2345487538719,
          1792.2345487538719,
          1792.2345487538719,
          1792.2345487538719,
          1792.2345487538719,
          1792.2345487538719,
          1792.2345487538719,
          1792.2345487538719,
          1792.2345487538719,
          1792.2345487538719,
          1792.2345487538719,
          1792.2345487538719,
          1792.2345487538719,
          1792.2345487538719,
          1792.2345487538719,
          1792.2345487538719,
          1792.2345487538719,
          1792.2345487538719,
          1792.2345487538719,
          1792.2345487538719,
          1792.2345487538719,
          1792.2345487538719,
          1792.2345487538719,
          1792.2345487538719,
          1792.2345487538719,
          1792.2345487538719,
          1792.2345487538719,
          1792.2345487538719,
          1792.2345487538719,
          1792.2345487538719,
          1792.2345487538719,
          1792.2345487538719,
          1792.2345487538719,
          1792.2345487538719,
          1792.2345487538719,
          1792.2345487538719,
          1792.2345487538719,
          1792.2345487538719,
          1792.2345487538719,
          1792.2345487538719,
          1792.2345487538719,
          1792.2345487538719,
          1792.2345487538719,
          1792.2345487538719,
          1792.2345487538719,
          1792.2345487538719,
          1792.2345487538719,
          1792.2345487538719,
          1792.2345487538719,
          1792.2345487538719,
          0,
          0,
          2480.269002617444,
          2480.269002617444,
          2480.269002617444,
          2480.269002617444,
          2480.269002617444,
          2480.269002617444,
          2480.269002617444,
          2480.269002617444,
          2480.269002617444,
          2480.269002617444,
          2480.269002617444,
          2480.269002617444,
          2480.269002617444,
          2480.269002617444,
          2480.269002617444,
          2480.269002617444,
          2480.269002617444,
          2480.269002617444,
          2480.269002617444,
          2480.269002617444,
          2480.269002617444,
          2480.269002617444,
          2480.269002617444,
          2480.269002617444,
          2480.269002617444,
          2480.269002617444,
          2480.269002617444,
          2480.269002617444,
          2480.269002617444,
          2480.269002617444,
          2480.269002617444,
          2480.269002617444,
          2480.269002617444,
          2480.269002617444,
          2480.269002617444,
          2480.269002617444,
          2480.269002617444,
          2480.269002617444,
          2480.269002617444,
          2480.269002617444,
          2480.269002617444,
          2480.269002617444,
          2480.269002617444,
          2480.269002617444,
          2480.269002617444,
          2480.269002617444,
          2480.269002617444,
          2480.269002617444,
          0,
          0,
          0,
          0,
          0,
          0,
          0,
          3386.8028558946153,
          3386.8028558946153,
          3386.8028558946153,
          3386.8028558946153,
          3386.8028558946153,
          3386.8028558946153,
          3386.8028558946153,
          3386.8028558946153,
          3386.8028558946153,
          3386.8028558946153,
          3386.8028558946153,
          3386.8028558946153,
          3386.8028558946153,
          3386.8028558946153,
          3386.8028558946153,
          3386.8028558946153,
          3386.8028558946153,
          3386.8028558946153,
          3386.8028558946153,
          3386.8028558946153,
          3386.8028558946153,
          3386.8028558946153,
          3386.8028558946153,
          3386.8028558946153,
          3386.8028558946153,
          3386.8028558946153,
          3386.8028558946153,
          3386.8028558946153,
          3386.8028558946153,
          3386.8028558946153,
          3386.8028558946153,
          3386.8028558946153,
          3386.8028558946153,
          3386.8028558946153,
          3386.8028558946153,
          3386.8028558946153,
          3386.8028558946153,
          3386.8028558946153,
          3386.8028558946153,
          3386.8028558946153,
          3386.8028558946153,
          3386.8028558946153,
          3386.8028558946153,
          0,
          0,
          0,
          0,
          0,
          0,
          0,
          0,
          0,
          0,
          0,
          4517.025644213125,
          4517.025644213125,
          4517.025644213125,
          4517.025644213125,
          4517.025644213125,
          4517.025644213125,
          4517.025644213125,
          4517.025644213125,
          4517.025644213125,
          4517.025644213125,
          4517.025644213125,
          4517.025644213125,
          4517.025644213125,
          4517.025644213125,
          4517.025644213125,
          4517.025644213125,
          4517.025644213125,
          4517.025644213125,
          4517.025644213125,
          4517.025644213125,
          4517.025644213125,
          4517.025644213125,
          4517.025644213125,
          4517.025644213125,
          4517.025644213125,
          4517.025644213125,
          4517.025644213125,
          4517.025644213125,
          4517.025644213125,
          4517.025644213125,
          4517.025644213125,
          4517.025644213125,
          4517.025644213125,
          4517.025644213125,
          4517.025644213125,
          4517.025644213125,
          4517.025644213125,
          4517.025644213125,
          4517.025644213125,
          0,
          0,
          0,
          0,
          0,
          0,
          0,
          0,
          0,
          0,
          0,
          0,
          0,
          0,
          0,
          5774.265230251943,
          5774.265230251943,
          5774.265230251943,
          5774.265230251943,
          5774.265230251943,
          5774.265230251943,
          5774.265230251943,
          5774.265230251943,
          5774.265230251943,
          5774.265230251943,
          5774.265230251943,
          5774.265230251943,
          5774.265230251943,
          5774.265230251943,
          5774.265230251943,
          5774.265230251943,
          5774.265230251943,
          5774.265230251943,
          5774.265230251943,
          5774.265230251943,
          5774.265230251943,
          5774.265230251943,
          5774.265230251943,
          5774.265230251943,
          5774.265230251943,
          5774.265230251943,
          5774.265230251943,
          5774.265230251943,
          5774.265230251943,
          5774.265230251943,
          5774.265230251943,
          5774.265230251943,
          5774.265230251943,
          5774.265230251943,
          5774.265230251943,
          0,
          0,
          0,
          0,
          0,
          0,
          0,
          0,
          0,
          0,
          0,
          0,
          0,
          0,
          0,
          0,
          0,
          0,
          0,
          6861.781547039674,
          6861.781547039674,
          6861.781547039674,
          6861.781547039674,
          6861.781547039674,
          6861.781547039674,
          6861.781547039674,
          6861.781547039674,
          6861.781547039674,
          6861.781547039674,
          6861.781547039674,
          6861.781547039674,
          6861.781547039674,
          6861.781547039674,
          6861.781547039674,
          6861.781547039674,
          6861.781547039674,
          6861.781547039674,
          6861.781547039674,
          6861.781547039674,
          6861.781547039674,
          6861.781547039674,
          6861.781547039674,
          6861.781547039674,
          6861.781547039674,
          6861.781547039674,
          6861.781547039674,
          6861.781547039674,
          6861.781547039674,
          6861.781547039674,
          6861.781547039674,
          0,
          0,
          0,
          0,
          0,
          0,
          0,
          0,
          0,
          0,
          0,
          0,
          0,
          0,
          0,
          0,
          0,
          0,
          0,
          0,
          0,
          0,
          7224.265035543231,
          7224.265035543231,
          7224.265035543231,
          7224.265035543231,
          7224.265035543231,
          7224.265035543231,
          7224.265035543231,
          7224.265035543231,
          7224.265035543231,
          7224.265035543231,
          7224.265035543231,
          7224.265035543231,
          7224.265035543231,
          7224.265035543231,
          7224.265035543231,
          7224.265035543231,
          7224.265035543231,
          7224.265035543231,
          7224.265035543231,
          7224.265035543231,
          7224.265035543231,
          7224.265035543231,
          7224.265035543231,
          7224.265035543231,
          7224.265035543231,
          7224.265035543231,
          7224.265035543231,
          7224.265035543231,
          0,
          0,
          0,
          0,
          0,
          0,
          0,
          0,
          0,
          0,
          0,
          0,
          0,
          0,
          0,
          0,
          0,
          0,
          0,
          0,
          0,
          0,
          0,
          0,
          6211.635241299464,
          6211.635241299464,
          6211.635241299464,
          6211.635241299464,
          6211.635241299464,
          6211.635241299464,
          6211.635241299464,
          6211.635241299464,
          6211.635241299464,
          6211.635241299464,
          6211.635241299464,
          6211.635241299464,
          6211.635241299464,
          6211.635241299464,
          6211.635241299464,
          6211.635241299464,
          6211.635241299464,
          6211.635241299464,
          6211.635241299464,
          6211.635241299464,
          6211.635241299464,
          6211.635241299464,
          6211.635241299464,
          6211.635241299464,
          6211.635241299464,
          6211.635241299464,
          0,
          0,
          0,
          0,
          0,
          0,
          0,
          0,
          0,
          0,
          0,
          0,
          0,
          0,
          0,
          0,
          0,
          0,
          0,
          0,
          0,
          0,
          0,
          0,
          0,
          3590.9252652782016,
          3590.9252652782016,
          3590.9252652782016,
          3590.9252652782016,
          3590.9252652782016,
          3590.9252652782016,
          3590.9252652782016,
          3590.9252652782016,
          3590.9252652782016,
          3590.9252652782016,
          3590.9252652782016,
          3590.9252652782016,
          3590.9252652782016,
          3590.9252652782016,
          3590.9252652782016,
          3590.9252652782016,
          3590.9252652782016,
          3590.9252652782016,
          3590.9252652782016,
          3590.9252652782016,
          3590.9252652782016,
          3590.9252652782016,
          3590.9252652782016,
          3590.9252652782016,
          3590.9252652782016,
          0,
          0,
          0,
          0,
          0,
          0,
          0,
          0,
          0,
          0,
          0,
          0,
          0,
          0,
          0,
          0,
          0,
          0,
          0,
          0,
          0,
          0,
          0,
          0,
          0,
          38.294606440444895,
          38.294606440444895,
          38.294606440444895,
          38.294606440444895,
          38.294606440444895,
          38.294606440444895,
          38.294606440444895,
          38.294606440444895,
          38.294606440444895,
          38.294606440444895,
          38.294606440444895,
          38.294606440444895,
          38.294606440444895,
          38.294606440444895,
          38.294606440444895,
          38.294606440444895,
          38.294606440444895,
          38.294606440444895,
          38.294606440444895,
          38.294606440444895,
          38.294606440444895,
          38.294606440444895,
          38.294606440444895,
          38.294606440444895,
          38.294606440444895,
          0,
          0,
          0,
          0,
          0,
          0,
          0,
          0,
          0,
          0,
          0,
          0,
          0,
          0,
          0,
          0,
          0,
          0,
          0,
          0,
          0,
          0,
          0,
          0,
          0.01,
          0.01,
          0.01,
          0.01,
          0.01,
          0.01,
          0.01,
          0.01,
          0.01,
          0.01,
          0.01,
          0.01,
          0.01,
          0.01,
          0.01,
          0.01,
          0.01,
          0.01,
          0.01,
          0.01,
          0.01,
          0.01,
          0.01,
          0.01,
          0.01,
          0.01,
          0,
          0,
          0,
          0,
          0,
          0,
          0,
          0,
          0,
          0,
          0,
          0,
          0,
          0,
          0,
          0,
          0,
          0,
          0,
          0,
          0,
          0,
          0.01,
          0.01,
          0.01,
          0.01,
          0.01,
          0.01,
          0.01,
          0.01,
          0.01,
          0.01,
          0.01,
          0.01,
          0.01,
          0.01,
          0.01,
          0.01,
          0.01,
          0.01,
          0.01,
          0.01,
          0.01,
          0.01,
          0.01,
          0.01,
          0.01,
          0.01,
          0.01,
          0.01,
          0,
          0,
          0,
          0,
          0,
          0,
          0,
          0,
          0,
          0,
          0,
          0,
          0,
          0,
          0,
          0,
          0,
          0,
          0,
          0.01,
          0.01,
          0.01,
          0.01,
          0.01,
          0.01,
          0.01,
          0.01,
          0.01,
          0.01,
          0.01,
          0.01,
          0.01,
          0.01,
          0.01,
          0.01,
          0.01,
          0.01,
          0.01,
          0.01,
          0.01,
          0.01,
          0.01,
          0.01,
          0.01,
          0.01,
          0.01,
          0.01,
          0.01,
          0.01,
          0.01,
          0,
          0,
          0,
          0,
          0,
          0,
          0,
          0,
          0,
          0,
          0,
          0,
          0,
          0,
          0,
          0.01,
          0.01,
          0.01,
          0.01,
          0.01,
          0.01,
          0.01,
          0.01,
          0.01,
          0.01,
          0.01,
          0.01,
          0.01,
          0.01,
          0.01,
          0.01,
          0.01,
          0.01,
          0.01,
          0.01,
          0.01,
          0.01,
          0.01,
          0.01,
          0.01,
          0.01,
          0.01,
          0.01,
          0.01,
          0.01,
          0.01,
          0.01,
          0.01,
          0.01,
          0.01,
          0,
          0,
          0,
          0,
          0,
          0,
          0,
          0,
          0,
          0,
          0,
          0.01,
          0.01,
          0.01,
          0.01,
          0.01,
          0.01,
          0.01,
          0.01,
          0.01,
          0.01,
          0.01,
          0.01,
          0.01,
          0.01,
          0.01,
          0.01,
          0.01,
          0.01,
          0.01,
          0.01,
          0.01,
          0.01,
          0.01,
          0.01,
          0.01,
          0.01,
          0.01,
          0.01,
          0.01,
          0.01,
          0.01,
          0.01,
          0.01,
          0.01,
          0.01,
          0.01,
          0.01,
          0.01,
          0.01,
          0,
          0,
          0,
          0,
          0,
          0,
          0,
          0.01,
          0.01,
          0.01,
          0.01,
          0.01,
          0.01,
          0.01,
          0.01,
          0.01,
          0.01,
          0.01,
          0.01,
          0.01,
          0.01,
          0.01,
          0.01,
          0.01,
          0.01,
          0.01,
          0.01,
          0.01,
          0.01,
          0.01,
          0.01,
          0.01,
          0.01,
          0.01,
          0.01,
          0.01,
          0.01,
          0.01,
          0.01,
          0.01,
          0.01,
          0.01,
          0.01,
          0.01,
          0.01,
          0.01,
          0.01,
          0.01,
          0.01,
          0.01,
          0,
          0,
          0.01,
          0.01,
          0.01,
          0.01,
          0.01,
          0.01,
          0.01,
          0.01,
          0.01,
          0.01,
          0.01,
          0.01,
          0.01,
          0.01,
          0.01,
          0.01,
          0.01,
          0.01,
          0.01,
          0.01,
          0.01,
          0.01,
          0.01,
          0.01,
          0.01,
          0.01,
          0.01,
          0.01,
          0.01,
          0.01,
          0.01,
          0.01,
          0.01,
          0.01,
          0.01,
          0.01,
          0.01,
          0.01,
          0.01,
          0.01,
          0.01,
          0.01,
          0.01,
          0.01,
          0.01,
          0.01,
          0.01,
          0.01,
          0.01,
          0.01,
          0.01,
          0.01,
          0.01,
          0.01,
          0.01,
          0.01,
          0.01,
          0.01,
          0.01,
          0.01,
          0.01,
          0.01,
          0.01,
          0.01,
          0.01,
          0.01,
          0.01,
          0.01,
          0.01,
          0.01,
          0.01,
          0.01,
          0.01,
          0.01,
          0.01,
          0.01,
          0.01,
          0.01,
          0.01,
          0.01,
          0.01,
          0.01,
          0.01,
          0.01,
          0.01,
          0.01,
          0.01,
          0.01,
          0.01,
          0.01,
          0.01,
          0.01,
          0.01,
          0.01,
          0.01,
          0.01,
          0.01,
          0.01,
          0.01,
          0.01,
          0.01,
          0.01,
          0.01,
          0.01,
          0.01,
          0.01,
          0.01,
          0.01,
          0.01,
          0.01,
          0.01,
          0.01,
          0.01,
          0.01,
          0.01,
          0.01,
          0.01,
          0.01,
          0.01,
          0.01,
          0.01,
          0.01,
          0.01,
          0.01,
          0.01,
          0.01,
          0.01,
          0.01,
          0.01,
          0.01,
          0.01,
          0.01,
          0.01,
          0.01,
          0.01,
          0.01,
          0.01,
          0.01,
          0.01,
          0.01,
          0.01,
          0.01,
          0.01,
          0.01,
          0.01,
          0.01,
          0.01,
          0.01,
          0.01,
          0.01,
          0.01,
          0.01,
          0.01,
          0.01,
          0.01,
          0.01,
          0.01,
          0.01,
          0.01,
          0.01,
          0.01,
          0.01,
          0.01,
          0.01,
          0.01,
          0.01,
          0.01,
          0.01,
          0.01,
          0.01,
          0.01,
          0.01,
          0.01,
          0.01,
          0.01,
          0.01,
          0.01,
          0.01,
          0.01,
          0.01,
          0.01,
          0.01,
          0.01,
          0.01,
          0.01,
          0.01,
          0.01,
          0.01,
          0.01,
          0.01,
          0.01,
          0.01,
          0.01,
          0.01,
          0.01,
          0.01,
          0.01,
          0.01,
          0.01,
          0.01,
          0.01,
          0.01,
          0.01,
          0.01,
          0.01,
          0.01,
          0.01,
          0.01,
          0.01,
          0.01,
          0.01,
          0.01,
          0.01,
          0.01,
          0.01,
          0.01,
          0.01,
          0.01,
          0.01,
          0.01,
          0.01,
          0.01,
          0.01,
          0.01,
          0.01,
          0.01,
          0.01,
          0.01,
          0.01,
          0.01,
          0.01,
          0.01,
          0.01,
          0.01,
          0.01,
          0.01,
          0.01,
          0.01,
          0.01,
          0.01,
          0.01,
          0.01,
          0.01,
          0.01,
          0.01,
          0.01,
          0.01,
          0.01,
          0.01,
          0.01,
          0.01,
          0.01,
          0.01,
          0.01,
          0.01,
          0.01,
          0.01,
          0.01,
          0.01,
          0.01,
          0.01,
          0.01,
          0.01,
          0.01,
          0.01,
          0.01,
          0.01,
          0.01,
          0.01,
          0.01,
          0.01,
          0.01,
          0.01,
          0.01,
          0.01,
          0.01,
          0.01,
          0.01,
          0.01,
          0.01,
          0.01,
          0.01,
          0.01,
          0.01,
          0.01,
          0.01,
          0.01,
          0.01,
          0.01,
          0.01,
          0.01,
          0.01,
          0.01,
          0.01,
          0.01,
          0.01,
          0.01,
          0.01,
          0.01,
          0.01,
          0.01,
          0.01,
          0.01,
          0.01,
          0.01,
          0.01,
          0.01,
          0.01,
          0.01,
          0.01,
          0.01,
          0.01,
          0.01,
          0.01,
          0.01,
          0.01,
          0.01,
          0.01,
          0.01,
          0.01,
          0.01,
          0.01,
          0.01,
          0.01,
          0.01,
          0.01,
          0.01,
          0.01,
          0.01,
          0.01,
          0.01,
          0.01,
          0.01,
          0.01,
          0.01,
          0.01,
          0.01,
          0.01,
          0.01,
          0.01,
          0.01,
          0.01,
          0.01,
          0.01,
          0.01,
          0.01,
          0.01,
          0.01,
          0.01,
          0.01,
          0.01,
          0.01,
          0.01,
          0.01,
          0.01,
          0.01,
          0.01,
          0.01,
          0.01,
          0.01,
          0.01,
          0.01,
          0.01,
          0.01,
          0.01,
          0.01,
          0.01,
          0.01,
          0.01,
          0.01,
          0.01,
          0.01,
          0.01,
          0.01,
          0.01,
          0.01,
          0.01,
          0.01,
          0.01,
          0.01,
          0.01,
          0.01,
          0.01,
          0.01,
          0.01,
          0.01,
          0.01,
          0.01,
          0.01,
          0.01,
          0.01,
          0.01,
          0.01,
          0.01,
          0.01,
          0.01,
          0.01,
          0.01,
          0.01,
          0.01,
          0.01,
          0.01,
          0.01,
          0.01,
          0.01,
          0.01,
          0.01,
          0.01,
          0.01,
          0.01,
          0.01,
          0.01,
          0.01,
          0.01,
          0.01,
          0.01,
          0.01,
          0.01,
          0.01,
          0.01,
          0.01,
          0.01,
          0.01,
          0.01,
          0.01,
          0.01,
          0.01,
          0.01,
          0.01,
          0.01,
          0.01,
          0.01,
          0.01,
          0.01,
          0.01,
          0.01,
          0.01,
          0.01,
          0.01,
          0.01,
          0.01,
          0.01,
          0.01,
          0.01,
          0.01,
          0.01,
          0.01,
          0.01
         ],
         "hovertemplate": "<b>Raddi: %{r:.4e}</b><br><b>θ: %{theta:.2f}</b><br><b>Pressure: %{customdata:.4e}</b>",
         "marker": {
          "cmax": 7224.265035543231,
          "cmin": 0,
          "color": [
           0.01,
           0.01,
           0.01,
           0.01,
           0.01,
           0.01,
           0.01,
           0.01,
           0.01,
           0.01,
           0.01,
           0.01,
           0.01,
           0.01,
           0.01,
           0.01,
           0.01,
           0.01,
           0.01,
           0.01,
           0.01,
           0.01,
           0.01,
           0.01,
           0.01,
           0.01,
           0.01,
           0.01,
           0.01,
           0.01,
           0.01,
           0.01,
           0.01,
           0.01,
           0.01,
           0.01,
           0.01,
           0.01,
           0.01,
           0.01,
           0.01,
           0.01,
           0.01,
           0.01,
           0.01,
           0.01,
           0.01,
           0.01,
           0.01,
           0.01,
           76.42972712179993,
           76.42972712179993,
           76.42972712179993,
           76.42972712179993,
           76.42972712179993,
           76.42972712179993,
           76.42972712179993,
           76.42972712179993,
           76.42972712179993,
           76.42972712179993,
           76.42972712179993,
           76.42972712179993,
           76.42972712179993,
           76.42972712179993,
           76.42972712179993,
           76.42972712179993,
           76.42972712179993,
           76.42972712179993,
           76.42972712179993,
           76.42972712179993,
           76.42972712179993,
           76.42972712179993,
           76.42972712179993,
           76.42972712179993,
           76.42972712179993,
           76.42972712179993,
           76.42972712179993,
           76.42972712179993,
           76.42972712179993,
           76.42972712179993,
           76.42972712179993,
           76.42972712179993,
           76.42972712179993,
           76.42972712179993,
           76.42972712179993,
           76.42972712179993,
           76.42972712179993,
           76.42972712179993,
           76.42972712179993,
           76.42972712179993,
           76.42972712179993,
           76.42972712179993,
           76.42972712179993,
           76.42972712179993,
           76.42972712179993,
           76.42972712179993,
           76.42972712179993,
           76.42972712179993,
           76.42972712179993,
           76.42972712179993,
           223.67217284110473,
           223.67217284110473,
           223.67217284110473,
           223.67217284110473,
           223.67217284110473,
           223.67217284110473,
           223.67217284110473,
           223.67217284110473,
           223.67217284110473,
           223.67217284110473,
           223.67217284110473,
           223.67217284110473,
           223.67217284110473,
           223.67217284110473,
           223.67217284110473,
           223.67217284110473,
           223.67217284110473,
           223.67217284110473,
           223.67217284110473,
           223.67217284110473,
           223.67217284110473,
           223.67217284110473,
           223.67217284110473,
           223.67217284110473,
           223.67217284110473,
           223.67217284110473,
           223.67217284110473,
           223.67217284110473,
           223.67217284110473,
           223.67217284110473,
           223.67217284110473,
           223.67217284110473,
           223.67217284110473,
           223.67217284110473,
           223.67217284110473,
           223.67217284110473,
           223.67217284110473,
           223.67217284110473,
           223.67217284110473,
           223.67217284110473,
           223.67217284110473,
           223.67217284110473,
           223.67217284110473,
           223.67217284110473,
           223.67217284110473,
           223.67217284110473,
           223.67217284110473,
           223.67217284110473,
           223.67217284110473,
           223.67217284110473,
           400.4829921094848,
           400.4829921094848,
           400.4829921094848,
           400.4829921094848,
           400.4829921094848,
           400.4829921094848,
           400.4829921094848,
           400.4829921094848,
           400.4829921094848,
           400.4829921094848,
           400.4829921094848,
           400.4829921094848,
           400.4829921094848,
           400.4829921094848,
           400.4829921094848,
           400.4829921094848,
           400.4829921094848,
           400.4829921094848,
           400.4829921094848,
           400.4829921094848,
           400.4829921094848,
           400.4829921094848,
           400.4829921094848,
           400.4829921094848,
           400.4829921094848,
           400.4829921094848,
           400.4829921094848,
           400.4829921094848,
           400.4829921094848,
           400.4829921094848,
           400.4829921094848,
           400.4829921094848,
           400.4829921094848,
           400.4829921094848,
           400.4829921094848,
           400.4829921094848,
           400.4829921094848,
           400.4829921094848,
           400.4829921094848,
           400.4829921094848,
           400.4829921094848,
           400.4829921094848,
           400.4829921094848,
           400.4829921094848,
           400.4829921094848,
           400.4829921094848,
           400.4829921094848,
           400.4829921094848,
           400.4829921094848,
           400.4829921094848,
           619.898404409835,
           619.898404409835,
           619.898404409835,
           619.898404409835,
           619.898404409835,
           619.898404409835,
           619.898404409835,
           619.898404409835,
           619.898404409835,
           619.898404409835,
           619.898404409835,
           619.898404409835,
           619.898404409835,
           619.898404409835,
           619.898404409835,
           619.898404409835,
           619.898404409835,
           619.898404409835,
           619.898404409835,
           619.898404409835,
           619.898404409835,
           619.898404409835,
           619.898404409835,
           619.898404409835,
           619.898404409835,
           619.898404409835,
           619.898404409835,
           619.898404409835,
           619.898404409835,
           619.898404409835,
           619.898404409835,
           619.898404409835,
           619.898404409835,
           619.898404409835,
           619.898404409835,
           619.898404409835,
           619.898404409835,
           619.898404409835,
           619.898404409835,
           619.898404409835,
           619.898404409835,
           619.898404409835,
           619.898404409835,
           619.898404409835,
           619.898404409835,
           619.898404409835,
           619.898404409835,
           619.898404409835,
           619.898404409835,
           619.898404409835,
           903.804007317573,
           903.804007317573,
           903.804007317573,
           903.804007317573,
           903.804007317573,
           903.804007317573,
           903.804007317573,
           903.804007317573,
           903.804007317573,
           903.804007317573,
           903.804007317573,
           903.804007317573,
           903.804007317573,
           903.804007317573,
           903.804007317573,
           903.804007317573,
           903.804007317573,
           903.804007317573,
           903.804007317573,
           903.804007317573,
           903.804007317573,
           903.804007317573,
           903.804007317573,
           903.804007317573,
           903.804007317573,
           903.804007317573,
           903.804007317573,
           903.804007317573,
           903.804007317573,
           903.804007317573,
           903.804007317573,
           903.804007317573,
           903.804007317573,
           903.804007317573,
           903.804007317573,
           903.804007317573,
           903.804007317573,
           903.804007317573,
           903.804007317573,
           903.804007317573,
           903.804007317573,
           903.804007317573,
           903.804007317573,
           903.804007317573,
           903.804007317573,
           903.804007317573,
           903.804007317573,
           903.804007317573,
           903.804007317573,
           903.804007317573,
           1281.7993346730218,
           1281.7993346730218,
           1281.7993346730218,
           1281.7993346730218,
           1281.7993346730218,
           1281.7993346730218,
           1281.7993346730218,
           1281.7993346730218,
           1281.7993346730218,
           1281.7993346730218,
           1281.7993346730218,
           1281.7993346730218,
           1281.7993346730218,
           1281.7993346730218,
           1281.7993346730218,
           1281.7993346730218,
           1281.7993346730218,
           1281.7993346730218,
           1281.7993346730218,
           1281.7993346730218,
           1281.7993346730218,
           1281.7993346730218,
           1281.7993346730218,
           1281.7993346730218,
           1281.7993346730218,
           1281.7993346730218,
           1281.7993346730218,
           1281.7993346730218,
           1281.7993346730218,
           1281.7993346730218,
           1281.7993346730218,
           1281.7993346730218,
           1281.7993346730218,
           1281.7993346730218,
           1281.7993346730218,
           1281.7993346730218,
           1281.7993346730218,
           1281.7993346730218,
           1281.7993346730218,
           1281.7993346730218,
           1281.7993346730218,
           1281.7993346730218,
           1281.7993346730218,
           1281.7993346730218,
           1281.7993346730218,
           1281.7993346730218,
           1281.7993346730218,
           1281.7993346730218,
           1281.7993346730218,
           1281.7993346730218,
           1792.2345487538719,
           1792.2345487538719,
           1792.2345487538719,
           1792.2345487538719,
           1792.2345487538719,
           1792.2345487538719,
           1792.2345487538719,
           1792.2345487538719,
           1792.2345487538719,
           1792.2345487538719,
           1792.2345487538719,
           1792.2345487538719,
           1792.2345487538719,
           1792.2345487538719,
           1792.2345487538719,
           1792.2345487538719,
           1792.2345487538719,
           1792.2345487538719,
           1792.2345487538719,
           1792.2345487538719,
           1792.2345487538719,
           1792.2345487538719,
           1792.2345487538719,
           1792.2345487538719,
           1792.2345487538719,
           1792.2345487538719,
           1792.2345487538719,
           1792.2345487538719,
           1792.2345487538719,
           1792.2345487538719,
           1792.2345487538719,
           1792.2345487538719,
           1792.2345487538719,
           1792.2345487538719,
           1792.2345487538719,
           1792.2345487538719,
           1792.2345487538719,
           1792.2345487538719,
           1792.2345487538719,
           1792.2345487538719,
           1792.2345487538719,
           1792.2345487538719,
           1792.2345487538719,
           1792.2345487538719,
           1792.2345487538719,
           1792.2345487538719,
           1792.2345487538719,
           1792.2345487538719,
           1792.2345487538719,
           1792.2345487538719,
           0,
           0,
           2480.269002617444,
           2480.269002617444,
           2480.269002617444,
           2480.269002617444,
           2480.269002617444,
           2480.269002617444,
           2480.269002617444,
           2480.269002617444,
           2480.269002617444,
           2480.269002617444,
           2480.269002617444,
           2480.269002617444,
           2480.269002617444,
           2480.269002617444,
           2480.269002617444,
           2480.269002617444,
           2480.269002617444,
           2480.269002617444,
           2480.269002617444,
           2480.269002617444,
           2480.269002617444,
           2480.269002617444,
           2480.269002617444,
           2480.269002617444,
           2480.269002617444,
           2480.269002617444,
           2480.269002617444,
           2480.269002617444,
           2480.269002617444,
           2480.269002617444,
           2480.269002617444,
           2480.269002617444,
           2480.269002617444,
           2480.269002617444,
           2480.269002617444,
           2480.269002617444,
           2480.269002617444,
           2480.269002617444,
           2480.269002617444,
           2480.269002617444,
           2480.269002617444,
           2480.269002617444,
           2480.269002617444,
           2480.269002617444,
           2480.269002617444,
           2480.269002617444,
           2480.269002617444,
           2480.269002617444,
           0,
           0,
           0,
           0,
           0,
           0,
           0,
           3386.8028558946153,
           3386.8028558946153,
           3386.8028558946153,
           3386.8028558946153,
           3386.8028558946153,
           3386.8028558946153,
           3386.8028558946153,
           3386.8028558946153,
           3386.8028558946153,
           3386.8028558946153,
           3386.8028558946153,
           3386.8028558946153,
           3386.8028558946153,
           3386.8028558946153,
           3386.8028558946153,
           3386.8028558946153,
           3386.8028558946153,
           3386.8028558946153,
           3386.8028558946153,
           3386.8028558946153,
           3386.8028558946153,
           3386.8028558946153,
           3386.8028558946153,
           3386.8028558946153,
           3386.8028558946153,
           3386.8028558946153,
           3386.8028558946153,
           3386.8028558946153,
           3386.8028558946153,
           3386.8028558946153,
           3386.8028558946153,
           3386.8028558946153,
           3386.8028558946153,
           3386.8028558946153,
           3386.8028558946153,
           3386.8028558946153,
           3386.8028558946153,
           3386.8028558946153,
           3386.8028558946153,
           3386.8028558946153,
           3386.8028558946153,
           3386.8028558946153,
           3386.8028558946153,
           0,
           0,
           0,
           0,
           0,
           0,
           0,
           0,
           0,
           0,
           0,
           4517.025644213125,
           4517.025644213125,
           4517.025644213125,
           4517.025644213125,
           4517.025644213125,
           4517.025644213125,
           4517.025644213125,
           4517.025644213125,
           4517.025644213125,
           4517.025644213125,
           4517.025644213125,
           4517.025644213125,
           4517.025644213125,
           4517.025644213125,
           4517.025644213125,
           4517.025644213125,
           4517.025644213125,
           4517.025644213125,
           4517.025644213125,
           4517.025644213125,
           4517.025644213125,
           4517.025644213125,
           4517.025644213125,
           4517.025644213125,
           4517.025644213125,
           4517.025644213125,
           4517.025644213125,
           4517.025644213125,
           4517.025644213125,
           4517.025644213125,
           4517.025644213125,
           4517.025644213125,
           4517.025644213125,
           4517.025644213125,
           4517.025644213125,
           4517.025644213125,
           4517.025644213125,
           4517.025644213125,
           4517.025644213125,
           0,
           0,
           0,
           0,
           0,
           0,
           0,
           0,
           0,
           0,
           0,
           0,
           0,
           0,
           0,
           5774.265230251943,
           5774.265230251943,
           5774.265230251943,
           5774.265230251943,
           5774.265230251943,
           5774.265230251943,
           5774.265230251943,
           5774.265230251943,
           5774.265230251943,
           5774.265230251943,
           5774.265230251943,
           5774.265230251943,
           5774.265230251943,
           5774.265230251943,
           5774.265230251943,
           5774.265230251943,
           5774.265230251943,
           5774.265230251943,
           5774.265230251943,
           5774.265230251943,
           5774.265230251943,
           5774.265230251943,
           5774.265230251943,
           5774.265230251943,
           5774.265230251943,
           5774.265230251943,
           5774.265230251943,
           5774.265230251943,
           5774.265230251943,
           5774.265230251943,
           5774.265230251943,
           5774.265230251943,
           5774.265230251943,
           5774.265230251943,
           5774.265230251943,
           0,
           0,
           0,
           0,
           0,
           0,
           0,
           0,
           0,
           0,
           0,
           0,
           0,
           0,
           0,
           0,
           0,
           0,
           0,
           6861.781547039674,
           6861.781547039674,
           6861.781547039674,
           6861.781547039674,
           6861.781547039674,
           6861.781547039674,
           6861.781547039674,
           6861.781547039674,
           6861.781547039674,
           6861.781547039674,
           6861.781547039674,
           6861.781547039674,
           6861.781547039674,
           6861.781547039674,
           6861.781547039674,
           6861.781547039674,
           6861.781547039674,
           6861.781547039674,
           6861.781547039674,
           6861.781547039674,
           6861.781547039674,
           6861.781547039674,
           6861.781547039674,
           6861.781547039674,
           6861.781547039674,
           6861.781547039674,
           6861.781547039674,
           6861.781547039674,
           6861.781547039674,
           6861.781547039674,
           6861.781547039674,
           0,
           0,
           0,
           0,
           0,
           0,
           0,
           0,
           0,
           0,
           0,
           0,
           0,
           0,
           0,
           0,
           0,
           0,
           0,
           0,
           0,
           0,
           7224.265035543231,
           7224.265035543231,
           7224.265035543231,
           7224.265035543231,
           7224.265035543231,
           7224.265035543231,
           7224.265035543231,
           7224.265035543231,
           7224.265035543231,
           7224.265035543231,
           7224.265035543231,
           7224.265035543231,
           7224.265035543231,
           7224.265035543231,
           7224.265035543231,
           7224.265035543231,
           7224.265035543231,
           7224.265035543231,
           7224.265035543231,
           7224.265035543231,
           7224.265035543231,
           7224.265035543231,
           7224.265035543231,
           7224.265035543231,
           7224.265035543231,
           7224.265035543231,
           7224.265035543231,
           7224.265035543231,
           0,
           0,
           0,
           0,
           0,
           0,
           0,
           0,
           0,
           0,
           0,
           0,
           0,
           0,
           0,
           0,
           0,
           0,
           0,
           0,
           0,
           0,
           0,
           0,
           6211.635241299464,
           6211.635241299464,
           6211.635241299464,
           6211.635241299464,
           6211.635241299464,
           6211.635241299464,
           6211.635241299464,
           6211.635241299464,
           6211.635241299464,
           6211.635241299464,
           6211.635241299464,
           6211.635241299464,
           6211.635241299464,
           6211.635241299464,
           6211.635241299464,
           6211.635241299464,
           6211.635241299464,
           6211.635241299464,
           6211.635241299464,
           6211.635241299464,
           6211.635241299464,
           6211.635241299464,
           6211.635241299464,
           6211.635241299464,
           6211.635241299464,
           6211.635241299464,
           0,
           0,
           0,
           0,
           0,
           0,
           0,
           0,
           0,
           0,
           0,
           0,
           0,
           0,
           0,
           0,
           0,
           0,
           0,
           0,
           0,
           0,
           0,
           0,
           0,
           3590.9252652782016,
           3590.9252652782016,
           3590.9252652782016,
           3590.9252652782016,
           3590.9252652782016,
           3590.9252652782016,
           3590.9252652782016,
           3590.9252652782016,
           3590.9252652782016,
           3590.9252652782016,
           3590.9252652782016,
           3590.9252652782016,
           3590.9252652782016,
           3590.9252652782016,
           3590.9252652782016,
           3590.9252652782016,
           3590.9252652782016,
           3590.9252652782016,
           3590.9252652782016,
           3590.9252652782016,
           3590.9252652782016,
           3590.9252652782016,
           3590.9252652782016,
           3590.9252652782016,
           3590.9252652782016,
           0,
           0,
           0,
           0,
           0,
           0,
           0,
           0,
           0,
           0,
           0,
           0,
           0,
           0,
           0,
           0,
           0,
           0,
           0,
           0,
           0,
           0,
           0,
           0,
           0,
           38.294606440444895,
           38.294606440444895,
           38.294606440444895,
           38.294606440444895,
           38.294606440444895,
           38.294606440444895,
           38.294606440444895,
           38.294606440444895,
           38.294606440444895,
           38.294606440444895,
           38.294606440444895,
           38.294606440444895,
           38.294606440444895,
           38.294606440444895,
           38.294606440444895,
           38.294606440444895,
           38.294606440444895,
           38.294606440444895,
           38.294606440444895,
           38.294606440444895,
           38.294606440444895,
           38.294606440444895,
           38.294606440444895,
           38.294606440444895,
           38.294606440444895,
           0,
           0,
           0,
           0,
           0,
           0,
           0,
           0,
           0,
           0,
           0,
           0,
           0,
           0,
           0,
           0,
           0,
           0,
           0,
           0,
           0,
           0,
           0,
           0,
           0.01,
           0.01,
           0.01,
           0.01,
           0.01,
           0.01,
           0.01,
           0.01,
           0.01,
           0.01,
           0.01,
           0.01,
           0.01,
           0.01,
           0.01,
           0.01,
           0.01,
           0.01,
           0.01,
           0.01,
           0.01,
           0.01,
           0.01,
           0.01,
           0.01,
           0.01,
           0,
           0,
           0,
           0,
           0,
           0,
           0,
           0,
           0,
           0,
           0,
           0,
           0,
           0,
           0,
           0,
           0,
           0,
           0,
           0,
           0,
           0,
           0.01,
           0.01,
           0.01,
           0.01,
           0.01,
           0.01,
           0.01,
           0.01,
           0.01,
           0.01,
           0.01,
           0.01,
           0.01,
           0.01,
           0.01,
           0.01,
           0.01,
           0.01,
           0.01,
           0.01,
           0.01,
           0.01,
           0.01,
           0.01,
           0.01,
           0.01,
           0.01,
           0.01,
           0,
           0,
           0,
           0,
           0,
           0,
           0,
           0,
           0,
           0,
           0,
           0,
           0,
           0,
           0,
           0,
           0,
           0,
           0,
           0.01,
           0.01,
           0.01,
           0.01,
           0.01,
           0.01,
           0.01,
           0.01,
           0.01,
           0.01,
           0.01,
           0.01,
           0.01,
           0.01,
           0.01,
           0.01,
           0.01,
           0.01,
           0.01,
           0.01,
           0.01,
           0.01,
           0.01,
           0.01,
           0.01,
           0.01,
           0.01,
           0.01,
           0.01,
           0.01,
           0.01,
           0,
           0,
           0,
           0,
           0,
           0,
           0,
           0,
           0,
           0,
           0,
           0,
           0,
           0,
           0,
           0.01,
           0.01,
           0.01,
           0.01,
           0.01,
           0.01,
           0.01,
           0.01,
           0.01,
           0.01,
           0.01,
           0.01,
           0.01,
           0.01,
           0.01,
           0.01,
           0.01,
           0.01,
           0.01,
           0.01,
           0.01,
           0.01,
           0.01,
           0.01,
           0.01,
           0.01,
           0.01,
           0.01,
           0.01,
           0.01,
           0.01,
           0.01,
           0.01,
           0.01,
           0.01,
           0,
           0,
           0,
           0,
           0,
           0,
           0,
           0,
           0,
           0,
           0,
           0.01,
           0.01,
           0.01,
           0.01,
           0.01,
           0.01,
           0.01,
           0.01,
           0.01,
           0.01,
           0.01,
           0.01,
           0.01,
           0.01,
           0.01,
           0.01,
           0.01,
           0.01,
           0.01,
           0.01,
           0.01,
           0.01,
           0.01,
           0.01,
           0.01,
           0.01,
           0.01,
           0.01,
           0.01,
           0.01,
           0.01,
           0.01,
           0.01,
           0.01,
           0.01,
           0.01,
           0.01,
           0.01,
           0.01,
           0,
           0,
           0,
           0,
           0,
           0,
           0,
           0.01,
           0.01,
           0.01,
           0.01,
           0.01,
           0.01,
           0.01,
           0.01,
           0.01,
           0.01,
           0.01,
           0.01,
           0.01,
           0.01,
           0.01,
           0.01,
           0.01,
           0.01,
           0.01,
           0.01,
           0.01,
           0.01,
           0.01,
           0.01,
           0.01,
           0.01,
           0.01,
           0.01,
           0.01,
           0.01,
           0.01,
           0.01,
           0.01,
           0.01,
           0.01,
           0.01,
           0.01,
           0.01,
           0.01,
           0.01,
           0.01,
           0.01,
           0.01,
           0,
           0,
           0.01,
           0.01,
           0.01,
           0.01,
           0.01,
           0.01,
           0.01,
           0.01,
           0.01,
           0.01,
           0.01,
           0.01,
           0.01,
           0.01,
           0.01,
           0.01,
           0.01,
           0.01,
           0.01,
           0.01,
           0.01,
           0.01,
           0.01,
           0.01,
           0.01,
           0.01,
           0.01,
           0.01,
           0.01,
           0.01,
           0.01,
           0.01,
           0.01,
           0.01,
           0.01,
           0.01,
           0.01,
           0.01,
           0.01,
           0.01,
           0.01,
           0.01,
           0.01,
           0.01,
           0.01,
           0.01,
           0.01,
           0.01,
           0.01,
           0.01,
           0.01,
           0.01,
           0.01,
           0.01,
           0.01,
           0.01,
           0.01,
           0.01,
           0.01,
           0.01,
           0.01,
           0.01,
           0.01,
           0.01,
           0.01,
           0.01,
           0.01,
           0.01,
           0.01,
           0.01,
           0.01,
           0.01,
           0.01,
           0.01,
           0.01,
           0.01,
           0.01,
           0.01,
           0.01,
           0.01,
           0.01,
           0.01,
           0.01,
           0.01,
           0.01,
           0.01,
           0.01,
           0.01,
           0.01,
           0.01,
           0.01,
           0.01,
           0.01,
           0.01,
           0.01,
           0.01,
           0.01,
           0.01,
           0.01,
           0.01,
           0.01,
           0.01,
           0.01,
           0.01,
           0.01,
           0.01,
           0.01,
           0.01,
           0.01,
           0.01,
           0.01,
           0.01,
           0.01,
           0.01,
           0.01,
           0.01,
           0.01,
           0.01,
           0.01,
           0.01,
           0.01,
           0.01,
           0.01,
           0.01,
           0.01,
           0.01,
           0.01,
           0.01,
           0.01,
           0.01,
           0.01,
           0.01,
           0.01,
           0.01,
           0.01,
           0.01,
           0.01,
           0.01,
           0.01,
           0.01,
           0.01,
           0.01,
           0.01,
           0.01,
           0.01,
           0.01,
           0.01,
           0.01,
           0.01,
           0.01,
           0.01,
           0.01,
           0.01,
           0.01,
           0.01,
           0.01,
           0.01,
           0.01,
           0.01,
           0.01,
           0.01,
           0.01,
           0.01,
           0.01,
           0.01,
           0.01,
           0.01,
           0.01,
           0.01,
           0.01,
           0.01,
           0.01,
           0.01,
           0.01,
           0.01,
           0.01,
           0.01,
           0.01,
           0.01,
           0.01,
           0.01,
           0.01,
           0.01,
           0.01,
           0.01,
           0.01,
           0.01,
           0.01,
           0.01,
           0.01,
           0.01,
           0.01,
           0.01,
           0.01,
           0.01,
           0.01,
           0.01,
           0.01,
           0.01,
           0.01,
           0.01,
           0.01,
           0.01,
           0.01,
           0.01,
           0.01,
           0.01,
           0.01,
           0.01,
           0.01,
           0.01,
           0.01,
           0.01,
           0.01,
           0.01,
           0.01,
           0.01,
           0.01,
           0.01,
           0.01,
           0.01,
           0.01,
           0.01,
           0.01,
           0.01,
           0.01,
           0.01,
           0.01,
           0.01,
           0.01,
           0.01,
           0.01,
           0.01,
           0.01,
           0.01,
           0.01,
           0.01,
           0.01,
           0.01,
           0.01,
           0.01,
           0.01,
           0.01,
           0.01,
           0.01,
           0.01,
           0.01,
           0.01,
           0.01,
           0.01,
           0.01,
           0.01,
           0.01,
           0.01,
           0.01,
           0.01,
           0.01,
           0.01,
           0.01,
           0.01,
           0.01,
           0.01,
           0.01,
           0.01,
           0.01,
           0.01,
           0.01,
           0.01,
           0.01,
           0.01,
           0.01,
           0.01,
           0.01,
           0.01,
           0.01,
           0.01,
           0.01,
           0.01,
           0.01,
           0.01,
           0.01,
           0.01,
           0.01,
           0.01,
           0.01,
           0.01,
           0.01,
           0.01,
           0.01,
           0.01,
           0.01,
           0.01,
           0.01,
           0.01,
           0.01,
           0.01,
           0.01,
           0.01,
           0.01,
           0.01,
           0.01,
           0.01,
           0.01,
           0.01,
           0.01,
           0.01,
           0.01,
           0.01,
           0.01,
           0.01,
           0.01,
           0.01,
           0.01,
           0.01,
           0.01,
           0.01,
           0.01,
           0.01,
           0.01,
           0.01,
           0.01,
           0.01,
           0.01,
           0.01,
           0.01,
           0.01,
           0.01,
           0.01,
           0.01,
           0.01,
           0.01,
           0.01,
           0.01,
           0.01,
           0.01,
           0.01,
           0.01,
           0.01,
           0.01,
           0.01,
           0.01,
           0.01,
           0.01,
           0.01,
           0.01,
           0.01,
           0.01,
           0.01,
           0.01,
           0.01,
           0.01,
           0.01,
           0.01,
           0.01,
           0.01,
           0.01,
           0.01,
           0.01,
           0.01,
           0.01,
           0.01,
           0.01,
           0.01,
           0.01,
           0.01,
           0.01,
           0.01,
           0.01,
           0.01,
           0.01,
           0.01,
           0.01,
           0.01,
           0.01,
           0.01,
           0.01,
           0.01,
           0.01,
           0.01,
           0.01,
           0.01,
           0.01,
           0.01,
           0.01,
           0.01,
           0.01,
           0.01,
           0.01,
           0.01,
           0.01,
           0.01,
           0.01,
           0.01,
           0.01,
           0.01,
           0.01,
           0.01,
           0.01,
           0.01,
           0.01,
           0.01,
           0.01,
           0.01,
           0.01,
           0.01,
           0.01,
           0.01,
           0.01,
           0.01,
           0.01,
           0.01,
           0.01,
           0.01,
           0.01,
           0.01,
           0.01,
           0.01,
           0.01,
           0.01,
           0.01,
           0.01,
           0.01,
           0.01,
           0.01,
           0.01,
           0.01,
           0.01,
           0.01,
           0.01,
           0.01,
           0.01,
           0.01,
           0.01,
           0.01,
           0.01,
           0.01,
           0.01,
           0.01,
           0.01,
           0.01,
           0.01,
           0.01,
           0.01,
           0.01,
           0.01,
           0.01,
           0.01,
           0.01
          ],
          "colorbar": {
           "title": {
            "side": "top",
            "text": "<b>Pressure</b>"
           }
          },
          "colorscale": [
           [
            0,
            "#440154"
           ],
           [
            0.1111111111111111,
            "#482878"
           ],
           [
            0.2222222222222222,
            "#3e4989"
           ],
           [
            0.3333333333333333,
            "#31688e"
           ],
           [
            0.4444444444444444,
            "#26828e"
           ],
           [
            0.5555555555555556,
            "#1f9e89"
           ],
           [
            0.6666666666666666,
            "#35b779"
           ],
           [
            0.7777777777777778,
            "#6ece58"
           ],
           [
            0.8888888888888888,
            "#b5de2b"
           ],
           [
            1,
            "#fde725"
           ]
          ]
         },
         "name": "Pressure",
         "r": [
          0.2,
          0.20000408163265307,
          0.20000816326530613,
          0.20001224489795918,
          0.20001632653061224,
          0.20002040816326533,
          0.2000244897959184,
          0.20002857142857144,
          0.2000326530612245,
          0.20003673469387756,
          0.20004081632653062,
          0.20004489795918368,
          0.20004897959183673,
          0.2000530612244898,
          0.20005714285714285,
          0.20006122448979594,
          0.200065306122449,
          0.20006938775510205,
          0.2000734693877551,
          0.20007755102040817,
          0.20008163265306123,
          0.20008571428571428,
          0.20008979591836734,
          0.2000938775510204,
          0.20009795918367346,
          0.20010204081632654,
          0.2001061224489796,
          0.20011020408163266,
          0.20011428571428572,
          0.20011836734693877,
          0.20012244897959183,
          0.2001265306122449,
          0.20013061224489795,
          0.200134693877551,
          0.20013877551020406,
          0.20014285714285715,
          0.2001469387755102,
          0.20015102040816327,
          0.20015510204081632,
          0.20015918367346938,
          0.20016326530612244,
          0.2001673469387755,
          0.20017142857142856,
          0.2001755102040816,
          0.20017959183673467,
          0.20018367346938776,
          0.20018775510204082,
          0.20019183673469387,
          0.20019591836734693,
          0.2002,
          0.2,
          0.20000408163265307,
          0.20000816326530613,
          0.20001224489795918,
          0.20001632653061224,
          0.20002040816326533,
          0.2000244897959184,
          0.20002857142857144,
          0.2000326530612245,
          0.20003673469387756,
          0.20004081632653062,
          0.20004489795918368,
          0.20004897959183673,
          0.2000530612244898,
          0.20005714285714285,
          0.20006122448979594,
          0.200065306122449,
          0.20006938775510205,
          0.2000734693877551,
          0.20007755102040817,
          0.20008163265306123,
          0.20008571428571428,
          0.20008979591836734,
          0.2000938775510204,
          0.20009795918367346,
          0.20010204081632654,
          0.2001061224489796,
          0.20011020408163266,
          0.20011428571428572,
          0.20011836734693877,
          0.20012244897959183,
          0.2001265306122449,
          0.20013061224489795,
          0.200134693877551,
          0.20013877551020406,
          0.20014285714285715,
          0.2001469387755102,
          0.20015102040816327,
          0.20015510204081632,
          0.20015918367346938,
          0.20016326530612244,
          0.2001673469387755,
          0.20017142857142856,
          0.2001755102040816,
          0.20017959183673467,
          0.20018367346938776,
          0.20018775510204082,
          0.20019183673469387,
          0.20019591836734693,
          0.2002,
          0.2,
          0.20000408163265307,
          0.20000816326530613,
          0.20001224489795918,
          0.20001632653061224,
          0.20002040816326533,
          0.2000244897959184,
          0.20002857142857144,
          0.2000326530612245,
          0.20003673469387756,
          0.20004081632653062,
          0.20004489795918368,
          0.20004897959183673,
          0.2000530612244898,
          0.20005714285714285,
          0.20006122448979594,
          0.200065306122449,
          0.20006938775510205,
          0.2000734693877551,
          0.20007755102040817,
          0.20008163265306123,
          0.20008571428571428,
          0.20008979591836734,
          0.2000938775510204,
          0.20009795918367346,
          0.20010204081632654,
          0.2001061224489796,
          0.20011020408163266,
          0.20011428571428572,
          0.20011836734693877,
          0.20012244897959183,
          0.2001265306122449,
          0.20013061224489795,
          0.200134693877551,
          0.20013877551020406,
          0.20014285714285715,
          0.2001469387755102,
          0.20015102040816327,
          0.20015510204081632,
          0.20015918367346938,
          0.20016326530612244,
          0.2001673469387755,
          0.20017142857142856,
          0.2001755102040816,
          0.20017959183673467,
          0.20018367346938776,
          0.20018775510204082,
          0.20019183673469387,
          0.20019591836734693,
          0.2002,
          0.2,
          0.20000408163265307,
          0.20000816326530613,
          0.20001224489795918,
          0.20001632653061224,
          0.20002040816326533,
          0.2000244897959184,
          0.20002857142857144,
          0.2000326530612245,
          0.20003673469387756,
          0.20004081632653062,
          0.20004489795918368,
          0.20004897959183673,
          0.2000530612244898,
          0.20005714285714285,
          0.20006122448979594,
          0.200065306122449,
          0.20006938775510205,
          0.2000734693877551,
          0.20007755102040817,
          0.20008163265306123,
          0.20008571428571428,
          0.20008979591836734,
          0.2000938775510204,
          0.20009795918367346,
          0.20010204081632654,
          0.2001061224489796,
          0.20011020408163266,
          0.20011428571428572,
          0.20011836734693877,
          0.20012244897959183,
          0.2001265306122449,
          0.20013061224489795,
          0.200134693877551,
          0.20013877551020406,
          0.20014285714285715,
          0.2001469387755102,
          0.20015102040816327,
          0.20015510204081632,
          0.20015918367346938,
          0.20016326530612244,
          0.2001673469387755,
          0.20017142857142856,
          0.2001755102040816,
          0.20017959183673467,
          0.20018367346938776,
          0.20018775510204082,
          0.20019183673469387,
          0.20019591836734693,
          0.2002,
          0.2,
          0.20000408163265307,
          0.20000816326530613,
          0.20001224489795918,
          0.20001632653061224,
          0.20002040816326533,
          0.2000244897959184,
          0.20002857142857144,
          0.2000326530612245,
          0.20003673469387756,
          0.20004081632653062,
          0.20004489795918368,
          0.20004897959183673,
          0.2000530612244898,
          0.20005714285714285,
          0.20006122448979594,
          0.200065306122449,
          0.20006938775510205,
          0.2000734693877551,
          0.20007755102040817,
          0.20008163265306123,
          0.20008571428571428,
          0.20008979591836734,
          0.2000938775510204,
          0.20009795918367346,
          0.20010204081632654,
          0.2001061224489796,
          0.20011020408163266,
          0.20011428571428572,
          0.20011836734693877,
          0.20012244897959183,
          0.2001265306122449,
          0.20013061224489795,
          0.200134693877551,
          0.20013877551020406,
          0.20014285714285715,
          0.2001469387755102,
          0.20015102040816327,
          0.20015510204081632,
          0.20015918367346938,
          0.20016326530612244,
          0.2001673469387755,
          0.20017142857142856,
          0.2001755102040816,
          0.20017959183673467,
          0.20018367346938776,
          0.20018775510204082,
          0.20019183673469387,
          0.20019591836734693,
          0.2002,
          0.2,
          0.20000408163265307,
          0.20000816326530613,
          0.20001224489795918,
          0.20001632653061224,
          0.20002040816326533,
          0.2000244897959184,
          0.20002857142857144,
          0.2000326530612245,
          0.20003673469387756,
          0.20004081632653062,
          0.20004489795918368,
          0.20004897959183673,
          0.2000530612244898,
          0.20005714285714285,
          0.20006122448979594,
          0.200065306122449,
          0.20006938775510205,
          0.2000734693877551,
          0.20007755102040817,
          0.20008163265306123,
          0.20008571428571428,
          0.20008979591836734,
          0.2000938775510204,
          0.20009795918367346,
          0.20010204081632654,
          0.2001061224489796,
          0.20011020408163266,
          0.20011428571428572,
          0.20011836734693877,
          0.20012244897959183,
          0.2001265306122449,
          0.20013061224489795,
          0.200134693877551,
          0.20013877551020406,
          0.20014285714285715,
          0.2001469387755102,
          0.20015102040816327,
          0.20015510204081632,
          0.20015918367346938,
          0.20016326530612244,
          0.2001673469387755,
          0.20017142857142856,
          0.2001755102040816,
          0.20017959183673467,
          0.20018367346938776,
          0.20018775510204082,
          0.20019183673469387,
          0.20019591836734693,
          0.2002,
          0.2,
          0.20000408163265307,
          0.20000816326530613,
          0.20001224489795918,
          0.20001632653061224,
          0.20002040816326533,
          0.2000244897959184,
          0.20002857142857144,
          0.2000326530612245,
          0.20003673469387756,
          0.20004081632653062,
          0.20004489795918368,
          0.20004897959183673,
          0.2000530612244898,
          0.20005714285714285,
          0.20006122448979594,
          0.200065306122449,
          0.20006938775510205,
          0.2000734693877551,
          0.20007755102040817,
          0.20008163265306123,
          0.20008571428571428,
          0.20008979591836734,
          0.2000938775510204,
          0.20009795918367346,
          0.20010204081632654,
          0.2001061224489796,
          0.20011020408163266,
          0.20011428571428572,
          0.20011836734693877,
          0.20012244897959183,
          0.2001265306122449,
          0.20013061224489795,
          0.200134693877551,
          0.20013877551020406,
          0.20014285714285715,
          0.2001469387755102,
          0.20015102040816327,
          0.20015510204081632,
          0.20015918367346938,
          0.20016326530612244,
          0.2001673469387755,
          0.20017142857142856,
          0.2001755102040816,
          0.20017959183673467,
          0.20018367346938776,
          0.20018775510204082,
          0.20019183673469387,
          0.20019591836734693,
          0.2002,
          0.2,
          0.20000408163265307,
          0.20000816326530613,
          0.20001224489795918,
          0.20001632653061224,
          0.20002040816326533,
          0.2000244897959184,
          0.20002857142857144,
          0.2000326530612245,
          0.20003673469387756,
          0.20004081632653062,
          0.20004489795918368,
          0.20004897959183673,
          0.2000530612244898,
          0.20005714285714285,
          0.20006122448979594,
          0.200065306122449,
          0.20006938775510205,
          0.2000734693877551,
          0.20007755102040817,
          0.20008163265306123,
          0.20008571428571428,
          0.20008979591836734,
          0.2000938775510204,
          0.20009795918367346,
          0.20010204081632654,
          0.2001061224489796,
          0.20011020408163266,
          0.20011428571428572,
          0.20011836734693877,
          0.20012244897959183,
          0.2001265306122449,
          0.20013061224489795,
          0.200134693877551,
          0.20013877551020406,
          0.20014285714285715,
          0.2001469387755102,
          0.20015102040816327,
          0.20015510204081632,
          0.20015918367346938,
          0.20016326530612244,
          0.2001673469387755,
          0.20017142857142856,
          0.2001755102040816,
          0.20017959183673467,
          0.20018367346938776,
          0.20018775510204082,
          0.20019183673469387,
          0.20019591836734693,
          0.2002,
          0.2,
          0.20000408163265307,
          0.20000816326530613,
          0.20001224489795918,
          0.20001632653061224,
          0.20002040816326533,
          0.2000244897959184,
          0.20002857142857144,
          0.2000326530612245,
          0.20003673469387756,
          0.20004081632653062,
          0.20004489795918368,
          0.20004897959183673,
          0.2000530612244898,
          0.20005714285714285,
          0.20006122448979594,
          0.200065306122449,
          0.20006938775510205,
          0.2000734693877551,
          0.20007755102040817,
          0.20008163265306123,
          0.20008571428571428,
          0.20008979591836734,
          0.2000938775510204,
          0.20009795918367346,
          0.20010204081632654,
          0.2001061224489796,
          0.20011020408163266,
          0.20011428571428572,
          0.20011836734693877,
          0.20012244897959183,
          0.2001265306122449,
          0.20013061224489795,
          0.200134693877551,
          0.20013877551020406,
          0.20014285714285715,
          0.2001469387755102,
          0.20015102040816327,
          0.20015510204081632,
          0.20015918367346938,
          0.20016326530612244,
          0.2001673469387755,
          0.20017142857142856,
          0.2001755102040816,
          0.20017959183673467,
          0.20018367346938776,
          0.20018775510204082,
          0.20019183673469387,
          0.20019591836734693,
          0.2002,
          0.2,
          0.20000408163265307,
          0.20000816326530613,
          0.20001224489795918,
          0.20001632653061224,
          0.20002040816326533,
          0.2000244897959184,
          0.20002857142857144,
          0.2000326530612245,
          0.20003673469387756,
          0.20004081632653062,
          0.20004489795918368,
          0.20004897959183673,
          0.2000530612244898,
          0.20005714285714285,
          0.20006122448979594,
          0.200065306122449,
          0.20006938775510205,
          0.2000734693877551,
          0.20007755102040817,
          0.20008163265306123,
          0.20008571428571428,
          0.20008979591836734,
          0.2000938775510204,
          0.20009795918367346,
          0.20010204081632654,
          0.2001061224489796,
          0.20011020408163266,
          0.20011428571428572,
          0.20011836734693877,
          0.20012244897959183,
          0.2001265306122449,
          0.20013061224489795,
          0.200134693877551,
          0.20013877551020406,
          0.20014285714285715,
          0.2001469387755102,
          0.20015102040816327,
          0.20015510204081632,
          0.20015918367346938,
          0.20016326530612244,
          0.2001673469387755,
          0.20017142857142856,
          0.2001755102040816,
          0.20017959183673467,
          0.20018367346938776,
          0.20018775510204082,
          0.20019183673469387,
          0.20019591836734693,
          0.2002,
          0.2,
          0.20000408163265307,
          0.20000816326530613,
          0.20001224489795918,
          0.20001632653061224,
          0.20002040816326533,
          0.2000244897959184,
          0.20002857142857144,
          0.2000326530612245,
          0.20003673469387756,
          0.20004081632653062,
          0.20004489795918368,
          0.20004897959183673,
          0.2000530612244898,
          0.20005714285714285,
          0.20006122448979594,
          0.200065306122449,
          0.20006938775510205,
          0.2000734693877551,
          0.20007755102040817,
          0.20008163265306123,
          0.20008571428571428,
          0.20008979591836734,
          0.2000938775510204,
          0.20009795918367346,
          0.20010204081632654,
          0.2001061224489796,
          0.20011020408163266,
          0.20011428571428572,
          0.20011836734693877,
          0.20012244897959183,
          0.2001265306122449,
          0.20013061224489795,
          0.200134693877551,
          0.20013877551020406,
          0.20014285714285715,
          0.2001469387755102,
          0.20015102040816327,
          0.20015510204081632,
          0.20015918367346938,
          0.20016326530612244,
          0.2001673469387755,
          0.20017142857142856,
          0.2001755102040816,
          0.20017959183673467,
          0.20018367346938776,
          0.20018775510204082,
          0.20019183673469387,
          0.20019591836734693,
          0.2002,
          0.2,
          0.20000408163265307,
          0.20000816326530613,
          0.20001224489795918,
          0.20001632653061224,
          0.20002040816326533,
          0.2000244897959184,
          0.20002857142857144,
          0.2000326530612245,
          0.20003673469387756,
          0.20004081632653062,
          0.20004489795918368,
          0.20004897959183673,
          0.2000530612244898,
          0.20005714285714285,
          0.20006122448979594,
          0.200065306122449,
          0.20006938775510205,
          0.2000734693877551,
          0.20007755102040817,
          0.20008163265306123,
          0.20008571428571428,
          0.20008979591836734,
          0.2000938775510204,
          0.20009795918367346,
          0.20010204081632654,
          0.2001061224489796,
          0.20011020408163266,
          0.20011428571428572,
          0.20011836734693877,
          0.20012244897959183,
          0.2001265306122449,
          0.20013061224489795,
          0.200134693877551,
          0.20013877551020406,
          0.20014285714285715,
          0.2001469387755102,
          0.20015102040816327,
          0.20015510204081632,
          0.20015918367346938,
          0.20016326530612244,
          0.2001673469387755,
          0.20017142857142856,
          0.2001755102040816,
          0.20017959183673467,
          0.20018367346938776,
          0.20018775510204082,
          0.20019183673469387,
          0.20019591836734693,
          0.2002,
          0.2,
          0.20000408163265307,
          0.20000816326530613,
          0.20001224489795918,
          0.20001632653061224,
          0.20002040816326533,
          0.2000244897959184,
          0.20002857142857144,
          0.2000326530612245,
          0.20003673469387756,
          0.20004081632653062,
          0.20004489795918368,
          0.20004897959183673,
          0.2000530612244898,
          0.20005714285714285,
          0.20006122448979594,
          0.200065306122449,
          0.20006938775510205,
          0.2000734693877551,
          0.20007755102040817,
          0.20008163265306123,
          0.20008571428571428,
          0.20008979591836734,
          0.2000938775510204,
          0.20009795918367346,
          0.20010204081632654,
          0.2001061224489796,
          0.20011020408163266,
          0.20011428571428572,
          0.20011836734693877,
          0.20012244897959183,
          0.2001265306122449,
          0.20013061224489795,
          0.200134693877551,
          0.20013877551020406,
          0.20014285714285715,
          0.2001469387755102,
          0.20015102040816327,
          0.20015510204081632,
          0.20015918367346938,
          0.20016326530612244,
          0.2001673469387755,
          0.20017142857142856,
          0.2001755102040816,
          0.20017959183673467,
          0.20018367346938776,
          0.20018775510204082,
          0.20019183673469387,
          0.20019591836734693,
          0.2002,
          0.2,
          0.20000408163265307,
          0.20000816326530613,
          0.20001224489795918,
          0.20001632653061224,
          0.20002040816326533,
          0.2000244897959184,
          0.20002857142857144,
          0.2000326530612245,
          0.20003673469387756,
          0.20004081632653062,
          0.20004489795918368,
          0.20004897959183673,
          0.2000530612244898,
          0.20005714285714285,
          0.20006122448979594,
          0.200065306122449,
          0.20006938775510205,
          0.2000734693877551,
          0.20007755102040817,
          0.20008163265306123,
          0.20008571428571428,
          0.20008979591836734,
          0.2000938775510204,
          0.20009795918367346,
          0.20010204081632654,
          0.2001061224489796,
          0.20011020408163266,
          0.20011428571428572,
          0.20011836734693877,
          0.20012244897959183,
          0.2001265306122449,
          0.20013061224489795,
          0.200134693877551,
          0.20013877551020406,
          0.20014285714285715,
          0.2001469387755102,
          0.20015102040816327,
          0.20015510204081632,
          0.20015918367346938,
          0.20016326530612244,
          0.2001673469387755,
          0.20017142857142856,
          0.2001755102040816,
          0.20017959183673467,
          0.20018367346938776,
          0.20018775510204082,
          0.20019183673469387,
          0.20019591836734693,
          0.2002,
          0.2,
          0.20000408163265307,
          0.20000816326530613,
          0.20001224489795918,
          0.20001632653061224,
          0.20002040816326533,
          0.2000244897959184,
          0.20002857142857144,
          0.2000326530612245,
          0.20003673469387756,
          0.20004081632653062,
          0.20004489795918368,
          0.20004897959183673,
          0.2000530612244898,
          0.20005714285714285,
          0.20006122448979594,
          0.200065306122449,
          0.20006938775510205,
          0.2000734693877551,
          0.20007755102040817,
          0.20008163265306123,
          0.20008571428571428,
          0.20008979591836734,
          0.2000938775510204,
          0.20009795918367346,
          0.20010204081632654,
          0.2001061224489796,
          0.20011020408163266,
          0.20011428571428572,
          0.20011836734693877,
          0.20012244897959183,
          0.2001265306122449,
          0.20013061224489795,
          0.200134693877551,
          0.20013877551020406,
          0.20014285714285715,
          0.2001469387755102,
          0.20015102040816327,
          0.20015510204081632,
          0.20015918367346938,
          0.20016326530612244,
          0.2001673469387755,
          0.20017142857142856,
          0.2001755102040816,
          0.20017959183673467,
          0.20018367346938776,
          0.20018775510204082,
          0.20019183673469387,
          0.20019591836734693,
          0.2002,
          0.2,
          0.20000408163265307,
          0.20000816326530613,
          0.20001224489795918,
          0.20001632653061224,
          0.20002040816326533,
          0.2000244897959184,
          0.20002857142857144,
          0.2000326530612245,
          0.20003673469387756,
          0.20004081632653062,
          0.20004489795918368,
          0.20004897959183673,
          0.2000530612244898,
          0.20005714285714285,
          0.20006122448979594,
          0.200065306122449,
          0.20006938775510205,
          0.2000734693877551,
          0.20007755102040817,
          0.20008163265306123,
          0.20008571428571428,
          0.20008979591836734,
          0.2000938775510204,
          0.20009795918367346,
          0.20010204081632654,
          0.2001061224489796,
          0.20011020408163266,
          0.20011428571428572,
          0.20011836734693877,
          0.20012244897959183,
          0.2001265306122449,
          0.20013061224489795,
          0.200134693877551,
          0.20013877551020406,
          0.20014285714285715,
          0.2001469387755102,
          0.20015102040816327,
          0.20015510204081632,
          0.20015918367346938,
          0.20016326530612244,
          0.2001673469387755,
          0.20017142857142856,
          0.2001755102040816,
          0.20017959183673467,
          0.20018367346938776,
          0.20018775510204082,
          0.20019183673469387,
          0.20019591836734693,
          0.2002,
          0.2,
          0.20000408163265307,
          0.20000816326530613,
          0.20001224489795918,
          0.20001632653061224,
          0.20002040816326533,
          0.2000244897959184,
          0.20002857142857144,
          0.2000326530612245,
          0.20003673469387756,
          0.20004081632653062,
          0.20004489795918368,
          0.20004897959183673,
          0.2000530612244898,
          0.20005714285714285,
          0.20006122448979594,
          0.200065306122449,
          0.20006938775510205,
          0.2000734693877551,
          0.20007755102040817,
          0.20008163265306123,
          0.20008571428571428,
          0.20008979591836734,
          0.2000938775510204,
          0.20009795918367346,
          0.20010204081632654,
          0.2001061224489796,
          0.20011020408163266,
          0.20011428571428572,
          0.20011836734693877,
          0.20012244897959183,
          0.2001265306122449,
          0.20013061224489795,
          0.200134693877551,
          0.20013877551020406,
          0.20014285714285715,
          0.2001469387755102,
          0.20015102040816327,
          0.20015510204081632,
          0.20015918367346938,
          0.20016326530612244,
          0.2001673469387755,
          0.20017142857142856,
          0.2001755102040816,
          0.20017959183673467,
          0.20018367346938776,
          0.20018775510204082,
          0.20019183673469387,
          0.20019591836734693,
          0.2002,
          0.2,
          0.20000408163265307,
          0.20000816326530613,
          0.20001224489795918,
          0.20001632653061224,
          0.20002040816326533,
          0.2000244897959184,
          0.20002857142857144,
          0.2000326530612245,
          0.20003673469387756,
          0.20004081632653062,
          0.20004489795918368,
          0.20004897959183673,
          0.2000530612244898,
          0.20005714285714285,
          0.20006122448979594,
          0.200065306122449,
          0.20006938775510205,
          0.2000734693877551,
          0.20007755102040817,
          0.20008163265306123,
          0.20008571428571428,
          0.20008979591836734,
          0.2000938775510204,
          0.20009795918367346,
          0.20010204081632654,
          0.2001061224489796,
          0.20011020408163266,
          0.20011428571428572,
          0.20011836734693877,
          0.20012244897959183,
          0.2001265306122449,
          0.20013061224489795,
          0.200134693877551,
          0.20013877551020406,
          0.20014285714285715,
          0.2001469387755102,
          0.20015102040816327,
          0.20015510204081632,
          0.20015918367346938,
          0.20016326530612244,
          0.2001673469387755,
          0.20017142857142856,
          0.2001755102040816,
          0.20017959183673467,
          0.20018367346938776,
          0.20018775510204082,
          0.20019183673469387,
          0.20019591836734693,
          0.2002,
          0.2,
          0.20000408163265307,
          0.20000816326530613,
          0.20001224489795918,
          0.20001632653061224,
          0.20002040816326533,
          0.2000244897959184,
          0.20002857142857144,
          0.2000326530612245,
          0.20003673469387756,
          0.20004081632653062,
          0.20004489795918368,
          0.20004897959183673,
          0.2000530612244898,
          0.20005714285714285,
          0.20006122448979594,
          0.200065306122449,
          0.20006938775510205,
          0.2000734693877551,
          0.20007755102040817,
          0.20008163265306123,
          0.20008571428571428,
          0.20008979591836734,
          0.2000938775510204,
          0.20009795918367346,
          0.20010204081632654,
          0.2001061224489796,
          0.20011020408163266,
          0.20011428571428572,
          0.20011836734693877,
          0.20012244897959183,
          0.2001265306122449,
          0.20013061224489795,
          0.200134693877551,
          0.20013877551020406,
          0.20014285714285715,
          0.2001469387755102,
          0.20015102040816327,
          0.20015510204081632,
          0.20015918367346938,
          0.20016326530612244,
          0.2001673469387755,
          0.20017142857142856,
          0.2001755102040816,
          0.20017959183673467,
          0.20018367346938776,
          0.20018775510204082,
          0.20019183673469387,
          0.20019591836734693,
          0.2002,
          0.2,
          0.20000408163265307,
          0.20000816326530613,
          0.20001224489795918,
          0.20001632653061224,
          0.20002040816326533,
          0.2000244897959184,
          0.20002857142857144,
          0.2000326530612245,
          0.20003673469387756,
          0.20004081632653062,
          0.20004489795918368,
          0.20004897959183673,
          0.2000530612244898,
          0.20005714285714285,
          0.20006122448979594,
          0.200065306122449,
          0.20006938775510205,
          0.2000734693877551,
          0.20007755102040817,
          0.20008163265306123,
          0.20008571428571428,
          0.20008979591836734,
          0.2000938775510204,
          0.20009795918367346,
          0.20010204081632654,
          0.2001061224489796,
          0.20011020408163266,
          0.20011428571428572,
          0.20011836734693877,
          0.20012244897959183,
          0.2001265306122449,
          0.20013061224489795,
          0.200134693877551,
          0.20013877551020406,
          0.20014285714285715,
          0.2001469387755102,
          0.20015102040816327,
          0.20015510204081632,
          0.20015918367346938,
          0.20016326530612244,
          0.2001673469387755,
          0.20017142857142856,
          0.2001755102040816,
          0.20017959183673467,
          0.20018367346938776,
          0.20018775510204082,
          0.20019183673469387,
          0.20019591836734693,
          0.2002,
          0.2,
          0.20000408163265307,
          0.20000816326530613,
          0.20001224489795918,
          0.20001632653061224,
          0.20002040816326533,
          0.2000244897959184,
          0.20002857142857144,
          0.2000326530612245,
          0.20003673469387756,
          0.20004081632653062,
          0.20004489795918368,
          0.20004897959183673,
          0.2000530612244898,
          0.20005714285714285,
          0.20006122448979594,
          0.200065306122449,
          0.20006938775510205,
          0.2000734693877551,
          0.20007755102040817,
          0.20008163265306123,
          0.20008571428571428,
          0.20008979591836734,
          0.2000938775510204,
          0.20009795918367346,
          0.20010204081632654,
          0.2001061224489796,
          0.20011020408163266,
          0.20011428571428572,
          0.20011836734693877,
          0.20012244897959183,
          0.2001265306122449,
          0.20013061224489795,
          0.200134693877551,
          0.20013877551020406,
          0.20014285714285715,
          0.2001469387755102,
          0.20015102040816327,
          0.20015510204081632,
          0.20015918367346938,
          0.20016326530612244,
          0.2001673469387755,
          0.20017142857142856,
          0.2001755102040816,
          0.20017959183673467,
          0.20018367346938776,
          0.20018775510204082,
          0.20019183673469387,
          0.20019591836734693,
          0.2002,
          0.2,
          0.20000408163265307,
          0.20000816326530613,
          0.20001224489795918,
          0.20001632653061224,
          0.20002040816326533,
          0.2000244897959184,
          0.20002857142857144,
          0.2000326530612245,
          0.20003673469387756,
          0.20004081632653062,
          0.20004489795918368,
          0.20004897959183673,
          0.2000530612244898,
          0.20005714285714285,
          0.20006122448979594,
          0.200065306122449,
          0.20006938775510205,
          0.2000734693877551,
          0.20007755102040817,
          0.20008163265306123,
          0.20008571428571428,
          0.20008979591836734,
          0.2000938775510204,
          0.20009795918367346,
          0.20010204081632654,
          0.2001061224489796,
          0.20011020408163266,
          0.20011428571428572,
          0.20011836734693877,
          0.20012244897959183,
          0.2001265306122449,
          0.20013061224489795,
          0.200134693877551,
          0.20013877551020406,
          0.20014285714285715,
          0.2001469387755102,
          0.20015102040816327,
          0.20015510204081632,
          0.20015918367346938,
          0.20016326530612244,
          0.2001673469387755,
          0.20017142857142856,
          0.2001755102040816,
          0.20017959183673467,
          0.20018367346938776,
          0.20018775510204082,
          0.20019183673469387,
          0.20019591836734693,
          0.2002,
          0.2,
          0.20000408163265307,
          0.20000816326530613,
          0.20001224489795918,
          0.20001632653061224,
          0.20002040816326533,
          0.2000244897959184,
          0.20002857142857144,
          0.2000326530612245,
          0.20003673469387756,
          0.20004081632653062,
          0.20004489795918368,
          0.20004897959183673,
          0.2000530612244898,
          0.20005714285714285,
          0.20006122448979594,
          0.200065306122449,
          0.20006938775510205,
          0.2000734693877551,
          0.20007755102040817,
          0.20008163265306123,
          0.20008571428571428,
          0.20008979591836734,
          0.2000938775510204,
          0.20009795918367346,
          0.20010204081632654,
          0.2001061224489796,
          0.20011020408163266,
          0.20011428571428572,
          0.20011836734693877,
          0.20012244897959183,
          0.2001265306122449,
          0.20013061224489795,
          0.200134693877551,
          0.20013877551020406,
          0.20014285714285715,
          0.2001469387755102,
          0.20015102040816327,
          0.20015510204081632,
          0.20015918367346938,
          0.20016326530612244,
          0.2001673469387755,
          0.20017142857142856,
          0.2001755102040816,
          0.20017959183673467,
          0.20018367346938776,
          0.20018775510204082,
          0.20019183673469387,
          0.20019591836734693,
          0.2002,
          0.2,
          0.20000408163265307,
          0.20000816326530613,
          0.20001224489795918,
          0.20001632653061224,
          0.20002040816326533,
          0.2000244897959184,
          0.20002857142857144,
          0.2000326530612245,
          0.20003673469387756,
          0.20004081632653062,
          0.20004489795918368,
          0.20004897959183673,
          0.2000530612244898,
          0.20005714285714285,
          0.20006122448979594,
          0.200065306122449,
          0.20006938775510205,
          0.2000734693877551,
          0.20007755102040817,
          0.20008163265306123,
          0.20008571428571428,
          0.20008979591836734,
          0.2000938775510204,
          0.20009795918367346,
          0.20010204081632654,
          0.2001061224489796,
          0.20011020408163266,
          0.20011428571428572,
          0.20011836734693877,
          0.20012244897959183,
          0.2001265306122449,
          0.20013061224489795,
          0.200134693877551,
          0.20013877551020406,
          0.20014285714285715,
          0.2001469387755102,
          0.20015102040816327,
          0.20015510204081632,
          0.20015918367346938,
          0.20016326530612244,
          0.2001673469387755,
          0.20017142857142856,
          0.2001755102040816,
          0.20017959183673467,
          0.20018367346938776,
          0.20018775510204082,
          0.20019183673469387,
          0.20019591836734693,
          0.2002,
          0.2,
          0.20000408163265307,
          0.20000816326530613,
          0.20001224489795918,
          0.20001632653061224,
          0.20002040816326533,
          0.2000244897959184,
          0.20002857142857144,
          0.2000326530612245,
          0.20003673469387756,
          0.20004081632653062,
          0.20004489795918368,
          0.20004897959183673,
          0.2000530612244898,
          0.20005714285714285,
          0.20006122448979594,
          0.200065306122449,
          0.20006938775510205,
          0.2000734693877551,
          0.20007755102040817,
          0.20008163265306123,
          0.20008571428571428,
          0.20008979591836734,
          0.2000938775510204,
          0.20009795918367346,
          0.20010204081632654,
          0.2001061224489796,
          0.20011020408163266,
          0.20011428571428572,
          0.20011836734693877,
          0.20012244897959183,
          0.2001265306122449,
          0.20013061224489795,
          0.200134693877551,
          0.20013877551020406,
          0.20014285714285715,
          0.2001469387755102,
          0.20015102040816327,
          0.20015510204081632,
          0.20015918367346938,
          0.20016326530612244,
          0.2001673469387755,
          0.20017142857142856,
          0.2001755102040816,
          0.20017959183673467,
          0.20018367346938776,
          0.20018775510204082,
          0.20019183673469387,
          0.20019591836734693,
          0.2002,
          0.2,
          0.20000408163265307,
          0.20000816326530613,
          0.20001224489795918,
          0.20001632653061224,
          0.20002040816326533,
          0.2000244897959184,
          0.20002857142857144,
          0.2000326530612245,
          0.20003673469387756,
          0.20004081632653062,
          0.20004489795918368,
          0.20004897959183673,
          0.2000530612244898,
          0.20005714285714285,
          0.20006122448979594,
          0.200065306122449,
          0.20006938775510205,
          0.2000734693877551,
          0.20007755102040817,
          0.20008163265306123,
          0.20008571428571428,
          0.20008979591836734,
          0.2000938775510204,
          0.20009795918367346,
          0.20010204081632654,
          0.2001061224489796,
          0.20011020408163266,
          0.20011428571428572,
          0.20011836734693877,
          0.20012244897959183,
          0.2001265306122449,
          0.20013061224489795,
          0.200134693877551,
          0.20013877551020406,
          0.20014285714285715,
          0.2001469387755102,
          0.20015102040816327,
          0.20015510204081632,
          0.20015918367346938,
          0.20016326530612244,
          0.2001673469387755,
          0.20017142857142856,
          0.2001755102040816,
          0.20017959183673467,
          0.20018367346938776,
          0.20018775510204082,
          0.20019183673469387,
          0.20019591836734693,
          0.2002,
          0.2,
          0.20000408163265307,
          0.20000816326530613,
          0.20001224489795918,
          0.20001632653061224,
          0.20002040816326533,
          0.2000244897959184,
          0.20002857142857144,
          0.2000326530612245,
          0.20003673469387756,
          0.20004081632653062,
          0.20004489795918368,
          0.20004897959183673,
          0.2000530612244898,
          0.20005714285714285,
          0.20006122448979594,
          0.200065306122449,
          0.20006938775510205,
          0.2000734693877551,
          0.20007755102040817,
          0.20008163265306123,
          0.20008571428571428,
          0.20008979591836734,
          0.2000938775510204,
          0.20009795918367346,
          0.20010204081632654,
          0.2001061224489796,
          0.20011020408163266,
          0.20011428571428572,
          0.20011836734693877,
          0.20012244897959183,
          0.2001265306122449,
          0.20013061224489795,
          0.200134693877551,
          0.20013877551020406,
          0.20014285714285715,
          0.2001469387755102,
          0.20015102040816327,
          0.20015510204081632,
          0.20015918367346938,
          0.20016326530612244,
          0.2001673469387755,
          0.20017142857142856,
          0.2001755102040816,
          0.20017959183673467,
          0.20018367346938776,
          0.20018775510204082,
          0.20019183673469387,
          0.20019591836734693,
          0.2002,
          0.2,
          0.20000408163265307,
          0.20000816326530613,
          0.20001224489795918,
          0.20001632653061224,
          0.20002040816326533,
          0.2000244897959184,
          0.20002857142857144,
          0.2000326530612245,
          0.20003673469387756,
          0.20004081632653062,
          0.20004489795918368,
          0.20004897959183673,
          0.2000530612244898,
          0.20005714285714285,
          0.20006122448979594,
          0.200065306122449,
          0.20006938775510205,
          0.2000734693877551,
          0.20007755102040817,
          0.20008163265306123,
          0.20008571428571428,
          0.20008979591836734,
          0.2000938775510204,
          0.20009795918367346,
          0.20010204081632654,
          0.2001061224489796,
          0.20011020408163266,
          0.20011428571428572,
          0.20011836734693877,
          0.20012244897959183,
          0.2001265306122449,
          0.20013061224489795,
          0.200134693877551,
          0.20013877551020406,
          0.20014285714285715,
          0.2001469387755102,
          0.20015102040816327,
          0.20015510204081632,
          0.20015918367346938,
          0.20016326530612244,
          0.2001673469387755,
          0.20017142857142856,
          0.2001755102040816,
          0.20017959183673467,
          0.20018367346938776,
          0.20018775510204082,
          0.20019183673469387,
          0.20019591836734693,
          0.2002,
          0.2,
          0.20000408163265307,
          0.20000816326530613,
          0.20001224489795918,
          0.20001632653061224,
          0.20002040816326533,
          0.2000244897959184,
          0.20002857142857144,
          0.2000326530612245,
          0.20003673469387756,
          0.20004081632653062,
          0.20004489795918368,
          0.20004897959183673,
          0.2000530612244898,
          0.20005714285714285,
          0.20006122448979594,
          0.200065306122449,
          0.20006938775510205,
          0.2000734693877551,
          0.20007755102040817,
          0.20008163265306123,
          0.20008571428571428,
          0.20008979591836734,
          0.2000938775510204,
          0.20009795918367346,
          0.20010204081632654,
          0.2001061224489796,
          0.20011020408163266,
          0.20011428571428572,
          0.20011836734693877,
          0.20012244897959183,
          0.2001265306122449,
          0.20013061224489795,
          0.200134693877551,
          0.20013877551020406,
          0.20014285714285715,
          0.2001469387755102,
          0.20015102040816327,
          0.20015510204081632,
          0.20015918367346938,
          0.20016326530612244,
          0.2001673469387755,
          0.20017142857142856,
          0.2001755102040816,
          0.20017959183673467,
          0.20018367346938776,
          0.20018775510204082,
          0.20019183673469387,
          0.20019591836734693,
          0.2002,
          0.2,
          0.20000408163265307,
          0.20000816326530613,
          0.20001224489795918,
          0.20001632653061224,
          0.20002040816326533,
          0.2000244897959184,
          0.20002857142857144,
          0.2000326530612245,
          0.20003673469387756,
          0.20004081632653062,
          0.20004489795918368,
          0.20004897959183673,
          0.2000530612244898,
          0.20005714285714285,
          0.20006122448979594,
          0.200065306122449,
          0.20006938775510205,
          0.2000734693877551,
          0.20007755102040817,
          0.20008163265306123,
          0.20008571428571428,
          0.20008979591836734,
          0.2000938775510204,
          0.20009795918367346,
          0.20010204081632654,
          0.2001061224489796,
          0.20011020408163266,
          0.20011428571428572,
          0.20011836734693877,
          0.20012244897959183,
          0.2001265306122449,
          0.20013061224489795,
          0.200134693877551,
          0.20013877551020406,
          0.20014285714285715,
          0.2001469387755102,
          0.20015102040816327,
          0.20015510204081632,
          0.20015918367346938,
          0.20016326530612244,
          0.2001673469387755,
          0.20017142857142856,
          0.2001755102040816,
          0.20017959183673467,
          0.20018367346938776,
          0.20018775510204082,
          0.20019183673469387,
          0.20019591836734693,
          0.2002,
          0.2,
          0.20000408163265307,
          0.20000816326530613,
          0.20001224489795918,
          0.20001632653061224,
          0.20002040816326533,
          0.2000244897959184,
          0.20002857142857144,
          0.2000326530612245,
          0.20003673469387756,
          0.20004081632653062,
          0.20004489795918368,
          0.20004897959183673,
          0.2000530612244898,
          0.20005714285714285,
          0.20006122448979594,
          0.200065306122449,
          0.20006938775510205,
          0.2000734693877551,
          0.20007755102040817,
          0.20008163265306123,
          0.20008571428571428,
          0.20008979591836734,
          0.2000938775510204,
          0.20009795918367346,
          0.20010204081632654,
          0.2001061224489796,
          0.20011020408163266,
          0.20011428571428572,
          0.20011836734693877,
          0.20012244897959183,
          0.2001265306122449,
          0.20013061224489795,
          0.200134693877551,
          0.20013877551020406,
          0.20014285714285715,
          0.2001469387755102,
          0.20015102040816327,
          0.20015510204081632,
          0.20015918367346938,
          0.20016326530612244,
          0.2001673469387755,
          0.20017142857142856,
          0.2001755102040816,
          0.20017959183673467,
          0.20018367346938776,
          0.20018775510204082,
          0.20019183673469387,
          0.20019591836734693,
          0.2002,
          0.2,
          0.20000408163265307,
          0.20000816326530613,
          0.20001224489795918,
          0.20001632653061224,
          0.20002040816326533,
          0.2000244897959184,
          0.20002857142857144,
          0.2000326530612245,
          0.20003673469387756,
          0.20004081632653062,
          0.20004489795918368,
          0.20004897959183673,
          0.2000530612244898,
          0.20005714285714285,
          0.20006122448979594,
          0.200065306122449,
          0.20006938775510205,
          0.2000734693877551,
          0.20007755102040817,
          0.20008163265306123,
          0.20008571428571428,
          0.20008979591836734,
          0.2000938775510204,
          0.20009795918367346,
          0.20010204081632654,
          0.2001061224489796,
          0.20011020408163266,
          0.20011428571428572,
          0.20011836734693877,
          0.20012244897959183,
          0.2001265306122449,
          0.20013061224489795,
          0.200134693877551,
          0.20013877551020406,
          0.20014285714285715,
          0.2001469387755102,
          0.20015102040816327,
          0.20015510204081632,
          0.20015918367346938,
          0.20016326530612244,
          0.2001673469387755,
          0.20017142857142856,
          0.2001755102040816,
          0.20017959183673467,
          0.20018367346938776,
          0.20018775510204082,
          0.20019183673469387,
          0.20019591836734693,
          0.2002
         ],
         "showlegend": false,
         "theta": [
          0,
          0,
          0,
          0,
          0,
          0,
          0,
          0,
          0,
          0,
          0,
          0,
          0,
          0,
          0,
          0,
          0,
          0,
          0,
          0,
          0,
          0,
          0,
          0,
          0,
          0,
          0,
          0,
          0,
          0,
          0,
          0,
          0,
          0,
          0,
          0,
          0,
          0,
          0,
          0,
          0,
          0,
          0,
          0,
          0,
          0,
          0,
          0,
          0,
          0,
          11.800208116545267,
          11.800208116545267,
          11.800208116545267,
          11.800208116545267,
          11.800208116545267,
          11.800208116545267,
          11.800208116545267,
          11.800208116545267,
          11.800208116545267,
          11.800208116545267,
          11.800208116545267,
          11.800208116545267,
          11.800208116545267,
          11.800208116545267,
          11.800208116545267,
          11.800208116545267,
          11.800208116545267,
          11.800208116545267,
          11.800208116545267,
          11.800208116545267,
          11.800208116545267,
          11.800208116545267,
          11.800208116545267,
          11.800208116545267,
          11.800208116545267,
          11.800208116545267,
          11.800208116545267,
          11.800208116545267,
          11.800208116545267,
          11.800208116545267,
          11.800208116545267,
          11.800208116545267,
          11.800208116545267,
          11.800208116545267,
          11.800208116545267,
          11.800208116545267,
          11.800208116545267,
          11.800208116545267,
          11.800208116545267,
          11.800208116545267,
          11.800208116545267,
          11.800208116545267,
          11.800208116545267,
          11.800208116545267,
          11.800208116545267,
          11.800208116545267,
          11.800208116545267,
          11.800208116545267,
          11.800208116545267,
          11.800208116545267,
          23.600416233090534,
          23.600416233090534,
          23.600416233090534,
          23.600416233090534,
          23.600416233090534,
          23.600416233090534,
          23.600416233090534,
          23.600416233090534,
          23.600416233090534,
          23.600416233090534,
          23.600416233090534,
          23.600416233090534,
          23.600416233090534,
          23.600416233090534,
          23.600416233090534,
          23.600416233090534,
          23.600416233090534,
          23.600416233090534,
          23.600416233090534,
          23.600416233090534,
          23.600416233090534,
          23.600416233090534,
          23.600416233090534,
          23.600416233090534,
          23.600416233090534,
          23.600416233090534,
          23.600416233090534,
          23.600416233090534,
          23.600416233090534,
          23.600416233090534,
          23.600416233090534,
          23.600416233090534,
          23.600416233090534,
          23.600416233090534,
          23.600416233090534,
          23.600416233090534,
          23.600416233090534,
          23.600416233090534,
          23.600416233090534,
          23.600416233090534,
          23.600416233090534,
          23.600416233090534,
          23.600416233090534,
          23.600416233090534,
          23.600416233090534,
          23.600416233090534,
          23.600416233090534,
          23.600416233090534,
          23.600416233090534,
          23.600416233090534,
          35.4006243496358,
          35.4006243496358,
          35.4006243496358,
          35.4006243496358,
          35.4006243496358,
          35.4006243496358,
          35.4006243496358,
          35.4006243496358,
          35.4006243496358,
          35.4006243496358,
          35.4006243496358,
          35.4006243496358,
          35.4006243496358,
          35.4006243496358,
          35.4006243496358,
          35.4006243496358,
          35.4006243496358,
          35.4006243496358,
          35.4006243496358,
          35.4006243496358,
          35.4006243496358,
          35.4006243496358,
          35.4006243496358,
          35.4006243496358,
          35.4006243496358,
          35.4006243496358,
          35.4006243496358,
          35.4006243496358,
          35.4006243496358,
          35.4006243496358,
          35.4006243496358,
          35.4006243496358,
          35.4006243496358,
          35.4006243496358,
          35.4006243496358,
          35.4006243496358,
          35.4006243496358,
          35.4006243496358,
          35.4006243496358,
          35.4006243496358,
          35.4006243496358,
          35.4006243496358,
          35.4006243496358,
          35.4006243496358,
          35.4006243496358,
          35.4006243496358,
          35.4006243496358,
          35.4006243496358,
          35.4006243496358,
          35.4006243496358,
          47.20083246618107,
          47.20083246618107,
          47.20083246618107,
          47.20083246618107,
          47.20083246618107,
          47.20083246618107,
          47.20083246618107,
          47.20083246618107,
          47.20083246618107,
          47.20083246618107,
          47.20083246618107,
          47.20083246618107,
          47.20083246618107,
          47.20083246618107,
          47.20083246618107,
          47.20083246618107,
          47.20083246618107,
          47.20083246618107,
          47.20083246618107,
          47.20083246618107,
          47.20083246618107,
          47.20083246618107,
          47.20083246618107,
          47.20083246618107,
          47.20083246618107,
          47.20083246618107,
          47.20083246618107,
          47.20083246618107,
          47.20083246618107,
          47.20083246618107,
          47.20083246618107,
          47.20083246618107,
          47.20083246618107,
          47.20083246618107,
          47.20083246618107,
          47.20083246618107,
          47.20083246618107,
          47.20083246618107,
          47.20083246618107,
          47.20083246618107,
          47.20083246618107,
          47.20083246618107,
          47.20083246618107,
          47.20083246618107,
          47.20083246618107,
          47.20083246618107,
          47.20083246618107,
          47.20083246618107,
          47.20083246618107,
          47.20083246618107,
          59.001040582726326,
          59.001040582726326,
          59.001040582726326,
          59.001040582726326,
          59.001040582726326,
          59.001040582726326,
          59.001040582726326,
          59.001040582726326,
          59.001040582726326,
          59.001040582726326,
          59.001040582726326,
          59.001040582726326,
          59.001040582726326,
          59.001040582726326,
          59.001040582726326,
          59.001040582726326,
          59.001040582726326,
          59.001040582726326,
          59.001040582726326,
          59.001040582726326,
          59.001040582726326,
          59.001040582726326,
          59.001040582726326,
          59.001040582726326,
          59.001040582726326,
          59.001040582726326,
          59.001040582726326,
          59.001040582726326,
          59.001040582726326,
          59.001040582726326,
          59.001040582726326,
          59.001040582726326,
          59.001040582726326,
          59.001040582726326,
          59.001040582726326,
          59.001040582726326,
          59.001040582726326,
          59.001040582726326,
          59.001040582726326,
          59.001040582726326,
          59.001040582726326,
          59.001040582726326,
          59.001040582726326,
          59.001040582726326,
          59.001040582726326,
          59.001040582726326,
          59.001040582726326,
          59.001040582726326,
          59.001040582726326,
          59.001040582726326,
          70.8012486992716,
          70.8012486992716,
          70.8012486992716,
          70.8012486992716,
          70.8012486992716,
          70.8012486992716,
          70.8012486992716,
          70.8012486992716,
          70.8012486992716,
          70.8012486992716,
          70.8012486992716,
          70.8012486992716,
          70.8012486992716,
          70.8012486992716,
          70.8012486992716,
          70.8012486992716,
          70.8012486992716,
          70.8012486992716,
          70.8012486992716,
          70.8012486992716,
          70.8012486992716,
          70.8012486992716,
          70.8012486992716,
          70.8012486992716,
          70.8012486992716,
          70.8012486992716,
          70.8012486992716,
          70.8012486992716,
          70.8012486992716,
          70.8012486992716,
          70.8012486992716,
          70.8012486992716,
          70.8012486992716,
          70.8012486992716,
          70.8012486992716,
          70.8012486992716,
          70.8012486992716,
          70.8012486992716,
          70.8012486992716,
          70.8012486992716,
          70.8012486992716,
          70.8012486992716,
          70.8012486992716,
          70.8012486992716,
          70.8012486992716,
          70.8012486992716,
          70.8012486992716,
          70.8012486992716,
          70.8012486992716,
          70.8012486992716,
          82.60145681581686,
          82.60145681581686,
          82.60145681581686,
          82.60145681581686,
          82.60145681581686,
          82.60145681581686,
          82.60145681581686,
          82.60145681581686,
          82.60145681581686,
          82.60145681581686,
          82.60145681581686,
          82.60145681581686,
          82.60145681581686,
          82.60145681581686,
          82.60145681581686,
          82.60145681581686,
          82.60145681581686,
          82.60145681581686,
          82.60145681581686,
          82.60145681581686,
          82.60145681581686,
          82.60145681581686,
          82.60145681581686,
          82.60145681581686,
          82.60145681581686,
          82.60145681581686,
          82.60145681581686,
          82.60145681581686,
          82.60145681581686,
          82.60145681581686,
          82.60145681581686,
          82.60145681581686,
          82.60145681581686,
          82.60145681581686,
          82.60145681581686,
          82.60145681581686,
          82.60145681581686,
          82.60145681581686,
          82.60145681581686,
          82.60145681581686,
          82.60145681581686,
          82.60145681581686,
          82.60145681581686,
          82.60145681581686,
          82.60145681581686,
          82.60145681581686,
          82.60145681581686,
          82.60145681581686,
          82.60145681581686,
          82.60145681581686,
          94.40166493236214,
          94.40166493236214,
          94.40166493236214,
          94.40166493236214,
          94.40166493236214,
          94.40166493236214,
          94.40166493236214,
          94.40166493236214,
          94.40166493236214,
          94.40166493236214,
          94.40166493236214,
          94.40166493236214,
          94.40166493236214,
          94.40166493236214,
          94.40166493236214,
          94.40166493236214,
          94.40166493236214,
          94.40166493236214,
          94.40166493236214,
          94.40166493236214,
          94.40166493236214,
          94.40166493236214,
          94.40166493236214,
          94.40166493236214,
          94.40166493236214,
          94.40166493236214,
          94.40166493236214,
          94.40166493236214,
          94.40166493236214,
          94.40166493236214,
          94.40166493236214,
          94.40166493236214,
          94.40166493236214,
          94.40166493236214,
          94.40166493236214,
          94.40166493236214,
          94.40166493236214,
          94.40166493236214,
          94.40166493236214,
          94.40166493236214,
          94.40166493236214,
          94.40166493236214,
          94.40166493236214,
          94.40166493236214,
          94.40166493236214,
          94.40166493236214,
          94.40166493236214,
          94.40166493236214,
          94.40166493236214,
          94.40166493236214,
          106.2018730489074,
          106.2018730489074,
          106.2018730489074,
          106.2018730489074,
          106.2018730489074,
          106.2018730489074,
          106.2018730489074,
          106.2018730489074,
          106.2018730489074,
          106.2018730489074,
          106.2018730489074,
          106.2018730489074,
          106.2018730489074,
          106.2018730489074,
          106.2018730489074,
          106.2018730489074,
          106.2018730489074,
          106.2018730489074,
          106.2018730489074,
          106.2018730489074,
          106.2018730489074,
          106.2018730489074,
          106.2018730489074,
          106.2018730489074,
          106.2018730489074,
          106.2018730489074,
          106.2018730489074,
          106.2018730489074,
          106.2018730489074,
          106.2018730489074,
          106.2018730489074,
          106.2018730489074,
          106.2018730489074,
          106.2018730489074,
          106.2018730489074,
          106.2018730489074,
          106.2018730489074,
          106.2018730489074,
          106.2018730489074,
          106.2018730489074,
          106.2018730489074,
          106.2018730489074,
          106.2018730489074,
          106.2018730489074,
          106.2018730489074,
          106.2018730489074,
          106.2018730489074,
          106.2018730489074,
          106.2018730489074,
          106.2018730489074,
          118.00208116545265,
          118.00208116545265,
          118.00208116545265,
          118.00208116545265,
          118.00208116545265,
          118.00208116545265,
          118.00208116545265,
          118.00208116545265,
          118.00208116545265,
          118.00208116545265,
          118.00208116545265,
          118.00208116545265,
          118.00208116545265,
          118.00208116545265,
          118.00208116545265,
          118.00208116545265,
          118.00208116545265,
          118.00208116545265,
          118.00208116545265,
          118.00208116545265,
          118.00208116545265,
          118.00208116545265,
          118.00208116545265,
          118.00208116545265,
          118.00208116545265,
          118.00208116545265,
          118.00208116545265,
          118.00208116545265,
          118.00208116545265,
          118.00208116545265,
          118.00208116545265,
          118.00208116545265,
          118.00208116545265,
          118.00208116545265,
          118.00208116545265,
          118.00208116545265,
          118.00208116545265,
          118.00208116545265,
          118.00208116545265,
          118.00208116545265,
          118.00208116545265,
          118.00208116545265,
          118.00208116545265,
          118.00208116545265,
          118.00208116545265,
          118.00208116545265,
          118.00208116545265,
          118.00208116545265,
          118.00208116545265,
          118.00208116545265,
          129.80228928199793,
          129.80228928199793,
          129.80228928199793,
          129.80228928199793,
          129.80228928199793,
          129.80228928199793,
          129.80228928199793,
          129.80228928199793,
          129.80228928199793,
          129.80228928199793,
          129.80228928199793,
          129.80228928199793,
          129.80228928199793,
          129.80228928199793,
          129.80228928199793,
          129.80228928199793,
          129.80228928199793,
          129.80228928199793,
          129.80228928199793,
          129.80228928199793,
          129.80228928199793,
          129.80228928199793,
          129.80228928199793,
          129.80228928199793,
          129.80228928199793,
          129.80228928199793,
          129.80228928199793,
          129.80228928199793,
          129.80228928199793,
          129.80228928199793,
          129.80228928199793,
          129.80228928199793,
          129.80228928199793,
          129.80228928199793,
          129.80228928199793,
          129.80228928199793,
          129.80228928199793,
          129.80228928199793,
          129.80228928199793,
          129.80228928199793,
          129.80228928199793,
          129.80228928199793,
          129.80228928199793,
          129.80228928199793,
          129.80228928199793,
          129.80228928199793,
          129.80228928199793,
          129.80228928199793,
          129.80228928199793,
          129.80228928199793,
          141.6024973985432,
          141.6024973985432,
          141.6024973985432,
          141.6024973985432,
          141.6024973985432,
          141.6024973985432,
          141.6024973985432,
          141.6024973985432,
          141.6024973985432,
          141.6024973985432,
          141.6024973985432,
          141.6024973985432,
          141.6024973985432,
          141.6024973985432,
          141.6024973985432,
          141.6024973985432,
          141.6024973985432,
          141.6024973985432,
          141.6024973985432,
          141.6024973985432,
          141.6024973985432,
          141.6024973985432,
          141.6024973985432,
          141.6024973985432,
          141.6024973985432,
          141.6024973985432,
          141.6024973985432,
          141.6024973985432,
          141.6024973985432,
          141.6024973985432,
          141.6024973985432,
          141.6024973985432,
          141.6024973985432,
          141.6024973985432,
          141.6024973985432,
          141.6024973985432,
          141.6024973985432,
          141.6024973985432,
          141.6024973985432,
          141.6024973985432,
          141.6024973985432,
          141.6024973985432,
          141.6024973985432,
          141.6024973985432,
          141.6024973985432,
          141.6024973985432,
          141.6024973985432,
          141.6024973985432,
          141.6024973985432,
          141.6024973985432,
          153.40270551508848,
          153.40270551508848,
          153.40270551508848,
          153.40270551508848,
          153.40270551508848,
          153.40270551508848,
          153.40270551508848,
          153.40270551508848,
          153.40270551508848,
          153.40270551508848,
          153.40270551508848,
          153.40270551508848,
          153.40270551508848,
          153.40270551508848,
          153.40270551508848,
          153.40270551508848,
          153.40270551508848,
          153.40270551508848,
          153.40270551508848,
          153.40270551508848,
          153.40270551508848,
          153.40270551508848,
          153.40270551508848,
          153.40270551508848,
          153.40270551508848,
          153.40270551508848,
          153.40270551508848,
          153.40270551508848,
          153.40270551508848,
          153.40270551508848,
          153.40270551508848,
          153.40270551508848,
          153.40270551508848,
          153.40270551508848,
          153.40270551508848,
          153.40270551508848,
          153.40270551508848,
          153.40270551508848,
          153.40270551508848,
          153.40270551508848,
          153.40270551508848,
          153.40270551508848,
          153.40270551508848,
          153.40270551508848,
          153.40270551508848,
          153.40270551508848,
          153.40270551508848,
          153.40270551508848,
          153.40270551508848,
          153.40270551508848,
          165.20291363163372,
          165.20291363163372,
          165.20291363163372,
          165.20291363163372,
          165.20291363163372,
          165.20291363163372,
          165.20291363163372,
          165.20291363163372,
          165.20291363163372,
          165.20291363163372,
          165.20291363163372,
          165.20291363163372,
          165.20291363163372,
          165.20291363163372,
          165.20291363163372,
          165.20291363163372,
          165.20291363163372,
          165.20291363163372,
          165.20291363163372,
          165.20291363163372,
          165.20291363163372,
          165.20291363163372,
          165.20291363163372,
          165.20291363163372,
          165.20291363163372,
          165.20291363163372,
          165.20291363163372,
          165.20291363163372,
          165.20291363163372,
          165.20291363163372,
          165.20291363163372,
          165.20291363163372,
          165.20291363163372,
          165.20291363163372,
          165.20291363163372,
          165.20291363163372,
          165.20291363163372,
          165.20291363163372,
          165.20291363163372,
          165.20291363163372,
          165.20291363163372,
          165.20291363163372,
          165.20291363163372,
          165.20291363163372,
          165.20291363163372,
          165.20291363163372,
          165.20291363163372,
          165.20291363163372,
          165.20291363163372,
          165.20291363163372,
          177.003121748179,
          177.003121748179,
          177.003121748179,
          177.003121748179,
          177.003121748179,
          177.003121748179,
          177.003121748179,
          177.003121748179,
          177.003121748179,
          177.003121748179,
          177.003121748179,
          177.003121748179,
          177.003121748179,
          177.003121748179,
          177.003121748179,
          177.003121748179,
          177.003121748179,
          177.003121748179,
          177.003121748179,
          177.003121748179,
          177.003121748179,
          177.003121748179,
          177.003121748179,
          177.003121748179,
          177.003121748179,
          177.003121748179,
          177.003121748179,
          177.003121748179,
          177.003121748179,
          177.003121748179,
          177.003121748179,
          177.003121748179,
          177.003121748179,
          177.003121748179,
          177.003121748179,
          177.003121748179,
          177.003121748179,
          177.003121748179,
          177.003121748179,
          177.003121748179,
          177.003121748179,
          177.003121748179,
          177.003121748179,
          177.003121748179,
          177.003121748179,
          177.003121748179,
          177.003121748179,
          177.003121748179,
          177.003121748179,
          177.003121748179,
          188.80332986472428,
          188.80332986472428,
          188.80332986472428,
          188.80332986472428,
          188.80332986472428,
          188.80332986472428,
          188.80332986472428,
          188.80332986472428,
          188.80332986472428,
          188.80332986472428,
          188.80332986472428,
          188.80332986472428,
          188.80332986472428,
          188.80332986472428,
          188.80332986472428,
          188.80332986472428,
          188.80332986472428,
          188.80332986472428,
          188.80332986472428,
          188.80332986472428,
          188.80332986472428,
          188.80332986472428,
          188.80332986472428,
          188.80332986472428,
          188.80332986472428,
          188.80332986472428,
          188.80332986472428,
          188.80332986472428,
          188.80332986472428,
          188.80332986472428,
          188.80332986472428,
          188.80332986472428,
          188.80332986472428,
          188.80332986472428,
          188.80332986472428,
          188.80332986472428,
          188.80332986472428,
          188.80332986472428,
          188.80332986472428,
          188.80332986472428,
          188.80332986472428,
          188.80332986472428,
          188.80332986472428,
          188.80332986472428,
          188.80332986472428,
          188.80332986472428,
          188.80332986472428,
          188.80332986472428,
          188.80332986472428,
          188.80332986472428,
          200.6035379812695,
          200.6035379812695,
          200.6035379812695,
          200.6035379812695,
          200.6035379812695,
          200.6035379812695,
          200.6035379812695,
          200.6035379812695,
          200.6035379812695,
          200.6035379812695,
          200.6035379812695,
          200.6035379812695,
          200.6035379812695,
          200.6035379812695,
          200.6035379812695,
          200.6035379812695,
          200.6035379812695,
          200.6035379812695,
          200.6035379812695,
          200.6035379812695,
          200.6035379812695,
          200.6035379812695,
          200.6035379812695,
          200.6035379812695,
          200.6035379812695,
          200.6035379812695,
          200.6035379812695,
          200.6035379812695,
          200.6035379812695,
          200.6035379812695,
          200.6035379812695,
          200.6035379812695,
          200.6035379812695,
          200.6035379812695,
          200.6035379812695,
          200.6035379812695,
          200.6035379812695,
          200.6035379812695,
          200.6035379812695,
          200.6035379812695,
          200.6035379812695,
          200.6035379812695,
          200.6035379812695,
          200.6035379812695,
          200.6035379812695,
          200.6035379812695,
          200.6035379812695,
          200.6035379812695,
          200.6035379812695,
          200.6035379812695,
          212.4037460978148,
          212.4037460978148,
          212.4037460978148,
          212.4037460978148,
          212.4037460978148,
          212.4037460978148,
          212.4037460978148,
          212.4037460978148,
          212.4037460978148,
          212.4037460978148,
          212.4037460978148,
          212.4037460978148,
          212.4037460978148,
          212.4037460978148,
          212.4037460978148,
          212.4037460978148,
          212.4037460978148,
          212.4037460978148,
          212.4037460978148,
          212.4037460978148,
          212.4037460978148,
          212.4037460978148,
          212.4037460978148,
          212.4037460978148,
          212.4037460978148,
          212.4037460978148,
          212.4037460978148,
          212.4037460978148,
          212.4037460978148,
          212.4037460978148,
          212.4037460978148,
          212.4037460978148,
          212.4037460978148,
          212.4037460978148,
          212.4037460978148,
          212.4037460978148,
          212.4037460978148,
          212.4037460978148,
          212.4037460978148,
          212.4037460978148,
          212.4037460978148,
          212.4037460978148,
          212.4037460978148,
          212.4037460978148,
          212.4037460978148,
          212.4037460978148,
          212.4037460978148,
          212.4037460978148,
          212.4037460978148,
          212.4037460978148,
          224.20395421436007,
          224.20395421436007,
          224.20395421436007,
          224.20395421436007,
          224.20395421436007,
          224.20395421436007,
          224.20395421436007,
          224.20395421436007,
          224.20395421436007,
          224.20395421436007,
          224.20395421436007,
          224.20395421436007,
          224.20395421436007,
          224.20395421436007,
          224.20395421436007,
          224.20395421436007,
          224.20395421436007,
          224.20395421436007,
          224.20395421436007,
          224.20395421436007,
          224.20395421436007,
          224.20395421436007,
          224.20395421436007,
          224.20395421436007,
          224.20395421436007,
          224.20395421436007,
          224.20395421436007,
          224.20395421436007,
          224.20395421436007,
          224.20395421436007,
          224.20395421436007,
          224.20395421436007,
          224.20395421436007,
          224.20395421436007,
          224.20395421436007,
          224.20395421436007,
          224.20395421436007,
          224.20395421436007,
          224.20395421436007,
          224.20395421436007,
          224.20395421436007,
          224.20395421436007,
          224.20395421436007,
          224.20395421436007,
          224.20395421436007,
          224.20395421436007,
          224.20395421436007,
          224.20395421436007,
          224.20395421436007,
          224.20395421436007,
          236.0041623309053,
          236.0041623309053,
          236.0041623309053,
          236.0041623309053,
          236.0041623309053,
          236.0041623309053,
          236.0041623309053,
          236.0041623309053,
          236.0041623309053,
          236.0041623309053,
          236.0041623309053,
          236.0041623309053,
          236.0041623309053,
          236.0041623309053,
          236.0041623309053,
          236.0041623309053,
          236.0041623309053,
          236.0041623309053,
          236.0041623309053,
          236.0041623309053,
          236.0041623309053,
          236.0041623309053,
          236.0041623309053,
          236.0041623309053,
          236.0041623309053,
          236.0041623309053,
          236.0041623309053,
          236.0041623309053,
          236.0041623309053,
          236.0041623309053,
          236.0041623309053,
          236.0041623309053,
          236.0041623309053,
          236.0041623309053,
          236.0041623309053,
          236.0041623309053,
          236.0041623309053,
          236.0041623309053,
          236.0041623309053,
          236.0041623309053,
          236.0041623309053,
          236.0041623309053,
          236.0041623309053,
          236.0041623309053,
          236.0041623309053,
          236.0041623309053,
          236.0041623309053,
          236.0041623309053,
          236.0041623309053,
          236.0041623309053,
          247.8043704474506,
          247.8043704474506,
          247.8043704474506,
          247.8043704474506,
          247.8043704474506,
          247.8043704474506,
          247.8043704474506,
          247.8043704474506,
          247.8043704474506,
          247.8043704474506,
          247.8043704474506,
          247.8043704474506,
          247.8043704474506,
          247.8043704474506,
          247.8043704474506,
          247.8043704474506,
          247.8043704474506,
          247.8043704474506,
          247.8043704474506,
          247.8043704474506,
          247.8043704474506,
          247.8043704474506,
          247.8043704474506,
          247.8043704474506,
          247.8043704474506,
          247.8043704474506,
          247.8043704474506,
          247.8043704474506,
          247.8043704474506,
          247.8043704474506,
          247.8043704474506,
          247.8043704474506,
          247.8043704474506,
          247.8043704474506,
          247.8043704474506,
          247.8043704474506,
          247.8043704474506,
          247.8043704474506,
          247.8043704474506,
          247.8043704474506,
          247.8043704474506,
          247.8043704474506,
          247.8043704474506,
          247.8043704474506,
          247.8043704474506,
          247.8043704474506,
          247.8043704474506,
          247.8043704474506,
          247.8043704474506,
          247.8043704474506,
          259.60457856399586,
          259.60457856399586,
          259.60457856399586,
          259.60457856399586,
          259.60457856399586,
          259.60457856399586,
          259.60457856399586,
          259.60457856399586,
          259.60457856399586,
          259.60457856399586,
          259.60457856399586,
          259.60457856399586,
          259.60457856399586,
          259.60457856399586,
          259.60457856399586,
          259.60457856399586,
          259.60457856399586,
          259.60457856399586,
          259.60457856399586,
          259.60457856399586,
          259.60457856399586,
          259.60457856399586,
          259.60457856399586,
          259.60457856399586,
          259.60457856399586,
          259.60457856399586,
          259.60457856399586,
          259.60457856399586,
          259.60457856399586,
          259.60457856399586,
          259.60457856399586,
          259.60457856399586,
          259.60457856399586,
          259.60457856399586,
          259.60457856399586,
          259.60457856399586,
          259.60457856399586,
          259.60457856399586,
          259.60457856399586,
          259.60457856399586,
          259.60457856399586,
          259.60457856399586,
          259.60457856399586,
          259.60457856399586,
          259.60457856399586,
          259.60457856399586,
          259.60457856399586,
          259.60457856399586,
          259.60457856399586,
          259.60457856399586,
          271.4047866805412,
          271.4047866805412,
          271.4047866805412,
          271.4047866805412,
          271.4047866805412,
          271.4047866805412,
          271.4047866805412,
          271.4047866805412,
          271.4047866805412,
          271.4047866805412,
          271.4047866805412,
          271.4047866805412,
          271.4047866805412,
          271.4047866805412,
          271.4047866805412,
          271.4047866805412,
          271.4047866805412,
          271.4047866805412,
          271.4047866805412,
          271.4047866805412,
          271.4047866805412,
          271.4047866805412,
          271.4047866805412,
          271.4047866805412,
          271.4047866805412,
          271.4047866805412,
          271.4047866805412,
          271.4047866805412,
          271.4047866805412,
          271.4047866805412,
          271.4047866805412,
          271.4047866805412,
          271.4047866805412,
          271.4047866805412,
          271.4047866805412,
          271.4047866805412,
          271.4047866805412,
          271.4047866805412,
          271.4047866805412,
          271.4047866805412,
          271.4047866805412,
          271.4047866805412,
          271.4047866805412,
          271.4047866805412,
          271.4047866805412,
          271.4047866805412,
          271.4047866805412,
          271.4047866805412,
          271.4047866805412,
          271.4047866805412,
          283.2049947970864,
          283.2049947970864,
          283.2049947970864,
          283.2049947970864,
          283.2049947970864,
          283.2049947970864,
          283.2049947970864,
          283.2049947970864,
          283.2049947970864,
          283.2049947970864,
          283.2049947970864,
          283.2049947970864,
          283.2049947970864,
          283.2049947970864,
          283.2049947970864,
          283.2049947970864,
          283.2049947970864,
          283.2049947970864,
          283.2049947970864,
          283.2049947970864,
          283.2049947970864,
          283.2049947970864,
          283.2049947970864,
          283.2049947970864,
          283.2049947970864,
          283.2049947970864,
          283.2049947970864,
          283.2049947970864,
          283.2049947970864,
          283.2049947970864,
          283.2049947970864,
          283.2049947970864,
          283.2049947970864,
          283.2049947970864,
          283.2049947970864,
          283.2049947970864,
          283.2049947970864,
          283.2049947970864,
          283.2049947970864,
          283.2049947970864,
          283.2049947970864,
          283.2049947970864,
          283.2049947970864,
          283.2049947970864,
          283.2049947970864,
          283.2049947970864,
          283.2049947970864,
          283.2049947970864,
          283.2049947970864,
          283.2049947970864,
          295.00520291363165,
          295.00520291363165,
          295.00520291363165,
          295.00520291363165,
          295.00520291363165,
          295.00520291363165,
          295.00520291363165,
          295.00520291363165,
          295.00520291363165,
          295.00520291363165,
          295.00520291363165,
          295.00520291363165,
          295.00520291363165,
          295.00520291363165,
          295.00520291363165,
          295.00520291363165,
          295.00520291363165,
          295.00520291363165,
          295.00520291363165,
          295.00520291363165,
          295.00520291363165,
          295.00520291363165,
          295.00520291363165,
          295.00520291363165,
          295.00520291363165,
          295.00520291363165,
          295.00520291363165,
          295.00520291363165,
          295.00520291363165,
          295.00520291363165,
          295.00520291363165,
          295.00520291363165,
          295.00520291363165,
          295.00520291363165,
          295.00520291363165,
          295.00520291363165,
          295.00520291363165,
          295.00520291363165,
          295.00520291363165,
          295.00520291363165,
          295.00520291363165,
          295.00520291363165,
          295.00520291363165,
          295.00520291363165,
          295.00520291363165,
          295.00520291363165,
          295.00520291363165,
          295.00520291363165,
          295.00520291363165,
          295.00520291363165,
          306.80541103017697,
          306.80541103017697,
          306.80541103017697,
          306.80541103017697,
          306.80541103017697,
          306.80541103017697,
          306.80541103017697,
          306.80541103017697,
          306.80541103017697,
          306.80541103017697,
          306.80541103017697,
          306.80541103017697,
          306.80541103017697,
          306.80541103017697,
          306.80541103017697,
          306.80541103017697,
          306.80541103017697,
          306.80541103017697,
          306.80541103017697,
          306.80541103017697,
          306.80541103017697,
          306.80541103017697,
          306.80541103017697,
          306.80541103017697,
          306.80541103017697,
          306.80541103017697,
          306.80541103017697,
          306.80541103017697,
          306.80541103017697,
          306.80541103017697,
          306.80541103017697,
          306.80541103017697,
          306.80541103017697,
          306.80541103017697,
          306.80541103017697,
          306.80541103017697,
          306.80541103017697,
          306.80541103017697,
          306.80541103017697,
          306.80541103017697,
          306.80541103017697,
          306.80541103017697,
          306.80541103017697,
          306.80541103017697,
          306.80541103017697,
          306.80541103017697,
          306.80541103017697,
          306.80541103017697,
          306.80541103017697,
          306.80541103017697,
          318.6056191467222,
          318.6056191467222,
          318.6056191467222,
          318.6056191467222,
          318.6056191467222,
          318.6056191467222,
          318.6056191467222,
          318.6056191467222,
          318.6056191467222,
          318.6056191467222,
          318.6056191467222,
          318.6056191467222,
          318.6056191467222,
          318.6056191467222,
          318.6056191467222,
          318.6056191467222,
          318.6056191467222,
          318.6056191467222,
          318.6056191467222,
          318.6056191467222,
          318.6056191467222,
          318.6056191467222,
          318.6056191467222,
          318.6056191467222,
          318.6056191467222,
          318.6056191467222,
          318.6056191467222,
          318.6056191467222,
          318.6056191467222,
          318.6056191467222,
          318.6056191467222,
          318.6056191467222,
          318.6056191467222,
          318.6056191467222,
          318.6056191467222,
          318.6056191467222,
          318.6056191467222,
          318.6056191467222,
          318.6056191467222,
          318.6056191467222,
          318.6056191467222,
          318.6056191467222,
          318.6056191467222,
          318.6056191467222,
          318.6056191467222,
          318.6056191467222,
          318.6056191467222,
          318.6056191467222,
          318.6056191467222,
          318.6056191467222,
          330.40582726326744,
          330.40582726326744,
          330.40582726326744,
          330.40582726326744,
          330.40582726326744,
          330.40582726326744,
          330.40582726326744,
          330.40582726326744,
          330.40582726326744,
          330.40582726326744,
          330.40582726326744,
          330.40582726326744,
          330.40582726326744,
          330.40582726326744,
          330.40582726326744,
          330.40582726326744,
          330.40582726326744,
          330.40582726326744,
          330.40582726326744,
          330.40582726326744,
          330.40582726326744,
          330.40582726326744,
          330.40582726326744,
          330.40582726326744,
          330.40582726326744,
          330.40582726326744,
          330.40582726326744,
          330.40582726326744,
          330.40582726326744,
          330.40582726326744,
          330.40582726326744,
          330.40582726326744,
          330.40582726326744,
          330.40582726326744,
          330.40582726326744,
          330.40582726326744,
          330.40582726326744,
          330.40582726326744,
          330.40582726326744,
          330.40582726326744,
          330.40582726326744,
          330.40582726326744,
          330.40582726326744,
          330.40582726326744,
          330.40582726326744,
          330.40582726326744,
          330.40582726326744,
          330.40582726326744,
          330.40582726326744,
          330.40582726326744,
          342.20603537981276,
          342.20603537981276,
          342.20603537981276,
          342.20603537981276,
          342.20603537981276,
          342.20603537981276,
          342.20603537981276,
          342.20603537981276,
          342.20603537981276,
          342.20603537981276,
          342.20603537981276,
          342.20603537981276,
          342.20603537981276,
          342.20603537981276,
          342.20603537981276,
          342.20603537981276,
          342.20603537981276,
          342.20603537981276,
          342.20603537981276,
          342.20603537981276,
          342.20603537981276,
          342.20603537981276,
          342.20603537981276,
          342.20603537981276,
          342.20603537981276,
          342.20603537981276,
          342.20603537981276,
          342.20603537981276,
          342.20603537981276,
          342.20603537981276,
          342.20603537981276,
          342.20603537981276,
          342.20603537981276,
          342.20603537981276,
          342.20603537981276,
          342.20603537981276,
          342.20603537981276,
          342.20603537981276,
          342.20603537981276,
          342.20603537981276,
          342.20603537981276,
          342.20603537981276,
          342.20603537981276,
          342.20603537981276,
          342.20603537981276,
          342.20603537981276,
          342.20603537981276,
          342.20603537981276,
          342.20603537981276,
          342.20603537981276,
          354.006243496358,
          354.006243496358,
          354.006243496358,
          354.006243496358,
          354.006243496358,
          354.006243496358,
          354.006243496358,
          354.006243496358,
          354.006243496358,
          354.006243496358,
          354.006243496358,
          354.006243496358,
          354.006243496358,
          354.006243496358,
          354.006243496358,
          354.006243496358,
          354.006243496358,
          354.006243496358,
          354.006243496358,
          354.006243496358,
          354.006243496358,
          354.006243496358,
          354.006243496358,
          354.006243496358,
          354.006243496358,
          354.006243496358,
          354.006243496358,
          354.006243496358,
          354.006243496358,
          354.006243496358,
          354.006243496358,
          354.006243496358,
          354.006243496358,
          354.006243496358,
          354.006243496358,
          354.006243496358,
          354.006243496358,
          354.006243496358,
          354.006243496358,
          354.006243496358,
          354.006243496358,
          354.006243496358,
          354.006243496358,
          354.006243496358,
          354.006243496358,
          354.006243496358,
          354.006243496358,
          354.006243496358,
          354.006243496358,
          354.006243496358,
          365.80645161290323,
          365.80645161290323,
          365.80645161290323,
          365.80645161290323,
          365.80645161290323,
          365.80645161290323,
          365.80645161290323,
          365.80645161290323,
          365.80645161290323,
          365.80645161290323,
          365.80645161290323,
          365.80645161290323,
          365.80645161290323,
          365.80645161290323,
          365.80645161290323,
          365.80645161290323,
          365.80645161290323,
          365.80645161290323,
          365.80645161290323,
          365.80645161290323,
          365.80645161290323,
          365.80645161290323,
          365.80645161290323,
          365.80645161290323,
          365.80645161290323,
          365.80645161290323,
          365.80645161290323,
          365.80645161290323,
          365.80645161290323,
          365.80645161290323,
          365.80645161290323,
          365.80645161290323,
          365.80645161290323,
          365.80645161290323,
          365.80645161290323,
          365.80645161290323,
          365.80645161290323,
          365.80645161290323,
          365.80645161290323,
          365.80645161290323,
          365.80645161290323,
          365.80645161290323,
          365.80645161290323,
          365.80645161290323,
          365.80645161290323,
          365.80645161290323,
          365.80645161290323,
          365.80645161290323,
          365.80645161290323,
          365.80645161290323
         ],
         "thetaunit": "degrees",
         "type": "barpolar"
        }
       ],
       "layout": {
        "polar": {
         "angularaxis": {
          "rotation": -135
         },
         "bargap": 0,
         "hole": 0.5
        },
        "template": {
         "data": {
          "bar": [
           {
            "error_x": {
             "color": "#2a3f5f"
            },
            "error_y": {
             "color": "#2a3f5f"
            },
            "marker": {
             "line": {
              "color": "white",
              "width": 0.5
             }
            },
            "type": "bar"
           }
          ],
          "barpolar": [
           {
            "marker": {
             "line": {
              "color": "white",
              "width": 0.5
             }
            },
            "type": "barpolar"
           }
          ],
          "carpet": [
           {
            "aaxis": {
             "endlinecolor": "#2a3f5f",
             "gridcolor": "#C8D4E3",
             "linecolor": "#C8D4E3",
             "minorgridcolor": "#C8D4E3",
             "startlinecolor": "#2a3f5f"
            },
            "baxis": {
             "endlinecolor": "#2a3f5f",
             "gridcolor": "#C8D4E3",
             "linecolor": "#C8D4E3",
             "minorgridcolor": "#C8D4E3",
             "startlinecolor": "#2a3f5f"
            },
            "type": "carpet"
           }
          ],
          "choropleth": [
           {
            "colorbar": {
             "outlinewidth": 0,
             "ticks": ""
            },
            "type": "choropleth"
           }
          ],
          "contour": [
           {
            "colorbar": {
             "outlinewidth": 0,
             "ticks": ""
            },
            "colorscale": [
             [
              0,
              "#0d0887"
             ],
             [
              0.1111111111111111,
              "#46039f"
             ],
             [
              0.2222222222222222,
              "#7201a8"
             ],
             [
              0.3333333333333333,
              "#9c179e"
             ],
             [
              0.4444444444444444,
              "#bd3786"
             ],
             [
              0.5555555555555556,
              "#d8576b"
             ],
             [
              0.6666666666666666,
              "#ed7953"
             ],
             [
              0.7777777777777778,
              "#fb9f3a"
             ],
             [
              0.8888888888888888,
              "#fdca26"
             ],
             [
              1,
              "#f0f921"
             ]
            ],
            "type": "contour"
           }
          ],
          "contourcarpet": [
           {
            "colorbar": {
             "outlinewidth": 0,
             "ticks": ""
            },
            "type": "contourcarpet"
           }
          ],
          "heatmap": [
           {
            "colorbar": {
             "outlinewidth": 0,
             "ticks": ""
            },
            "colorscale": [
             [
              0,
              "#0d0887"
             ],
             [
              0.1111111111111111,
              "#46039f"
             ],
             [
              0.2222222222222222,
              "#7201a8"
             ],
             [
              0.3333333333333333,
              "#9c179e"
             ],
             [
              0.4444444444444444,
              "#bd3786"
             ],
             [
              0.5555555555555556,
              "#d8576b"
             ],
             [
              0.6666666666666666,
              "#ed7953"
             ],
             [
              0.7777777777777778,
              "#fb9f3a"
             ],
             [
              0.8888888888888888,
              "#fdca26"
             ],
             [
              1,
              "#f0f921"
             ]
            ],
            "type": "heatmap"
           }
          ],
          "heatmapgl": [
           {
            "colorbar": {
             "outlinewidth": 0,
             "ticks": ""
            },
            "colorscale": [
             [
              0,
              "#0d0887"
             ],
             [
              0.1111111111111111,
              "#46039f"
             ],
             [
              0.2222222222222222,
              "#7201a8"
             ],
             [
              0.3333333333333333,
              "#9c179e"
             ],
             [
              0.4444444444444444,
              "#bd3786"
             ],
             [
              0.5555555555555556,
              "#d8576b"
             ],
             [
              0.6666666666666666,
              "#ed7953"
             ],
             [
              0.7777777777777778,
              "#fb9f3a"
             ],
             [
              0.8888888888888888,
              "#fdca26"
             ],
             [
              1,
              "#f0f921"
             ]
            ],
            "type": "heatmapgl"
           }
          ],
          "histogram": [
           {
            "marker": {
             "colorbar": {
              "outlinewidth": 0,
              "ticks": ""
             }
            },
            "type": "histogram"
           }
          ],
          "histogram2d": [
           {
            "colorbar": {
             "outlinewidth": 0,
             "ticks": ""
            },
            "colorscale": [
             [
              0,
              "#0d0887"
             ],
             [
              0.1111111111111111,
              "#46039f"
             ],
             [
              0.2222222222222222,
              "#7201a8"
             ],
             [
              0.3333333333333333,
              "#9c179e"
             ],
             [
              0.4444444444444444,
              "#bd3786"
             ],
             [
              0.5555555555555556,
              "#d8576b"
             ],
             [
              0.6666666666666666,
              "#ed7953"
             ],
             [
              0.7777777777777778,
              "#fb9f3a"
             ],
             [
              0.8888888888888888,
              "#fdca26"
             ],
             [
              1,
              "#f0f921"
             ]
            ],
            "type": "histogram2d"
           }
          ],
          "histogram2dcontour": [
           {
            "colorbar": {
             "outlinewidth": 0,
             "ticks": ""
            },
            "colorscale": [
             [
              0,
              "#0d0887"
             ],
             [
              0.1111111111111111,
              "#46039f"
             ],
             [
              0.2222222222222222,
              "#7201a8"
             ],
             [
              0.3333333333333333,
              "#9c179e"
             ],
             [
              0.4444444444444444,
              "#bd3786"
             ],
             [
              0.5555555555555556,
              "#d8576b"
             ],
             [
              0.6666666666666666,
              "#ed7953"
             ],
             [
              0.7777777777777778,
              "#fb9f3a"
             ],
             [
              0.8888888888888888,
              "#fdca26"
             ],
             [
              1,
              "#f0f921"
             ]
            ],
            "type": "histogram2dcontour"
           }
          ],
          "mesh3d": [
           {
            "colorbar": {
             "outlinewidth": 0,
             "ticks": ""
            },
            "type": "mesh3d"
           }
          ],
          "parcoords": [
           {
            "line": {
             "colorbar": {
              "outlinewidth": 0,
              "ticks": ""
             }
            },
            "type": "parcoords"
           }
          ],
          "pie": [
           {
            "automargin": true,
            "type": "pie"
           }
          ],
          "scatter": [
           {
            "marker": {
             "colorbar": {
              "outlinewidth": 0,
              "ticks": ""
             }
            },
            "type": "scatter"
           }
          ],
          "scatter3d": [
           {
            "line": {
             "colorbar": {
              "outlinewidth": 0,
              "ticks": ""
             }
            },
            "marker": {
             "colorbar": {
              "outlinewidth": 0,
              "ticks": ""
             }
            },
            "type": "scatter3d"
           }
          ],
          "scattercarpet": [
           {
            "marker": {
             "colorbar": {
              "outlinewidth": 0,
              "ticks": ""
             }
            },
            "type": "scattercarpet"
           }
          ],
          "scattergeo": [
           {
            "marker": {
             "colorbar": {
              "outlinewidth": 0,
              "ticks": ""
             }
            },
            "type": "scattergeo"
           }
          ],
          "scattergl": [
           {
            "marker": {
             "colorbar": {
              "outlinewidth": 0,
              "ticks": ""
             }
            },
            "type": "scattergl"
           }
          ],
          "scattermapbox": [
           {
            "marker": {
             "colorbar": {
              "outlinewidth": 0,
              "ticks": ""
             }
            },
            "type": "scattermapbox"
           }
          ],
          "scatterpolar": [
           {
            "marker": {
             "colorbar": {
              "outlinewidth": 0,
              "ticks": ""
             }
            },
            "type": "scatterpolar"
           }
          ],
          "scatterpolargl": [
           {
            "marker": {
             "colorbar": {
              "outlinewidth": 0,
              "ticks": ""
             }
            },
            "type": "scatterpolargl"
           }
          ],
          "scatterternary": [
           {
            "marker": {
             "colorbar": {
              "outlinewidth": 0,
              "ticks": ""
             }
            },
            "type": "scatterternary"
           }
          ],
          "surface": [
           {
            "colorbar": {
             "outlinewidth": 0,
             "ticks": ""
            },
            "colorscale": [
             [
              0,
              "#0d0887"
             ],
             [
              0.1111111111111111,
              "#46039f"
             ],
             [
              0.2222222222222222,
              "#7201a8"
             ],
             [
              0.3333333333333333,
              "#9c179e"
             ],
             [
              0.4444444444444444,
              "#bd3786"
             ],
             [
              0.5555555555555556,
              "#d8576b"
             ],
             [
              0.6666666666666666,
              "#ed7953"
             ],
             [
              0.7777777777777778,
              "#fb9f3a"
             ],
             [
              0.8888888888888888,
              "#fdca26"
             ],
             [
              1,
              "#f0f921"
             ]
            ],
            "type": "surface"
           }
          ],
          "table": [
           {
            "cells": {
             "fill": {
              "color": "#EBF0F8"
             },
             "line": {
              "color": "white"
             }
            },
            "header": {
             "fill": {
              "color": "#C8D4E3"
             },
             "line": {
              "color": "white"
             }
            },
            "type": "table"
           }
          ]
         },
         "layout": {
          "annotationdefaults": {
           "arrowcolor": "#2a3f5f",
           "arrowhead": 0,
           "arrowwidth": 1
          },
          "coloraxis": {
           "colorbar": {
            "outlinewidth": 0,
            "ticks": ""
           }
          },
          "colorscale": {
           "diverging": [
            [
             0,
             "#8e0152"
            ],
            [
             0.1,
             "#c51b7d"
            ],
            [
             0.2,
             "#de77ae"
            ],
            [
             0.3,
             "#f1b6da"
            ],
            [
             0.4,
             "#fde0ef"
            ],
            [
             0.5,
             "#f7f7f7"
            ],
            [
             0.6,
             "#e6f5d0"
            ],
            [
             0.7,
             "#b8e186"
            ],
            [
             0.8,
             "#7fbc41"
            ],
            [
             0.9,
             "#4d9221"
            ],
            [
             1,
             "#276419"
            ]
           ],
           "sequential": [
            [
             0,
             "#0d0887"
            ],
            [
             0.1111111111111111,
             "#46039f"
            ],
            [
             0.2222222222222222,
             "#7201a8"
            ],
            [
             0.3333333333333333,
             "#9c179e"
            ],
            [
             0.4444444444444444,
             "#bd3786"
            ],
            [
             0.5555555555555556,
             "#d8576b"
            ],
            [
             0.6666666666666666,
             "#ed7953"
            ],
            [
             0.7777777777777778,
             "#fb9f3a"
            ],
            [
             0.8888888888888888,
             "#fdca26"
            ],
            [
             1,
             "#f0f921"
            ]
           ],
           "sequentialminus": [
            [
             0,
             "#0d0887"
            ],
            [
             0.1111111111111111,
             "#46039f"
            ],
            [
             0.2222222222222222,
             "#7201a8"
            ],
            [
             0.3333333333333333,
             "#9c179e"
            ],
            [
             0.4444444444444444,
             "#bd3786"
            ],
            [
             0.5555555555555556,
             "#d8576b"
            ],
            [
             0.6666666666666666,
             "#ed7953"
            ],
            [
             0.7777777777777778,
             "#fb9f3a"
            ],
            [
             0.8888888888888888,
             "#fdca26"
            ],
            [
             1,
             "#f0f921"
            ]
           ]
          },
          "colorway": [
           "#1f77b4",
           "#ff7f0e",
           "#2ca02c",
           "#d62728",
           "#9467bd",
           "#8c564b",
           "#e377c2",
           "#7f7f7f",
           "#bcbd22",
           "#17becf"
          ],
          "font": {
           "color": "#2a3f5f"
          },
          "geo": {
           "bgcolor": "white",
           "lakecolor": "white",
           "landcolor": "white",
           "showlakes": true,
           "showland": true,
           "subunitcolor": "#C8D4E3"
          },
          "hoverlabel": {
           "align": "left"
          },
          "hovermode": "closest",
          "mapbox": {
           "style": "light"
          },
          "paper_bgcolor": "white",
          "plot_bgcolor": "white",
          "polar": {
           "angularaxis": {
            "gridcolor": "#EBF0F8",
            "linecolor": "#EBF0F8",
            "ticks": ""
           },
           "bgcolor": "white",
           "radialaxis": {
            "gridcolor": "#EBF0F8",
            "linecolor": "#EBF0F8",
            "ticks": ""
           }
          },
          "scene": {
           "camera": {
            "center": {
             "x": 0,
             "y": 0,
             "z": 0
            },
            "eye": {
             "x": 2,
             "y": 2,
             "z": 2
            },
            "up": {
             "x": 0,
             "y": 0,
             "z": 1
            }
           },
           "xaxis": {
            "backgroundcolor": "white",
            "gridcolor": "#DFE8F3",
            "gridwidth": 2,
            "linecolor": "#EBF0F8",
            "showbackground": true,
            "showspikes": false,
            "ticks": "",
            "zerolinecolor": "#EBF0F8"
           },
           "yaxis": {
            "backgroundcolor": "white",
            "gridcolor": "#DFE8F3",
            "gridwidth": 2,
            "linecolor": "#EBF0F8",
            "showbackground": true,
            "showspikes": false,
            "ticks": "",
            "zerolinecolor": "#EBF0F8"
           },
           "zaxis": {
            "backgroundcolor": "white",
            "gridcolor": "#DFE8F3",
            "gridwidth": 2,
            "linecolor": "#EBF0F8",
            "showbackground": true,
            "showspikes": false,
            "ticks": "",
            "zerolinecolor": "#EBF0F8"
           }
          },
          "shapedefaults": {
           "line": {
            "color": "#2a3f5f"
           }
          },
          "ternary": {
           "aaxis": {
            "gridcolor": "#DFE8F3",
            "linecolor": "#A2B1C6",
            "ticks": ""
           },
           "baxis": {
            "gridcolor": "#DFE8F3",
            "linecolor": "#A2B1C6",
            "ticks": ""
           },
           "bgcolor": "white",
           "caxis": {
            "gridcolor": "#DFE8F3",
            "linecolor": "#A2B1C6",
            "ticks": ""
           }
          },
          "title": {
           "x": 0.05
          },
          "xaxis": {
           "automargin": true,
           "gridcolor": "#EBF0F8",
           "linecolor": "black",
           "linewidth": 2,
           "mirror": true,
           "showline": true,
           "ticks": "",
           "title": {
            "standoff": 15
           },
           "zeroline": false,
           "zerolinecolor": "#EBF0F8",
           "zerolinewidth": 2
          },
          "yaxis": {
           "automargin": true,
           "gridcolor": "#EBF0F8",
           "linecolor": "black",
           "linewidth": 2,
           "mirror": true,
           "showline": true,
           "ticks": "",
           "title": {
            "standoff": 15
           },
           "zeroline": false,
           "zerolinecolor": "#EBF0F8",
           "zerolinewidth": 2
          }
         }
        }
       }
      },
      "text/html": [
       "<div>\n",
       "        \n",
       "        \n",
       "            <div id=\"54daddc4-095f-4649-a101-ff2d25a60de2\" class=\"plotly-graph-div\" style=\"height:525px; width:100%;\"></div>\n",
       "            <script type=\"text/javascript\">\n",
       "                require([\"plotly\"], function(Plotly) {\n",
       "                    window.PLOTLYENV=window.PLOTLYENV || {};\n",
       "                    \n",
       "                if (document.getElementById(\"54daddc4-095f-4649-a101-ff2d25a60de2\")) {\n",
       "                    Plotly.newPlot(\n",
       "                        '54daddc4-095f-4649-a101-ff2d25a60de2',\n",
       "                        [{\"customdata\": [0.01, 0.01, 0.01, 0.01, 0.01, 0.01, 0.01, 0.01, 0.01, 0.01, 0.01, 0.01, 0.01, 0.01, 0.01, 0.01, 0.01, 0.01, 0.01, 0.01, 0.01, 0.01, 0.01, 0.01, 0.01, 0.01, 0.01, 0.01, 0.01, 0.01, 0.01, 0.01, 0.01, 0.01, 0.01, 0.01, 0.01, 0.01, 0.01, 0.01, 0.01, 0.01, 0.01, 0.01, 0.01, 0.01, 0.01, 0.01, 0.01, 0.01, 76.42972712179993, 76.42972712179993, 76.42972712179993, 76.42972712179993, 76.42972712179993, 76.42972712179993, 76.42972712179993, 76.42972712179993, 76.42972712179993, 76.42972712179993, 76.42972712179993, 76.42972712179993, 76.42972712179993, 76.42972712179993, 76.42972712179993, 76.42972712179993, 76.42972712179993, 76.42972712179993, 76.42972712179993, 76.42972712179993, 76.42972712179993, 76.42972712179993, 76.42972712179993, 76.42972712179993, 76.42972712179993, 76.42972712179993, 76.42972712179993, 76.42972712179993, 76.42972712179993, 76.42972712179993, 76.42972712179993, 76.42972712179993, 76.42972712179993, 76.42972712179993, 76.42972712179993, 76.42972712179993, 76.42972712179993, 76.42972712179993, 76.42972712179993, 76.42972712179993, 76.42972712179993, 76.42972712179993, 76.42972712179993, 76.42972712179993, 76.42972712179993, 76.42972712179993, 76.42972712179993, 76.42972712179993, 76.42972712179993, 76.42972712179993, 223.67217284110473, 223.67217284110473, 223.67217284110473, 223.67217284110473, 223.67217284110473, 223.67217284110473, 223.67217284110473, 223.67217284110473, 223.67217284110473, 223.67217284110473, 223.67217284110473, 223.67217284110473, 223.67217284110473, 223.67217284110473, 223.67217284110473, 223.67217284110473, 223.67217284110473, 223.67217284110473, 223.67217284110473, 223.67217284110473, 223.67217284110473, 223.67217284110473, 223.67217284110473, 223.67217284110473, 223.67217284110473, 223.67217284110473, 223.67217284110473, 223.67217284110473, 223.67217284110473, 223.67217284110473, 223.67217284110473, 223.67217284110473, 223.67217284110473, 223.67217284110473, 223.67217284110473, 223.67217284110473, 223.67217284110473, 223.67217284110473, 223.67217284110473, 223.67217284110473, 223.67217284110473, 223.67217284110473, 223.67217284110473, 223.67217284110473, 223.67217284110473, 223.67217284110473, 223.67217284110473, 223.67217284110473, 223.67217284110473, 223.67217284110473, 400.4829921094848, 400.4829921094848, 400.4829921094848, 400.4829921094848, 400.4829921094848, 400.4829921094848, 400.4829921094848, 400.4829921094848, 400.4829921094848, 400.4829921094848, 400.4829921094848, 400.4829921094848, 400.4829921094848, 400.4829921094848, 400.4829921094848, 400.4829921094848, 400.4829921094848, 400.4829921094848, 400.4829921094848, 400.4829921094848, 400.4829921094848, 400.4829921094848, 400.4829921094848, 400.4829921094848, 400.4829921094848, 400.4829921094848, 400.4829921094848, 400.4829921094848, 400.4829921094848, 400.4829921094848, 400.4829921094848, 400.4829921094848, 400.4829921094848, 400.4829921094848, 400.4829921094848, 400.4829921094848, 400.4829921094848, 400.4829921094848, 400.4829921094848, 400.4829921094848, 400.4829921094848, 400.4829921094848, 400.4829921094848, 400.4829921094848, 400.4829921094848, 400.4829921094848, 400.4829921094848, 400.4829921094848, 400.4829921094848, 400.4829921094848, 619.898404409835, 619.898404409835, 619.898404409835, 619.898404409835, 619.898404409835, 619.898404409835, 619.898404409835, 619.898404409835, 619.898404409835, 619.898404409835, 619.898404409835, 619.898404409835, 619.898404409835, 619.898404409835, 619.898404409835, 619.898404409835, 619.898404409835, 619.898404409835, 619.898404409835, 619.898404409835, 619.898404409835, 619.898404409835, 619.898404409835, 619.898404409835, 619.898404409835, 619.898404409835, 619.898404409835, 619.898404409835, 619.898404409835, 619.898404409835, 619.898404409835, 619.898404409835, 619.898404409835, 619.898404409835, 619.898404409835, 619.898404409835, 619.898404409835, 619.898404409835, 619.898404409835, 619.898404409835, 619.898404409835, 619.898404409835, 619.898404409835, 619.898404409835, 619.898404409835, 619.898404409835, 619.898404409835, 619.898404409835, 619.898404409835, 619.898404409835, 903.804007317573, 903.804007317573, 903.804007317573, 903.804007317573, 903.804007317573, 903.804007317573, 903.804007317573, 903.804007317573, 903.804007317573, 903.804007317573, 903.804007317573, 903.804007317573, 903.804007317573, 903.804007317573, 903.804007317573, 903.804007317573, 903.804007317573, 903.804007317573, 903.804007317573, 903.804007317573, 903.804007317573, 903.804007317573, 903.804007317573, 903.804007317573, 903.804007317573, 903.804007317573, 903.804007317573, 903.804007317573, 903.804007317573, 903.804007317573, 903.804007317573, 903.804007317573, 903.804007317573, 903.804007317573, 903.804007317573, 903.804007317573, 903.804007317573, 903.804007317573, 903.804007317573, 903.804007317573, 903.804007317573, 903.804007317573, 903.804007317573, 903.804007317573, 903.804007317573, 903.804007317573, 903.804007317573, 903.804007317573, 903.804007317573, 903.804007317573, 1281.7993346730218, 1281.7993346730218, 1281.7993346730218, 1281.7993346730218, 1281.7993346730218, 1281.7993346730218, 1281.7993346730218, 1281.7993346730218, 1281.7993346730218, 1281.7993346730218, 1281.7993346730218, 1281.7993346730218, 1281.7993346730218, 1281.7993346730218, 1281.7993346730218, 1281.7993346730218, 1281.7993346730218, 1281.7993346730218, 1281.7993346730218, 1281.7993346730218, 1281.7993346730218, 1281.7993346730218, 1281.7993346730218, 1281.7993346730218, 1281.7993346730218, 1281.7993346730218, 1281.7993346730218, 1281.7993346730218, 1281.7993346730218, 1281.7993346730218, 1281.7993346730218, 1281.7993346730218, 1281.7993346730218, 1281.7993346730218, 1281.7993346730218, 1281.7993346730218, 1281.7993346730218, 1281.7993346730218, 1281.7993346730218, 1281.7993346730218, 1281.7993346730218, 1281.7993346730218, 1281.7993346730218, 1281.7993346730218, 1281.7993346730218, 1281.7993346730218, 1281.7993346730218, 1281.7993346730218, 1281.7993346730218, 1281.7993346730218, 1792.2345487538719, 1792.2345487538719, 1792.2345487538719, 1792.2345487538719, 1792.2345487538719, 1792.2345487538719, 1792.2345487538719, 1792.2345487538719, 1792.2345487538719, 1792.2345487538719, 1792.2345487538719, 1792.2345487538719, 1792.2345487538719, 1792.2345487538719, 1792.2345487538719, 1792.2345487538719, 1792.2345487538719, 1792.2345487538719, 1792.2345487538719, 1792.2345487538719, 1792.2345487538719, 1792.2345487538719, 1792.2345487538719, 1792.2345487538719, 1792.2345487538719, 1792.2345487538719, 1792.2345487538719, 1792.2345487538719, 1792.2345487538719, 1792.2345487538719, 1792.2345487538719, 1792.2345487538719, 1792.2345487538719, 1792.2345487538719, 1792.2345487538719, 1792.2345487538719, 1792.2345487538719, 1792.2345487538719, 1792.2345487538719, 1792.2345487538719, 1792.2345487538719, 1792.2345487538719, 1792.2345487538719, 1792.2345487538719, 1792.2345487538719, 1792.2345487538719, 1792.2345487538719, 1792.2345487538719, 1792.2345487538719, 1792.2345487538719, 0.0, 0.0, 2480.269002617444, 2480.269002617444, 2480.269002617444, 2480.269002617444, 2480.269002617444, 2480.269002617444, 2480.269002617444, 2480.269002617444, 2480.269002617444, 2480.269002617444, 2480.269002617444, 2480.269002617444, 2480.269002617444, 2480.269002617444, 2480.269002617444, 2480.269002617444, 2480.269002617444, 2480.269002617444, 2480.269002617444, 2480.269002617444, 2480.269002617444, 2480.269002617444, 2480.269002617444, 2480.269002617444, 2480.269002617444, 2480.269002617444, 2480.269002617444, 2480.269002617444, 2480.269002617444, 2480.269002617444, 2480.269002617444, 2480.269002617444, 2480.269002617444, 2480.269002617444, 2480.269002617444, 2480.269002617444, 2480.269002617444, 2480.269002617444, 2480.269002617444, 2480.269002617444, 2480.269002617444, 2480.269002617444, 2480.269002617444, 2480.269002617444, 2480.269002617444, 2480.269002617444, 2480.269002617444, 2480.269002617444, 0.0, 0.0, 0.0, 0.0, 0.0, 0.0, 0.0, 3386.8028558946153, 3386.8028558946153, 3386.8028558946153, 3386.8028558946153, 3386.8028558946153, 3386.8028558946153, 3386.8028558946153, 3386.8028558946153, 3386.8028558946153, 3386.8028558946153, 3386.8028558946153, 3386.8028558946153, 3386.8028558946153, 3386.8028558946153, 3386.8028558946153, 3386.8028558946153, 3386.8028558946153, 3386.8028558946153, 3386.8028558946153, 3386.8028558946153, 3386.8028558946153, 3386.8028558946153, 3386.8028558946153, 3386.8028558946153, 3386.8028558946153, 3386.8028558946153, 3386.8028558946153, 3386.8028558946153, 3386.8028558946153, 3386.8028558946153, 3386.8028558946153, 3386.8028558946153, 3386.8028558946153, 3386.8028558946153, 3386.8028558946153, 3386.8028558946153, 3386.8028558946153, 3386.8028558946153, 3386.8028558946153, 3386.8028558946153, 3386.8028558946153, 3386.8028558946153, 3386.8028558946153, 0.0, 0.0, 0.0, 0.0, 0.0, 0.0, 0.0, 0.0, 0.0, 0.0, 0.0, 4517.025644213125, 4517.025644213125, 4517.025644213125, 4517.025644213125, 4517.025644213125, 4517.025644213125, 4517.025644213125, 4517.025644213125, 4517.025644213125, 4517.025644213125, 4517.025644213125, 4517.025644213125, 4517.025644213125, 4517.025644213125, 4517.025644213125, 4517.025644213125, 4517.025644213125, 4517.025644213125, 4517.025644213125, 4517.025644213125, 4517.025644213125, 4517.025644213125, 4517.025644213125, 4517.025644213125, 4517.025644213125, 4517.025644213125, 4517.025644213125, 4517.025644213125, 4517.025644213125, 4517.025644213125, 4517.025644213125, 4517.025644213125, 4517.025644213125, 4517.025644213125, 4517.025644213125, 4517.025644213125, 4517.025644213125, 4517.025644213125, 4517.025644213125, 0.0, 0.0, 0.0, 0.0, 0.0, 0.0, 0.0, 0.0, 0.0, 0.0, 0.0, 0.0, 0.0, 0.0, 0.0, 5774.265230251943, 5774.265230251943, 5774.265230251943, 5774.265230251943, 5774.265230251943, 5774.265230251943, 5774.265230251943, 5774.265230251943, 5774.265230251943, 5774.265230251943, 5774.265230251943, 5774.265230251943, 5774.265230251943, 5774.265230251943, 5774.265230251943, 5774.265230251943, 5774.265230251943, 5774.265230251943, 5774.265230251943, 5774.265230251943, 5774.265230251943, 5774.265230251943, 5774.265230251943, 5774.265230251943, 5774.265230251943, 5774.265230251943, 5774.265230251943, 5774.265230251943, 5774.265230251943, 5774.265230251943, 5774.265230251943, 5774.265230251943, 5774.265230251943, 5774.265230251943, 5774.265230251943, 0.0, 0.0, 0.0, 0.0, 0.0, 0.0, 0.0, 0.0, 0.0, 0.0, 0.0, 0.0, 0.0, 0.0, 0.0, 0.0, 0.0, 0.0, 0.0, 6861.781547039674, 6861.781547039674, 6861.781547039674, 6861.781547039674, 6861.781547039674, 6861.781547039674, 6861.781547039674, 6861.781547039674, 6861.781547039674, 6861.781547039674, 6861.781547039674, 6861.781547039674, 6861.781547039674, 6861.781547039674, 6861.781547039674, 6861.781547039674, 6861.781547039674, 6861.781547039674, 6861.781547039674, 6861.781547039674, 6861.781547039674, 6861.781547039674, 6861.781547039674, 6861.781547039674, 6861.781547039674, 6861.781547039674, 6861.781547039674, 6861.781547039674, 6861.781547039674, 6861.781547039674, 6861.781547039674, 0.0, 0.0, 0.0, 0.0, 0.0, 0.0, 0.0, 0.0, 0.0, 0.0, 0.0, 0.0, 0.0, 0.0, 0.0, 0.0, 0.0, 0.0, 0.0, 0.0, 0.0, 0.0, 7224.265035543231, 7224.265035543231, 7224.265035543231, 7224.265035543231, 7224.265035543231, 7224.265035543231, 7224.265035543231, 7224.265035543231, 7224.265035543231, 7224.265035543231, 7224.265035543231, 7224.265035543231, 7224.265035543231, 7224.265035543231, 7224.265035543231, 7224.265035543231, 7224.265035543231, 7224.265035543231, 7224.265035543231, 7224.265035543231, 7224.265035543231, 7224.265035543231, 7224.265035543231, 7224.265035543231, 7224.265035543231, 7224.265035543231, 7224.265035543231, 7224.265035543231, 0.0, 0.0, 0.0, 0.0, 0.0, 0.0, 0.0, 0.0, 0.0, 0.0, 0.0, 0.0, 0.0, 0.0, 0.0, 0.0, 0.0, 0.0, 0.0, 0.0, 0.0, 0.0, 0.0, 0.0, 6211.635241299464, 6211.635241299464, 6211.635241299464, 6211.635241299464, 6211.635241299464, 6211.635241299464, 6211.635241299464, 6211.635241299464, 6211.635241299464, 6211.635241299464, 6211.635241299464, 6211.635241299464, 6211.635241299464, 6211.635241299464, 6211.635241299464, 6211.635241299464, 6211.635241299464, 6211.635241299464, 6211.635241299464, 6211.635241299464, 6211.635241299464, 6211.635241299464, 6211.635241299464, 6211.635241299464, 6211.635241299464, 6211.635241299464, 0.0, 0.0, 0.0, 0.0, 0.0, 0.0, 0.0, 0.0, 0.0, 0.0, 0.0, 0.0, 0.0, 0.0, 0.0, 0.0, 0.0, 0.0, 0.0, 0.0, 0.0, 0.0, 0.0, 0.0, 0.0, 3590.9252652782016, 3590.9252652782016, 3590.9252652782016, 3590.9252652782016, 3590.9252652782016, 3590.9252652782016, 3590.9252652782016, 3590.9252652782016, 3590.9252652782016, 3590.9252652782016, 3590.9252652782016, 3590.9252652782016, 3590.9252652782016, 3590.9252652782016, 3590.9252652782016, 3590.9252652782016, 3590.9252652782016, 3590.9252652782016, 3590.9252652782016, 3590.9252652782016, 3590.9252652782016, 3590.9252652782016, 3590.9252652782016, 3590.9252652782016, 3590.9252652782016, 0.0, 0.0, 0.0, 0.0, 0.0, 0.0, 0.0, 0.0, 0.0, 0.0, 0.0, 0.0, 0.0, 0.0, 0.0, 0.0, 0.0, 0.0, 0.0, 0.0, 0.0, 0.0, 0.0, 0.0, 0.0, 38.294606440444895, 38.294606440444895, 38.294606440444895, 38.294606440444895, 38.294606440444895, 38.294606440444895, 38.294606440444895, 38.294606440444895, 38.294606440444895, 38.294606440444895, 38.294606440444895, 38.294606440444895, 38.294606440444895, 38.294606440444895, 38.294606440444895, 38.294606440444895, 38.294606440444895, 38.294606440444895, 38.294606440444895, 38.294606440444895, 38.294606440444895, 38.294606440444895, 38.294606440444895, 38.294606440444895, 38.294606440444895, 0.0, 0.0, 0.0, 0.0, 0.0, 0.0, 0.0, 0.0, 0.0, 0.0, 0.0, 0.0, 0.0, 0.0, 0.0, 0.0, 0.0, 0.0, 0.0, 0.0, 0.0, 0.0, 0.0, 0.0, 0.01, 0.01, 0.01, 0.01, 0.01, 0.01, 0.01, 0.01, 0.01, 0.01, 0.01, 0.01, 0.01, 0.01, 0.01, 0.01, 0.01, 0.01, 0.01, 0.01, 0.01, 0.01, 0.01, 0.01, 0.01, 0.01, 0.0, 0.0, 0.0, 0.0, 0.0, 0.0, 0.0, 0.0, 0.0, 0.0, 0.0, 0.0, 0.0, 0.0, 0.0, 0.0, 0.0, 0.0, 0.0, 0.0, 0.0, 0.0, 0.01, 0.01, 0.01, 0.01, 0.01, 0.01, 0.01, 0.01, 0.01, 0.01, 0.01, 0.01, 0.01, 0.01, 0.01, 0.01, 0.01, 0.01, 0.01, 0.01, 0.01, 0.01, 0.01, 0.01, 0.01, 0.01, 0.01, 0.01, 0.0, 0.0, 0.0, 0.0, 0.0, 0.0, 0.0, 0.0, 0.0, 0.0, 0.0, 0.0, 0.0, 0.0, 0.0, 0.0, 0.0, 0.0, 0.0, 0.01, 0.01, 0.01, 0.01, 0.01, 0.01, 0.01, 0.01, 0.01, 0.01, 0.01, 0.01, 0.01, 0.01, 0.01, 0.01, 0.01, 0.01, 0.01, 0.01, 0.01, 0.01, 0.01, 0.01, 0.01, 0.01, 0.01, 0.01, 0.01, 0.01, 0.01, 0.0, 0.0, 0.0, 0.0, 0.0, 0.0, 0.0, 0.0, 0.0, 0.0, 0.0, 0.0, 0.0, 0.0, 0.0, 0.01, 0.01, 0.01, 0.01, 0.01, 0.01, 0.01, 0.01, 0.01, 0.01, 0.01, 0.01, 0.01, 0.01, 0.01, 0.01, 0.01, 0.01, 0.01, 0.01, 0.01, 0.01, 0.01, 0.01, 0.01, 0.01, 0.01, 0.01, 0.01, 0.01, 0.01, 0.01, 0.01, 0.01, 0.01, 0.0, 0.0, 0.0, 0.0, 0.0, 0.0, 0.0, 0.0, 0.0, 0.0, 0.0, 0.01, 0.01, 0.01, 0.01, 0.01, 0.01, 0.01, 0.01, 0.01, 0.01, 0.01, 0.01, 0.01, 0.01, 0.01, 0.01, 0.01, 0.01, 0.01, 0.01, 0.01, 0.01, 0.01, 0.01, 0.01, 0.01, 0.01, 0.01, 0.01, 0.01, 0.01, 0.01, 0.01, 0.01, 0.01, 0.01, 0.01, 0.01, 0.01, 0.0, 0.0, 0.0, 0.0, 0.0, 0.0, 0.0, 0.01, 0.01, 0.01, 0.01, 0.01, 0.01, 0.01, 0.01, 0.01, 0.01, 0.01, 0.01, 0.01, 0.01, 0.01, 0.01, 0.01, 0.01, 0.01, 0.01, 0.01, 0.01, 0.01, 0.01, 0.01, 0.01, 0.01, 0.01, 0.01, 0.01, 0.01, 0.01, 0.01, 0.01, 0.01, 0.01, 0.01, 0.01, 0.01, 0.01, 0.01, 0.01, 0.01, 0.0, 0.0, 0.01, 0.01, 0.01, 0.01, 0.01, 0.01, 0.01, 0.01, 0.01, 0.01, 0.01, 0.01, 0.01, 0.01, 0.01, 0.01, 0.01, 0.01, 0.01, 0.01, 0.01, 0.01, 0.01, 0.01, 0.01, 0.01, 0.01, 0.01, 0.01, 0.01, 0.01, 0.01, 0.01, 0.01, 0.01, 0.01, 0.01, 0.01, 0.01, 0.01, 0.01, 0.01, 0.01, 0.01, 0.01, 0.01, 0.01, 0.01, 0.01, 0.01, 0.01, 0.01, 0.01, 0.01, 0.01, 0.01, 0.01, 0.01, 0.01, 0.01, 0.01, 0.01, 0.01, 0.01, 0.01, 0.01, 0.01, 0.01, 0.01, 0.01, 0.01, 0.01, 0.01, 0.01, 0.01, 0.01, 0.01, 0.01, 0.01, 0.01, 0.01, 0.01, 0.01, 0.01, 0.01, 0.01, 0.01, 0.01, 0.01, 0.01, 0.01, 0.01, 0.01, 0.01, 0.01, 0.01, 0.01, 0.01, 0.01, 0.01, 0.01, 0.01, 0.01, 0.01, 0.01, 0.01, 0.01, 0.01, 0.01, 0.01, 0.01, 0.01, 0.01, 0.01, 0.01, 0.01, 0.01, 0.01, 0.01, 0.01, 0.01, 0.01, 0.01, 0.01, 0.01, 0.01, 0.01, 0.01, 0.01, 0.01, 0.01, 0.01, 0.01, 0.01, 0.01, 0.01, 0.01, 0.01, 0.01, 0.01, 0.01, 0.01, 0.01, 0.01, 0.01, 0.01, 0.01, 0.01, 0.01, 0.01, 0.01, 0.01, 0.01, 0.01, 0.01, 0.01, 0.01, 0.01, 0.01, 0.01, 0.01, 0.01, 0.01, 0.01, 0.01, 0.01, 0.01, 0.01, 0.01, 0.01, 0.01, 0.01, 0.01, 0.01, 0.01, 0.01, 0.01, 0.01, 0.01, 0.01, 0.01, 0.01, 0.01, 0.01, 0.01, 0.01, 0.01, 0.01, 0.01, 0.01, 0.01, 0.01, 0.01, 0.01, 0.01, 0.01, 0.01, 0.01, 0.01, 0.01, 0.01, 0.01, 0.01, 0.01, 0.01, 0.01, 0.01, 0.01, 0.01, 0.01, 0.01, 0.01, 0.01, 0.01, 0.01, 0.01, 0.01, 0.01, 0.01, 0.01, 0.01, 0.01, 0.01, 0.01, 0.01, 0.01, 0.01, 0.01, 0.01, 0.01, 0.01, 0.01, 0.01, 0.01, 0.01, 0.01, 0.01, 0.01, 0.01, 0.01, 0.01, 0.01, 0.01, 0.01, 0.01, 0.01, 0.01, 0.01, 0.01, 0.01, 0.01, 0.01, 0.01, 0.01, 0.01, 0.01, 0.01, 0.01, 0.01, 0.01, 0.01, 0.01, 0.01, 0.01, 0.01, 0.01, 0.01, 0.01, 0.01, 0.01, 0.01, 0.01, 0.01, 0.01, 0.01, 0.01, 0.01, 0.01, 0.01, 0.01, 0.01, 0.01, 0.01, 0.01, 0.01, 0.01, 0.01, 0.01, 0.01, 0.01, 0.01, 0.01, 0.01, 0.01, 0.01, 0.01, 0.01, 0.01, 0.01, 0.01, 0.01, 0.01, 0.01, 0.01, 0.01, 0.01, 0.01, 0.01, 0.01, 0.01, 0.01, 0.01, 0.01, 0.01, 0.01, 0.01, 0.01, 0.01, 0.01, 0.01, 0.01, 0.01, 0.01, 0.01, 0.01, 0.01, 0.01, 0.01, 0.01, 0.01, 0.01, 0.01, 0.01, 0.01, 0.01, 0.01, 0.01, 0.01, 0.01, 0.01, 0.01, 0.01, 0.01, 0.01, 0.01, 0.01, 0.01, 0.01, 0.01, 0.01, 0.01, 0.01, 0.01, 0.01, 0.01, 0.01, 0.01, 0.01, 0.01, 0.01, 0.01, 0.01, 0.01, 0.01, 0.01, 0.01, 0.01, 0.01, 0.01, 0.01, 0.01, 0.01, 0.01, 0.01, 0.01, 0.01, 0.01, 0.01, 0.01, 0.01, 0.01, 0.01, 0.01, 0.01, 0.01, 0.01, 0.01, 0.01, 0.01, 0.01, 0.01, 0.01, 0.01, 0.01, 0.01, 0.01, 0.01, 0.01, 0.01, 0.01, 0.01, 0.01, 0.01, 0.01, 0.01, 0.01, 0.01, 0.01, 0.01, 0.01, 0.01, 0.01, 0.01, 0.01, 0.01, 0.01, 0.01, 0.01, 0.01, 0.01, 0.01, 0.01, 0.01, 0.01, 0.01, 0.01, 0.01, 0.01, 0.01, 0.01, 0.01, 0.01, 0.01, 0.01, 0.01, 0.01, 0.01, 0.01, 0.01, 0.01, 0.01, 0.01, 0.01, 0.01, 0.01, 0.01, 0.01, 0.01], \"hovertemplate\": \"<b>Raddi: %{r:.4e}</b><br><b>\\u03b8: %{theta:.2f}</b><br><b>Pressure: %{customdata:.4e}</b>\", \"marker\": {\"cmax\": 7224.265035543231, \"cmin\": 0.0, \"color\": [0.01, 0.01, 0.01, 0.01, 0.01, 0.01, 0.01, 0.01, 0.01, 0.01, 0.01, 0.01, 0.01, 0.01, 0.01, 0.01, 0.01, 0.01, 0.01, 0.01, 0.01, 0.01, 0.01, 0.01, 0.01, 0.01, 0.01, 0.01, 0.01, 0.01, 0.01, 0.01, 0.01, 0.01, 0.01, 0.01, 0.01, 0.01, 0.01, 0.01, 0.01, 0.01, 0.01, 0.01, 0.01, 0.01, 0.01, 0.01, 0.01, 0.01, 76.42972712179993, 76.42972712179993, 76.42972712179993, 76.42972712179993, 76.42972712179993, 76.42972712179993, 76.42972712179993, 76.42972712179993, 76.42972712179993, 76.42972712179993, 76.42972712179993, 76.42972712179993, 76.42972712179993, 76.42972712179993, 76.42972712179993, 76.42972712179993, 76.42972712179993, 76.42972712179993, 76.42972712179993, 76.42972712179993, 76.42972712179993, 76.42972712179993, 76.42972712179993, 76.42972712179993, 76.42972712179993, 76.42972712179993, 76.42972712179993, 76.42972712179993, 76.42972712179993, 76.42972712179993, 76.42972712179993, 76.42972712179993, 76.42972712179993, 76.42972712179993, 76.42972712179993, 76.42972712179993, 76.42972712179993, 76.42972712179993, 76.42972712179993, 76.42972712179993, 76.42972712179993, 76.42972712179993, 76.42972712179993, 76.42972712179993, 76.42972712179993, 76.42972712179993, 76.42972712179993, 76.42972712179993, 76.42972712179993, 76.42972712179993, 223.67217284110473, 223.67217284110473, 223.67217284110473, 223.67217284110473, 223.67217284110473, 223.67217284110473, 223.67217284110473, 223.67217284110473, 223.67217284110473, 223.67217284110473, 223.67217284110473, 223.67217284110473, 223.67217284110473, 223.67217284110473, 223.67217284110473, 223.67217284110473, 223.67217284110473, 223.67217284110473, 223.67217284110473, 223.67217284110473, 223.67217284110473, 223.67217284110473, 223.67217284110473, 223.67217284110473, 223.67217284110473, 223.67217284110473, 223.67217284110473, 223.67217284110473, 223.67217284110473, 223.67217284110473, 223.67217284110473, 223.67217284110473, 223.67217284110473, 223.67217284110473, 223.67217284110473, 223.67217284110473, 223.67217284110473, 223.67217284110473, 223.67217284110473, 223.67217284110473, 223.67217284110473, 223.67217284110473, 223.67217284110473, 223.67217284110473, 223.67217284110473, 223.67217284110473, 223.67217284110473, 223.67217284110473, 223.67217284110473, 223.67217284110473, 400.4829921094848, 400.4829921094848, 400.4829921094848, 400.4829921094848, 400.4829921094848, 400.4829921094848, 400.4829921094848, 400.4829921094848, 400.4829921094848, 400.4829921094848, 400.4829921094848, 400.4829921094848, 400.4829921094848, 400.4829921094848, 400.4829921094848, 400.4829921094848, 400.4829921094848, 400.4829921094848, 400.4829921094848, 400.4829921094848, 400.4829921094848, 400.4829921094848, 400.4829921094848, 400.4829921094848, 400.4829921094848, 400.4829921094848, 400.4829921094848, 400.4829921094848, 400.4829921094848, 400.4829921094848, 400.4829921094848, 400.4829921094848, 400.4829921094848, 400.4829921094848, 400.4829921094848, 400.4829921094848, 400.4829921094848, 400.4829921094848, 400.4829921094848, 400.4829921094848, 400.4829921094848, 400.4829921094848, 400.4829921094848, 400.4829921094848, 400.4829921094848, 400.4829921094848, 400.4829921094848, 400.4829921094848, 400.4829921094848, 400.4829921094848, 619.898404409835, 619.898404409835, 619.898404409835, 619.898404409835, 619.898404409835, 619.898404409835, 619.898404409835, 619.898404409835, 619.898404409835, 619.898404409835, 619.898404409835, 619.898404409835, 619.898404409835, 619.898404409835, 619.898404409835, 619.898404409835, 619.898404409835, 619.898404409835, 619.898404409835, 619.898404409835, 619.898404409835, 619.898404409835, 619.898404409835, 619.898404409835, 619.898404409835, 619.898404409835, 619.898404409835, 619.898404409835, 619.898404409835, 619.898404409835, 619.898404409835, 619.898404409835, 619.898404409835, 619.898404409835, 619.898404409835, 619.898404409835, 619.898404409835, 619.898404409835, 619.898404409835, 619.898404409835, 619.898404409835, 619.898404409835, 619.898404409835, 619.898404409835, 619.898404409835, 619.898404409835, 619.898404409835, 619.898404409835, 619.898404409835, 619.898404409835, 903.804007317573, 903.804007317573, 903.804007317573, 903.804007317573, 903.804007317573, 903.804007317573, 903.804007317573, 903.804007317573, 903.804007317573, 903.804007317573, 903.804007317573, 903.804007317573, 903.804007317573, 903.804007317573, 903.804007317573, 903.804007317573, 903.804007317573, 903.804007317573, 903.804007317573, 903.804007317573, 903.804007317573, 903.804007317573, 903.804007317573, 903.804007317573, 903.804007317573, 903.804007317573, 903.804007317573, 903.804007317573, 903.804007317573, 903.804007317573, 903.804007317573, 903.804007317573, 903.804007317573, 903.804007317573, 903.804007317573, 903.804007317573, 903.804007317573, 903.804007317573, 903.804007317573, 903.804007317573, 903.804007317573, 903.804007317573, 903.804007317573, 903.804007317573, 903.804007317573, 903.804007317573, 903.804007317573, 903.804007317573, 903.804007317573, 903.804007317573, 1281.7993346730218, 1281.7993346730218, 1281.7993346730218, 1281.7993346730218, 1281.7993346730218, 1281.7993346730218, 1281.7993346730218, 1281.7993346730218, 1281.7993346730218, 1281.7993346730218, 1281.7993346730218, 1281.7993346730218, 1281.7993346730218, 1281.7993346730218, 1281.7993346730218, 1281.7993346730218, 1281.7993346730218, 1281.7993346730218, 1281.7993346730218, 1281.7993346730218, 1281.7993346730218, 1281.7993346730218, 1281.7993346730218, 1281.7993346730218, 1281.7993346730218, 1281.7993346730218, 1281.7993346730218, 1281.7993346730218, 1281.7993346730218, 1281.7993346730218, 1281.7993346730218, 1281.7993346730218, 1281.7993346730218, 1281.7993346730218, 1281.7993346730218, 1281.7993346730218, 1281.7993346730218, 1281.7993346730218, 1281.7993346730218, 1281.7993346730218, 1281.7993346730218, 1281.7993346730218, 1281.7993346730218, 1281.7993346730218, 1281.7993346730218, 1281.7993346730218, 1281.7993346730218, 1281.7993346730218, 1281.7993346730218, 1281.7993346730218, 1792.2345487538719, 1792.2345487538719, 1792.2345487538719, 1792.2345487538719, 1792.2345487538719, 1792.2345487538719, 1792.2345487538719, 1792.2345487538719, 1792.2345487538719, 1792.2345487538719, 1792.2345487538719, 1792.2345487538719, 1792.2345487538719, 1792.2345487538719, 1792.2345487538719, 1792.2345487538719, 1792.2345487538719, 1792.2345487538719, 1792.2345487538719, 1792.2345487538719, 1792.2345487538719, 1792.2345487538719, 1792.2345487538719, 1792.2345487538719, 1792.2345487538719, 1792.2345487538719, 1792.2345487538719, 1792.2345487538719, 1792.2345487538719, 1792.2345487538719, 1792.2345487538719, 1792.2345487538719, 1792.2345487538719, 1792.2345487538719, 1792.2345487538719, 1792.2345487538719, 1792.2345487538719, 1792.2345487538719, 1792.2345487538719, 1792.2345487538719, 1792.2345487538719, 1792.2345487538719, 1792.2345487538719, 1792.2345487538719, 1792.2345487538719, 1792.2345487538719, 1792.2345487538719, 1792.2345487538719, 1792.2345487538719, 1792.2345487538719, 0.0, 0.0, 2480.269002617444, 2480.269002617444, 2480.269002617444, 2480.269002617444, 2480.269002617444, 2480.269002617444, 2480.269002617444, 2480.269002617444, 2480.269002617444, 2480.269002617444, 2480.269002617444, 2480.269002617444, 2480.269002617444, 2480.269002617444, 2480.269002617444, 2480.269002617444, 2480.269002617444, 2480.269002617444, 2480.269002617444, 2480.269002617444, 2480.269002617444, 2480.269002617444, 2480.269002617444, 2480.269002617444, 2480.269002617444, 2480.269002617444, 2480.269002617444, 2480.269002617444, 2480.269002617444, 2480.269002617444, 2480.269002617444, 2480.269002617444, 2480.269002617444, 2480.269002617444, 2480.269002617444, 2480.269002617444, 2480.269002617444, 2480.269002617444, 2480.269002617444, 2480.269002617444, 2480.269002617444, 2480.269002617444, 2480.269002617444, 2480.269002617444, 2480.269002617444, 2480.269002617444, 2480.269002617444, 2480.269002617444, 0.0, 0.0, 0.0, 0.0, 0.0, 0.0, 0.0, 3386.8028558946153, 3386.8028558946153, 3386.8028558946153, 3386.8028558946153, 3386.8028558946153, 3386.8028558946153, 3386.8028558946153, 3386.8028558946153, 3386.8028558946153, 3386.8028558946153, 3386.8028558946153, 3386.8028558946153, 3386.8028558946153, 3386.8028558946153, 3386.8028558946153, 3386.8028558946153, 3386.8028558946153, 3386.8028558946153, 3386.8028558946153, 3386.8028558946153, 3386.8028558946153, 3386.8028558946153, 3386.8028558946153, 3386.8028558946153, 3386.8028558946153, 3386.8028558946153, 3386.8028558946153, 3386.8028558946153, 3386.8028558946153, 3386.8028558946153, 3386.8028558946153, 3386.8028558946153, 3386.8028558946153, 3386.8028558946153, 3386.8028558946153, 3386.8028558946153, 3386.8028558946153, 3386.8028558946153, 3386.8028558946153, 3386.8028558946153, 3386.8028558946153, 3386.8028558946153, 3386.8028558946153, 0.0, 0.0, 0.0, 0.0, 0.0, 0.0, 0.0, 0.0, 0.0, 0.0, 0.0, 4517.025644213125, 4517.025644213125, 4517.025644213125, 4517.025644213125, 4517.025644213125, 4517.025644213125, 4517.025644213125, 4517.025644213125, 4517.025644213125, 4517.025644213125, 4517.025644213125, 4517.025644213125, 4517.025644213125, 4517.025644213125, 4517.025644213125, 4517.025644213125, 4517.025644213125, 4517.025644213125, 4517.025644213125, 4517.025644213125, 4517.025644213125, 4517.025644213125, 4517.025644213125, 4517.025644213125, 4517.025644213125, 4517.025644213125, 4517.025644213125, 4517.025644213125, 4517.025644213125, 4517.025644213125, 4517.025644213125, 4517.025644213125, 4517.025644213125, 4517.025644213125, 4517.025644213125, 4517.025644213125, 4517.025644213125, 4517.025644213125, 4517.025644213125, 0.0, 0.0, 0.0, 0.0, 0.0, 0.0, 0.0, 0.0, 0.0, 0.0, 0.0, 0.0, 0.0, 0.0, 0.0, 5774.265230251943, 5774.265230251943, 5774.265230251943, 5774.265230251943, 5774.265230251943, 5774.265230251943, 5774.265230251943, 5774.265230251943, 5774.265230251943, 5774.265230251943, 5774.265230251943, 5774.265230251943, 5774.265230251943, 5774.265230251943, 5774.265230251943, 5774.265230251943, 5774.265230251943, 5774.265230251943, 5774.265230251943, 5774.265230251943, 5774.265230251943, 5774.265230251943, 5774.265230251943, 5774.265230251943, 5774.265230251943, 5774.265230251943, 5774.265230251943, 5774.265230251943, 5774.265230251943, 5774.265230251943, 5774.265230251943, 5774.265230251943, 5774.265230251943, 5774.265230251943, 5774.265230251943, 0.0, 0.0, 0.0, 0.0, 0.0, 0.0, 0.0, 0.0, 0.0, 0.0, 0.0, 0.0, 0.0, 0.0, 0.0, 0.0, 0.0, 0.0, 0.0, 6861.781547039674, 6861.781547039674, 6861.781547039674, 6861.781547039674, 6861.781547039674, 6861.781547039674, 6861.781547039674, 6861.781547039674, 6861.781547039674, 6861.781547039674, 6861.781547039674, 6861.781547039674, 6861.781547039674, 6861.781547039674, 6861.781547039674, 6861.781547039674, 6861.781547039674, 6861.781547039674, 6861.781547039674, 6861.781547039674, 6861.781547039674, 6861.781547039674, 6861.781547039674, 6861.781547039674, 6861.781547039674, 6861.781547039674, 6861.781547039674, 6861.781547039674, 6861.781547039674, 6861.781547039674, 6861.781547039674, 0.0, 0.0, 0.0, 0.0, 0.0, 0.0, 0.0, 0.0, 0.0, 0.0, 0.0, 0.0, 0.0, 0.0, 0.0, 0.0, 0.0, 0.0, 0.0, 0.0, 0.0, 0.0, 7224.265035543231, 7224.265035543231, 7224.265035543231, 7224.265035543231, 7224.265035543231, 7224.265035543231, 7224.265035543231, 7224.265035543231, 7224.265035543231, 7224.265035543231, 7224.265035543231, 7224.265035543231, 7224.265035543231, 7224.265035543231, 7224.265035543231, 7224.265035543231, 7224.265035543231, 7224.265035543231, 7224.265035543231, 7224.265035543231, 7224.265035543231, 7224.265035543231, 7224.265035543231, 7224.265035543231, 7224.265035543231, 7224.265035543231, 7224.265035543231, 7224.265035543231, 0.0, 0.0, 0.0, 0.0, 0.0, 0.0, 0.0, 0.0, 0.0, 0.0, 0.0, 0.0, 0.0, 0.0, 0.0, 0.0, 0.0, 0.0, 0.0, 0.0, 0.0, 0.0, 0.0, 0.0, 6211.635241299464, 6211.635241299464, 6211.635241299464, 6211.635241299464, 6211.635241299464, 6211.635241299464, 6211.635241299464, 6211.635241299464, 6211.635241299464, 6211.635241299464, 6211.635241299464, 6211.635241299464, 6211.635241299464, 6211.635241299464, 6211.635241299464, 6211.635241299464, 6211.635241299464, 6211.635241299464, 6211.635241299464, 6211.635241299464, 6211.635241299464, 6211.635241299464, 6211.635241299464, 6211.635241299464, 6211.635241299464, 6211.635241299464, 0.0, 0.0, 0.0, 0.0, 0.0, 0.0, 0.0, 0.0, 0.0, 0.0, 0.0, 0.0, 0.0, 0.0, 0.0, 0.0, 0.0, 0.0, 0.0, 0.0, 0.0, 0.0, 0.0, 0.0, 0.0, 3590.9252652782016, 3590.9252652782016, 3590.9252652782016, 3590.9252652782016, 3590.9252652782016, 3590.9252652782016, 3590.9252652782016, 3590.9252652782016, 3590.9252652782016, 3590.9252652782016, 3590.9252652782016, 3590.9252652782016, 3590.9252652782016, 3590.9252652782016, 3590.9252652782016, 3590.9252652782016, 3590.9252652782016, 3590.9252652782016, 3590.9252652782016, 3590.9252652782016, 3590.9252652782016, 3590.9252652782016, 3590.9252652782016, 3590.9252652782016, 3590.9252652782016, 0.0, 0.0, 0.0, 0.0, 0.0, 0.0, 0.0, 0.0, 0.0, 0.0, 0.0, 0.0, 0.0, 0.0, 0.0, 0.0, 0.0, 0.0, 0.0, 0.0, 0.0, 0.0, 0.0, 0.0, 0.0, 38.294606440444895, 38.294606440444895, 38.294606440444895, 38.294606440444895, 38.294606440444895, 38.294606440444895, 38.294606440444895, 38.294606440444895, 38.294606440444895, 38.294606440444895, 38.294606440444895, 38.294606440444895, 38.294606440444895, 38.294606440444895, 38.294606440444895, 38.294606440444895, 38.294606440444895, 38.294606440444895, 38.294606440444895, 38.294606440444895, 38.294606440444895, 38.294606440444895, 38.294606440444895, 38.294606440444895, 38.294606440444895, 0.0, 0.0, 0.0, 0.0, 0.0, 0.0, 0.0, 0.0, 0.0, 0.0, 0.0, 0.0, 0.0, 0.0, 0.0, 0.0, 0.0, 0.0, 0.0, 0.0, 0.0, 0.0, 0.0, 0.0, 0.01, 0.01, 0.01, 0.01, 0.01, 0.01, 0.01, 0.01, 0.01, 0.01, 0.01, 0.01, 0.01, 0.01, 0.01, 0.01, 0.01, 0.01, 0.01, 0.01, 0.01, 0.01, 0.01, 0.01, 0.01, 0.01, 0.0, 0.0, 0.0, 0.0, 0.0, 0.0, 0.0, 0.0, 0.0, 0.0, 0.0, 0.0, 0.0, 0.0, 0.0, 0.0, 0.0, 0.0, 0.0, 0.0, 0.0, 0.0, 0.01, 0.01, 0.01, 0.01, 0.01, 0.01, 0.01, 0.01, 0.01, 0.01, 0.01, 0.01, 0.01, 0.01, 0.01, 0.01, 0.01, 0.01, 0.01, 0.01, 0.01, 0.01, 0.01, 0.01, 0.01, 0.01, 0.01, 0.01, 0.0, 0.0, 0.0, 0.0, 0.0, 0.0, 0.0, 0.0, 0.0, 0.0, 0.0, 0.0, 0.0, 0.0, 0.0, 0.0, 0.0, 0.0, 0.0, 0.01, 0.01, 0.01, 0.01, 0.01, 0.01, 0.01, 0.01, 0.01, 0.01, 0.01, 0.01, 0.01, 0.01, 0.01, 0.01, 0.01, 0.01, 0.01, 0.01, 0.01, 0.01, 0.01, 0.01, 0.01, 0.01, 0.01, 0.01, 0.01, 0.01, 0.01, 0.0, 0.0, 0.0, 0.0, 0.0, 0.0, 0.0, 0.0, 0.0, 0.0, 0.0, 0.0, 0.0, 0.0, 0.0, 0.01, 0.01, 0.01, 0.01, 0.01, 0.01, 0.01, 0.01, 0.01, 0.01, 0.01, 0.01, 0.01, 0.01, 0.01, 0.01, 0.01, 0.01, 0.01, 0.01, 0.01, 0.01, 0.01, 0.01, 0.01, 0.01, 0.01, 0.01, 0.01, 0.01, 0.01, 0.01, 0.01, 0.01, 0.01, 0.0, 0.0, 0.0, 0.0, 0.0, 0.0, 0.0, 0.0, 0.0, 0.0, 0.0, 0.01, 0.01, 0.01, 0.01, 0.01, 0.01, 0.01, 0.01, 0.01, 0.01, 0.01, 0.01, 0.01, 0.01, 0.01, 0.01, 0.01, 0.01, 0.01, 0.01, 0.01, 0.01, 0.01, 0.01, 0.01, 0.01, 0.01, 0.01, 0.01, 0.01, 0.01, 0.01, 0.01, 0.01, 0.01, 0.01, 0.01, 0.01, 0.01, 0.0, 0.0, 0.0, 0.0, 0.0, 0.0, 0.0, 0.01, 0.01, 0.01, 0.01, 0.01, 0.01, 0.01, 0.01, 0.01, 0.01, 0.01, 0.01, 0.01, 0.01, 0.01, 0.01, 0.01, 0.01, 0.01, 0.01, 0.01, 0.01, 0.01, 0.01, 0.01, 0.01, 0.01, 0.01, 0.01, 0.01, 0.01, 0.01, 0.01, 0.01, 0.01, 0.01, 0.01, 0.01, 0.01, 0.01, 0.01, 0.01, 0.01, 0.0, 0.0, 0.01, 0.01, 0.01, 0.01, 0.01, 0.01, 0.01, 0.01, 0.01, 0.01, 0.01, 0.01, 0.01, 0.01, 0.01, 0.01, 0.01, 0.01, 0.01, 0.01, 0.01, 0.01, 0.01, 0.01, 0.01, 0.01, 0.01, 0.01, 0.01, 0.01, 0.01, 0.01, 0.01, 0.01, 0.01, 0.01, 0.01, 0.01, 0.01, 0.01, 0.01, 0.01, 0.01, 0.01, 0.01, 0.01, 0.01, 0.01, 0.01, 0.01, 0.01, 0.01, 0.01, 0.01, 0.01, 0.01, 0.01, 0.01, 0.01, 0.01, 0.01, 0.01, 0.01, 0.01, 0.01, 0.01, 0.01, 0.01, 0.01, 0.01, 0.01, 0.01, 0.01, 0.01, 0.01, 0.01, 0.01, 0.01, 0.01, 0.01, 0.01, 0.01, 0.01, 0.01, 0.01, 0.01, 0.01, 0.01, 0.01, 0.01, 0.01, 0.01, 0.01, 0.01, 0.01, 0.01, 0.01, 0.01, 0.01, 0.01, 0.01, 0.01, 0.01, 0.01, 0.01, 0.01, 0.01, 0.01, 0.01, 0.01, 0.01, 0.01, 0.01, 0.01, 0.01, 0.01, 0.01, 0.01, 0.01, 0.01, 0.01, 0.01, 0.01, 0.01, 0.01, 0.01, 0.01, 0.01, 0.01, 0.01, 0.01, 0.01, 0.01, 0.01, 0.01, 0.01, 0.01, 0.01, 0.01, 0.01, 0.01, 0.01, 0.01, 0.01, 0.01, 0.01, 0.01, 0.01, 0.01, 0.01, 0.01, 0.01, 0.01, 0.01, 0.01, 0.01, 0.01, 0.01, 0.01, 0.01, 0.01, 0.01, 0.01, 0.01, 0.01, 0.01, 0.01, 0.01, 0.01, 0.01, 0.01, 0.01, 0.01, 0.01, 0.01, 0.01, 0.01, 0.01, 0.01, 0.01, 0.01, 0.01, 0.01, 0.01, 0.01, 0.01, 0.01, 0.01, 0.01, 0.01, 0.01, 0.01, 0.01, 0.01, 0.01, 0.01, 0.01, 0.01, 0.01, 0.01, 0.01, 0.01, 0.01, 0.01, 0.01, 0.01, 0.01, 0.01, 0.01, 0.01, 0.01, 0.01, 0.01, 0.01, 0.01, 0.01, 0.01, 0.01, 0.01, 0.01, 0.01, 0.01, 0.01, 0.01, 0.01, 0.01, 0.01, 0.01, 0.01, 0.01, 0.01, 0.01, 0.01, 0.01, 0.01, 0.01, 0.01, 0.01, 0.01, 0.01, 0.01, 0.01, 0.01, 0.01, 0.01, 0.01, 0.01, 0.01, 0.01, 0.01, 0.01, 0.01, 0.01, 0.01, 0.01, 0.01, 0.01, 0.01, 0.01, 0.01, 0.01, 0.01, 0.01, 0.01, 0.01, 0.01, 0.01, 0.01, 0.01, 0.01, 0.01, 0.01, 0.01, 0.01, 0.01, 0.01, 0.01, 0.01, 0.01, 0.01, 0.01, 0.01, 0.01, 0.01, 0.01, 0.01, 0.01, 0.01, 0.01, 0.01, 0.01, 0.01, 0.01, 0.01, 0.01, 0.01, 0.01, 0.01, 0.01, 0.01, 0.01, 0.01, 0.01, 0.01, 0.01, 0.01, 0.01, 0.01, 0.01, 0.01, 0.01, 0.01, 0.01, 0.01, 0.01, 0.01, 0.01, 0.01, 0.01, 0.01, 0.01, 0.01, 0.01, 0.01, 0.01, 0.01, 0.01, 0.01, 0.01, 0.01, 0.01, 0.01, 0.01, 0.01, 0.01, 0.01, 0.01, 0.01, 0.01, 0.01, 0.01, 0.01, 0.01, 0.01, 0.01, 0.01, 0.01, 0.01, 0.01, 0.01, 0.01, 0.01, 0.01, 0.01, 0.01, 0.01, 0.01, 0.01, 0.01, 0.01, 0.01, 0.01, 0.01, 0.01, 0.01, 0.01, 0.01, 0.01, 0.01, 0.01, 0.01, 0.01, 0.01, 0.01, 0.01, 0.01, 0.01, 0.01, 0.01, 0.01, 0.01, 0.01, 0.01, 0.01, 0.01, 0.01, 0.01, 0.01, 0.01, 0.01, 0.01, 0.01, 0.01, 0.01, 0.01, 0.01, 0.01, 0.01, 0.01, 0.01, 0.01, 0.01, 0.01, 0.01, 0.01, 0.01, 0.01, 0.01, 0.01, 0.01, 0.01, 0.01, 0.01, 0.01, 0.01, 0.01, 0.01, 0.01, 0.01, 0.01, 0.01, 0.01, 0.01, 0.01, 0.01, 0.01, 0.01, 0.01, 0.01, 0.01, 0.01, 0.01, 0.01, 0.01, 0.01, 0.01, 0.01, 0.01, 0.01, 0.01, 0.01, 0.01, 0.01, 0.01, 0.01, 0.01, 0.01, 0.01], \"colorbar\": {\"title\": {\"side\": \"top\", \"text\": \"<b>Pressure</b>\"}}, \"colorscale\": [[0.0, \"#440154\"], [0.1111111111111111, \"#482878\"], [0.2222222222222222, \"#3e4989\"], [0.3333333333333333, \"#31688e\"], [0.4444444444444444, \"#26828e\"], [0.5555555555555556, \"#1f9e89\"], [0.6666666666666666, \"#35b779\"], [0.7777777777777778, \"#6ece58\"], [0.8888888888888888, \"#b5de2b\"], [1.0, \"#fde725\"]]}, \"name\": \"Pressure\", \"r\": [0.2, 0.20000408163265307, 0.20000816326530613, 0.20001224489795918, 0.20001632653061224, 0.20002040816326533, 0.2000244897959184, 0.20002857142857144, 0.2000326530612245, 0.20003673469387756, 0.20004081632653062, 0.20004489795918368, 0.20004897959183673, 0.2000530612244898, 0.20005714285714285, 0.20006122448979594, 0.200065306122449, 0.20006938775510205, 0.2000734693877551, 0.20007755102040817, 0.20008163265306123, 0.20008571428571428, 0.20008979591836734, 0.2000938775510204, 0.20009795918367346, 0.20010204081632654, 0.2001061224489796, 0.20011020408163266, 0.20011428571428572, 0.20011836734693877, 0.20012244897959183, 0.2001265306122449, 0.20013061224489795, 0.200134693877551, 0.20013877551020406, 0.20014285714285715, 0.2001469387755102, 0.20015102040816327, 0.20015510204081632, 0.20015918367346938, 0.20016326530612244, 0.2001673469387755, 0.20017142857142856, 0.2001755102040816, 0.20017959183673467, 0.20018367346938776, 0.20018775510204082, 0.20019183673469387, 0.20019591836734693, 0.2002, 0.2, 0.20000408163265307, 0.20000816326530613, 0.20001224489795918, 0.20001632653061224, 0.20002040816326533, 0.2000244897959184, 0.20002857142857144, 0.2000326530612245, 0.20003673469387756, 0.20004081632653062, 0.20004489795918368, 0.20004897959183673, 0.2000530612244898, 0.20005714285714285, 0.20006122448979594, 0.200065306122449, 0.20006938775510205, 0.2000734693877551, 0.20007755102040817, 0.20008163265306123, 0.20008571428571428, 0.20008979591836734, 0.2000938775510204, 0.20009795918367346, 0.20010204081632654, 0.2001061224489796, 0.20011020408163266, 0.20011428571428572, 0.20011836734693877, 0.20012244897959183, 0.2001265306122449, 0.20013061224489795, 0.200134693877551, 0.20013877551020406, 0.20014285714285715, 0.2001469387755102, 0.20015102040816327, 0.20015510204081632, 0.20015918367346938, 0.20016326530612244, 0.2001673469387755, 0.20017142857142856, 0.2001755102040816, 0.20017959183673467, 0.20018367346938776, 0.20018775510204082, 0.20019183673469387, 0.20019591836734693, 0.2002, 0.2, 0.20000408163265307, 0.20000816326530613, 0.20001224489795918, 0.20001632653061224, 0.20002040816326533, 0.2000244897959184, 0.20002857142857144, 0.2000326530612245, 0.20003673469387756, 0.20004081632653062, 0.20004489795918368, 0.20004897959183673, 0.2000530612244898, 0.20005714285714285, 0.20006122448979594, 0.200065306122449, 0.20006938775510205, 0.2000734693877551, 0.20007755102040817, 0.20008163265306123, 0.20008571428571428, 0.20008979591836734, 0.2000938775510204, 0.20009795918367346, 0.20010204081632654, 0.2001061224489796, 0.20011020408163266, 0.20011428571428572, 0.20011836734693877, 0.20012244897959183, 0.2001265306122449, 0.20013061224489795, 0.200134693877551, 0.20013877551020406, 0.20014285714285715, 0.2001469387755102, 0.20015102040816327, 0.20015510204081632, 0.20015918367346938, 0.20016326530612244, 0.2001673469387755, 0.20017142857142856, 0.2001755102040816, 0.20017959183673467, 0.20018367346938776, 0.20018775510204082, 0.20019183673469387, 0.20019591836734693, 0.2002, 0.2, 0.20000408163265307, 0.20000816326530613, 0.20001224489795918, 0.20001632653061224, 0.20002040816326533, 0.2000244897959184, 0.20002857142857144, 0.2000326530612245, 0.20003673469387756, 0.20004081632653062, 0.20004489795918368, 0.20004897959183673, 0.2000530612244898, 0.20005714285714285, 0.20006122448979594, 0.200065306122449, 0.20006938775510205, 0.2000734693877551, 0.20007755102040817, 0.20008163265306123, 0.20008571428571428, 0.20008979591836734, 0.2000938775510204, 0.20009795918367346, 0.20010204081632654, 0.2001061224489796, 0.20011020408163266, 0.20011428571428572, 0.20011836734693877, 0.20012244897959183, 0.2001265306122449, 0.20013061224489795, 0.200134693877551, 0.20013877551020406, 0.20014285714285715, 0.2001469387755102, 0.20015102040816327, 0.20015510204081632, 0.20015918367346938, 0.20016326530612244, 0.2001673469387755, 0.20017142857142856, 0.2001755102040816, 0.20017959183673467, 0.20018367346938776, 0.20018775510204082, 0.20019183673469387, 0.20019591836734693, 0.2002, 0.2, 0.20000408163265307, 0.20000816326530613, 0.20001224489795918, 0.20001632653061224, 0.20002040816326533, 0.2000244897959184, 0.20002857142857144, 0.2000326530612245, 0.20003673469387756, 0.20004081632653062, 0.20004489795918368, 0.20004897959183673, 0.2000530612244898, 0.20005714285714285, 0.20006122448979594, 0.200065306122449, 0.20006938775510205, 0.2000734693877551, 0.20007755102040817, 0.20008163265306123, 0.20008571428571428, 0.20008979591836734, 0.2000938775510204, 0.20009795918367346, 0.20010204081632654, 0.2001061224489796, 0.20011020408163266, 0.20011428571428572, 0.20011836734693877, 0.20012244897959183, 0.2001265306122449, 0.20013061224489795, 0.200134693877551, 0.20013877551020406, 0.20014285714285715, 0.2001469387755102, 0.20015102040816327, 0.20015510204081632, 0.20015918367346938, 0.20016326530612244, 0.2001673469387755, 0.20017142857142856, 0.2001755102040816, 0.20017959183673467, 0.20018367346938776, 0.20018775510204082, 0.20019183673469387, 0.20019591836734693, 0.2002, 0.2, 0.20000408163265307, 0.20000816326530613, 0.20001224489795918, 0.20001632653061224, 0.20002040816326533, 0.2000244897959184, 0.20002857142857144, 0.2000326530612245, 0.20003673469387756, 0.20004081632653062, 0.20004489795918368, 0.20004897959183673, 0.2000530612244898, 0.20005714285714285, 0.20006122448979594, 0.200065306122449, 0.20006938775510205, 0.2000734693877551, 0.20007755102040817, 0.20008163265306123, 0.20008571428571428, 0.20008979591836734, 0.2000938775510204, 0.20009795918367346, 0.20010204081632654, 0.2001061224489796, 0.20011020408163266, 0.20011428571428572, 0.20011836734693877, 0.20012244897959183, 0.2001265306122449, 0.20013061224489795, 0.200134693877551, 0.20013877551020406, 0.20014285714285715, 0.2001469387755102, 0.20015102040816327, 0.20015510204081632, 0.20015918367346938, 0.20016326530612244, 0.2001673469387755, 0.20017142857142856, 0.2001755102040816, 0.20017959183673467, 0.20018367346938776, 0.20018775510204082, 0.20019183673469387, 0.20019591836734693, 0.2002, 0.2, 0.20000408163265307, 0.20000816326530613, 0.20001224489795918, 0.20001632653061224, 0.20002040816326533, 0.2000244897959184, 0.20002857142857144, 0.2000326530612245, 0.20003673469387756, 0.20004081632653062, 0.20004489795918368, 0.20004897959183673, 0.2000530612244898, 0.20005714285714285, 0.20006122448979594, 0.200065306122449, 0.20006938775510205, 0.2000734693877551, 0.20007755102040817, 0.20008163265306123, 0.20008571428571428, 0.20008979591836734, 0.2000938775510204, 0.20009795918367346, 0.20010204081632654, 0.2001061224489796, 0.20011020408163266, 0.20011428571428572, 0.20011836734693877, 0.20012244897959183, 0.2001265306122449, 0.20013061224489795, 0.200134693877551, 0.20013877551020406, 0.20014285714285715, 0.2001469387755102, 0.20015102040816327, 0.20015510204081632, 0.20015918367346938, 0.20016326530612244, 0.2001673469387755, 0.20017142857142856, 0.2001755102040816, 0.20017959183673467, 0.20018367346938776, 0.20018775510204082, 0.20019183673469387, 0.20019591836734693, 0.2002, 0.2, 0.20000408163265307, 0.20000816326530613, 0.20001224489795918, 0.20001632653061224, 0.20002040816326533, 0.2000244897959184, 0.20002857142857144, 0.2000326530612245, 0.20003673469387756, 0.20004081632653062, 0.20004489795918368, 0.20004897959183673, 0.2000530612244898, 0.20005714285714285, 0.20006122448979594, 0.200065306122449, 0.20006938775510205, 0.2000734693877551, 0.20007755102040817, 0.20008163265306123, 0.20008571428571428, 0.20008979591836734, 0.2000938775510204, 0.20009795918367346, 0.20010204081632654, 0.2001061224489796, 0.20011020408163266, 0.20011428571428572, 0.20011836734693877, 0.20012244897959183, 0.2001265306122449, 0.20013061224489795, 0.200134693877551, 0.20013877551020406, 0.20014285714285715, 0.2001469387755102, 0.20015102040816327, 0.20015510204081632, 0.20015918367346938, 0.20016326530612244, 0.2001673469387755, 0.20017142857142856, 0.2001755102040816, 0.20017959183673467, 0.20018367346938776, 0.20018775510204082, 0.20019183673469387, 0.20019591836734693, 0.2002, 0.2, 0.20000408163265307, 0.20000816326530613, 0.20001224489795918, 0.20001632653061224, 0.20002040816326533, 0.2000244897959184, 0.20002857142857144, 0.2000326530612245, 0.20003673469387756, 0.20004081632653062, 0.20004489795918368, 0.20004897959183673, 0.2000530612244898, 0.20005714285714285, 0.20006122448979594, 0.200065306122449, 0.20006938775510205, 0.2000734693877551, 0.20007755102040817, 0.20008163265306123, 0.20008571428571428, 0.20008979591836734, 0.2000938775510204, 0.20009795918367346, 0.20010204081632654, 0.2001061224489796, 0.20011020408163266, 0.20011428571428572, 0.20011836734693877, 0.20012244897959183, 0.2001265306122449, 0.20013061224489795, 0.200134693877551, 0.20013877551020406, 0.20014285714285715, 0.2001469387755102, 0.20015102040816327, 0.20015510204081632, 0.20015918367346938, 0.20016326530612244, 0.2001673469387755, 0.20017142857142856, 0.2001755102040816, 0.20017959183673467, 0.20018367346938776, 0.20018775510204082, 0.20019183673469387, 0.20019591836734693, 0.2002, 0.2, 0.20000408163265307, 0.20000816326530613, 0.20001224489795918, 0.20001632653061224, 0.20002040816326533, 0.2000244897959184, 0.20002857142857144, 0.2000326530612245, 0.20003673469387756, 0.20004081632653062, 0.20004489795918368, 0.20004897959183673, 0.2000530612244898, 0.20005714285714285, 0.20006122448979594, 0.200065306122449, 0.20006938775510205, 0.2000734693877551, 0.20007755102040817, 0.20008163265306123, 0.20008571428571428, 0.20008979591836734, 0.2000938775510204, 0.20009795918367346, 0.20010204081632654, 0.2001061224489796, 0.20011020408163266, 0.20011428571428572, 0.20011836734693877, 0.20012244897959183, 0.2001265306122449, 0.20013061224489795, 0.200134693877551, 0.20013877551020406, 0.20014285714285715, 0.2001469387755102, 0.20015102040816327, 0.20015510204081632, 0.20015918367346938, 0.20016326530612244, 0.2001673469387755, 0.20017142857142856, 0.2001755102040816, 0.20017959183673467, 0.20018367346938776, 0.20018775510204082, 0.20019183673469387, 0.20019591836734693, 0.2002, 0.2, 0.20000408163265307, 0.20000816326530613, 0.20001224489795918, 0.20001632653061224, 0.20002040816326533, 0.2000244897959184, 0.20002857142857144, 0.2000326530612245, 0.20003673469387756, 0.20004081632653062, 0.20004489795918368, 0.20004897959183673, 0.2000530612244898, 0.20005714285714285, 0.20006122448979594, 0.200065306122449, 0.20006938775510205, 0.2000734693877551, 0.20007755102040817, 0.20008163265306123, 0.20008571428571428, 0.20008979591836734, 0.2000938775510204, 0.20009795918367346, 0.20010204081632654, 0.2001061224489796, 0.20011020408163266, 0.20011428571428572, 0.20011836734693877, 0.20012244897959183, 0.2001265306122449, 0.20013061224489795, 0.200134693877551, 0.20013877551020406, 0.20014285714285715, 0.2001469387755102, 0.20015102040816327, 0.20015510204081632, 0.20015918367346938, 0.20016326530612244, 0.2001673469387755, 0.20017142857142856, 0.2001755102040816, 0.20017959183673467, 0.20018367346938776, 0.20018775510204082, 0.20019183673469387, 0.20019591836734693, 0.2002, 0.2, 0.20000408163265307, 0.20000816326530613, 0.20001224489795918, 0.20001632653061224, 0.20002040816326533, 0.2000244897959184, 0.20002857142857144, 0.2000326530612245, 0.20003673469387756, 0.20004081632653062, 0.20004489795918368, 0.20004897959183673, 0.2000530612244898, 0.20005714285714285, 0.20006122448979594, 0.200065306122449, 0.20006938775510205, 0.2000734693877551, 0.20007755102040817, 0.20008163265306123, 0.20008571428571428, 0.20008979591836734, 0.2000938775510204, 0.20009795918367346, 0.20010204081632654, 0.2001061224489796, 0.20011020408163266, 0.20011428571428572, 0.20011836734693877, 0.20012244897959183, 0.2001265306122449, 0.20013061224489795, 0.200134693877551, 0.20013877551020406, 0.20014285714285715, 0.2001469387755102, 0.20015102040816327, 0.20015510204081632, 0.20015918367346938, 0.20016326530612244, 0.2001673469387755, 0.20017142857142856, 0.2001755102040816, 0.20017959183673467, 0.20018367346938776, 0.20018775510204082, 0.20019183673469387, 0.20019591836734693, 0.2002, 0.2, 0.20000408163265307, 0.20000816326530613, 0.20001224489795918, 0.20001632653061224, 0.20002040816326533, 0.2000244897959184, 0.20002857142857144, 0.2000326530612245, 0.20003673469387756, 0.20004081632653062, 0.20004489795918368, 0.20004897959183673, 0.2000530612244898, 0.20005714285714285, 0.20006122448979594, 0.200065306122449, 0.20006938775510205, 0.2000734693877551, 0.20007755102040817, 0.20008163265306123, 0.20008571428571428, 0.20008979591836734, 0.2000938775510204, 0.20009795918367346, 0.20010204081632654, 0.2001061224489796, 0.20011020408163266, 0.20011428571428572, 0.20011836734693877, 0.20012244897959183, 0.2001265306122449, 0.20013061224489795, 0.200134693877551, 0.20013877551020406, 0.20014285714285715, 0.2001469387755102, 0.20015102040816327, 0.20015510204081632, 0.20015918367346938, 0.20016326530612244, 0.2001673469387755, 0.20017142857142856, 0.2001755102040816, 0.20017959183673467, 0.20018367346938776, 0.20018775510204082, 0.20019183673469387, 0.20019591836734693, 0.2002, 0.2, 0.20000408163265307, 0.20000816326530613, 0.20001224489795918, 0.20001632653061224, 0.20002040816326533, 0.2000244897959184, 0.20002857142857144, 0.2000326530612245, 0.20003673469387756, 0.20004081632653062, 0.20004489795918368, 0.20004897959183673, 0.2000530612244898, 0.20005714285714285, 0.20006122448979594, 0.200065306122449, 0.20006938775510205, 0.2000734693877551, 0.20007755102040817, 0.20008163265306123, 0.20008571428571428, 0.20008979591836734, 0.2000938775510204, 0.20009795918367346, 0.20010204081632654, 0.2001061224489796, 0.20011020408163266, 0.20011428571428572, 0.20011836734693877, 0.20012244897959183, 0.2001265306122449, 0.20013061224489795, 0.200134693877551, 0.20013877551020406, 0.20014285714285715, 0.2001469387755102, 0.20015102040816327, 0.20015510204081632, 0.20015918367346938, 0.20016326530612244, 0.2001673469387755, 0.20017142857142856, 0.2001755102040816, 0.20017959183673467, 0.20018367346938776, 0.20018775510204082, 0.20019183673469387, 0.20019591836734693, 0.2002, 0.2, 0.20000408163265307, 0.20000816326530613, 0.20001224489795918, 0.20001632653061224, 0.20002040816326533, 0.2000244897959184, 0.20002857142857144, 0.2000326530612245, 0.20003673469387756, 0.20004081632653062, 0.20004489795918368, 0.20004897959183673, 0.2000530612244898, 0.20005714285714285, 0.20006122448979594, 0.200065306122449, 0.20006938775510205, 0.2000734693877551, 0.20007755102040817, 0.20008163265306123, 0.20008571428571428, 0.20008979591836734, 0.2000938775510204, 0.20009795918367346, 0.20010204081632654, 0.2001061224489796, 0.20011020408163266, 0.20011428571428572, 0.20011836734693877, 0.20012244897959183, 0.2001265306122449, 0.20013061224489795, 0.200134693877551, 0.20013877551020406, 0.20014285714285715, 0.2001469387755102, 0.20015102040816327, 0.20015510204081632, 0.20015918367346938, 0.20016326530612244, 0.2001673469387755, 0.20017142857142856, 0.2001755102040816, 0.20017959183673467, 0.20018367346938776, 0.20018775510204082, 0.20019183673469387, 0.20019591836734693, 0.2002, 0.2, 0.20000408163265307, 0.20000816326530613, 0.20001224489795918, 0.20001632653061224, 0.20002040816326533, 0.2000244897959184, 0.20002857142857144, 0.2000326530612245, 0.20003673469387756, 0.20004081632653062, 0.20004489795918368, 0.20004897959183673, 0.2000530612244898, 0.20005714285714285, 0.20006122448979594, 0.200065306122449, 0.20006938775510205, 0.2000734693877551, 0.20007755102040817, 0.20008163265306123, 0.20008571428571428, 0.20008979591836734, 0.2000938775510204, 0.20009795918367346, 0.20010204081632654, 0.2001061224489796, 0.20011020408163266, 0.20011428571428572, 0.20011836734693877, 0.20012244897959183, 0.2001265306122449, 0.20013061224489795, 0.200134693877551, 0.20013877551020406, 0.20014285714285715, 0.2001469387755102, 0.20015102040816327, 0.20015510204081632, 0.20015918367346938, 0.20016326530612244, 0.2001673469387755, 0.20017142857142856, 0.2001755102040816, 0.20017959183673467, 0.20018367346938776, 0.20018775510204082, 0.20019183673469387, 0.20019591836734693, 0.2002, 0.2, 0.20000408163265307, 0.20000816326530613, 0.20001224489795918, 0.20001632653061224, 0.20002040816326533, 0.2000244897959184, 0.20002857142857144, 0.2000326530612245, 0.20003673469387756, 0.20004081632653062, 0.20004489795918368, 0.20004897959183673, 0.2000530612244898, 0.20005714285714285, 0.20006122448979594, 0.200065306122449, 0.20006938775510205, 0.2000734693877551, 0.20007755102040817, 0.20008163265306123, 0.20008571428571428, 0.20008979591836734, 0.2000938775510204, 0.20009795918367346, 0.20010204081632654, 0.2001061224489796, 0.20011020408163266, 0.20011428571428572, 0.20011836734693877, 0.20012244897959183, 0.2001265306122449, 0.20013061224489795, 0.200134693877551, 0.20013877551020406, 0.20014285714285715, 0.2001469387755102, 0.20015102040816327, 0.20015510204081632, 0.20015918367346938, 0.20016326530612244, 0.2001673469387755, 0.20017142857142856, 0.2001755102040816, 0.20017959183673467, 0.20018367346938776, 0.20018775510204082, 0.20019183673469387, 0.20019591836734693, 0.2002, 0.2, 0.20000408163265307, 0.20000816326530613, 0.20001224489795918, 0.20001632653061224, 0.20002040816326533, 0.2000244897959184, 0.20002857142857144, 0.2000326530612245, 0.20003673469387756, 0.20004081632653062, 0.20004489795918368, 0.20004897959183673, 0.2000530612244898, 0.20005714285714285, 0.20006122448979594, 0.200065306122449, 0.20006938775510205, 0.2000734693877551, 0.20007755102040817, 0.20008163265306123, 0.20008571428571428, 0.20008979591836734, 0.2000938775510204, 0.20009795918367346, 0.20010204081632654, 0.2001061224489796, 0.20011020408163266, 0.20011428571428572, 0.20011836734693877, 0.20012244897959183, 0.2001265306122449, 0.20013061224489795, 0.200134693877551, 0.20013877551020406, 0.20014285714285715, 0.2001469387755102, 0.20015102040816327, 0.20015510204081632, 0.20015918367346938, 0.20016326530612244, 0.2001673469387755, 0.20017142857142856, 0.2001755102040816, 0.20017959183673467, 0.20018367346938776, 0.20018775510204082, 0.20019183673469387, 0.20019591836734693, 0.2002, 0.2, 0.20000408163265307, 0.20000816326530613, 0.20001224489795918, 0.20001632653061224, 0.20002040816326533, 0.2000244897959184, 0.20002857142857144, 0.2000326530612245, 0.20003673469387756, 0.20004081632653062, 0.20004489795918368, 0.20004897959183673, 0.2000530612244898, 0.20005714285714285, 0.20006122448979594, 0.200065306122449, 0.20006938775510205, 0.2000734693877551, 0.20007755102040817, 0.20008163265306123, 0.20008571428571428, 0.20008979591836734, 0.2000938775510204, 0.20009795918367346, 0.20010204081632654, 0.2001061224489796, 0.20011020408163266, 0.20011428571428572, 0.20011836734693877, 0.20012244897959183, 0.2001265306122449, 0.20013061224489795, 0.200134693877551, 0.20013877551020406, 0.20014285714285715, 0.2001469387755102, 0.20015102040816327, 0.20015510204081632, 0.20015918367346938, 0.20016326530612244, 0.2001673469387755, 0.20017142857142856, 0.2001755102040816, 0.20017959183673467, 0.20018367346938776, 0.20018775510204082, 0.20019183673469387, 0.20019591836734693, 0.2002, 0.2, 0.20000408163265307, 0.20000816326530613, 0.20001224489795918, 0.20001632653061224, 0.20002040816326533, 0.2000244897959184, 0.20002857142857144, 0.2000326530612245, 0.20003673469387756, 0.20004081632653062, 0.20004489795918368, 0.20004897959183673, 0.2000530612244898, 0.20005714285714285, 0.20006122448979594, 0.200065306122449, 0.20006938775510205, 0.2000734693877551, 0.20007755102040817, 0.20008163265306123, 0.20008571428571428, 0.20008979591836734, 0.2000938775510204, 0.20009795918367346, 0.20010204081632654, 0.2001061224489796, 0.20011020408163266, 0.20011428571428572, 0.20011836734693877, 0.20012244897959183, 0.2001265306122449, 0.20013061224489795, 0.200134693877551, 0.20013877551020406, 0.20014285714285715, 0.2001469387755102, 0.20015102040816327, 0.20015510204081632, 0.20015918367346938, 0.20016326530612244, 0.2001673469387755, 0.20017142857142856, 0.2001755102040816, 0.20017959183673467, 0.20018367346938776, 0.20018775510204082, 0.20019183673469387, 0.20019591836734693, 0.2002, 0.2, 0.20000408163265307, 0.20000816326530613, 0.20001224489795918, 0.20001632653061224, 0.20002040816326533, 0.2000244897959184, 0.20002857142857144, 0.2000326530612245, 0.20003673469387756, 0.20004081632653062, 0.20004489795918368, 0.20004897959183673, 0.2000530612244898, 0.20005714285714285, 0.20006122448979594, 0.200065306122449, 0.20006938775510205, 0.2000734693877551, 0.20007755102040817, 0.20008163265306123, 0.20008571428571428, 0.20008979591836734, 0.2000938775510204, 0.20009795918367346, 0.20010204081632654, 0.2001061224489796, 0.20011020408163266, 0.20011428571428572, 0.20011836734693877, 0.20012244897959183, 0.2001265306122449, 0.20013061224489795, 0.200134693877551, 0.20013877551020406, 0.20014285714285715, 0.2001469387755102, 0.20015102040816327, 0.20015510204081632, 0.20015918367346938, 0.20016326530612244, 0.2001673469387755, 0.20017142857142856, 0.2001755102040816, 0.20017959183673467, 0.20018367346938776, 0.20018775510204082, 0.20019183673469387, 0.20019591836734693, 0.2002, 0.2, 0.20000408163265307, 0.20000816326530613, 0.20001224489795918, 0.20001632653061224, 0.20002040816326533, 0.2000244897959184, 0.20002857142857144, 0.2000326530612245, 0.20003673469387756, 0.20004081632653062, 0.20004489795918368, 0.20004897959183673, 0.2000530612244898, 0.20005714285714285, 0.20006122448979594, 0.200065306122449, 0.20006938775510205, 0.2000734693877551, 0.20007755102040817, 0.20008163265306123, 0.20008571428571428, 0.20008979591836734, 0.2000938775510204, 0.20009795918367346, 0.20010204081632654, 0.2001061224489796, 0.20011020408163266, 0.20011428571428572, 0.20011836734693877, 0.20012244897959183, 0.2001265306122449, 0.20013061224489795, 0.200134693877551, 0.20013877551020406, 0.20014285714285715, 0.2001469387755102, 0.20015102040816327, 0.20015510204081632, 0.20015918367346938, 0.20016326530612244, 0.2001673469387755, 0.20017142857142856, 0.2001755102040816, 0.20017959183673467, 0.20018367346938776, 0.20018775510204082, 0.20019183673469387, 0.20019591836734693, 0.2002, 0.2, 0.20000408163265307, 0.20000816326530613, 0.20001224489795918, 0.20001632653061224, 0.20002040816326533, 0.2000244897959184, 0.20002857142857144, 0.2000326530612245, 0.20003673469387756, 0.20004081632653062, 0.20004489795918368, 0.20004897959183673, 0.2000530612244898, 0.20005714285714285, 0.20006122448979594, 0.200065306122449, 0.20006938775510205, 0.2000734693877551, 0.20007755102040817, 0.20008163265306123, 0.20008571428571428, 0.20008979591836734, 0.2000938775510204, 0.20009795918367346, 0.20010204081632654, 0.2001061224489796, 0.20011020408163266, 0.20011428571428572, 0.20011836734693877, 0.20012244897959183, 0.2001265306122449, 0.20013061224489795, 0.200134693877551, 0.20013877551020406, 0.20014285714285715, 0.2001469387755102, 0.20015102040816327, 0.20015510204081632, 0.20015918367346938, 0.20016326530612244, 0.2001673469387755, 0.20017142857142856, 0.2001755102040816, 0.20017959183673467, 0.20018367346938776, 0.20018775510204082, 0.20019183673469387, 0.20019591836734693, 0.2002, 0.2, 0.20000408163265307, 0.20000816326530613, 0.20001224489795918, 0.20001632653061224, 0.20002040816326533, 0.2000244897959184, 0.20002857142857144, 0.2000326530612245, 0.20003673469387756, 0.20004081632653062, 0.20004489795918368, 0.20004897959183673, 0.2000530612244898, 0.20005714285714285, 0.20006122448979594, 0.200065306122449, 0.20006938775510205, 0.2000734693877551, 0.20007755102040817, 0.20008163265306123, 0.20008571428571428, 0.20008979591836734, 0.2000938775510204, 0.20009795918367346, 0.20010204081632654, 0.2001061224489796, 0.20011020408163266, 0.20011428571428572, 0.20011836734693877, 0.20012244897959183, 0.2001265306122449, 0.20013061224489795, 0.200134693877551, 0.20013877551020406, 0.20014285714285715, 0.2001469387755102, 0.20015102040816327, 0.20015510204081632, 0.20015918367346938, 0.20016326530612244, 0.2001673469387755, 0.20017142857142856, 0.2001755102040816, 0.20017959183673467, 0.20018367346938776, 0.20018775510204082, 0.20019183673469387, 0.20019591836734693, 0.2002, 0.2, 0.20000408163265307, 0.20000816326530613, 0.20001224489795918, 0.20001632653061224, 0.20002040816326533, 0.2000244897959184, 0.20002857142857144, 0.2000326530612245, 0.20003673469387756, 0.20004081632653062, 0.20004489795918368, 0.20004897959183673, 0.2000530612244898, 0.20005714285714285, 0.20006122448979594, 0.200065306122449, 0.20006938775510205, 0.2000734693877551, 0.20007755102040817, 0.20008163265306123, 0.20008571428571428, 0.20008979591836734, 0.2000938775510204, 0.20009795918367346, 0.20010204081632654, 0.2001061224489796, 0.20011020408163266, 0.20011428571428572, 0.20011836734693877, 0.20012244897959183, 0.2001265306122449, 0.20013061224489795, 0.200134693877551, 0.20013877551020406, 0.20014285714285715, 0.2001469387755102, 0.20015102040816327, 0.20015510204081632, 0.20015918367346938, 0.20016326530612244, 0.2001673469387755, 0.20017142857142856, 0.2001755102040816, 0.20017959183673467, 0.20018367346938776, 0.20018775510204082, 0.20019183673469387, 0.20019591836734693, 0.2002, 0.2, 0.20000408163265307, 0.20000816326530613, 0.20001224489795918, 0.20001632653061224, 0.20002040816326533, 0.2000244897959184, 0.20002857142857144, 0.2000326530612245, 0.20003673469387756, 0.20004081632653062, 0.20004489795918368, 0.20004897959183673, 0.2000530612244898, 0.20005714285714285, 0.20006122448979594, 0.200065306122449, 0.20006938775510205, 0.2000734693877551, 0.20007755102040817, 0.20008163265306123, 0.20008571428571428, 0.20008979591836734, 0.2000938775510204, 0.20009795918367346, 0.20010204081632654, 0.2001061224489796, 0.20011020408163266, 0.20011428571428572, 0.20011836734693877, 0.20012244897959183, 0.2001265306122449, 0.20013061224489795, 0.200134693877551, 0.20013877551020406, 0.20014285714285715, 0.2001469387755102, 0.20015102040816327, 0.20015510204081632, 0.20015918367346938, 0.20016326530612244, 0.2001673469387755, 0.20017142857142856, 0.2001755102040816, 0.20017959183673467, 0.20018367346938776, 0.20018775510204082, 0.20019183673469387, 0.20019591836734693, 0.2002, 0.2, 0.20000408163265307, 0.20000816326530613, 0.20001224489795918, 0.20001632653061224, 0.20002040816326533, 0.2000244897959184, 0.20002857142857144, 0.2000326530612245, 0.20003673469387756, 0.20004081632653062, 0.20004489795918368, 0.20004897959183673, 0.2000530612244898, 0.20005714285714285, 0.20006122448979594, 0.200065306122449, 0.20006938775510205, 0.2000734693877551, 0.20007755102040817, 0.20008163265306123, 0.20008571428571428, 0.20008979591836734, 0.2000938775510204, 0.20009795918367346, 0.20010204081632654, 0.2001061224489796, 0.20011020408163266, 0.20011428571428572, 0.20011836734693877, 0.20012244897959183, 0.2001265306122449, 0.20013061224489795, 0.200134693877551, 0.20013877551020406, 0.20014285714285715, 0.2001469387755102, 0.20015102040816327, 0.20015510204081632, 0.20015918367346938, 0.20016326530612244, 0.2001673469387755, 0.20017142857142856, 0.2001755102040816, 0.20017959183673467, 0.20018367346938776, 0.20018775510204082, 0.20019183673469387, 0.20019591836734693, 0.2002, 0.2, 0.20000408163265307, 0.20000816326530613, 0.20001224489795918, 0.20001632653061224, 0.20002040816326533, 0.2000244897959184, 0.20002857142857144, 0.2000326530612245, 0.20003673469387756, 0.20004081632653062, 0.20004489795918368, 0.20004897959183673, 0.2000530612244898, 0.20005714285714285, 0.20006122448979594, 0.200065306122449, 0.20006938775510205, 0.2000734693877551, 0.20007755102040817, 0.20008163265306123, 0.20008571428571428, 0.20008979591836734, 0.2000938775510204, 0.20009795918367346, 0.20010204081632654, 0.2001061224489796, 0.20011020408163266, 0.20011428571428572, 0.20011836734693877, 0.20012244897959183, 0.2001265306122449, 0.20013061224489795, 0.200134693877551, 0.20013877551020406, 0.20014285714285715, 0.2001469387755102, 0.20015102040816327, 0.20015510204081632, 0.20015918367346938, 0.20016326530612244, 0.2001673469387755, 0.20017142857142856, 0.2001755102040816, 0.20017959183673467, 0.20018367346938776, 0.20018775510204082, 0.20019183673469387, 0.20019591836734693, 0.2002, 0.2, 0.20000408163265307, 0.20000816326530613, 0.20001224489795918, 0.20001632653061224, 0.20002040816326533, 0.2000244897959184, 0.20002857142857144, 0.2000326530612245, 0.20003673469387756, 0.20004081632653062, 0.20004489795918368, 0.20004897959183673, 0.2000530612244898, 0.20005714285714285, 0.20006122448979594, 0.200065306122449, 0.20006938775510205, 0.2000734693877551, 0.20007755102040817, 0.20008163265306123, 0.20008571428571428, 0.20008979591836734, 0.2000938775510204, 0.20009795918367346, 0.20010204081632654, 0.2001061224489796, 0.20011020408163266, 0.20011428571428572, 0.20011836734693877, 0.20012244897959183, 0.2001265306122449, 0.20013061224489795, 0.200134693877551, 0.20013877551020406, 0.20014285714285715, 0.2001469387755102, 0.20015102040816327, 0.20015510204081632, 0.20015918367346938, 0.20016326530612244, 0.2001673469387755, 0.20017142857142856, 0.2001755102040816, 0.20017959183673467, 0.20018367346938776, 0.20018775510204082, 0.20019183673469387, 0.20019591836734693, 0.2002, 0.2, 0.20000408163265307, 0.20000816326530613, 0.20001224489795918, 0.20001632653061224, 0.20002040816326533, 0.2000244897959184, 0.20002857142857144, 0.2000326530612245, 0.20003673469387756, 0.20004081632653062, 0.20004489795918368, 0.20004897959183673, 0.2000530612244898, 0.20005714285714285, 0.20006122448979594, 0.200065306122449, 0.20006938775510205, 0.2000734693877551, 0.20007755102040817, 0.20008163265306123, 0.20008571428571428, 0.20008979591836734, 0.2000938775510204, 0.20009795918367346, 0.20010204081632654, 0.2001061224489796, 0.20011020408163266, 0.20011428571428572, 0.20011836734693877, 0.20012244897959183, 0.2001265306122449, 0.20013061224489795, 0.200134693877551, 0.20013877551020406, 0.20014285714285715, 0.2001469387755102, 0.20015102040816327, 0.20015510204081632, 0.20015918367346938, 0.20016326530612244, 0.2001673469387755, 0.20017142857142856, 0.2001755102040816, 0.20017959183673467, 0.20018367346938776, 0.20018775510204082, 0.20019183673469387, 0.20019591836734693, 0.2002, 0.2, 0.20000408163265307, 0.20000816326530613, 0.20001224489795918, 0.20001632653061224, 0.20002040816326533, 0.2000244897959184, 0.20002857142857144, 0.2000326530612245, 0.20003673469387756, 0.20004081632653062, 0.20004489795918368, 0.20004897959183673, 0.2000530612244898, 0.20005714285714285, 0.20006122448979594, 0.200065306122449, 0.20006938775510205, 0.2000734693877551, 0.20007755102040817, 0.20008163265306123, 0.20008571428571428, 0.20008979591836734, 0.2000938775510204, 0.20009795918367346, 0.20010204081632654, 0.2001061224489796, 0.20011020408163266, 0.20011428571428572, 0.20011836734693877, 0.20012244897959183, 0.2001265306122449, 0.20013061224489795, 0.200134693877551, 0.20013877551020406, 0.20014285714285715, 0.2001469387755102, 0.20015102040816327, 0.20015510204081632, 0.20015918367346938, 0.20016326530612244, 0.2001673469387755, 0.20017142857142856, 0.2001755102040816, 0.20017959183673467, 0.20018367346938776, 0.20018775510204082, 0.20019183673469387, 0.20019591836734693, 0.2002, 0.2, 0.20000408163265307, 0.20000816326530613, 0.20001224489795918, 0.20001632653061224, 0.20002040816326533, 0.2000244897959184, 0.20002857142857144, 0.2000326530612245, 0.20003673469387756, 0.20004081632653062, 0.20004489795918368, 0.20004897959183673, 0.2000530612244898, 0.20005714285714285, 0.20006122448979594, 0.200065306122449, 0.20006938775510205, 0.2000734693877551, 0.20007755102040817, 0.20008163265306123, 0.20008571428571428, 0.20008979591836734, 0.2000938775510204, 0.20009795918367346, 0.20010204081632654, 0.2001061224489796, 0.20011020408163266, 0.20011428571428572, 0.20011836734693877, 0.20012244897959183, 0.2001265306122449, 0.20013061224489795, 0.200134693877551, 0.20013877551020406, 0.20014285714285715, 0.2001469387755102, 0.20015102040816327, 0.20015510204081632, 0.20015918367346938, 0.20016326530612244, 0.2001673469387755, 0.20017142857142856, 0.2001755102040816, 0.20017959183673467, 0.20018367346938776, 0.20018775510204082, 0.20019183673469387, 0.20019591836734693, 0.2002], \"showlegend\": false, \"theta\": [0.0, 0.0, 0.0, 0.0, 0.0, 0.0, 0.0, 0.0, 0.0, 0.0, 0.0, 0.0, 0.0, 0.0, 0.0, 0.0, 0.0, 0.0, 0.0, 0.0, 0.0, 0.0, 0.0, 0.0, 0.0, 0.0, 0.0, 0.0, 0.0, 0.0, 0.0, 0.0, 0.0, 0.0, 0.0, 0.0, 0.0, 0.0, 0.0, 0.0, 0.0, 0.0, 0.0, 0.0, 0.0, 0.0, 0.0, 0.0, 0.0, 0.0, 11.800208116545267, 11.800208116545267, 11.800208116545267, 11.800208116545267, 11.800208116545267, 11.800208116545267, 11.800208116545267, 11.800208116545267, 11.800208116545267, 11.800208116545267, 11.800208116545267, 11.800208116545267, 11.800208116545267, 11.800208116545267, 11.800208116545267, 11.800208116545267, 11.800208116545267, 11.800208116545267, 11.800208116545267, 11.800208116545267, 11.800208116545267, 11.800208116545267, 11.800208116545267, 11.800208116545267, 11.800208116545267, 11.800208116545267, 11.800208116545267, 11.800208116545267, 11.800208116545267, 11.800208116545267, 11.800208116545267, 11.800208116545267, 11.800208116545267, 11.800208116545267, 11.800208116545267, 11.800208116545267, 11.800208116545267, 11.800208116545267, 11.800208116545267, 11.800208116545267, 11.800208116545267, 11.800208116545267, 11.800208116545267, 11.800208116545267, 11.800208116545267, 11.800208116545267, 11.800208116545267, 11.800208116545267, 11.800208116545267, 11.800208116545267, 23.600416233090534, 23.600416233090534, 23.600416233090534, 23.600416233090534, 23.600416233090534, 23.600416233090534, 23.600416233090534, 23.600416233090534, 23.600416233090534, 23.600416233090534, 23.600416233090534, 23.600416233090534, 23.600416233090534, 23.600416233090534, 23.600416233090534, 23.600416233090534, 23.600416233090534, 23.600416233090534, 23.600416233090534, 23.600416233090534, 23.600416233090534, 23.600416233090534, 23.600416233090534, 23.600416233090534, 23.600416233090534, 23.600416233090534, 23.600416233090534, 23.600416233090534, 23.600416233090534, 23.600416233090534, 23.600416233090534, 23.600416233090534, 23.600416233090534, 23.600416233090534, 23.600416233090534, 23.600416233090534, 23.600416233090534, 23.600416233090534, 23.600416233090534, 23.600416233090534, 23.600416233090534, 23.600416233090534, 23.600416233090534, 23.600416233090534, 23.600416233090534, 23.600416233090534, 23.600416233090534, 23.600416233090534, 23.600416233090534, 23.600416233090534, 35.4006243496358, 35.4006243496358, 35.4006243496358, 35.4006243496358, 35.4006243496358, 35.4006243496358, 35.4006243496358, 35.4006243496358, 35.4006243496358, 35.4006243496358, 35.4006243496358, 35.4006243496358, 35.4006243496358, 35.4006243496358, 35.4006243496358, 35.4006243496358, 35.4006243496358, 35.4006243496358, 35.4006243496358, 35.4006243496358, 35.4006243496358, 35.4006243496358, 35.4006243496358, 35.4006243496358, 35.4006243496358, 35.4006243496358, 35.4006243496358, 35.4006243496358, 35.4006243496358, 35.4006243496358, 35.4006243496358, 35.4006243496358, 35.4006243496358, 35.4006243496358, 35.4006243496358, 35.4006243496358, 35.4006243496358, 35.4006243496358, 35.4006243496358, 35.4006243496358, 35.4006243496358, 35.4006243496358, 35.4006243496358, 35.4006243496358, 35.4006243496358, 35.4006243496358, 35.4006243496358, 35.4006243496358, 35.4006243496358, 35.4006243496358, 47.20083246618107, 47.20083246618107, 47.20083246618107, 47.20083246618107, 47.20083246618107, 47.20083246618107, 47.20083246618107, 47.20083246618107, 47.20083246618107, 47.20083246618107, 47.20083246618107, 47.20083246618107, 47.20083246618107, 47.20083246618107, 47.20083246618107, 47.20083246618107, 47.20083246618107, 47.20083246618107, 47.20083246618107, 47.20083246618107, 47.20083246618107, 47.20083246618107, 47.20083246618107, 47.20083246618107, 47.20083246618107, 47.20083246618107, 47.20083246618107, 47.20083246618107, 47.20083246618107, 47.20083246618107, 47.20083246618107, 47.20083246618107, 47.20083246618107, 47.20083246618107, 47.20083246618107, 47.20083246618107, 47.20083246618107, 47.20083246618107, 47.20083246618107, 47.20083246618107, 47.20083246618107, 47.20083246618107, 47.20083246618107, 47.20083246618107, 47.20083246618107, 47.20083246618107, 47.20083246618107, 47.20083246618107, 47.20083246618107, 47.20083246618107, 59.001040582726326, 59.001040582726326, 59.001040582726326, 59.001040582726326, 59.001040582726326, 59.001040582726326, 59.001040582726326, 59.001040582726326, 59.001040582726326, 59.001040582726326, 59.001040582726326, 59.001040582726326, 59.001040582726326, 59.001040582726326, 59.001040582726326, 59.001040582726326, 59.001040582726326, 59.001040582726326, 59.001040582726326, 59.001040582726326, 59.001040582726326, 59.001040582726326, 59.001040582726326, 59.001040582726326, 59.001040582726326, 59.001040582726326, 59.001040582726326, 59.001040582726326, 59.001040582726326, 59.001040582726326, 59.001040582726326, 59.001040582726326, 59.001040582726326, 59.001040582726326, 59.001040582726326, 59.001040582726326, 59.001040582726326, 59.001040582726326, 59.001040582726326, 59.001040582726326, 59.001040582726326, 59.001040582726326, 59.001040582726326, 59.001040582726326, 59.001040582726326, 59.001040582726326, 59.001040582726326, 59.001040582726326, 59.001040582726326, 59.001040582726326, 70.8012486992716, 70.8012486992716, 70.8012486992716, 70.8012486992716, 70.8012486992716, 70.8012486992716, 70.8012486992716, 70.8012486992716, 70.8012486992716, 70.8012486992716, 70.8012486992716, 70.8012486992716, 70.8012486992716, 70.8012486992716, 70.8012486992716, 70.8012486992716, 70.8012486992716, 70.8012486992716, 70.8012486992716, 70.8012486992716, 70.8012486992716, 70.8012486992716, 70.8012486992716, 70.8012486992716, 70.8012486992716, 70.8012486992716, 70.8012486992716, 70.8012486992716, 70.8012486992716, 70.8012486992716, 70.8012486992716, 70.8012486992716, 70.8012486992716, 70.8012486992716, 70.8012486992716, 70.8012486992716, 70.8012486992716, 70.8012486992716, 70.8012486992716, 70.8012486992716, 70.8012486992716, 70.8012486992716, 70.8012486992716, 70.8012486992716, 70.8012486992716, 70.8012486992716, 70.8012486992716, 70.8012486992716, 70.8012486992716, 70.8012486992716, 82.60145681581686, 82.60145681581686, 82.60145681581686, 82.60145681581686, 82.60145681581686, 82.60145681581686, 82.60145681581686, 82.60145681581686, 82.60145681581686, 82.60145681581686, 82.60145681581686, 82.60145681581686, 82.60145681581686, 82.60145681581686, 82.60145681581686, 82.60145681581686, 82.60145681581686, 82.60145681581686, 82.60145681581686, 82.60145681581686, 82.60145681581686, 82.60145681581686, 82.60145681581686, 82.60145681581686, 82.60145681581686, 82.60145681581686, 82.60145681581686, 82.60145681581686, 82.60145681581686, 82.60145681581686, 82.60145681581686, 82.60145681581686, 82.60145681581686, 82.60145681581686, 82.60145681581686, 82.60145681581686, 82.60145681581686, 82.60145681581686, 82.60145681581686, 82.60145681581686, 82.60145681581686, 82.60145681581686, 82.60145681581686, 82.60145681581686, 82.60145681581686, 82.60145681581686, 82.60145681581686, 82.60145681581686, 82.60145681581686, 82.60145681581686, 94.40166493236214, 94.40166493236214, 94.40166493236214, 94.40166493236214, 94.40166493236214, 94.40166493236214, 94.40166493236214, 94.40166493236214, 94.40166493236214, 94.40166493236214, 94.40166493236214, 94.40166493236214, 94.40166493236214, 94.40166493236214, 94.40166493236214, 94.40166493236214, 94.40166493236214, 94.40166493236214, 94.40166493236214, 94.40166493236214, 94.40166493236214, 94.40166493236214, 94.40166493236214, 94.40166493236214, 94.40166493236214, 94.40166493236214, 94.40166493236214, 94.40166493236214, 94.40166493236214, 94.40166493236214, 94.40166493236214, 94.40166493236214, 94.40166493236214, 94.40166493236214, 94.40166493236214, 94.40166493236214, 94.40166493236214, 94.40166493236214, 94.40166493236214, 94.40166493236214, 94.40166493236214, 94.40166493236214, 94.40166493236214, 94.40166493236214, 94.40166493236214, 94.40166493236214, 94.40166493236214, 94.40166493236214, 94.40166493236214, 94.40166493236214, 106.2018730489074, 106.2018730489074, 106.2018730489074, 106.2018730489074, 106.2018730489074, 106.2018730489074, 106.2018730489074, 106.2018730489074, 106.2018730489074, 106.2018730489074, 106.2018730489074, 106.2018730489074, 106.2018730489074, 106.2018730489074, 106.2018730489074, 106.2018730489074, 106.2018730489074, 106.2018730489074, 106.2018730489074, 106.2018730489074, 106.2018730489074, 106.2018730489074, 106.2018730489074, 106.2018730489074, 106.2018730489074, 106.2018730489074, 106.2018730489074, 106.2018730489074, 106.2018730489074, 106.2018730489074, 106.2018730489074, 106.2018730489074, 106.2018730489074, 106.2018730489074, 106.2018730489074, 106.2018730489074, 106.2018730489074, 106.2018730489074, 106.2018730489074, 106.2018730489074, 106.2018730489074, 106.2018730489074, 106.2018730489074, 106.2018730489074, 106.2018730489074, 106.2018730489074, 106.2018730489074, 106.2018730489074, 106.2018730489074, 106.2018730489074, 118.00208116545265, 118.00208116545265, 118.00208116545265, 118.00208116545265, 118.00208116545265, 118.00208116545265, 118.00208116545265, 118.00208116545265, 118.00208116545265, 118.00208116545265, 118.00208116545265, 118.00208116545265, 118.00208116545265, 118.00208116545265, 118.00208116545265, 118.00208116545265, 118.00208116545265, 118.00208116545265, 118.00208116545265, 118.00208116545265, 118.00208116545265, 118.00208116545265, 118.00208116545265, 118.00208116545265, 118.00208116545265, 118.00208116545265, 118.00208116545265, 118.00208116545265, 118.00208116545265, 118.00208116545265, 118.00208116545265, 118.00208116545265, 118.00208116545265, 118.00208116545265, 118.00208116545265, 118.00208116545265, 118.00208116545265, 118.00208116545265, 118.00208116545265, 118.00208116545265, 118.00208116545265, 118.00208116545265, 118.00208116545265, 118.00208116545265, 118.00208116545265, 118.00208116545265, 118.00208116545265, 118.00208116545265, 118.00208116545265, 118.00208116545265, 129.80228928199793, 129.80228928199793, 129.80228928199793, 129.80228928199793, 129.80228928199793, 129.80228928199793, 129.80228928199793, 129.80228928199793, 129.80228928199793, 129.80228928199793, 129.80228928199793, 129.80228928199793, 129.80228928199793, 129.80228928199793, 129.80228928199793, 129.80228928199793, 129.80228928199793, 129.80228928199793, 129.80228928199793, 129.80228928199793, 129.80228928199793, 129.80228928199793, 129.80228928199793, 129.80228928199793, 129.80228928199793, 129.80228928199793, 129.80228928199793, 129.80228928199793, 129.80228928199793, 129.80228928199793, 129.80228928199793, 129.80228928199793, 129.80228928199793, 129.80228928199793, 129.80228928199793, 129.80228928199793, 129.80228928199793, 129.80228928199793, 129.80228928199793, 129.80228928199793, 129.80228928199793, 129.80228928199793, 129.80228928199793, 129.80228928199793, 129.80228928199793, 129.80228928199793, 129.80228928199793, 129.80228928199793, 129.80228928199793, 129.80228928199793, 141.6024973985432, 141.6024973985432, 141.6024973985432, 141.6024973985432, 141.6024973985432, 141.6024973985432, 141.6024973985432, 141.6024973985432, 141.6024973985432, 141.6024973985432, 141.6024973985432, 141.6024973985432, 141.6024973985432, 141.6024973985432, 141.6024973985432, 141.6024973985432, 141.6024973985432, 141.6024973985432, 141.6024973985432, 141.6024973985432, 141.6024973985432, 141.6024973985432, 141.6024973985432, 141.6024973985432, 141.6024973985432, 141.6024973985432, 141.6024973985432, 141.6024973985432, 141.6024973985432, 141.6024973985432, 141.6024973985432, 141.6024973985432, 141.6024973985432, 141.6024973985432, 141.6024973985432, 141.6024973985432, 141.6024973985432, 141.6024973985432, 141.6024973985432, 141.6024973985432, 141.6024973985432, 141.6024973985432, 141.6024973985432, 141.6024973985432, 141.6024973985432, 141.6024973985432, 141.6024973985432, 141.6024973985432, 141.6024973985432, 141.6024973985432, 153.40270551508848, 153.40270551508848, 153.40270551508848, 153.40270551508848, 153.40270551508848, 153.40270551508848, 153.40270551508848, 153.40270551508848, 153.40270551508848, 153.40270551508848, 153.40270551508848, 153.40270551508848, 153.40270551508848, 153.40270551508848, 153.40270551508848, 153.40270551508848, 153.40270551508848, 153.40270551508848, 153.40270551508848, 153.40270551508848, 153.40270551508848, 153.40270551508848, 153.40270551508848, 153.40270551508848, 153.40270551508848, 153.40270551508848, 153.40270551508848, 153.40270551508848, 153.40270551508848, 153.40270551508848, 153.40270551508848, 153.40270551508848, 153.40270551508848, 153.40270551508848, 153.40270551508848, 153.40270551508848, 153.40270551508848, 153.40270551508848, 153.40270551508848, 153.40270551508848, 153.40270551508848, 153.40270551508848, 153.40270551508848, 153.40270551508848, 153.40270551508848, 153.40270551508848, 153.40270551508848, 153.40270551508848, 153.40270551508848, 153.40270551508848, 165.20291363163372, 165.20291363163372, 165.20291363163372, 165.20291363163372, 165.20291363163372, 165.20291363163372, 165.20291363163372, 165.20291363163372, 165.20291363163372, 165.20291363163372, 165.20291363163372, 165.20291363163372, 165.20291363163372, 165.20291363163372, 165.20291363163372, 165.20291363163372, 165.20291363163372, 165.20291363163372, 165.20291363163372, 165.20291363163372, 165.20291363163372, 165.20291363163372, 165.20291363163372, 165.20291363163372, 165.20291363163372, 165.20291363163372, 165.20291363163372, 165.20291363163372, 165.20291363163372, 165.20291363163372, 165.20291363163372, 165.20291363163372, 165.20291363163372, 165.20291363163372, 165.20291363163372, 165.20291363163372, 165.20291363163372, 165.20291363163372, 165.20291363163372, 165.20291363163372, 165.20291363163372, 165.20291363163372, 165.20291363163372, 165.20291363163372, 165.20291363163372, 165.20291363163372, 165.20291363163372, 165.20291363163372, 165.20291363163372, 165.20291363163372, 177.003121748179, 177.003121748179, 177.003121748179, 177.003121748179, 177.003121748179, 177.003121748179, 177.003121748179, 177.003121748179, 177.003121748179, 177.003121748179, 177.003121748179, 177.003121748179, 177.003121748179, 177.003121748179, 177.003121748179, 177.003121748179, 177.003121748179, 177.003121748179, 177.003121748179, 177.003121748179, 177.003121748179, 177.003121748179, 177.003121748179, 177.003121748179, 177.003121748179, 177.003121748179, 177.003121748179, 177.003121748179, 177.003121748179, 177.003121748179, 177.003121748179, 177.003121748179, 177.003121748179, 177.003121748179, 177.003121748179, 177.003121748179, 177.003121748179, 177.003121748179, 177.003121748179, 177.003121748179, 177.003121748179, 177.003121748179, 177.003121748179, 177.003121748179, 177.003121748179, 177.003121748179, 177.003121748179, 177.003121748179, 177.003121748179, 177.003121748179, 188.80332986472428, 188.80332986472428, 188.80332986472428, 188.80332986472428, 188.80332986472428, 188.80332986472428, 188.80332986472428, 188.80332986472428, 188.80332986472428, 188.80332986472428, 188.80332986472428, 188.80332986472428, 188.80332986472428, 188.80332986472428, 188.80332986472428, 188.80332986472428, 188.80332986472428, 188.80332986472428, 188.80332986472428, 188.80332986472428, 188.80332986472428, 188.80332986472428, 188.80332986472428, 188.80332986472428, 188.80332986472428, 188.80332986472428, 188.80332986472428, 188.80332986472428, 188.80332986472428, 188.80332986472428, 188.80332986472428, 188.80332986472428, 188.80332986472428, 188.80332986472428, 188.80332986472428, 188.80332986472428, 188.80332986472428, 188.80332986472428, 188.80332986472428, 188.80332986472428, 188.80332986472428, 188.80332986472428, 188.80332986472428, 188.80332986472428, 188.80332986472428, 188.80332986472428, 188.80332986472428, 188.80332986472428, 188.80332986472428, 188.80332986472428, 200.6035379812695, 200.6035379812695, 200.6035379812695, 200.6035379812695, 200.6035379812695, 200.6035379812695, 200.6035379812695, 200.6035379812695, 200.6035379812695, 200.6035379812695, 200.6035379812695, 200.6035379812695, 200.6035379812695, 200.6035379812695, 200.6035379812695, 200.6035379812695, 200.6035379812695, 200.6035379812695, 200.6035379812695, 200.6035379812695, 200.6035379812695, 200.6035379812695, 200.6035379812695, 200.6035379812695, 200.6035379812695, 200.6035379812695, 200.6035379812695, 200.6035379812695, 200.6035379812695, 200.6035379812695, 200.6035379812695, 200.6035379812695, 200.6035379812695, 200.6035379812695, 200.6035379812695, 200.6035379812695, 200.6035379812695, 200.6035379812695, 200.6035379812695, 200.6035379812695, 200.6035379812695, 200.6035379812695, 200.6035379812695, 200.6035379812695, 200.6035379812695, 200.6035379812695, 200.6035379812695, 200.6035379812695, 200.6035379812695, 200.6035379812695, 212.4037460978148, 212.4037460978148, 212.4037460978148, 212.4037460978148, 212.4037460978148, 212.4037460978148, 212.4037460978148, 212.4037460978148, 212.4037460978148, 212.4037460978148, 212.4037460978148, 212.4037460978148, 212.4037460978148, 212.4037460978148, 212.4037460978148, 212.4037460978148, 212.4037460978148, 212.4037460978148, 212.4037460978148, 212.4037460978148, 212.4037460978148, 212.4037460978148, 212.4037460978148, 212.4037460978148, 212.4037460978148, 212.4037460978148, 212.4037460978148, 212.4037460978148, 212.4037460978148, 212.4037460978148, 212.4037460978148, 212.4037460978148, 212.4037460978148, 212.4037460978148, 212.4037460978148, 212.4037460978148, 212.4037460978148, 212.4037460978148, 212.4037460978148, 212.4037460978148, 212.4037460978148, 212.4037460978148, 212.4037460978148, 212.4037460978148, 212.4037460978148, 212.4037460978148, 212.4037460978148, 212.4037460978148, 212.4037460978148, 212.4037460978148, 224.20395421436007, 224.20395421436007, 224.20395421436007, 224.20395421436007, 224.20395421436007, 224.20395421436007, 224.20395421436007, 224.20395421436007, 224.20395421436007, 224.20395421436007, 224.20395421436007, 224.20395421436007, 224.20395421436007, 224.20395421436007, 224.20395421436007, 224.20395421436007, 224.20395421436007, 224.20395421436007, 224.20395421436007, 224.20395421436007, 224.20395421436007, 224.20395421436007, 224.20395421436007, 224.20395421436007, 224.20395421436007, 224.20395421436007, 224.20395421436007, 224.20395421436007, 224.20395421436007, 224.20395421436007, 224.20395421436007, 224.20395421436007, 224.20395421436007, 224.20395421436007, 224.20395421436007, 224.20395421436007, 224.20395421436007, 224.20395421436007, 224.20395421436007, 224.20395421436007, 224.20395421436007, 224.20395421436007, 224.20395421436007, 224.20395421436007, 224.20395421436007, 224.20395421436007, 224.20395421436007, 224.20395421436007, 224.20395421436007, 224.20395421436007, 236.0041623309053, 236.0041623309053, 236.0041623309053, 236.0041623309053, 236.0041623309053, 236.0041623309053, 236.0041623309053, 236.0041623309053, 236.0041623309053, 236.0041623309053, 236.0041623309053, 236.0041623309053, 236.0041623309053, 236.0041623309053, 236.0041623309053, 236.0041623309053, 236.0041623309053, 236.0041623309053, 236.0041623309053, 236.0041623309053, 236.0041623309053, 236.0041623309053, 236.0041623309053, 236.0041623309053, 236.0041623309053, 236.0041623309053, 236.0041623309053, 236.0041623309053, 236.0041623309053, 236.0041623309053, 236.0041623309053, 236.0041623309053, 236.0041623309053, 236.0041623309053, 236.0041623309053, 236.0041623309053, 236.0041623309053, 236.0041623309053, 236.0041623309053, 236.0041623309053, 236.0041623309053, 236.0041623309053, 236.0041623309053, 236.0041623309053, 236.0041623309053, 236.0041623309053, 236.0041623309053, 236.0041623309053, 236.0041623309053, 236.0041623309053, 247.8043704474506, 247.8043704474506, 247.8043704474506, 247.8043704474506, 247.8043704474506, 247.8043704474506, 247.8043704474506, 247.8043704474506, 247.8043704474506, 247.8043704474506, 247.8043704474506, 247.8043704474506, 247.8043704474506, 247.8043704474506, 247.8043704474506, 247.8043704474506, 247.8043704474506, 247.8043704474506, 247.8043704474506, 247.8043704474506, 247.8043704474506, 247.8043704474506, 247.8043704474506, 247.8043704474506, 247.8043704474506, 247.8043704474506, 247.8043704474506, 247.8043704474506, 247.8043704474506, 247.8043704474506, 247.8043704474506, 247.8043704474506, 247.8043704474506, 247.8043704474506, 247.8043704474506, 247.8043704474506, 247.8043704474506, 247.8043704474506, 247.8043704474506, 247.8043704474506, 247.8043704474506, 247.8043704474506, 247.8043704474506, 247.8043704474506, 247.8043704474506, 247.8043704474506, 247.8043704474506, 247.8043704474506, 247.8043704474506, 247.8043704474506, 259.60457856399586, 259.60457856399586, 259.60457856399586, 259.60457856399586, 259.60457856399586, 259.60457856399586, 259.60457856399586, 259.60457856399586, 259.60457856399586, 259.60457856399586, 259.60457856399586, 259.60457856399586, 259.60457856399586, 259.60457856399586, 259.60457856399586, 259.60457856399586, 259.60457856399586, 259.60457856399586, 259.60457856399586, 259.60457856399586, 259.60457856399586, 259.60457856399586, 259.60457856399586, 259.60457856399586, 259.60457856399586, 259.60457856399586, 259.60457856399586, 259.60457856399586, 259.60457856399586, 259.60457856399586, 259.60457856399586, 259.60457856399586, 259.60457856399586, 259.60457856399586, 259.60457856399586, 259.60457856399586, 259.60457856399586, 259.60457856399586, 259.60457856399586, 259.60457856399586, 259.60457856399586, 259.60457856399586, 259.60457856399586, 259.60457856399586, 259.60457856399586, 259.60457856399586, 259.60457856399586, 259.60457856399586, 259.60457856399586, 259.60457856399586, 271.4047866805412, 271.4047866805412, 271.4047866805412, 271.4047866805412, 271.4047866805412, 271.4047866805412, 271.4047866805412, 271.4047866805412, 271.4047866805412, 271.4047866805412, 271.4047866805412, 271.4047866805412, 271.4047866805412, 271.4047866805412, 271.4047866805412, 271.4047866805412, 271.4047866805412, 271.4047866805412, 271.4047866805412, 271.4047866805412, 271.4047866805412, 271.4047866805412, 271.4047866805412, 271.4047866805412, 271.4047866805412, 271.4047866805412, 271.4047866805412, 271.4047866805412, 271.4047866805412, 271.4047866805412, 271.4047866805412, 271.4047866805412, 271.4047866805412, 271.4047866805412, 271.4047866805412, 271.4047866805412, 271.4047866805412, 271.4047866805412, 271.4047866805412, 271.4047866805412, 271.4047866805412, 271.4047866805412, 271.4047866805412, 271.4047866805412, 271.4047866805412, 271.4047866805412, 271.4047866805412, 271.4047866805412, 271.4047866805412, 271.4047866805412, 283.2049947970864, 283.2049947970864, 283.2049947970864, 283.2049947970864, 283.2049947970864, 283.2049947970864, 283.2049947970864, 283.2049947970864, 283.2049947970864, 283.2049947970864, 283.2049947970864, 283.2049947970864, 283.2049947970864, 283.2049947970864, 283.2049947970864, 283.2049947970864, 283.2049947970864, 283.2049947970864, 283.2049947970864, 283.2049947970864, 283.2049947970864, 283.2049947970864, 283.2049947970864, 283.2049947970864, 283.2049947970864, 283.2049947970864, 283.2049947970864, 283.2049947970864, 283.2049947970864, 283.2049947970864, 283.2049947970864, 283.2049947970864, 283.2049947970864, 283.2049947970864, 283.2049947970864, 283.2049947970864, 283.2049947970864, 283.2049947970864, 283.2049947970864, 283.2049947970864, 283.2049947970864, 283.2049947970864, 283.2049947970864, 283.2049947970864, 283.2049947970864, 283.2049947970864, 283.2049947970864, 283.2049947970864, 283.2049947970864, 283.2049947970864, 295.00520291363165, 295.00520291363165, 295.00520291363165, 295.00520291363165, 295.00520291363165, 295.00520291363165, 295.00520291363165, 295.00520291363165, 295.00520291363165, 295.00520291363165, 295.00520291363165, 295.00520291363165, 295.00520291363165, 295.00520291363165, 295.00520291363165, 295.00520291363165, 295.00520291363165, 295.00520291363165, 295.00520291363165, 295.00520291363165, 295.00520291363165, 295.00520291363165, 295.00520291363165, 295.00520291363165, 295.00520291363165, 295.00520291363165, 295.00520291363165, 295.00520291363165, 295.00520291363165, 295.00520291363165, 295.00520291363165, 295.00520291363165, 295.00520291363165, 295.00520291363165, 295.00520291363165, 295.00520291363165, 295.00520291363165, 295.00520291363165, 295.00520291363165, 295.00520291363165, 295.00520291363165, 295.00520291363165, 295.00520291363165, 295.00520291363165, 295.00520291363165, 295.00520291363165, 295.00520291363165, 295.00520291363165, 295.00520291363165, 295.00520291363165, 306.80541103017697, 306.80541103017697, 306.80541103017697, 306.80541103017697, 306.80541103017697, 306.80541103017697, 306.80541103017697, 306.80541103017697, 306.80541103017697, 306.80541103017697, 306.80541103017697, 306.80541103017697, 306.80541103017697, 306.80541103017697, 306.80541103017697, 306.80541103017697, 306.80541103017697, 306.80541103017697, 306.80541103017697, 306.80541103017697, 306.80541103017697, 306.80541103017697, 306.80541103017697, 306.80541103017697, 306.80541103017697, 306.80541103017697, 306.80541103017697, 306.80541103017697, 306.80541103017697, 306.80541103017697, 306.80541103017697, 306.80541103017697, 306.80541103017697, 306.80541103017697, 306.80541103017697, 306.80541103017697, 306.80541103017697, 306.80541103017697, 306.80541103017697, 306.80541103017697, 306.80541103017697, 306.80541103017697, 306.80541103017697, 306.80541103017697, 306.80541103017697, 306.80541103017697, 306.80541103017697, 306.80541103017697, 306.80541103017697, 306.80541103017697, 318.6056191467222, 318.6056191467222, 318.6056191467222, 318.6056191467222, 318.6056191467222, 318.6056191467222, 318.6056191467222, 318.6056191467222, 318.6056191467222, 318.6056191467222, 318.6056191467222, 318.6056191467222, 318.6056191467222, 318.6056191467222, 318.6056191467222, 318.6056191467222, 318.6056191467222, 318.6056191467222, 318.6056191467222, 318.6056191467222, 318.6056191467222, 318.6056191467222, 318.6056191467222, 318.6056191467222, 318.6056191467222, 318.6056191467222, 318.6056191467222, 318.6056191467222, 318.6056191467222, 318.6056191467222, 318.6056191467222, 318.6056191467222, 318.6056191467222, 318.6056191467222, 318.6056191467222, 318.6056191467222, 318.6056191467222, 318.6056191467222, 318.6056191467222, 318.6056191467222, 318.6056191467222, 318.6056191467222, 318.6056191467222, 318.6056191467222, 318.6056191467222, 318.6056191467222, 318.6056191467222, 318.6056191467222, 318.6056191467222, 318.6056191467222, 330.40582726326744, 330.40582726326744, 330.40582726326744, 330.40582726326744, 330.40582726326744, 330.40582726326744, 330.40582726326744, 330.40582726326744, 330.40582726326744, 330.40582726326744, 330.40582726326744, 330.40582726326744, 330.40582726326744, 330.40582726326744, 330.40582726326744, 330.40582726326744, 330.40582726326744, 330.40582726326744, 330.40582726326744, 330.40582726326744, 330.40582726326744, 330.40582726326744, 330.40582726326744, 330.40582726326744, 330.40582726326744, 330.40582726326744, 330.40582726326744, 330.40582726326744, 330.40582726326744, 330.40582726326744, 330.40582726326744, 330.40582726326744, 330.40582726326744, 330.40582726326744, 330.40582726326744, 330.40582726326744, 330.40582726326744, 330.40582726326744, 330.40582726326744, 330.40582726326744, 330.40582726326744, 330.40582726326744, 330.40582726326744, 330.40582726326744, 330.40582726326744, 330.40582726326744, 330.40582726326744, 330.40582726326744, 330.40582726326744, 330.40582726326744, 342.20603537981276, 342.20603537981276, 342.20603537981276, 342.20603537981276, 342.20603537981276, 342.20603537981276, 342.20603537981276, 342.20603537981276, 342.20603537981276, 342.20603537981276, 342.20603537981276, 342.20603537981276, 342.20603537981276, 342.20603537981276, 342.20603537981276, 342.20603537981276, 342.20603537981276, 342.20603537981276, 342.20603537981276, 342.20603537981276, 342.20603537981276, 342.20603537981276, 342.20603537981276, 342.20603537981276, 342.20603537981276, 342.20603537981276, 342.20603537981276, 342.20603537981276, 342.20603537981276, 342.20603537981276, 342.20603537981276, 342.20603537981276, 342.20603537981276, 342.20603537981276, 342.20603537981276, 342.20603537981276, 342.20603537981276, 342.20603537981276, 342.20603537981276, 342.20603537981276, 342.20603537981276, 342.20603537981276, 342.20603537981276, 342.20603537981276, 342.20603537981276, 342.20603537981276, 342.20603537981276, 342.20603537981276, 342.20603537981276, 342.20603537981276, 354.006243496358, 354.006243496358, 354.006243496358, 354.006243496358, 354.006243496358, 354.006243496358, 354.006243496358, 354.006243496358, 354.006243496358, 354.006243496358, 354.006243496358, 354.006243496358, 354.006243496358, 354.006243496358, 354.006243496358, 354.006243496358, 354.006243496358, 354.006243496358, 354.006243496358, 354.006243496358, 354.006243496358, 354.006243496358, 354.006243496358, 354.006243496358, 354.006243496358, 354.006243496358, 354.006243496358, 354.006243496358, 354.006243496358, 354.006243496358, 354.006243496358, 354.006243496358, 354.006243496358, 354.006243496358, 354.006243496358, 354.006243496358, 354.006243496358, 354.006243496358, 354.006243496358, 354.006243496358, 354.006243496358, 354.006243496358, 354.006243496358, 354.006243496358, 354.006243496358, 354.006243496358, 354.006243496358, 354.006243496358, 354.006243496358, 354.006243496358, 365.80645161290323, 365.80645161290323, 365.80645161290323, 365.80645161290323, 365.80645161290323, 365.80645161290323, 365.80645161290323, 365.80645161290323, 365.80645161290323, 365.80645161290323, 365.80645161290323, 365.80645161290323, 365.80645161290323, 365.80645161290323, 365.80645161290323, 365.80645161290323, 365.80645161290323, 365.80645161290323, 365.80645161290323, 365.80645161290323, 365.80645161290323, 365.80645161290323, 365.80645161290323, 365.80645161290323, 365.80645161290323, 365.80645161290323, 365.80645161290323, 365.80645161290323, 365.80645161290323, 365.80645161290323, 365.80645161290323, 365.80645161290323, 365.80645161290323, 365.80645161290323, 365.80645161290323, 365.80645161290323, 365.80645161290323, 365.80645161290323, 365.80645161290323, 365.80645161290323, 365.80645161290323, 365.80645161290323, 365.80645161290323, 365.80645161290323, 365.80645161290323, 365.80645161290323, 365.80645161290323, 365.80645161290323, 365.80645161290323, 365.80645161290323], \"thetaunit\": \"degrees\", \"type\": \"barpolar\"}],\n",
       "                        {\"polar\": {\"angularaxis\": {\"rotation\": -135.0}, \"bargap\": 0.0, \"hole\": 0.5}, \"template\": {\"data\": {\"bar\": [{\"error_x\": {\"color\": \"#2a3f5f\"}, \"error_y\": {\"color\": \"#2a3f5f\"}, \"marker\": {\"line\": {\"color\": \"white\", \"width\": 0.5}}, \"type\": \"bar\"}], \"barpolar\": [{\"marker\": {\"line\": {\"color\": \"white\", \"width\": 0.5}}, \"type\": \"barpolar\"}], \"carpet\": [{\"aaxis\": {\"endlinecolor\": \"#2a3f5f\", \"gridcolor\": \"#C8D4E3\", \"linecolor\": \"#C8D4E3\", \"minorgridcolor\": \"#C8D4E3\", \"startlinecolor\": \"#2a3f5f\"}, \"baxis\": {\"endlinecolor\": \"#2a3f5f\", \"gridcolor\": \"#C8D4E3\", \"linecolor\": \"#C8D4E3\", \"minorgridcolor\": \"#C8D4E3\", \"startlinecolor\": \"#2a3f5f\"}, \"type\": \"carpet\"}], \"choropleth\": [{\"colorbar\": {\"outlinewidth\": 0, \"ticks\": \"\"}, \"type\": \"choropleth\"}], \"contour\": [{\"colorbar\": {\"outlinewidth\": 0, \"ticks\": \"\"}, \"colorscale\": [[0.0, \"#0d0887\"], [0.1111111111111111, \"#46039f\"], [0.2222222222222222, \"#7201a8\"], [0.3333333333333333, \"#9c179e\"], [0.4444444444444444, \"#bd3786\"], [0.5555555555555556, \"#d8576b\"], [0.6666666666666666, \"#ed7953\"], [0.7777777777777778, \"#fb9f3a\"], [0.8888888888888888, \"#fdca26\"], [1.0, \"#f0f921\"]], \"type\": \"contour\"}], \"contourcarpet\": [{\"colorbar\": {\"outlinewidth\": 0, \"ticks\": \"\"}, \"type\": \"contourcarpet\"}], \"heatmap\": [{\"colorbar\": {\"outlinewidth\": 0, \"ticks\": \"\"}, \"colorscale\": [[0.0, \"#0d0887\"], [0.1111111111111111, \"#46039f\"], [0.2222222222222222, \"#7201a8\"], [0.3333333333333333, \"#9c179e\"], [0.4444444444444444, \"#bd3786\"], [0.5555555555555556, \"#d8576b\"], [0.6666666666666666, \"#ed7953\"], [0.7777777777777778, \"#fb9f3a\"], [0.8888888888888888, \"#fdca26\"], [1.0, \"#f0f921\"]], \"type\": \"heatmap\"}], \"heatmapgl\": [{\"colorbar\": {\"outlinewidth\": 0, \"ticks\": \"\"}, \"colorscale\": [[0.0, \"#0d0887\"], [0.1111111111111111, \"#46039f\"], [0.2222222222222222, \"#7201a8\"], [0.3333333333333333, \"#9c179e\"], [0.4444444444444444, \"#bd3786\"], [0.5555555555555556, \"#d8576b\"], [0.6666666666666666, \"#ed7953\"], [0.7777777777777778, \"#fb9f3a\"], [0.8888888888888888, \"#fdca26\"], [1.0, \"#f0f921\"]], \"type\": \"heatmapgl\"}], \"histogram\": [{\"marker\": {\"colorbar\": {\"outlinewidth\": 0, \"ticks\": \"\"}}, \"type\": \"histogram\"}], \"histogram2d\": [{\"colorbar\": {\"outlinewidth\": 0, \"ticks\": \"\"}, \"colorscale\": [[0.0, \"#0d0887\"], [0.1111111111111111, \"#46039f\"], [0.2222222222222222, \"#7201a8\"], [0.3333333333333333, \"#9c179e\"], [0.4444444444444444, \"#bd3786\"], [0.5555555555555556, \"#d8576b\"], [0.6666666666666666, \"#ed7953\"], [0.7777777777777778, \"#fb9f3a\"], [0.8888888888888888, \"#fdca26\"], [1.0, \"#f0f921\"]], \"type\": \"histogram2d\"}], \"histogram2dcontour\": [{\"colorbar\": {\"outlinewidth\": 0, \"ticks\": \"\"}, \"colorscale\": [[0.0, \"#0d0887\"], [0.1111111111111111, \"#46039f\"], [0.2222222222222222, \"#7201a8\"], [0.3333333333333333, \"#9c179e\"], [0.4444444444444444, \"#bd3786\"], [0.5555555555555556, \"#d8576b\"], [0.6666666666666666, \"#ed7953\"], [0.7777777777777778, \"#fb9f3a\"], [0.8888888888888888, \"#fdca26\"], [1.0, \"#f0f921\"]], \"type\": \"histogram2dcontour\"}], \"mesh3d\": [{\"colorbar\": {\"outlinewidth\": 0, \"ticks\": \"\"}, \"type\": \"mesh3d\"}], \"parcoords\": [{\"line\": {\"colorbar\": {\"outlinewidth\": 0, \"ticks\": \"\"}}, \"type\": \"parcoords\"}], \"pie\": [{\"automargin\": true, \"type\": \"pie\"}], \"scatter\": [{\"marker\": {\"colorbar\": {\"outlinewidth\": 0, \"ticks\": \"\"}}, \"type\": \"scatter\"}], \"scatter3d\": [{\"line\": {\"colorbar\": {\"outlinewidth\": 0, \"ticks\": \"\"}}, \"marker\": {\"colorbar\": {\"outlinewidth\": 0, \"ticks\": \"\"}}, \"type\": \"scatter3d\"}], \"scattercarpet\": [{\"marker\": {\"colorbar\": {\"outlinewidth\": 0, \"ticks\": \"\"}}, \"type\": \"scattercarpet\"}], \"scattergeo\": [{\"marker\": {\"colorbar\": {\"outlinewidth\": 0, \"ticks\": \"\"}}, \"type\": \"scattergeo\"}], \"scattergl\": [{\"marker\": {\"colorbar\": {\"outlinewidth\": 0, \"ticks\": \"\"}}, \"type\": \"scattergl\"}], \"scattermapbox\": [{\"marker\": {\"colorbar\": {\"outlinewidth\": 0, \"ticks\": \"\"}}, \"type\": \"scattermapbox\"}], \"scatterpolar\": [{\"marker\": {\"colorbar\": {\"outlinewidth\": 0, \"ticks\": \"\"}}, \"type\": \"scatterpolar\"}], \"scatterpolargl\": [{\"marker\": {\"colorbar\": {\"outlinewidth\": 0, \"ticks\": \"\"}}, \"type\": \"scatterpolargl\"}], \"scatterternary\": [{\"marker\": {\"colorbar\": {\"outlinewidth\": 0, \"ticks\": \"\"}}, \"type\": \"scatterternary\"}], \"surface\": [{\"colorbar\": {\"outlinewidth\": 0, \"ticks\": \"\"}, \"colorscale\": [[0.0, \"#0d0887\"], [0.1111111111111111, \"#46039f\"], [0.2222222222222222, \"#7201a8\"], [0.3333333333333333, \"#9c179e\"], [0.4444444444444444, \"#bd3786\"], [0.5555555555555556, \"#d8576b\"], [0.6666666666666666, \"#ed7953\"], [0.7777777777777778, \"#fb9f3a\"], [0.8888888888888888, \"#fdca26\"], [1.0, \"#f0f921\"]], \"type\": \"surface\"}], \"table\": [{\"cells\": {\"fill\": {\"color\": \"#EBF0F8\"}, \"line\": {\"color\": \"white\"}}, \"header\": {\"fill\": {\"color\": \"#C8D4E3\"}, \"line\": {\"color\": \"white\"}}, \"type\": \"table\"}]}, \"layout\": {\"annotationdefaults\": {\"arrowcolor\": \"#2a3f5f\", \"arrowhead\": 0, \"arrowwidth\": 1}, \"coloraxis\": {\"colorbar\": {\"outlinewidth\": 0, \"ticks\": \"\"}}, \"colorscale\": {\"diverging\": [[0, \"#8e0152\"], [0.1, \"#c51b7d\"], [0.2, \"#de77ae\"], [0.3, \"#f1b6da\"], [0.4, \"#fde0ef\"], [0.5, \"#f7f7f7\"], [0.6, \"#e6f5d0\"], [0.7, \"#b8e186\"], [0.8, \"#7fbc41\"], [0.9, \"#4d9221\"], [1, \"#276419\"]], \"sequential\": [[0.0, \"#0d0887\"], [0.1111111111111111, \"#46039f\"], [0.2222222222222222, \"#7201a8\"], [0.3333333333333333, \"#9c179e\"], [0.4444444444444444, \"#bd3786\"], [0.5555555555555556, \"#d8576b\"], [0.6666666666666666, \"#ed7953\"], [0.7777777777777778, \"#fb9f3a\"], [0.8888888888888888, \"#fdca26\"], [1.0, \"#f0f921\"]], \"sequentialminus\": [[0.0, \"#0d0887\"], [0.1111111111111111, \"#46039f\"], [0.2222222222222222, \"#7201a8\"], [0.3333333333333333, \"#9c179e\"], [0.4444444444444444, \"#bd3786\"], [0.5555555555555556, \"#d8576b\"], [0.6666666666666666, \"#ed7953\"], [0.7777777777777778, \"#fb9f3a\"], [0.8888888888888888, \"#fdca26\"], [1.0, \"#f0f921\"]]}, \"colorway\": [\"#1f77b4\", \"#ff7f0e\", \"#2ca02c\", \"#d62728\", \"#9467bd\", \"#8c564b\", \"#e377c2\", \"#7f7f7f\", \"#bcbd22\", \"#17becf\"], \"font\": {\"color\": \"#2a3f5f\"}, \"geo\": {\"bgcolor\": \"white\", \"lakecolor\": \"white\", \"landcolor\": \"white\", \"showlakes\": true, \"showland\": true, \"subunitcolor\": \"#C8D4E3\"}, \"hoverlabel\": {\"align\": \"left\"}, \"hovermode\": \"closest\", \"mapbox\": {\"style\": \"light\"}, \"paper_bgcolor\": \"white\", \"plot_bgcolor\": \"white\", \"polar\": {\"angularaxis\": {\"gridcolor\": \"#EBF0F8\", \"linecolor\": \"#EBF0F8\", \"ticks\": \"\"}, \"bgcolor\": \"white\", \"radialaxis\": {\"gridcolor\": \"#EBF0F8\", \"linecolor\": \"#EBF0F8\", \"ticks\": \"\"}}, \"scene\": {\"camera\": {\"center\": {\"x\": 0, \"y\": 0, \"z\": 0}, \"eye\": {\"x\": 2.0, \"y\": 2.0, \"z\": 2.0}, \"up\": {\"x\": 0, \"y\": 0, \"z\": 1}}, \"xaxis\": {\"backgroundcolor\": \"white\", \"gridcolor\": \"#DFE8F3\", \"gridwidth\": 2, \"linecolor\": \"#EBF0F8\", \"showbackground\": true, \"showspikes\": false, \"ticks\": \"\", \"zerolinecolor\": \"#EBF0F8\"}, \"yaxis\": {\"backgroundcolor\": \"white\", \"gridcolor\": \"#DFE8F3\", \"gridwidth\": 2, \"linecolor\": \"#EBF0F8\", \"showbackground\": true, \"showspikes\": false, \"ticks\": \"\", \"zerolinecolor\": \"#EBF0F8\"}, \"zaxis\": {\"backgroundcolor\": \"white\", \"gridcolor\": \"#DFE8F3\", \"gridwidth\": 2, \"linecolor\": \"#EBF0F8\", \"showbackground\": true, \"showspikes\": false, \"ticks\": \"\", \"zerolinecolor\": \"#EBF0F8\"}}, \"shapedefaults\": {\"line\": {\"color\": \"#2a3f5f\"}}, \"ternary\": {\"aaxis\": {\"gridcolor\": \"#DFE8F3\", \"linecolor\": \"#A2B1C6\", \"ticks\": \"\"}, \"baxis\": {\"gridcolor\": \"#DFE8F3\", \"linecolor\": \"#A2B1C6\", \"ticks\": \"\"}, \"bgcolor\": \"white\", \"caxis\": {\"gridcolor\": \"#DFE8F3\", \"linecolor\": \"#A2B1C6\", \"ticks\": \"\"}}, \"title\": {\"x\": 0.05}, \"xaxis\": {\"automargin\": true, \"gridcolor\": \"#EBF0F8\", \"linecolor\": \"black\", \"linewidth\": 2.0, \"mirror\": true, \"showline\": true, \"ticks\": \"\", \"title\": {\"standoff\": 15}, \"zeroline\": false, \"zerolinecolor\": \"#EBF0F8\", \"zerolinewidth\": 2}, \"yaxis\": {\"automargin\": true, \"gridcolor\": \"#EBF0F8\", \"linecolor\": \"black\", \"linewidth\": 2.0, \"mirror\": true, \"showline\": true, \"ticks\": \"\", \"title\": {\"standoff\": 15}, \"zeroline\": false, \"zerolinecolor\": \"#EBF0F8\", \"zerolinewidth\": 2}}}},\n",
       "                        {\"responsive\": true}\n",
       "                    ).then(function(){\n",
       "                            \n",
       "var gd = document.getElementById('54daddc4-095f-4649-a101-ff2d25a60de2');\n",
       "var x = new MutationObserver(function (mutations, observer) {{\n",
       "        var display = window.getComputedStyle(gd).display;\n",
       "        if (!display || display === 'none') {{\n",
       "            console.log([gd, 'removed!']);\n",
       "            Plotly.purge(gd);\n",
       "            observer.disconnect();\n",
       "        }}\n",
       "}});\n",
       "\n",
       "// Listen for the removal of the full notebook cells\n",
       "var notebookContainer = gd.closest('#notebook-container');\n",
       "if (notebookContainer) {{\n",
       "    x.observe(notebookContainer, {childList: true});\n",
       "}}\n",
       "\n",
       "// Listen for the clearing of the current output cell\n",
       "var outputEl = gd.closest('.output');\n",
       "if (outputEl) {{\n",
       "    x.observe(outputEl, {childList: true});\n",
       "}}\n",
       "\n",
       "                        })\n",
       "                };\n",
       "                });\n",
       "            </script>\n",
       "        </div>"
      ]
     },
     "metadata": {},
     "output_type": "display_data"
    },
    {
     "data": {
      "application/vnd.plotly.v1+json": {
       "config": {
        "plotlyServerURL": "https://plot.ly"
       },
       "data": [
        {
         "cmax": 7224.255035543232,
         "cmin": 0,
         "colorbar": {
          "title": {
           "side": "top",
           "text": "<b>Pressure</b>"
          }
         },
         "colorscale": [
          [
           0,
           "#440154"
          ],
          [
           0.1111111111111111,
           "#482878"
          ],
          [
           0.2222222222222222,
           "#3e4989"
          ],
          [
           0.3333333333333333,
           "#31688e"
          ],
          [
           0.4444444444444444,
           "#26828e"
          ],
          [
           0.5555555555555556,
           "#1f9e89"
          ],
          [
           0.6666666666666666,
           "#35b779"
          ],
          [
           0.7777777777777778,
           "#6ece58"
          ],
          [
           0.8888888888888888,
           "#b5de2b"
          ],
          [
           1,
           "#fde725"
          ]
         ],
         "hovertemplate": "<b>Length: %{x:.2e}</b><br><b>Angular Position: %{y:.2f}</b><br><b>Pressure: %{z:.2f}</b>",
         "name": "Pressure",
         "showlegend": false,
         "type": "surface",
         "x": [
          [
           0,
           0.005714285714285714,
           0.011428571428571429,
           0.017142857142857144,
           0.022857142857142857,
           0.02857142857142857,
           0.03428571428571429,
           0.04
          ],
          [
           0,
           0.005714285714285714,
           0.011428571428571429,
           0.017142857142857144,
           0.022857142857142857,
           0.02857142857142857,
           0.03428571428571429,
           0.04
          ],
          [
           0,
           0.005714285714285714,
           0.011428571428571429,
           0.017142857142857144,
           0.022857142857142857,
           0.02857142857142857,
           0.03428571428571429,
           0.04
          ],
          [
           0,
           0.005714285714285714,
           0.011428571428571429,
           0.017142857142857144,
           0.022857142857142857,
           0.02857142857142857,
           0.03428571428571429,
           0.04
          ],
          [
           0,
           0.005714285714285714,
           0.011428571428571429,
           0.017142857142857144,
           0.022857142857142857,
           0.02857142857142857,
           0.03428571428571429,
           0.04
          ],
          [
           0,
           0.005714285714285714,
           0.011428571428571429,
           0.017142857142857144,
           0.022857142857142857,
           0.02857142857142857,
           0.03428571428571429,
           0.04
          ],
          [
           0,
           0.005714285714285714,
           0.011428571428571429,
           0.017142857142857144,
           0.022857142857142857,
           0.02857142857142857,
           0.03428571428571429,
           0.04
          ],
          [
           0,
           0.005714285714285714,
           0.011428571428571429,
           0.017142857142857144,
           0.022857142857142857,
           0.02857142857142857,
           0.03428571428571429,
           0.04
          ],
          [
           0,
           0.005714285714285714,
           0.011428571428571429,
           0.017142857142857144,
           0.022857142857142857,
           0.02857142857142857,
           0.03428571428571429,
           0.04
          ],
          [
           0,
           0.005714285714285714,
           0.011428571428571429,
           0.017142857142857144,
           0.022857142857142857,
           0.02857142857142857,
           0.03428571428571429,
           0.04
          ],
          [
           0,
           0.005714285714285714,
           0.011428571428571429,
           0.017142857142857144,
           0.022857142857142857,
           0.02857142857142857,
           0.03428571428571429,
           0.04
          ],
          [
           0,
           0.005714285714285714,
           0.011428571428571429,
           0.017142857142857144,
           0.022857142857142857,
           0.02857142857142857,
           0.03428571428571429,
           0.04
          ],
          [
           0,
           0.005714285714285714,
           0.011428571428571429,
           0.017142857142857144,
           0.022857142857142857,
           0.02857142857142857,
           0.03428571428571429,
           0.04
          ],
          [
           0,
           0.005714285714285714,
           0.011428571428571429,
           0.017142857142857144,
           0.022857142857142857,
           0.02857142857142857,
           0.03428571428571429,
           0.04
          ],
          [
           0,
           0.005714285714285714,
           0.011428571428571429,
           0.017142857142857144,
           0.022857142857142857,
           0.02857142857142857,
           0.03428571428571429,
           0.04
          ],
          [
           0,
           0.005714285714285714,
           0.011428571428571429,
           0.017142857142857144,
           0.022857142857142857,
           0.02857142857142857,
           0.03428571428571429,
           0.04
          ],
          [
           0,
           0.005714285714285714,
           0.011428571428571429,
           0.017142857142857144,
           0.022857142857142857,
           0.02857142857142857,
           0.03428571428571429,
           0.04
          ],
          [
           0,
           0.005714285714285714,
           0.011428571428571429,
           0.017142857142857144,
           0.022857142857142857,
           0.02857142857142857,
           0.03428571428571429,
           0.04
          ],
          [
           0,
           0.005714285714285714,
           0.011428571428571429,
           0.017142857142857144,
           0.022857142857142857,
           0.02857142857142857,
           0.03428571428571429,
           0.04
          ],
          [
           0,
           0.005714285714285714,
           0.011428571428571429,
           0.017142857142857144,
           0.022857142857142857,
           0.02857142857142857,
           0.03428571428571429,
           0.04
          ],
          [
           0,
           0.005714285714285714,
           0.011428571428571429,
           0.017142857142857144,
           0.022857142857142857,
           0.02857142857142857,
           0.03428571428571429,
           0.04
          ],
          [
           0,
           0.005714285714285714,
           0.011428571428571429,
           0.017142857142857144,
           0.022857142857142857,
           0.02857142857142857,
           0.03428571428571429,
           0.04
          ],
          [
           0,
           0.005714285714285714,
           0.011428571428571429,
           0.017142857142857144,
           0.022857142857142857,
           0.02857142857142857,
           0.03428571428571429,
           0.04
          ],
          [
           0,
           0.005714285714285714,
           0.011428571428571429,
           0.017142857142857144,
           0.022857142857142857,
           0.02857142857142857,
           0.03428571428571429,
           0.04
          ],
          [
           0,
           0.005714285714285714,
           0.011428571428571429,
           0.017142857142857144,
           0.022857142857142857,
           0.02857142857142857,
           0.03428571428571429,
           0.04
          ],
          [
           0,
           0.005714285714285714,
           0.011428571428571429,
           0.017142857142857144,
           0.022857142857142857,
           0.02857142857142857,
           0.03428571428571429,
           0.04
          ],
          [
           0,
           0.005714285714285714,
           0.011428571428571429,
           0.017142857142857144,
           0.022857142857142857,
           0.02857142857142857,
           0.03428571428571429,
           0.04
          ],
          [
           0,
           0.005714285714285714,
           0.011428571428571429,
           0.017142857142857144,
           0.022857142857142857,
           0.02857142857142857,
           0.03428571428571429,
           0.04
          ],
          [
           0,
           0.005714285714285714,
           0.011428571428571429,
           0.017142857142857144,
           0.022857142857142857,
           0.02857142857142857,
           0.03428571428571429,
           0.04
          ],
          [
           0,
           0.005714285714285714,
           0.011428571428571429,
           0.017142857142857144,
           0.022857142857142857,
           0.02857142857142857,
           0.03428571428571429,
           0.04
          ],
          [
           0,
           0.005714285714285714,
           0.011428571428571429,
           0.017142857142857144,
           0.022857142857142857,
           0.02857142857142857,
           0.03428571428571429,
           0.04
          ],
          [
           0,
           0.005714285714285714,
           0.011428571428571429,
           0.017142857142857144,
           0.022857142857142857,
           0.02857142857142857,
           0.03428571428571429,
           0.04
          ]
         ],
         "y": [
          [
           2.356194490192345,
           2.356194490192345,
           2.356194490192345,
           2.356194490192345,
           2.356194490192345,
           2.356194490192345,
           2.356194490192345,
           2.356194490192345
          ],
          [
           2.558877887198138,
           2.558877887198138,
           2.558877887198138,
           2.558877887198138,
           2.558877887198138,
           2.558877887198138,
           2.558877887198138,
           2.558877887198138
          ],
          [
           2.761561284203931,
           2.761561284203931,
           2.761561284203931,
           2.761561284203931,
           2.761561284203931,
           2.761561284203931,
           2.761561284203931,
           2.761561284203931
          ],
          [
           2.964244681209724,
           2.964244681209724,
           2.964244681209724,
           2.964244681209724,
           2.964244681209724,
           2.964244681209724,
           2.964244681209724,
           2.964244681209724
          ],
          [
           3.166928078215517,
           3.166928078215517,
           3.166928078215517,
           3.166928078215517,
           3.166928078215517,
           3.166928078215517,
           3.166928078215517,
           3.166928078215517
          ],
          [
           3.36961147522131,
           3.36961147522131,
           3.36961147522131,
           3.36961147522131,
           3.36961147522131,
           3.36961147522131,
           3.36961147522131,
           3.36961147522131
          ],
          [
           3.5722948722271033,
           3.5722948722271033,
           3.5722948722271033,
           3.5722948722271033,
           3.5722948722271033,
           3.5722948722271033,
           3.5722948722271033,
           3.5722948722271033
          ],
          [
           3.7749782692328964,
           3.7749782692328964,
           3.7749782692328964,
           3.7749782692328964,
           3.7749782692328964,
           3.7749782692328964,
           3.7749782692328964,
           3.7749782692328964
          ],
          [
           3.9776616662386894,
           3.9776616662386894,
           3.9776616662386894,
           3.9776616662386894,
           3.9776616662386894,
           3.9776616662386894,
           3.9776616662386894,
           3.9776616662386894
          ],
          [
           4.1803450632444825,
           4.1803450632444825,
           4.1803450632444825,
           4.1803450632444825,
           4.1803450632444825,
           4.1803450632444825,
           4.1803450632444825,
           4.1803450632444825
          ],
          [
           4.3830284602502765,
           4.3830284602502765,
           4.3830284602502765,
           4.3830284602502765,
           4.3830284602502765,
           4.3830284602502765,
           4.3830284602502765,
           4.3830284602502765
          ],
          [
           4.585711857256069,
           4.585711857256069,
           4.585711857256069,
           4.585711857256069,
           4.585711857256069,
           4.585711857256069,
           4.585711857256069,
           4.585711857256069
          ],
          [
           4.788395254261863,
           4.788395254261863,
           4.788395254261863,
           4.788395254261863,
           4.788395254261863,
           4.788395254261863,
           4.788395254261863,
           4.788395254261863
          ],
          [
           4.991078651267655,
           4.991078651267655,
           4.991078651267655,
           4.991078651267655,
           4.991078651267655,
           4.991078651267655,
           4.991078651267655,
           4.991078651267655
          ],
          [
           5.193762048273449,
           5.193762048273449,
           5.193762048273449,
           5.193762048273449,
           5.193762048273449,
           5.193762048273449,
           5.193762048273449,
           5.193762048273449
          ],
          [
           5.396445445279241,
           5.396445445279241,
           5.396445445279241,
           5.396445445279241,
           5.396445445279241,
           5.396445445279241,
           5.396445445279241,
           5.396445445279241
          ],
          [
           5.599128842285035,
           5.599128842285035,
           5.599128842285035,
           5.599128842285035,
           5.599128842285035,
           5.599128842285035,
           5.599128842285035,
           5.599128842285035
          ],
          [
           5.801812239290827,
           5.801812239290827,
           5.801812239290827,
           5.801812239290827,
           5.801812239290827,
           5.801812239290827,
           5.801812239290827,
           5.801812239290827
          ],
          [
           6.004495636296621,
           6.004495636296621,
           6.004495636296621,
           6.004495636296621,
           6.004495636296621,
           6.004495636296621,
           6.004495636296621,
           6.004495636296621
          ],
          [
           6.207179033302413,
           6.207179033302413,
           6.207179033302413,
           6.207179033302413,
           6.207179033302413,
           6.207179033302413,
           6.207179033302413,
           6.207179033302413
          ],
          [
           6.409862430308207,
           6.409862430308207,
           6.409862430308207,
           6.409862430308207,
           6.409862430308207,
           6.409862430308207,
           6.409862430308207,
           6.409862430308207
          ],
          [
           6.612545827314,
           6.612545827314,
           6.612545827314,
           6.612545827314,
           6.612545827314,
           6.612545827314,
           6.612545827314,
           6.612545827314
          ],
          [
           6.815229224319793,
           6.815229224319793,
           6.815229224319793,
           6.815229224319793,
           6.815229224319793,
           6.815229224319793,
           6.815229224319793,
           6.815229224319793
          ],
          [
           7.0179126213255865,
           7.0179126213255865,
           7.0179126213255865,
           7.0179126213255865,
           7.0179126213255865,
           7.0179126213255865,
           7.0179126213255865,
           7.0179126213255865
          ],
          [
           7.2205960183313795,
           7.2205960183313795,
           7.2205960183313795,
           7.2205960183313795,
           7.2205960183313795,
           7.2205960183313795,
           7.2205960183313795,
           7.2205960183313795
          ],
          [
           7.423279415337173,
           7.423279415337173,
           7.423279415337173,
           7.423279415337173,
           7.423279415337173,
           7.423279415337173,
           7.423279415337173,
           7.423279415337173
          ],
          [
           7.625962812342966,
           7.625962812342966,
           7.625962812342966,
           7.625962812342966,
           7.625962812342966,
           7.625962812342966,
           7.625962812342966,
           7.625962812342966
          ],
          [
           7.828646209348759,
           7.828646209348759,
           7.828646209348759,
           7.828646209348759,
           7.828646209348759,
           7.828646209348759,
           7.828646209348759,
           7.828646209348759
          ],
          [
           8.031329606354552,
           8.031329606354552,
           8.031329606354552,
           8.031329606354552,
           8.031329606354552,
           8.031329606354552,
           8.031329606354552,
           8.031329606354552
          ],
          [
           8.234013003360346,
           8.234013003360346,
           8.234013003360346,
           8.234013003360346,
           8.234013003360346,
           8.234013003360346,
           8.234013003360346,
           8.234013003360346
          ],
          [
           8.436696400366138,
           8.436696400366138,
           8.436696400366138,
           8.436696400366138,
           8.436696400366138,
           8.436696400366138,
           8.436696400366138,
           8.436696400366138
          ],
          [
           8.63937979737193,
           8.63937979737193,
           8.63937979737193,
           8.63937979737193,
           8.63937979737193,
           8.63937979737193,
           8.63937979737193,
           8.63937979737193
          ]
         ],
         "z": [
          [
           0,
           0,
           0,
           0,
           0,
           0,
           0,
           0
          ],
          [
           0,
           37.93095949126869,
           63.529565783927126,
           76.41972712179992,
           76.41972712179992,
           63.52956578392713,
           37.930959491268695,
           0
          ],
          [
           0,
           111.7287187405939,
           186.32798919105915,
           223.66217284110476,
           223.66217284110473,
           186.32798919105912,
           111.72871874059389,
           0
          ],
          [
           0,
           200.11966300972165,
           333.6625565370629,
           400.47299210948495,
           400.47299210948484,
           333.66255653706276,
           200.11966300972162,
           0
          ],
          [
           0,
           309.79225763541587,
           516.48927192663,
           619.888404409835,
           619.8884044098351,
           516.4892719266301,
           309.7922576354159,
           0
          ],
          [
           0,
           451.7149773466676,
           753.060593656514,
           903.794007317573,
           903.794007317573,
           753.0605936565141,
           451.7149773466676,
           0
          ],
          [
           0,
           640.7081001559422,
           1068.0542320726504,
           1281.7893346730218,
           1281.7893346730218,
           1068.0542320726506,
           640.7081001559424,
           0
          ],
          [
           0,
           895.9889914159314,
           1493.452165220852,
           1792.2245487538719,
           1792.2245487538719,
           1493.452165220852,
           895.9889914159314,
           0
          ],
          [
           0,
           1240.2232733200653,
           2066.9349414413537,
           2480.259002617444,
           2480.259002617444,
           2066.9349414413537,
           1240.2232733200653,
           0
          ],
          [
           0,
           1694.0159742229125,
           2822.6720583532856,
           3386.7928558946155,
           3386.792855894615,
           2822.6720583532856,
           1694.0159742229125,
           0
          ],
          [
           0,
           2260.186737589617,
           3765.112841515266,
           4517.015644213125,
           4517.015644213125,
           3765.112841515266,
           2260.186737589617,
           0
          ],
          [
           0,
           2890.581509792436,
           4813.797826944316,
           5774.255230251943,
           5774.2552302519425,
           4813.797826944313,
           2890.581509792434,
           0
          ],
          [
           0,
           3436.615740077191,
           5721.324058929189,
           6861.771547039674,
           6861.771547039673,
           5721.32405892919,
           3436.615740077191,
           0
          ],
          [
           0,
           3619.5329194413794,
           6024.3223337576555,
           7224.255035543232,
           7224.25503554323,
           6024.322333757654,
           3619.532919441379,
           0
          ],
          [
           0,
           3112.5206591580327,
           5180.0768618249185,
           6211.6252412994645,
           6211.625241299464,
           5180.0768618249185,
           3112.5206591580327,
           0
          ],
          [
           0,
           1798.4282986786486,
           2994.078887617795,
           3590.9152652782,
           3590.9152652782013,
           2994.078887617796,
           1798.4282986786488,
           0
          ],
          [
           0,
           17.31138004536046,
           30.889293584725355,
           38.28460644044492,
           38.2846064404449,
           30.88929358472533,
           17.311380045360448,
           0
          ],
          [
           0,
           0,
           0,
           0,
           0,
           0,
           0,
           0
          ],
          [
           0,
           0,
           0,
           0,
           0,
           0,
           0,
           0
          ],
          [
           0,
           0,
           0,
           0,
           0,
           0,
           0,
           0
          ],
          [
           0,
           0,
           0,
           0,
           0,
           0,
           0,
           0
          ],
          [
           0,
           0,
           0,
           0,
           0,
           0,
           0,
           0
          ],
          [
           0,
           0,
           0,
           0,
           0,
           0,
           0,
           0
          ],
          [
           0,
           0,
           0,
           0,
           0,
           0,
           0,
           0
          ],
          [
           0,
           0,
           0,
           0,
           0,
           0,
           0,
           0
          ],
          [
           0,
           0,
           0,
           0,
           0,
           0,
           0,
           0
          ],
          [
           0,
           0,
           0,
           0,
           0,
           0,
           0,
           0
          ],
          [
           0,
           0,
           0,
           0,
           0,
           0,
           0,
           0
          ],
          [
           0,
           0,
           0,
           0,
           0,
           0,
           0,
           0
          ],
          [
           0,
           0,
           0,
           0,
           0,
           0,
           0,
           0
          ],
          [
           0,
           0,
           0,
           0,
           0,
           0,
           0,
           0
          ],
          [
           0,
           0,
           0,
           0,
           0,
           0,
           0,
           0
          ]
         ]
        }
       ],
       "layout": {
        "scene": {
         "bgcolor": "white",
         "xaxis": {
          "title": {
           "text": "<b>Rotor Length</b>"
          }
         },
         "yaxis": {
          "title": {
           "text": "<b>Angular Position</b>"
          }
         },
         "zaxis": {
          "title": {
           "text": "<b>Pressure</b>"
          }
         }
        },
        "template": {
         "data": {
          "bar": [
           {
            "error_x": {
             "color": "#2a3f5f"
            },
            "error_y": {
             "color": "#2a3f5f"
            },
            "marker": {
             "line": {
              "color": "white",
              "width": 0.5
             }
            },
            "type": "bar"
           }
          ],
          "barpolar": [
           {
            "marker": {
             "line": {
              "color": "white",
              "width": 0.5
             }
            },
            "type": "barpolar"
           }
          ],
          "carpet": [
           {
            "aaxis": {
             "endlinecolor": "#2a3f5f",
             "gridcolor": "#C8D4E3",
             "linecolor": "#C8D4E3",
             "minorgridcolor": "#C8D4E3",
             "startlinecolor": "#2a3f5f"
            },
            "baxis": {
             "endlinecolor": "#2a3f5f",
             "gridcolor": "#C8D4E3",
             "linecolor": "#C8D4E3",
             "minorgridcolor": "#C8D4E3",
             "startlinecolor": "#2a3f5f"
            },
            "type": "carpet"
           }
          ],
          "choropleth": [
           {
            "colorbar": {
             "outlinewidth": 0,
             "ticks": ""
            },
            "type": "choropleth"
           }
          ],
          "contour": [
           {
            "colorbar": {
             "outlinewidth": 0,
             "ticks": ""
            },
            "colorscale": [
             [
              0,
              "#0d0887"
             ],
             [
              0.1111111111111111,
              "#46039f"
             ],
             [
              0.2222222222222222,
              "#7201a8"
             ],
             [
              0.3333333333333333,
              "#9c179e"
             ],
             [
              0.4444444444444444,
              "#bd3786"
             ],
             [
              0.5555555555555556,
              "#d8576b"
             ],
             [
              0.6666666666666666,
              "#ed7953"
             ],
             [
              0.7777777777777778,
              "#fb9f3a"
             ],
             [
              0.8888888888888888,
              "#fdca26"
             ],
             [
              1,
              "#f0f921"
             ]
            ],
            "type": "contour"
           }
          ],
          "contourcarpet": [
           {
            "colorbar": {
             "outlinewidth": 0,
             "ticks": ""
            },
            "type": "contourcarpet"
           }
          ],
          "heatmap": [
           {
            "colorbar": {
             "outlinewidth": 0,
             "ticks": ""
            },
            "colorscale": [
             [
              0,
              "#0d0887"
             ],
             [
              0.1111111111111111,
              "#46039f"
             ],
             [
              0.2222222222222222,
              "#7201a8"
             ],
             [
              0.3333333333333333,
              "#9c179e"
             ],
             [
              0.4444444444444444,
              "#bd3786"
             ],
             [
              0.5555555555555556,
              "#d8576b"
             ],
             [
              0.6666666666666666,
              "#ed7953"
             ],
             [
              0.7777777777777778,
              "#fb9f3a"
             ],
             [
              0.8888888888888888,
              "#fdca26"
             ],
             [
              1,
              "#f0f921"
             ]
            ],
            "type": "heatmap"
           }
          ],
          "heatmapgl": [
           {
            "colorbar": {
             "outlinewidth": 0,
             "ticks": ""
            },
            "colorscale": [
             [
              0,
              "#0d0887"
             ],
             [
              0.1111111111111111,
              "#46039f"
             ],
             [
              0.2222222222222222,
              "#7201a8"
             ],
             [
              0.3333333333333333,
              "#9c179e"
             ],
             [
              0.4444444444444444,
              "#bd3786"
             ],
             [
              0.5555555555555556,
              "#d8576b"
             ],
             [
              0.6666666666666666,
              "#ed7953"
             ],
             [
              0.7777777777777778,
              "#fb9f3a"
             ],
             [
              0.8888888888888888,
              "#fdca26"
             ],
             [
              1,
              "#f0f921"
             ]
            ],
            "type": "heatmapgl"
           }
          ],
          "histogram": [
           {
            "marker": {
             "colorbar": {
              "outlinewidth": 0,
              "ticks": ""
             }
            },
            "type": "histogram"
           }
          ],
          "histogram2d": [
           {
            "colorbar": {
             "outlinewidth": 0,
             "ticks": ""
            },
            "colorscale": [
             [
              0,
              "#0d0887"
             ],
             [
              0.1111111111111111,
              "#46039f"
             ],
             [
              0.2222222222222222,
              "#7201a8"
             ],
             [
              0.3333333333333333,
              "#9c179e"
             ],
             [
              0.4444444444444444,
              "#bd3786"
             ],
             [
              0.5555555555555556,
              "#d8576b"
             ],
             [
              0.6666666666666666,
              "#ed7953"
             ],
             [
              0.7777777777777778,
              "#fb9f3a"
             ],
             [
              0.8888888888888888,
              "#fdca26"
             ],
             [
              1,
              "#f0f921"
             ]
            ],
            "type": "histogram2d"
           }
          ],
          "histogram2dcontour": [
           {
            "colorbar": {
             "outlinewidth": 0,
             "ticks": ""
            },
            "colorscale": [
             [
              0,
              "#0d0887"
             ],
             [
              0.1111111111111111,
              "#46039f"
             ],
             [
              0.2222222222222222,
              "#7201a8"
             ],
             [
              0.3333333333333333,
              "#9c179e"
             ],
             [
              0.4444444444444444,
              "#bd3786"
             ],
             [
              0.5555555555555556,
              "#d8576b"
             ],
             [
              0.6666666666666666,
              "#ed7953"
             ],
             [
              0.7777777777777778,
              "#fb9f3a"
             ],
             [
              0.8888888888888888,
              "#fdca26"
             ],
             [
              1,
              "#f0f921"
             ]
            ],
            "type": "histogram2dcontour"
           }
          ],
          "mesh3d": [
           {
            "colorbar": {
             "outlinewidth": 0,
             "ticks": ""
            },
            "type": "mesh3d"
           }
          ],
          "parcoords": [
           {
            "line": {
             "colorbar": {
              "outlinewidth": 0,
              "ticks": ""
             }
            },
            "type": "parcoords"
           }
          ],
          "pie": [
           {
            "automargin": true,
            "type": "pie"
           }
          ],
          "scatter": [
           {
            "marker": {
             "colorbar": {
              "outlinewidth": 0,
              "ticks": ""
             }
            },
            "type": "scatter"
           }
          ],
          "scatter3d": [
           {
            "line": {
             "colorbar": {
              "outlinewidth": 0,
              "ticks": ""
             }
            },
            "marker": {
             "colorbar": {
              "outlinewidth": 0,
              "ticks": ""
             }
            },
            "type": "scatter3d"
           }
          ],
          "scattercarpet": [
           {
            "marker": {
             "colorbar": {
              "outlinewidth": 0,
              "ticks": ""
             }
            },
            "type": "scattercarpet"
           }
          ],
          "scattergeo": [
           {
            "marker": {
             "colorbar": {
              "outlinewidth": 0,
              "ticks": ""
             }
            },
            "type": "scattergeo"
           }
          ],
          "scattergl": [
           {
            "marker": {
             "colorbar": {
              "outlinewidth": 0,
              "ticks": ""
             }
            },
            "type": "scattergl"
           }
          ],
          "scattermapbox": [
           {
            "marker": {
             "colorbar": {
              "outlinewidth": 0,
              "ticks": ""
             }
            },
            "type": "scattermapbox"
           }
          ],
          "scatterpolar": [
           {
            "marker": {
             "colorbar": {
              "outlinewidth": 0,
              "ticks": ""
             }
            },
            "type": "scatterpolar"
           }
          ],
          "scatterpolargl": [
           {
            "marker": {
             "colorbar": {
              "outlinewidth": 0,
              "ticks": ""
             }
            },
            "type": "scatterpolargl"
           }
          ],
          "scatterternary": [
           {
            "marker": {
             "colorbar": {
              "outlinewidth": 0,
              "ticks": ""
             }
            },
            "type": "scatterternary"
           }
          ],
          "surface": [
           {
            "colorbar": {
             "outlinewidth": 0,
             "ticks": ""
            },
            "colorscale": [
             [
              0,
              "#0d0887"
             ],
             [
              0.1111111111111111,
              "#46039f"
             ],
             [
              0.2222222222222222,
              "#7201a8"
             ],
             [
              0.3333333333333333,
              "#9c179e"
             ],
             [
              0.4444444444444444,
              "#bd3786"
             ],
             [
              0.5555555555555556,
              "#d8576b"
             ],
             [
              0.6666666666666666,
              "#ed7953"
             ],
             [
              0.7777777777777778,
              "#fb9f3a"
             ],
             [
              0.8888888888888888,
              "#fdca26"
             ],
             [
              1,
              "#f0f921"
             ]
            ],
            "type": "surface"
           }
          ],
          "table": [
           {
            "cells": {
             "fill": {
              "color": "#EBF0F8"
             },
             "line": {
              "color": "white"
             }
            },
            "header": {
             "fill": {
              "color": "#C8D4E3"
             },
             "line": {
              "color": "white"
             }
            },
            "type": "table"
           }
          ]
         },
         "layout": {
          "annotationdefaults": {
           "arrowcolor": "#2a3f5f",
           "arrowhead": 0,
           "arrowwidth": 1
          },
          "coloraxis": {
           "colorbar": {
            "outlinewidth": 0,
            "ticks": ""
           }
          },
          "colorscale": {
           "diverging": [
            [
             0,
             "#8e0152"
            ],
            [
             0.1,
             "#c51b7d"
            ],
            [
             0.2,
             "#de77ae"
            ],
            [
             0.3,
             "#f1b6da"
            ],
            [
             0.4,
             "#fde0ef"
            ],
            [
             0.5,
             "#f7f7f7"
            ],
            [
             0.6,
             "#e6f5d0"
            ],
            [
             0.7,
             "#b8e186"
            ],
            [
             0.8,
             "#7fbc41"
            ],
            [
             0.9,
             "#4d9221"
            ],
            [
             1,
             "#276419"
            ]
           ],
           "sequential": [
            [
             0,
             "#0d0887"
            ],
            [
             0.1111111111111111,
             "#46039f"
            ],
            [
             0.2222222222222222,
             "#7201a8"
            ],
            [
             0.3333333333333333,
             "#9c179e"
            ],
            [
             0.4444444444444444,
             "#bd3786"
            ],
            [
             0.5555555555555556,
             "#d8576b"
            ],
            [
             0.6666666666666666,
             "#ed7953"
            ],
            [
             0.7777777777777778,
             "#fb9f3a"
            ],
            [
             0.8888888888888888,
             "#fdca26"
            ],
            [
             1,
             "#f0f921"
            ]
           ],
           "sequentialminus": [
            [
             0,
             "#0d0887"
            ],
            [
             0.1111111111111111,
             "#46039f"
            ],
            [
             0.2222222222222222,
             "#7201a8"
            ],
            [
             0.3333333333333333,
             "#9c179e"
            ],
            [
             0.4444444444444444,
             "#bd3786"
            ],
            [
             0.5555555555555556,
             "#d8576b"
            ],
            [
             0.6666666666666666,
             "#ed7953"
            ],
            [
             0.7777777777777778,
             "#fb9f3a"
            ],
            [
             0.8888888888888888,
             "#fdca26"
            ],
            [
             1,
             "#f0f921"
            ]
           ]
          },
          "colorway": [
           "#1f77b4",
           "#ff7f0e",
           "#2ca02c",
           "#d62728",
           "#9467bd",
           "#8c564b",
           "#e377c2",
           "#7f7f7f",
           "#bcbd22",
           "#17becf"
          ],
          "font": {
           "color": "#2a3f5f"
          },
          "geo": {
           "bgcolor": "white",
           "lakecolor": "white",
           "landcolor": "white",
           "showlakes": true,
           "showland": true,
           "subunitcolor": "#C8D4E3"
          },
          "hoverlabel": {
           "align": "left"
          },
          "hovermode": "closest",
          "mapbox": {
           "style": "light"
          },
          "paper_bgcolor": "white",
          "plot_bgcolor": "white",
          "polar": {
           "angularaxis": {
            "gridcolor": "#EBF0F8",
            "linecolor": "#EBF0F8",
            "ticks": ""
           },
           "bgcolor": "white",
           "radialaxis": {
            "gridcolor": "#EBF0F8",
            "linecolor": "#EBF0F8",
            "ticks": ""
           }
          },
          "scene": {
           "camera": {
            "center": {
             "x": 0,
             "y": 0,
             "z": 0
            },
            "eye": {
             "x": 2,
             "y": 2,
             "z": 2
            },
            "up": {
             "x": 0,
             "y": 0,
             "z": 1
            }
           },
           "xaxis": {
            "backgroundcolor": "white",
            "gridcolor": "#DFE8F3",
            "gridwidth": 2,
            "linecolor": "#EBF0F8",
            "showbackground": true,
            "showspikes": false,
            "ticks": "",
            "zerolinecolor": "#EBF0F8"
           },
           "yaxis": {
            "backgroundcolor": "white",
            "gridcolor": "#DFE8F3",
            "gridwidth": 2,
            "linecolor": "#EBF0F8",
            "showbackground": true,
            "showspikes": false,
            "ticks": "",
            "zerolinecolor": "#EBF0F8"
           },
           "zaxis": {
            "backgroundcolor": "white",
            "gridcolor": "#DFE8F3",
            "gridwidth": 2,
            "linecolor": "#EBF0F8",
            "showbackground": true,
            "showspikes": false,
            "ticks": "",
            "zerolinecolor": "#EBF0F8"
           }
          },
          "shapedefaults": {
           "line": {
            "color": "#2a3f5f"
           }
          },
          "ternary": {
           "aaxis": {
            "gridcolor": "#DFE8F3",
            "linecolor": "#A2B1C6",
            "ticks": ""
           },
           "baxis": {
            "gridcolor": "#DFE8F3",
            "linecolor": "#A2B1C6",
            "ticks": ""
           },
           "bgcolor": "white",
           "caxis": {
            "gridcolor": "#DFE8F3",
            "linecolor": "#A2B1C6",
            "ticks": ""
           }
          },
          "title": {
           "x": 0.05
          },
          "xaxis": {
           "automargin": true,
           "gridcolor": "#EBF0F8",
           "linecolor": "black",
           "linewidth": 2,
           "mirror": true,
           "showline": true,
           "ticks": "",
           "title": {
            "standoff": 15
           },
           "zeroline": false,
           "zerolinecolor": "#EBF0F8",
           "zerolinewidth": 2
          },
          "yaxis": {
           "automargin": true,
           "gridcolor": "#EBF0F8",
           "linecolor": "black",
           "linewidth": 2,
           "mirror": true,
           "showline": true,
           "ticks": "",
           "title": {
            "standoff": 15
           },
           "zeroline": false,
           "zerolinecolor": "#EBF0F8",
           "zerolinewidth": 2
          }
         }
        },
        "title": {
         "text": "<b>Bearing Pressure Field</b>"
        }
       }
      },
      "text/html": [
       "<div>\n",
       "        \n",
       "        \n",
       "            <div id=\"48840bec-37e2-4da7-98c3-02cd46146519\" class=\"plotly-graph-div\" style=\"height:525px; width:100%;\"></div>\n",
       "            <script type=\"text/javascript\">\n",
       "                require([\"plotly\"], function(Plotly) {\n",
       "                    window.PLOTLYENV=window.PLOTLYENV || {};\n",
       "                    \n",
       "                if (document.getElementById(\"48840bec-37e2-4da7-98c3-02cd46146519\")) {\n",
       "                    Plotly.newPlot(\n",
       "                        '48840bec-37e2-4da7-98c3-02cd46146519',\n",
       "                        [{\"cmax\": 7224.255035543232, \"cmin\": 0.0, \"colorbar\": {\"title\": {\"side\": \"top\", \"text\": \"<b>Pressure</b>\"}}, \"colorscale\": [[0.0, \"#440154\"], [0.1111111111111111, \"#482878\"], [0.2222222222222222, \"#3e4989\"], [0.3333333333333333, \"#31688e\"], [0.4444444444444444, \"#26828e\"], [0.5555555555555556, \"#1f9e89\"], [0.6666666666666666, \"#35b779\"], [0.7777777777777778, \"#6ece58\"], [0.8888888888888888, \"#b5de2b\"], [1.0, \"#fde725\"]], \"hovertemplate\": \"<b>Length: %{x:.2e}</b><br><b>Angular Position: %{y:.2f}</b><br><b>Pressure: %{z:.2f}</b>\", \"name\": \"Pressure\", \"showlegend\": false, \"type\": \"surface\", \"x\": [[0.0, 0.005714285714285714, 0.011428571428571429, 0.017142857142857144, 0.022857142857142857, 0.02857142857142857, 0.03428571428571429, 0.04], [0.0, 0.005714285714285714, 0.011428571428571429, 0.017142857142857144, 0.022857142857142857, 0.02857142857142857, 0.03428571428571429, 0.04], [0.0, 0.005714285714285714, 0.011428571428571429, 0.017142857142857144, 0.022857142857142857, 0.02857142857142857, 0.03428571428571429, 0.04], [0.0, 0.005714285714285714, 0.011428571428571429, 0.017142857142857144, 0.022857142857142857, 0.02857142857142857, 0.03428571428571429, 0.04], [0.0, 0.005714285714285714, 0.011428571428571429, 0.017142857142857144, 0.022857142857142857, 0.02857142857142857, 0.03428571428571429, 0.04], [0.0, 0.005714285714285714, 0.011428571428571429, 0.017142857142857144, 0.022857142857142857, 0.02857142857142857, 0.03428571428571429, 0.04], [0.0, 0.005714285714285714, 0.011428571428571429, 0.017142857142857144, 0.022857142857142857, 0.02857142857142857, 0.03428571428571429, 0.04], [0.0, 0.005714285714285714, 0.011428571428571429, 0.017142857142857144, 0.022857142857142857, 0.02857142857142857, 0.03428571428571429, 0.04], [0.0, 0.005714285714285714, 0.011428571428571429, 0.017142857142857144, 0.022857142857142857, 0.02857142857142857, 0.03428571428571429, 0.04], [0.0, 0.005714285714285714, 0.011428571428571429, 0.017142857142857144, 0.022857142857142857, 0.02857142857142857, 0.03428571428571429, 0.04], [0.0, 0.005714285714285714, 0.011428571428571429, 0.017142857142857144, 0.022857142857142857, 0.02857142857142857, 0.03428571428571429, 0.04], [0.0, 0.005714285714285714, 0.011428571428571429, 0.017142857142857144, 0.022857142857142857, 0.02857142857142857, 0.03428571428571429, 0.04], [0.0, 0.005714285714285714, 0.011428571428571429, 0.017142857142857144, 0.022857142857142857, 0.02857142857142857, 0.03428571428571429, 0.04], [0.0, 0.005714285714285714, 0.011428571428571429, 0.017142857142857144, 0.022857142857142857, 0.02857142857142857, 0.03428571428571429, 0.04], [0.0, 0.005714285714285714, 0.011428571428571429, 0.017142857142857144, 0.022857142857142857, 0.02857142857142857, 0.03428571428571429, 0.04], [0.0, 0.005714285714285714, 0.011428571428571429, 0.017142857142857144, 0.022857142857142857, 0.02857142857142857, 0.03428571428571429, 0.04], [0.0, 0.005714285714285714, 0.011428571428571429, 0.017142857142857144, 0.022857142857142857, 0.02857142857142857, 0.03428571428571429, 0.04], [0.0, 0.005714285714285714, 0.011428571428571429, 0.017142857142857144, 0.022857142857142857, 0.02857142857142857, 0.03428571428571429, 0.04], [0.0, 0.005714285714285714, 0.011428571428571429, 0.017142857142857144, 0.022857142857142857, 0.02857142857142857, 0.03428571428571429, 0.04], [0.0, 0.005714285714285714, 0.011428571428571429, 0.017142857142857144, 0.022857142857142857, 0.02857142857142857, 0.03428571428571429, 0.04], [0.0, 0.005714285714285714, 0.011428571428571429, 0.017142857142857144, 0.022857142857142857, 0.02857142857142857, 0.03428571428571429, 0.04], [0.0, 0.005714285714285714, 0.011428571428571429, 0.017142857142857144, 0.022857142857142857, 0.02857142857142857, 0.03428571428571429, 0.04], [0.0, 0.005714285714285714, 0.011428571428571429, 0.017142857142857144, 0.022857142857142857, 0.02857142857142857, 0.03428571428571429, 0.04], [0.0, 0.005714285714285714, 0.011428571428571429, 0.017142857142857144, 0.022857142857142857, 0.02857142857142857, 0.03428571428571429, 0.04], [0.0, 0.005714285714285714, 0.011428571428571429, 0.017142857142857144, 0.022857142857142857, 0.02857142857142857, 0.03428571428571429, 0.04], [0.0, 0.005714285714285714, 0.011428571428571429, 0.017142857142857144, 0.022857142857142857, 0.02857142857142857, 0.03428571428571429, 0.04], [0.0, 0.005714285714285714, 0.011428571428571429, 0.017142857142857144, 0.022857142857142857, 0.02857142857142857, 0.03428571428571429, 0.04], [0.0, 0.005714285714285714, 0.011428571428571429, 0.017142857142857144, 0.022857142857142857, 0.02857142857142857, 0.03428571428571429, 0.04], [0.0, 0.005714285714285714, 0.011428571428571429, 0.017142857142857144, 0.022857142857142857, 0.02857142857142857, 0.03428571428571429, 0.04], [0.0, 0.005714285714285714, 0.011428571428571429, 0.017142857142857144, 0.022857142857142857, 0.02857142857142857, 0.03428571428571429, 0.04], [0.0, 0.005714285714285714, 0.011428571428571429, 0.017142857142857144, 0.022857142857142857, 0.02857142857142857, 0.03428571428571429, 0.04], [0.0, 0.005714285714285714, 0.011428571428571429, 0.017142857142857144, 0.022857142857142857, 0.02857142857142857, 0.03428571428571429, 0.04]], \"y\": [[2.356194490192345, 2.356194490192345, 2.356194490192345, 2.356194490192345, 2.356194490192345, 2.356194490192345, 2.356194490192345, 2.356194490192345], [2.558877887198138, 2.558877887198138, 2.558877887198138, 2.558877887198138, 2.558877887198138, 2.558877887198138, 2.558877887198138, 2.558877887198138], [2.761561284203931, 2.761561284203931, 2.761561284203931, 2.761561284203931, 2.761561284203931, 2.761561284203931, 2.761561284203931, 2.761561284203931], [2.964244681209724, 2.964244681209724, 2.964244681209724, 2.964244681209724, 2.964244681209724, 2.964244681209724, 2.964244681209724, 2.964244681209724], [3.166928078215517, 3.166928078215517, 3.166928078215517, 3.166928078215517, 3.166928078215517, 3.166928078215517, 3.166928078215517, 3.166928078215517], [3.36961147522131, 3.36961147522131, 3.36961147522131, 3.36961147522131, 3.36961147522131, 3.36961147522131, 3.36961147522131, 3.36961147522131], [3.5722948722271033, 3.5722948722271033, 3.5722948722271033, 3.5722948722271033, 3.5722948722271033, 3.5722948722271033, 3.5722948722271033, 3.5722948722271033], [3.7749782692328964, 3.7749782692328964, 3.7749782692328964, 3.7749782692328964, 3.7749782692328964, 3.7749782692328964, 3.7749782692328964, 3.7749782692328964], [3.9776616662386894, 3.9776616662386894, 3.9776616662386894, 3.9776616662386894, 3.9776616662386894, 3.9776616662386894, 3.9776616662386894, 3.9776616662386894], [4.1803450632444825, 4.1803450632444825, 4.1803450632444825, 4.1803450632444825, 4.1803450632444825, 4.1803450632444825, 4.1803450632444825, 4.1803450632444825], [4.3830284602502765, 4.3830284602502765, 4.3830284602502765, 4.3830284602502765, 4.3830284602502765, 4.3830284602502765, 4.3830284602502765, 4.3830284602502765], [4.585711857256069, 4.585711857256069, 4.585711857256069, 4.585711857256069, 4.585711857256069, 4.585711857256069, 4.585711857256069, 4.585711857256069], [4.788395254261863, 4.788395254261863, 4.788395254261863, 4.788395254261863, 4.788395254261863, 4.788395254261863, 4.788395254261863, 4.788395254261863], [4.991078651267655, 4.991078651267655, 4.991078651267655, 4.991078651267655, 4.991078651267655, 4.991078651267655, 4.991078651267655, 4.991078651267655], [5.193762048273449, 5.193762048273449, 5.193762048273449, 5.193762048273449, 5.193762048273449, 5.193762048273449, 5.193762048273449, 5.193762048273449], [5.396445445279241, 5.396445445279241, 5.396445445279241, 5.396445445279241, 5.396445445279241, 5.396445445279241, 5.396445445279241, 5.396445445279241], [5.599128842285035, 5.599128842285035, 5.599128842285035, 5.599128842285035, 5.599128842285035, 5.599128842285035, 5.599128842285035, 5.599128842285035], [5.801812239290827, 5.801812239290827, 5.801812239290827, 5.801812239290827, 5.801812239290827, 5.801812239290827, 5.801812239290827, 5.801812239290827], [6.004495636296621, 6.004495636296621, 6.004495636296621, 6.004495636296621, 6.004495636296621, 6.004495636296621, 6.004495636296621, 6.004495636296621], [6.207179033302413, 6.207179033302413, 6.207179033302413, 6.207179033302413, 6.207179033302413, 6.207179033302413, 6.207179033302413, 6.207179033302413], [6.409862430308207, 6.409862430308207, 6.409862430308207, 6.409862430308207, 6.409862430308207, 6.409862430308207, 6.409862430308207, 6.409862430308207], [6.612545827314, 6.612545827314, 6.612545827314, 6.612545827314, 6.612545827314, 6.612545827314, 6.612545827314, 6.612545827314], [6.815229224319793, 6.815229224319793, 6.815229224319793, 6.815229224319793, 6.815229224319793, 6.815229224319793, 6.815229224319793, 6.815229224319793], [7.0179126213255865, 7.0179126213255865, 7.0179126213255865, 7.0179126213255865, 7.0179126213255865, 7.0179126213255865, 7.0179126213255865, 7.0179126213255865], [7.2205960183313795, 7.2205960183313795, 7.2205960183313795, 7.2205960183313795, 7.2205960183313795, 7.2205960183313795, 7.2205960183313795, 7.2205960183313795], [7.423279415337173, 7.423279415337173, 7.423279415337173, 7.423279415337173, 7.423279415337173, 7.423279415337173, 7.423279415337173, 7.423279415337173], [7.625962812342966, 7.625962812342966, 7.625962812342966, 7.625962812342966, 7.625962812342966, 7.625962812342966, 7.625962812342966, 7.625962812342966], [7.828646209348759, 7.828646209348759, 7.828646209348759, 7.828646209348759, 7.828646209348759, 7.828646209348759, 7.828646209348759, 7.828646209348759], [8.031329606354552, 8.031329606354552, 8.031329606354552, 8.031329606354552, 8.031329606354552, 8.031329606354552, 8.031329606354552, 8.031329606354552], [8.234013003360346, 8.234013003360346, 8.234013003360346, 8.234013003360346, 8.234013003360346, 8.234013003360346, 8.234013003360346, 8.234013003360346], [8.436696400366138, 8.436696400366138, 8.436696400366138, 8.436696400366138, 8.436696400366138, 8.436696400366138, 8.436696400366138, 8.436696400366138], [8.63937979737193, 8.63937979737193, 8.63937979737193, 8.63937979737193, 8.63937979737193, 8.63937979737193, 8.63937979737193, 8.63937979737193]], \"z\": [[0.0, 0.0, 0.0, 0.0, 0.0, 0.0, 0.0, 0.0], [0.0, 37.93095949126869, 63.529565783927126, 76.41972712179992, 76.41972712179992, 63.52956578392713, 37.930959491268695, 0.0], [0.0, 111.7287187405939, 186.32798919105915, 223.66217284110476, 223.66217284110473, 186.32798919105912, 111.72871874059389, 0.0], [0.0, 200.11966300972165, 333.6625565370629, 400.47299210948495, 400.47299210948484, 333.66255653706276, 200.11966300972162, 0.0], [0.0, 309.79225763541587, 516.48927192663, 619.888404409835, 619.8884044098351, 516.4892719266301, 309.7922576354159, 0.0], [0.0, 451.7149773466676, 753.060593656514, 903.794007317573, 903.794007317573, 753.0605936565141, 451.7149773466676, 0.0], [0.0, 640.7081001559422, 1068.0542320726504, 1281.7893346730218, 1281.7893346730218, 1068.0542320726506, 640.7081001559424, 0.0], [0.0, 895.9889914159314, 1493.452165220852, 1792.2245487538719, 1792.2245487538719, 1493.452165220852, 895.9889914159314, 0.0], [0.0, 1240.2232733200653, 2066.9349414413537, 2480.259002617444, 2480.259002617444, 2066.9349414413537, 1240.2232733200653, 0.0], [0.0, 1694.0159742229125, 2822.6720583532856, 3386.7928558946155, 3386.792855894615, 2822.6720583532856, 1694.0159742229125, 0.0], [0.0, 2260.186737589617, 3765.112841515266, 4517.015644213125, 4517.015644213125, 3765.112841515266, 2260.186737589617, 0.0], [0.0, 2890.581509792436, 4813.797826944316, 5774.255230251943, 5774.2552302519425, 4813.797826944313, 2890.581509792434, 0.0], [0.0, 3436.615740077191, 5721.324058929189, 6861.771547039674, 6861.771547039673, 5721.32405892919, 3436.615740077191, 0.0], [0.0, 3619.5329194413794, 6024.3223337576555, 7224.255035543232, 7224.25503554323, 6024.322333757654, 3619.532919441379, 0.0], [0.0, 3112.5206591580327, 5180.0768618249185, 6211.6252412994645, 6211.625241299464, 5180.0768618249185, 3112.5206591580327, 0.0], [0.0, 1798.4282986786486, 2994.078887617795, 3590.9152652782, 3590.9152652782013, 2994.078887617796, 1798.4282986786488, 0.0], [0.0, 17.31138004536046, 30.889293584725355, 38.28460644044492, 38.2846064404449, 30.88929358472533, 17.311380045360448, 0.0], [0.0, 0.0, 0.0, 0.0, 0.0, 0.0, 0.0, 0.0], [0.0, 0.0, 0.0, 0.0, 0.0, 0.0, 0.0, 0.0], [0.0, 0.0, 0.0, 0.0, 0.0, 0.0, 0.0, 0.0], [0.0, 0.0, 0.0, 0.0, 0.0, 0.0, 0.0, 0.0], [0.0, 0.0, 0.0, 0.0, 0.0, 0.0, 0.0, 0.0], [0.0, 0.0, 0.0, 0.0, 0.0, 0.0, 0.0, 0.0], [0.0, 0.0, 0.0, 0.0, 0.0, 0.0, 0.0, 0.0], [0.0, 0.0, 0.0, 0.0, 0.0, 0.0, 0.0, 0.0], [0.0, 0.0, 0.0, 0.0, 0.0, 0.0, 0.0, 0.0], [0.0, 0.0, 0.0, 0.0, 0.0, 0.0, 0.0, 0.0], [0.0, 0.0, 0.0, 0.0, 0.0, 0.0, 0.0, 0.0], [0.0, 0.0, 0.0, 0.0, 0.0, 0.0, 0.0, 0.0], [0.0, 0.0, 0.0, 0.0, 0.0, 0.0, 0.0, 0.0], [0.0, 0.0, 0.0, 0.0, 0.0, 0.0, 0.0, 0.0], [0.0, 0.0, 0.0, 0.0, 0.0, 0.0, 0.0, 0.0]]}],\n",
       "                        {\"scene\": {\"bgcolor\": \"white\", \"xaxis\": {\"title\": {\"text\": \"<b>Rotor Length</b>\"}}, \"yaxis\": {\"title\": {\"text\": \"<b>Angular Position</b>\"}}, \"zaxis\": {\"title\": {\"text\": \"<b>Pressure</b>\"}}}, \"template\": {\"data\": {\"bar\": [{\"error_x\": {\"color\": \"#2a3f5f\"}, \"error_y\": {\"color\": \"#2a3f5f\"}, \"marker\": {\"line\": {\"color\": \"white\", \"width\": 0.5}}, \"type\": \"bar\"}], \"barpolar\": [{\"marker\": {\"line\": {\"color\": \"white\", \"width\": 0.5}}, \"type\": \"barpolar\"}], \"carpet\": [{\"aaxis\": {\"endlinecolor\": \"#2a3f5f\", \"gridcolor\": \"#C8D4E3\", \"linecolor\": \"#C8D4E3\", \"minorgridcolor\": \"#C8D4E3\", \"startlinecolor\": \"#2a3f5f\"}, \"baxis\": {\"endlinecolor\": \"#2a3f5f\", \"gridcolor\": \"#C8D4E3\", \"linecolor\": \"#C8D4E3\", \"minorgridcolor\": \"#C8D4E3\", \"startlinecolor\": \"#2a3f5f\"}, \"type\": \"carpet\"}], \"choropleth\": [{\"colorbar\": {\"outlinewidth\": 0, \"ticks\": \"\"}, \"type\": \"choropleth\"}], \"contour\": [{\"colorbar\": {\"outlinewidth\": 0, \"ticks\": \"\"}, \"colorscale\": [[0.0, \"#0d0887\"], [0.1111111111111111, \"#46039f\"], [0.2222222222222222, \"#7201a8\"], [0.3333333333333333, \"#9c179e\"], [0.4444444444444444, \"#bd3786\"], [0.5555555555555556, \"#d8576b\"], [0.6666666666666666, \"#ed7953\"], [0.7777777777777778, \"#fb9f3a\"], [0.8888888888888888, \"#fdca26\"], [1.0, \"#f0f921\"]], \"type\": \"contour\"}], \"contourcarpet\": [{\"colorbar\": {\"outlinewidth\": 0, \"ticks\": \"\"}, \"type\": \"contourcarpet\"}], \"heatmap\": [{\"colorbar\": {\"outlinewidth\": 0, \"ticks\": \"\"}, \"colorscale\": [[0.0, \"#0d0887\"], [0.1111111111111111, \"#46039f\"], [0.2222222222222222, \"#7201a8\"], [0.3333333333333333, \"#9c179e\"], [0.4444444444444444, \"#bd3786\"], [0.5555555555555556, \"#d8576b\"], [0.6666666666666666, \"#ed7953\"], [0.7777777777777778, \"#fb9f3a\"], [0.8888888888888888, \"#fdca26\"], [1.0, \"#f0f921\"]], \"type\": \"heatmap\"}], \"heatmapgl\": [{\"colorbar\": {\"outlinewidth\": 0, \"ticks\": \"\"}, \"colorscale\": [[0.0, \"#0d0887\"], [0.1111111111111111, \"#46039f\"], [0.2222222222222222, \"#7201a8\"], [0.3333333333333333, \"#9c179e\"], [0.4444444444444444, \"#bd3786\"], [0.5555555555555556, \"#d8576b\"], [0.6666666666666666, \"#ed7953\"], [0.7777777777777778, \"#fb9f3a\"], [0.8888888888888888, \"#fdca26\"], [1.0, \"#f0f921\"]], \"type\": \"heatmapgl\"}], \"histogram\": [{\"marker\": {\"colorbar\": {\"outlinewidth\": 0, \"ticks\": \"\"}}, \"type\": \"histogram\"}], \"histogram2d\": [{\"colorbar\": {\"outlinewidth\": 0, \"ticks\": \"\"}, \"colorscale\": [[0.0, \"#0d0887\"], [0.1111111111111111, \"#46039f\"], [0.2222222222222222, \"#7201a8\"], [0.3333333333333333, \"#9c179e\"], [0.4444444444444444, \"#bd3786\"], [0.5555555555555556, \"#d8576b\"], [0.6666666666666666, \"#ed7953\"], [0.7777777777777778, \"#fb9f3a\"], [0.8888888888888888, \"#fdca26\"], [1.0, \"#f0f921\"]], \"type\": \"histogram2d\"}], \"histogram2dcontour\": [{\"colorbar\": {\"outlinewidth\": 0, \"ticks\": \"\"}, \"colorscale\": [[0.0, \"#0d0887\"], [0.1111111111111111, \"#46039f\"], [0.2222222222222222, \"#7201a8\"], [0.3333333333333333, \"#9c179e\"], [0.4444444444444444, \"#bd3786\"], [0.5555555555555556, \"#d8576b\"], [0.6666666666666666, \"#ed7953\"], [0.7777777777777778, \"#fb9f3a\"], [0.8888888888888888, \"#fdca26\"], [1.0, \"#f0f921\"]], \"type\": \"histogram2dcontour\"}], \"mesh3d\": [{\"colorbar\": {\"outlinewidth\": 0, \"ticks\": \"\"}, \"type\": \"mesh3d\"}], \"parcoords\": [{\"line\": {\"colorbar\": {\"outlinewidth\": 0, \"ticks\": \"\"}}, \"type\": \"parcoords\"}], \"pie\": [{\"automargin\": true, \"type\": \"pie\"}], \"scatter\": [{\"marker\": {\"colorbar\": {\"outlinewidth\": 0, \"ticks\": \"\"}}, \"type\": \"scatter\"}], \"scatter3d\": [{\"line\": {\"colorbar\": {\"outlinewidth\": 0, \"ticks\": \"\"}}, \"marker\": {\"colorbar\": {\"outlinewidth\": 0, \"ticks\": \"\"}}, \"type\": \"scatter3d\"}], \"scattercarpet\": [{\"marker\": {\"colorbar\": {\"outlinewidth\": 0, \"ticks\": \"\"}}, \"type\": \"scattercarpet\"}], \"scattergeo\": [{\"marker\": {\"colorbar\": {\"outlinewidth\": 0, \"ticks\": \"\"}}, \"type\": \"scattergeo\"}], \"scattergl\": [{\"marker\": {\"colorbar\": {\"outlinewidth\": 0, \"ticks\": \"\"}}, \"type\": \"scattergl\"}], \"scattermapbox\": [{\"marker\": {\"colorbar\": {\"outlinewidth\": 0, \"ticks\": \"\"}}, \"type\": \"scattermapbox\"}], \"scatterpolar\": [{\"marker\": {\"colorbar\": {\"outlinewidth\": 0, \"ticks\": \"\"}}, \"type\": \"scatterpolar\"}], \"scatterpolargl\": [{\"marker\": {\"colorbar\": {\"outlinewidth\": 0, \"ticks\": \"\"}}, \"type\": \"scatterpolargl\"}], \"scatterternary\": [{\"marker\": {\"colorbar\": {\"outlinewidth\": 0, \"ticks\": \"\"}}, \"type\": \"scatterternary\"}], \"surface\": [{\"colorbar\": {\"outlinewidth\": 0, \"ticks\": \"\"}, \"colorscale\": [[0.0, \"#0d0887\"], [0.1111111111111111, \"#46039f\"], [0.2222222222222222, \"#7201a8\"], [0.3333333333333333, \"#9c179e\"], [0.4444444444444444, \"#bd3786\"], [0.5555555555555556, \"#d8576b\"], [0.6666666666666666, \"#ed7953\"], [0.7777777777777778, \"#fb9f3a\"], [0.8888888888888888, \"#fdca26\"], [1.0, \"#f0f921\"]], \"type\": \"surface\"}], \"table\": [{\"cells\": {\"fill\": {\"color\": \"#EBF0F8\"}, \"line\": {\"color\": \"white\"}}, \"header\": {\"fill\": {\"color\": \"#C8D4E3\"}, \"line\": {\"color\": \"white\"}}, \"type\": \"table\"}]}, \"layout\": {\"annotationdefaults\": {\"arrowcolor\": \"#2a3f5f\", \"arrowhead\": 0, \"arrowwidth\": 1}, \"coloraxis\": {\"colorbar\": {\"outlinewidth\": 0, \"ticks\": \"\"}}, \"colorscale\": {\"diverging\": [[0, \"#8e0152\"], [0.1, \"#c51b7d\"], [0.2, \"#de77ae\"], [0.3, \"#f1b6da\"], [0.4, \"#fde0ef\"], [0.5, \"#f7f7f7\"], [0.6, \"#e6f5d0\"], [0.7, \"#b8e186\"], [0.8, \"#7fbc41\"], [0.9, \"#4d9221\"], [1, \"#276419\"]], \"sequential\": [[0.0, \"#0d0887\"], [0.1111111111111111, \"#46039f\"], [0.2222222222222222, \"#7201a8\"], [0.3333333333333333, \"#9c179e\"], [0.4444444444444444, \"#bd3786\"], [0.5555555555555556, \"#d8576b\"], [0.6666666666666666, \"#ed7953\"], [0.7777777777777778, \"#fb9f3a\"], [0.8888888888888888, \"#fdca26\"], [1.0, \"#f0f921\"]], \"sequentialminus\": [[0.0, \"#0d0887\"], [0.1111111111111111, \"#46039f\"], [0.2222222222222222, \"#7201a8\"], [0.3333333333333333, \"#9c179e\"], [0.4444444444444444, \"#bd3786\"], [0.5555555555555556, \"#d8576b\"], [0.6666666666666666, \"#ed7953\"], [0.7777777777777778, \"#fb9f3a\"], [0.8888888888888888, \"#fdca26\"], [1.0, \"#f0f921\"]]}, \"colorway\": [\"#1f77b4\", \"#ff7f0e\", \"#2ca02c\", \"#d62728\", \"#9467bd\", \"#8c564b\", \"#e377c2\", \"#7f7f7f\", \"#bcbd22\", \"#17becf\"], \"font\": {\"color\": \"#2a3f5f\"}, \"geo\": {\"bgcolor\": \"white\", \"lakecolor\": \"white\", \"landcolor\": \"white\", \"showlakes\": true, \"showland\": true, \"subunitcolor\": \"#C8D4E3\"}, \"hoverlabel\": {\"align\": \"left\"}, \"hovermode\": \"closest\", \"mapbox\": {\"style\": \"light\"}, \"paper_bgcolor\": \"white\", \"plot_bgcolor\": \"white\", \"polar\": {\"angularaxis\": {\"gridcolor\": \"#EBF0F8\", \"linecolor\": \"#EBF0F8\", \"ticks\": \"\"}, \"bgcolor\": \"white\", \"radialaxis\": {\"gridcolor\": \"#EBF0F8\", \"linecolor\": \"#EBF0F8\", \"ticks\": \"\"}}, \"scene\": {\"camera\": {\"center\": {\"x\": 0, \"y\": 0, \"z\": 0}, \"eye\": {\"x\": 2.0, \"y\": 2.0, \"z\": 2.0}, \"up\": {\"x\": 0, \"y\": 0, \"z\": 1}}, \"xaxis\": {\"backgroundcolor\": \"white\", \"gridcolor\": \"#DFE8F3\", \"gridwidth\": 2, \"linecolor\": \"#EBF0F8\", \"showbackground\": true, \"showspikes\": false, \"ticks\": \"\", \"zerolinecolor\": \"#EBF0F8\"}, \"yaxis\": {\"backgroundcolor\": \"white\", \"gridcolor\": \"#DFE8F3\", \"gridwidth\": 2, \"linecolor\": \"#EBF0F8\", \"showbackground\": true, \"showspikes\": false, \"ticks\": \"\", \"zerolinecolor\": \"#EBF0F8\"}, \"zaxis\": {\"backgroundcolor\": \"white\", \"gridcolor\": \"#DFE8F3\", \"gridwidth\": 2, \"linecolor\": \"#EBF0F8\", \"showbackground\": true, \"showspikes\": false, \"ticks\": \"\", \"zerolinecolor\": \"#EBF0F8\"}}, \"shapedefaults\": {\"line\": {\"color\": \"#2a3f5f\"}}, \"ternary\": {\"aaxis\": {\"gridcolor\": \"#DFE8F3\", \"linecolor\": \"#A2B1C6\", \"ticks\": \"\"}, \"baxis\": {\"gridcolor\": \"#DFE8F3\", \"linecolor\": \"#A2B1C6\", \"ticks\": \"\"}, \"bgcolor\": \"white\", \"caxis\": {\"gridcolor\": \"#DFE8F3\", \"linecolor\": \"#A2B1C6\", \"ticks\": \"\"}}, \"title\": {\"x\": 0.05}, \"xaxis\": {\"automargin\": true, \"gridcolor\": \"#EBF0F8\", \"linecolor\": \"black\", \"linewidth\": 2.0, \"mirror\": true, \"showline\": true, \"ticks\": \"\", \"title\": {\"standoff\": 15}, \"zeroline\": false, \"zerolinecolor\": \"#EBF0F8\", \"zerolinewidth\": 2}, \"yaxis\": {\"automargin\": true, \"gridcolor\": \"#EBF0F8\", \"linecolor\": \"black\", \"linewidth\": 2.0, \"mirror\": true, \"showline\": true, \"ticks\": \"\", \"title\": {\"standoff\": 15}, \"zeroline\": false, \"zerolinecolor\": \"#EBF0F8\", \"zerolinewidth\": 2}}}, \"title\": {\"text\": \"<b>Bearing Pressure Field</b>\"}},\n",
       "                        {\"responsive\": true}\n",
       "                    ).then(function(){\n",
       "                            \n",
       "var gd = document.getElementById('48840bec-37e2-4da7-98c3-02cd46146519');\n",
       "var x = new MutationObserver(function (mutations, observer) {{\n",
       "        var display = window.getComputedStyle(gd).display;\n",
       "        if (!display || display === 'none') {{\n",
       "            console.log([gd, 'removed!']);\n",
       "            Plotly.purge(gd);\n",
       "            observer.disconnect();\n",
       "        }}\n",
       "}});\n",
       "\n",
       "// Listen for the removal of the full notebook cells\n",
       "var notebookContainer = gd.closest('#notebook-container');\n",
       "if (notebookContainer) {{\n",
       "    x.observe(notebookContainer, {childList: true});\n",
       "}}\n",
       "\n",
       "// Listen for the clearing of the current output cell\n",
       "var outputEl = gd.closest('.output');\n",
       "if (outputEl) {{\n",
       "    x.observe(outputEl, {childList: true});\n",
       "}}\n",
       "\n",
       "                        })\n",
       "                };\n",
       "                });\n",
       "            </script>\n",
       "        </div>"
      ]
     },
     "metadata": {},
     "output_type": "display_data"
    }
   ],
   "source": [
    "from ross.fluid_flow.fluid_flow_graphics import (plot_pressure_theta_cylindrical, \n",
    "                                                 plot_pressure_z, \n",
    "                                                 plot_pressure_theta,\n",
    "                                                 plot_pressure_surface)\n",
    "my_fluid_flow.calculate_pressure_matrix_numerical()\n",
    "fig1 = plot_pressure_z(my_fluid_flow, theta=int(my_fluid_flow.ntheta/2))\n",
    "fig1.show()\n",
    "fig2 = plot_pressure_theta(my_fluid_flow, z=int(my_fluid_flow.nz/2))\n",
    "fig2.show()\n",
    "fig3 = plot_pressure_theta_cylindrical(my_fluid_flow, z=int(my_fluid_flow.nz/2))\n",
    "fig3.show()\n",
    "fig4 = plot_pressure_surface(my_fluid_flow)\n",
    "fig4.show()"
   ]
  },
  {
   "cell_type": "markdown",
   "metadata": {},
   "source": [
    "**APPROACH FOR SHORT BEARINGS**\n",
    "\n",
    "In the literature on bearings, several studies use the Reynolds equation, \n",
    "\n",
    "$$ \\dfrac{\\partial}{\\partial{x}}\\left(h^3\\dfrac{\\partial{p}}{\\partial{x}}\\right)+\\dfrac{\\partial}{\\partial{z}}\\left(h^3\\dfrac{\\partial{p}}{\\partial{z}}\\right) = 6 \\mu \\left\\{ \\left(U_o + U_1\\right) \\dfrac{\\partial{h}}{\\partial{x}} + 2 V \\right\\}$$\n",
    "\n",
    "after a series of simplifications, to find the pressure behavior in bearings. However, as it is an equation that has no analytical solution, they use the artifice of approximating the equation for cases of short bearings $ \\left(L/D \\rightarrow 0 \\right) $ and infinitely long $ \\left(L/D \\rightarrow \\infty \\right) $ (L length, D diameter). Thus, one of the parts of the equation is neglected, and it is possible to find reduced models that can be solved analytically.\n",
    "\n",
    "According to SAN ANDRES (2010), most modern bearings in high performance turbomachinery applications have a small $ L/D $ ratio, rarely exceeding the unit. The author indicates that the short model provides accurate results for cylindrical bearings with the ratio $ L/D \\leq 0.5 $, being widely used for quick estimates of the performance characteristics of the static and dynamic forces of the bearing.\n",
    "\n",
    "In this context, the bearing length is considered to be very small and, according to ISHIDA; YAMAMOTO (2012), the pressure variation in the $ z $ direction can be considered much greater than in the $ x $ direction, that is, $ \\partial p/\\partial x \\ll \\partial p/\\partial z $. Thus, the first term of the Reynolds equation is neglected. Making the appropriate adjustments to the coordinate system adopted in this work, a formula is then obtained that describes the pressure behavior in the short bearing:\n",
    "\n",
    "$$\n",
    "p_{curto} = \\dfrac{-3\\mu \\epsilon \\omega \\sin{\\theta}}{\\left(R_\\theta - R_i\\right)^2\\left(1 + \\epsilon \\cos{\\theta}\\right)^3}\\left[\\left(z-\\dfrac{L}{2}\\right)^2 - \\dfrac{L^2}{4}\\right]\n",
    "$$\n",
    "where $\\epsilon = \\dfrac{e}{R_o - R_i}$ is the reason for eccentricity.\n",
    "\n",
    "The numerical solution presented is verified with this approximation, which is used by the Fluid-Flow code if the bearing is classified as short ($L/D \\leq 1/4$)"
   ]
  },
  {
   "cell_type": "markdown",
   "metadata": {},
   "source": [
    "**FORCES**\n",
    "\n",
    "According to SAN ANDRES (2010) the forces of the oil film are given by:\n",
    "\n",
    "$$    \\begin{bmatrix}\n",
    "    N \\\\ T\n",
    "    \\end{bmatrix} \n",
    "    = R_i \\int_{0}^{L} \\int_{0}^{2\\pi} p \\begin{bmatrix}\n",
    "\\cos{\\theta}\\\\\\sin{\\theta} \n",
    "\\end{bmatrix} d\\theta dz$$\n",
    "\n",
    "As the pressure behavior is obtained numerically, the integrals above also need a numerical method to be solved. For this, the composite Simpson rule applied through the *integrate.simps* method of the library *SciPy* was chosen, by VIRTANEN et al. (2020).\n",
    "\n",
    "It is also possible to obtain the forces $ f_x $ and $ f_y $ in the Cartesian coordinate system:\n",
    "\n",
    "$$    f_x = T \\cos{(\\beta)} - N \\sin{(\\beta)}\n",
    "    \\\\ \n",
    "    f_y = T \\sin{(\\beta)} + N \\cos{(\\beta)}$$"
   ]
  },
  {
   "cell_type": "code",
   "execution_count": 9,
   "metadata": {},
   "outputs": [
    {
     "name": "stdout",
     "output_type": "stream",
     "text": [
      "N= 22.340214425540545\n",
      "T= 30.39050004142169\n",
      "fx= 5.692411549478081\n",
      "fy= 37.286245776400584\n"
     ]
    }
   ],
   "source": [
    "from ross.fluid_flow.fluid_flow_coefficients import calculate_oil_film_force\n",
    "radial_force, tangential_force, force_x, force_y = calculate_oil_film_force(my_fluid_flow)\n",
    "print('N=', radial_force)\n",
    "print('T=', tangential_force)\n",
    "print('fx=', force_x)\n",
    "print('fy=', force_y)"
   ]
  },
  {
   "cell_type": "markdown",
   "metadata": {},
   "source": [
    "**BALANCE POSITION**\n",
    "\n",
    "As indicated by SAN ANDRES (2010), in equilibrium condition, that is, when the rotor reaches the eccentric displacement $ and $ with attitude angle $ \\beta $, the resulting vertical force is balanced with the external load applied $ W $ at the rotation speed $ \\omega $. Thus, the static equilibrium equations will be:\n",
    "\n",
    "$$f_{x_0} = 0$$\n",
    "$$f_{y_0} = W $$\n",
    "    \n",
    "Knowing the external load $ W $, it is possible through an iterative method, to reach the equilibrium position. From a starting position to the center of the rotor, a residual function is used that has the component $ f_x $ of the forces and the difference between the component $ f_y $ and the load $ W $ as image. The iterative method then makes small movements in the center of the rotor, in order to find the minimum location of this function. For this, the tool *optimize.least\\_squares* was used, also from the library *SciPy* de VIRTANEN et al. (2020). For optimization purposes, variations in the position of the rotor center are limited to the fourth quadrant for counterclockwise rotation.\n",
    "\n",
    "<img src=\"https://docs.google.com/uc?id=1KQImAbLR8uyFHpl1pGL-sJ4BCiUT0Ok3\" width=\"500\" height=\"500\" />"
   ]
  },
  {
   "cell_type": "code",
   "execution_count": 10,
   "metadata": {},
   "outputs": [
    {
     "name": "stdout",
     "output_type": "stream",
     "text": [
      "(xi,yi)= ( 7.071067811865474e-05 , -7.071067811865477e-05 )\n",
      "fx, fy= -9.936486719652748e-06 , 525.0000261858136\n"
     ]
    }
   ],
   "source": [
    "from ross.fluid_flow.fluid_flow_coefficients import find_equilibrium_position\n",
    "from ross.fluid_flow.fluid_flow import fluid_flow_example2\n",
    "my_fluid_flow2 = fluid_flow_example2()\n",
    "find_equilibrium_position(my_fluid_flow2)\n",
    "print('(xi,yi)=','(',my_fluid_flow.xi, ',', my_fluid_flow.yi, ')')\n",
    "radial_force, tangential_force, force_x, force_y = calculate_oil_film_force(my_fluid_flow2)\n",
    "print('fx, fy=', force_x, ',', force_y)"
   ]
  },
  {
   "cell_type": "markdown",
   "metadata": {},
   "source": [
    "**DYNAMIC COEFFICIENTS**\n",
    "\n"
   ]
  },
  {
   "cell_type": "code",
   "execution_count": null,
   "metadata": {},
   "outputs": [],
   "source": []
  }
 ],
 "metadata": {
  "kernelspec": {
   "display_name": "Python 3",
   "language": "python",
   "name": "python3"
  },
  "language_info": {
   "codemirror_mode": {
    "name": "ipython",
    "version": 3
   },
   "file_extension": ".py",
   "mimetype": "text/x-python",
   "name": "python",
   "nbconvert_exporter": "python",
   "pygments_lexer": "ipython3",
   "version": "3.8.2"
  }
 },
 "nbformat": 4,
 "nbformat_minor": 4
}
