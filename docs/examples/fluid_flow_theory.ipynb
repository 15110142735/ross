{
 "cells": [
  {
   "cell_type": "markdown",
   "metadata": {},
   "source": [
    "Fluid-flow theory\n",
    "=================\n",
    "\n",
    "The FluidFlow code is responsible for providing Ross with simulations of thin thickness fluid in hydrodynamic bearings, returning to the rest of the program, information necessary for the analysis of the stability of rotating dynamic systems. In this section, the main theoretical foundations of the modeling described in the code will be synthesized, as well as examples of its use.\n",
    "\n",
    "**PROBLEM DESCRIPTION**\n",
    "\n",
    "Fluid flow occurs in the annular space between the shaft and the bearing, both of $ L $ length. These structures will be called rotor and stator, respectively. The stator is fixed with radius $R_{o}$ and the rotor, with radius $R_{i} $, is an axis with rotation speed $\\omega$, as shown in the figure below.\n",
    "\n",
    "<img src=\"https://docs.google.com/uc?id=1ZVqsNZEBQ8PhKZ5v4IlXHpwUTkgO4sM8\" width=\"350\" height=\"350\" />\n",
    "\n",
    "Due to the rotation of the shaft, pressures are generated in the lubricating oil film and, consequently, forces acting on it. If the speed of rotation is constant, these forces cause the axis to move until it reaches a certain location, called the equilibrium position. In this position there is an eccentricity between the cylinders, $e$ being the distance between the centers and $\\beta$ the attitude angle, formed between the center line and the vertical axis.\n",
    "\n",
    "For this reason, the description of the rotor from the center of the stator varies in the tangential direction. Using the cosine law and calling the description of the rotor $R_{\\theta}$, we get:\n",
    "\n",
    "$$ R_{\\theta} = \\sqrt{R_i ^2 - e^2 \\sin^2{\\alpha}} + e \\cos{\\alpha},$$\n",
    "where $\\alpha =$ \n",
    "$\\begin{cases} \n",
    "\\dfrac{3\\pi}{2} - \\theta + \\beta \\text{,} \n",
    "&\\mbox{se } \\dfrac{\\pi}{2} + \\beta \\leq \\theta < \\dfrac{3\\pi}{2} + \\beta \\\\ \\\\\n",
    "- \\left(\\dfrac{3\\pi}{2} - \\theta + \\beta\\right) \\text{,} \n",
    "& \\mbox{se } \\dfrac{3\\pi}{2} + \\beta \\leq \\theta < \\dfrac{5\\pi}{2} + \\beta \n",
    "\\end{cases}.\n",
    "$\n",
    "\n",
    "**THEORETICAL MODELING**\n",
    "\n"
   ]
  },
  {
   "cell_type": "code",
   "execution_count": null,
   "metadata": {},
   "outputs": [],
   "source": []
  }
 ],
 "metadata": {
  "kernelspec": {
   "display_name": "Python 3",
   "language": "python",
   "name": "python3"
  },
  "language_info": {
   "codemirror_mode": {
    "name": "ipython",
    "version": 3
   },
   "file_extension": ".py",
   "mimetype": "text/x-python",
   "name": "python",
   "nbconvert_exporter": "python",
   "pygments_lexer": "ipython3",
   "version": "3.7.6"
  }
 },
 "nbformat": 4,
 "nbformat_minor": 4
}
