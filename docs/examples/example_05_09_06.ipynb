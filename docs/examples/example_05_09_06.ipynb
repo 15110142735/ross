{
 "cells": [
  {
   "cell_type": "markdown",
   "metadata": {},
   "source": [
    "Example 7 - Hydrodinamic Bearings\n",
    "=====\n",
    "In this example, we use the rotor seen in Example 5.9.6 from 'Dynamics of Rotating Machinery' by MI Friswell, JET Penny, SD Garvey & AW Lees, published by Cambridge University Press, 2010.\n",
    "\n",
    "Same rotor of Example 3, but the bearings are replaced with hydrodynamic bearings. The oil-film bearings have a diameter of 100 mm, are 30 mm long, and each supports a static load\n",
    "of 525 N, which represents half of the weight of the rotor. The radial clearance in\n",
    "the bearings is 0.1 mm and the oil film has a viscosity of 0.1 Pa s. These bearings\n",
    "have the same characteristics as Example 5.5.1.\n"
   ]
  },
  {
   "cell_type": "code",
   "execution_count": null,
   "metadata": {},
   "outputs": [],
   "source": [
    "from bokeh.io import output_notebook\n",
    "import ross as rs\n",
    "import numpy as np\n",
    "output_notebook()"
   ]
  },
  {
   "cell_type": "code",
   "execution_count": null,
   "metadata": {},
   "outputs": [],
   "source": [
    "\n",
    "#Classic Instantiation of the rotor\n",
    "shaft_elements = []\n",
    "bearing_seal_elements = []\n",
    "disk_elements = []\n",
    "Steel = rs.steel\n",
    "for i in range(6):\n",
    "    shaft_elements.append(rs.ShaftElement(L=0.25, material=Steel, n=i, i_d=0, o_d=0.05))\n",
    "\n",
    "disk_elements.append(rs.DiskElement.from_geometry(n=2,\n",
    "                                                  material=Steel, \n",
    "                                                  width=0.07,\n",
    "                                                  i_d=0.05, \n",
    "                                                  o_d=0.28\n",
    "                                                 )\n",
    "                    )\n",
    "\n",
    "disk_elements.append(rs.DiskElement.from_geometry(n=4,\n",
    "                                                  material=Steel, \n",
    "                                                  width=0.07,\n",
    "                                                  i_d=0.05, \n",
    "                                                  o_d=0.35\n",
    "                                                 )\n",
    "                    )\n",
    "bearing_seal_elements.append(rs.BearingElement(n=0, kxx=12.81e6,kxy=16.39e6,kyx=-25.06e6, kyy=8.815e6, cxx=232.9e3,cxy=-81.92e3,cyx=-81.92e3, cyy=294.9e3))\n",
    "bearing_seal_elements.append(rs.BearingElement(n=6, kxx=12.81e6,kxy=16.39e6,kyx=-25.06e6, kyy=8.815e6, cxx=232.9e3,cxy=-81.92e3,cyx=-81.92e3, cyy=294.9e3))\n",
    "\n",
    "rotor596c = rs.Rotor(shaft_elements=shaft_elements,\n",
    "                     bearing_seal_elements=bearing_seal_elements,\n",
    "                     disk_elements=disk_elements,n_eigen = 12)\n",
    "\n",
    "rotor596c.plot_rotor()"
   ]
  },
  {
   "cell_type": "code",
   "execution_count": null,
   "metadata": {},
   "outputs": [],
   "source": [
    "#From_section class method instantiation.\n",
    "bearing_seal_elements = []\n",
    "disk_elements = []\n",
    "shaft_length_data = 3*[0.5]\n",
    "i_d = 3*[0]\n",
    "o_d = 3*[0.05]\n",
    "\n",
    "disk_elements.append(rs.DiskElement.from_geometry(n=1,\n",
    "                                                  material=Steel, \n",
    "                                                  width=0.07,\n",
    "                                                  i_d=0.05, \n",
    "                                                  o_d=0.28\n",
    "                                                 )\n",
    "                    )\n",
    "\n",
    "disk_elements.append(rs.DiskElement.from_geometry(n=2,\n",
    "                                                  material=Steel, \n",
    "                                                  width=0.07,\n",
    "                                                  i_d=0.05, \n",
    "                                                  o_d=0.35\n",
    "                                                 )\n",
    "                    )\n",
    "bearing_seal_elements.append(rs.BearingElement(n=0, kxx=1e6, kyy=1e6, cxx=3e3, cyy=3e3))\n",
    "bearing_seal_elements.append(rs.BearingElement(n=3, kxx=1e6, kyy=1e6, cxx=3e3, cyy=3e3))\n",
    "\n",
    "rotor596fs = rs.Rotor.from_section(brg_seal_data=bearing_seal_elements,\n",
    "                                   disk_data=disk_elements,leng_data=shaft_length_data,\n",
    "                                   i_ds_data=i_d,o_ds_data=o_d\n",
    "                                  )\n",
    "rotor596fs.plot_rotor()\n"
   ]
  },
  {
   "cell_type": "code",
   "execution_count": null,
   "metadata": {},
   "outputs": [],
   "source": [
    "#Obtaining results for w = 200 rpm \n",
    "rotor596c.w=200*np.pi/30\n",
    "rotor596fs.w=200*np.pi/30\n",
    "\n",
    "\n",
    "\n",
    "print('Normal Instantiation =', rotor596c.wn/(2*np.pi),'[Hz]')\n",
    "print('\\n')\n",
    "print('From Section Instantiation =', rotor596fs.wn/(2*np.pi),'[Hz]')"
   ]
  },
  {
   "cell_type": "code",
   "execution_count": null,
   "metadata": {},
   "outputs": [],
   "source": [
    "#Obtaining results for w=4000RPM \n",
    "\n",
    "rotor596c.w=4000*np.pi/30\n",
    "\n",
    "\n",
    "print('Normal Instantiation =', rotor596c.wn/(2*np.pi))"
   ]
  },
  {
   "cell_type": "code",
   "execution_count": null,
   "metadata": {},
   "outputs": [],
   "source": [
    "rotor596c.run_campbell(np.linspace(0,4000*np.pi/30,100)).plot()"
   ]
  }
 ],
 "metadata": {
  "kernelspec": {
   "display_name": "Python 3",
   "language": "python",
   "name": "python3"
  },
  "language_info": {
   "codemirror_mode": {
    "name": "ipython",
    "version": 3
   },
   "file_extension": ".py",
   "mimetype": "text/x-python",
   "name": "python",
   "nbconvert_exporter": "python",
   "pygments_lexer": "ipython3",
   "version": "3.7.3"
  }
 },
 "nbformat": 4,
 "nbformat_minor": 2
}
