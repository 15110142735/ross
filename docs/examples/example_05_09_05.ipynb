{
 "cells": [
  {
   "cell_type": "markdown",
   "metadata": {},
   "source": [
    "EXAMPLE 5.9.5.\n",
    "=====\n",
    "Isotropic Bearings with Damping. The isotropic bearing Example 5.9.1 is repeated but with damping in the bearings. The, x and y directions are\n",
    "uncoupled, with a translational stiffness of 1 MN/m and a damping of 3 kNs/m\n",
    "in each direction."
   ]
  },
  {
   "cell_type": "code",
   "execution_count": null,
   "metadata": {},
   "outputs": [],
   "source": [
    "from bokeh.io import output_notebook\n",
    "import ross as rs\n",
    "import numpy as np\n",
    "output_notebook()"
   ]
  },
  {
   "cell_type": "code",
   "execution_count": null,
   "metadata": {},
   "outputs": [],
   "source": [
    "#Classic Instantiation of the rotor\n",
    "shaft_elements = []\n",
    "bearing_seal_elements = []\n",
    "disk_elements = []\n",
    "Steel = rs.steel\n",
    "for i in range(6):\n",
    "    shaft_elements.append(rs.ShaftElement(L=0.25, material=Steel, n=i, i_d=0, o_d=0.05))\n",
    "\n",
    "disk_elements.append(rs.DiskElement.from_geometry(n=2,\n",
    "                                                  material=Steel, \n",
    "                                                  width=0.07,\n",
    "                                                  i_d=0.05, \n",
    "                                                  o_d=0.28\n",
    "                                                 )\n",
    "                    )\n",
    "\n",
    "disk_elements.append(rs.DiskElement.from_geometry(n=4,\n",
    "                                                  material=Steel, \n",
    "                                                  width=0.07,\n",
    "                                                  i_d=0.05, \n",
    "                                                  o_d=0.35\n",
    "                                                 )\n",
    "                    )\n",
    "bearing_seal_elements.append(rs.BearingElement(n=0, kxx=1e6, kyy=1e6, cxx=3e3, cyy=3e3))\n",
    "bearing_seal_elements.append(rs.BearingElement(n=6, kxx=1e6, kyy=1e6, cxx=3e3, cyy=3e3))\n",
    "\n",
    "rotor595c = rs.Rotor(shaft_elements=shaft_elements,\n",
    "                     bearing_seal_elements=bearing_seal_elements,\n",
    "                     disk_elements=disk_elements,n_eigen = 12)\n",
    "\n",
    "rotor595c.plot_rotor()"
   ]
  },
  {
   "cell_type": "code",
   "execution_count": null,
   "metadata": {},
   "outputs": [],
   "source": [
    "#From_section class method instantiation.\n",
    "bearing_seal_elements = []\n",
    "disk_elements = []\n",
    "shaft_length_data = 3*[0.5]\n",
    "i_d = 3*[0]\n",
    "o_d = 3*[0.05]\n",
    "\n",
    "disk_elements.append(rs.DiskElement.from_geometry(n=1,\n",
    "                                                  material=Steel, \n",
    "                                                  width=0.07,\n",
    "                                                  i_d=0.05, \n",
    "                                                  o_d=0.28\n",
    "                                                 )\n",
    "                    )\n",
    "\n",
    "disk_elements.append(rs.DiskElement.from_geometry(n=2,\n",
    "                                                  material=Steel, \n",
    "                                                  width=0.07,\n",
    "                                                  i_d=0.05, \n",
    "                                                  o_d=0.35\n",
    "                                                 )\n",
    "                    )\n",
    "bearing_seal_elements.append(rs.BearingElement(n=0, kxx=1e6, kyy=1e6, cxx=3e3, cyy=3e3))\n",
    "bearing_seal_elements.append(rs.BearingElement(n=3, kxx=1e6, kyy=1e6, cxx=3e3, cyy=3e3))\n",
    "\n",
    "rotor595fs = rs.Rotor.from_section(brg_seal_data=bearing_seal_elements,\n",
    "                                   disk_data=disk_elements,leng_data=shaft_length_data,\n",
    "                                   i_ds_data=i_d,o_ds_data=o_d\n",
    "                                  )\n",
    "rotor595fs.plot_rotor()\n"
   ]
  },
  {
   "cell_type": "code",
   "execution_count": null,
   "metadata": {},
   "outputs": [],
   "source": [
    "#Obtaining results for w=0 \n",
    "\n",
    "print('Normal Instantiation =', rotor595c.wn/(2*np.pi),'[RPM]')\n",
    "print('\\n')\n",
    "print('From Section Instantiation =', rotor595fs.wn/(2*np.pi),'[RPM]')"
   ]
  },
  {
   "cell_type": "code",
   "execution_count": null,
   "metadata": {},
   "outputs": [],
   "source": [
    "#Obtaining results for w=4000RPM \n",
    "\n",
    "rotor595c.w=4000*np.pi/30\n",
    "\n",
    "print('Normal Instantiation =', rotor595c.wn/(2*np.pi))"
   ]
  },
  {
   "cell_type": "code",
   "execution_count": null,
   "metadata": {},
   "outputs": [],
   "source": [
    "rotor595c.run_campbell(np.linspace(0,4000*np.pi/30,100)).plot()"
   ]
  },
  {
   "cell_type": "code",
   "execution_count": null,
   "metadata": {},
   "outputs": [],
   "source": []
  }
 ],
 "metadata": {
  "kernelspec": {
   "display_name": "Python 3",
   "language": "python",
   "name": "python3"
  },
  "language_info": {
   "codemirror_mode": {
    "name": "ipython",
    "version": 3
   },
   "file_extension": ".py",
   "mimetype": "text/x-python",
   "name": "python",
   "nbconvert_exporter": "python",
   "pygments_lexer": "ipython3",
   "version": "3.7.3"
  }
 },
 "nbformat": 4,
 "nbformat_minor": 2
}
