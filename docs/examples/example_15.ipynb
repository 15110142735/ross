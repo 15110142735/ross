{
 "metadata": {
  "language_info": {
   "codemirror_mode": {
    "name": "ipython",
    "version": 3
   },
   "file_extension": ".py",
   "mimetype": "text/x-python",
   "name": "python",
   "nbconvert_exporter": "python",
   "pygments_lexer": "ipython3",
   "version": "3.6.9-final"
  },
  "orig_nbformat": 2,
  "kernelspec": {
   "name": "python3",
   "display_name": "Python 3",
   "language": "python"
  }
 },
 "nbformat": 4,
 "nbformat_minor": 2,
 "cells": [
  {
   "source": [
    "Example 10 - Example to evaluate the influence of transverse cracks in a rotating shaft.\n",
    "=====\n",
    "In this example, we use the rotor seen in Example 10 for demonstrating the results obtained when we have a transversal crack present in the rotor system. In this case, the breathing behavior of the considered transversal crack is described according to the model proposed by Mayes and Davies (1984) and Gasch (1993)."
   ],
   "cell_type": "markdown",
   "metadata": {}
  },
  {
   "cell_type": "code",
   "execution_count": 7,
   "metadata": {},
   "outputs": [
    {
     "output_type": "error",
     "ename": "NameError",
     "evalue": "name '__file__' is not defined",
     "traceback": [
      "\u001b[0;31m---------------------------------------------------------------------------\u001b[0m",
      "\u001b[0;31mNameError\u001b[0m                                 Traceback (most recent call last)",
      "\u001b[0;32m<ipython-input-7-b900931d441b>\u001b[0m in \u001b[0;36m<module>\u001b[0;34m\u001b[0m\n\u001b[1;32m      3\u001b[0m \u001b[0;32mfrom\u001b[0m \u001b[0mpathlib\u001b[0m \u001b[0;32mimport\u001b[0m \u001b[0mPath\u001b[0m\u001b[0;34m\u001b[0m\u001b[0;34m\u001b[0m\u001b[0m\n\u001b[1;32m      4\u001b[0m \u001b[0;34m\u001b[0m\u001b[0m\n\u001b[0;32m----> 5\u001b[0;31m \u001b[0msys\u001b[0m\u001b[0;34m.\u001b[0m\u001b[0mpath\u001b[0m\u001b[0;34m.\u001b[0m\u001b[0mappend\u001b[0m\u001b[0;34m(\u001b[0m\u001b[0mPath\u001b[0m\u001b[0;34m(\u001b[0m\u001b[0m__file__\u001b[0m\u001b[0;34m)\u001b[0m\u001b[0;34m.\u001b[0m\u001b[0mparent\u001b[0m\u001b[0;34m.\u001b[0m\u001b[0mparent\u001b[0m\u001b[0;34m)\u001b[0m\u001b[0;34m\u001b[0m\u001b[0;34m\u001b[0m\u001b[0m\n\u001b[0m",
      "\u001b[0;31mNameError\u001b[0m: name '__file__' is not defined"
     ]
    }
   ],
   "source": [
    "import sys\n",
    "\n",
    "from pathlib import Path\n",
    "\n",
    "sys.path.append(str(Path(__file__).parent.parent))"
   ]
  },
  {
   "cell_type": "code",
   "execution_count": 2,
   "metadata": {},
   "outputs": [],
   "source": [
    "import numpy as np\n",
    "import scipy\n",
    "import toml\n",
    "\n",
    "import ross as rs\n",
    "from ross.defects import *\n",
    "from ross.defects.crack import crack_example\n",
    "from ross.units import Q_"
   ]
  },
  {
   "cell_type": "code",
   "execution_count": 3,
   "metadata": {},
   "outputs": [],
   "source": [
    "\"\"\"Create example rotor with given number of elements.\"\"\"\n",
    "steel2 = rs.Material(name=\"Steel\", rho=7850, E=2.17e11, Poisson=0.2992610837438423)\n",
    "#  Rotor with 6 DoFs, with internal damping, with 10 shaft elements, 2 disks and 2 bearings.\n",
    "i_d = 0\n",
    "o_d = 0.019\n",
    "n = 33\n",
    "\n",
    "# fmt: off\n",
    "L = np.array(\n",
    "        [0  ,  25,  64, 104, 124, 143, 175, 207, 239, 271,\n",
    "         303, 335, 345, 355, 380, 408, 436, 466, 496, 526,\n",
    "         556, 586, 614, 647, 657, 667, 702, 737, 772, 807,\n",
    "         842, 862, 881, 914]\n",
    "         )/ 1000\n",
    "# fmt: on\n",
    "\n",
    "L = [L[i] - L[i - 1] for i in range(1, len(L))]\n",
    "\n",
    "shaft_elem = [\n",
    "    rs.ShaftElement6DoF(\n",
    "        material=steel2,\n",
    "        L=l,\n",
    "        idl=i_d,\n",
    "        odl=o_d,\n",
    "        idr=i_d,\n",
    "        odr=o_d,\n",
    "        alpha=8.0501,\n",
    "        beta=1.0e-5,\n",
    "        rotary_inertia=True,\n",
    "        shear_effects=True,\n",
    "    )\n",
    "    for l in L\n",
    "]\n",
    "\n",
    "Id = 0.003844540885417\n",
    "Ip = 0.007513248437500\n",
    "\n",
    "disk0 = rs.DiskElement6DoF(n=12, m=2.6375, Id=Id, Ip=Ip)\n",
    "disk1 = rs.DiskElement6DoF(n=24, m=2.6375, Id=Id, Ip=Ip)\n",
    "\n",
    "kxx1 = 4.40e5\n",
    "kyy1 = 4.6114e5\n",
    "kzz = 0\n",
    "cxx1 = 27.4\n",
    "cyy1 = 2.505\n",
    "czz = 0\n",
    "kxx2 = 9.50e5\n",
    "kyy2 = 1.09e8\n",
    "cxx2 = 50.4\n",
    "cyy2 = 100.4553\n",
    "\n",
    "bearing0 = rs.BearingElement6DoF(\n",
    "    n=4, kxx=kxx1, kyy=kyy1, cxx=cxx1, cyy=cyy1, kzz=kzz, czz=czz\n",
    ")\n",
    "bearing1 = rs.BearingElement6DoF(\n",
    "    n=31, kxx=kxx2, kyy=kyy2, cxx=cxx2, cyy=cyy2, kzz=kzz, czz=czz\n",
    ")\n",
    "\n",
    "rotor = rs.Rotor(shaft_elem, [disk0, disk1], [bearing0, bearing1])"
   ]
  },
  {
   "cell_type": "code",
   "execution_count": 4,
   "metadata": {},
   "outputs": [],
   "source": [
    "\"\"\"Inserting a mass and phase unbalance and defining the local response.\"\"\"\n",
    "massunbt = np.array([5e-4, 0])\n",
    "phaseunbt = np.array([-np.pi / 2, 0])\n",
    "probe1 = (14, 0)\n",
    "probe2 = (22, 0)"
   ]
  },
  {
   "cell_type": "code",
   "execution_count": 6,
   "metadata": {},
   "outputs": [
    {
     "output_type": "error",
     "ename": "TypeError",
     "evalue": "__init__() got an unexpected keyword argument 'cd'",
     "traceback": [
      "\u001b[0;31m---------------------------------------------------------------------------\u001b[0m",
      "\u001b[0;31mTypeError\u001b[0m                                 Traceback (most recent call last)",
      "\u001b[0;32m<ipython-input-6-6911e85c9808>\u001b[0m in \u001b[0;36m<module>\u001b[0;34m\u001b[0m\n\u001b[1;32m      9\u001b[0m     \u001b[0munbalance_phase\u001b[0m\u001b[0;34m=\u001b[0m\u001b[0mphaseunbt\u001b[0m\u001b[0;34m,\u001b[0m\u001b[0;34m\u001b[0m\u001b[0;34m\u001b[0m\u001b[0m\n\u001b[1;32m     10\u001b[0m     \u001b[0mcrack_type\u001b[0m\u001b[0;34m=\u001b[0m\u001b[0;34m\"Gasch\"\u001b[0m\u001b[0;34m,\u001b[0m \u001b[0;31m#or crack_type=\"Mayes\"\u001b[0m\u001b[0;34m\u001b[0m\u001b[0;34m\u001b[0m\u001b[0m\n\u001b[0;32m---> 11\u001b[0;31m     \u001b[0mprint_progress\u001b[0m\u001b[0;34m=\u001b[0m\u001b[0;32mFalse\u001b[0m\u001b[0;34m,\u001b[0m\u001b[0;34m\u001b[0m\u001b[0;34m\u001b[0m\u001b[0m\n\u001b[0m\u001b[1;32m     12\u001b[0m )\n",
      "\u001b[0;32m~/Documents/Projeto EDGE Petro/Ross_iza/ross/ross/rotor_assembly.py\u001b[0m in \u001b[0;36mrun_crack\u001b[0;34m(self, **kwargs)\u001b[0m\n\u001b[1;32m   2546\u001b[0m         \u001b[0;34m>>\u001b[0m\u001b[0;34m>\u001b[0m \u001b[0;31m# fig.show()\u001b[0m\u001b[0;34m\u001b[0m\u001b[0;34m\u001b[0m\u001b[0m\n\u001b[1;32m   2547\u001b[0m         \"\"\"\n\u001b[0;32m-> 2548\u001b[0;31m         \u001b[0mdefect\u001b[0m \u001b[0;34m=\u001b[0m \u001b[0mCrack\u001b[0m\u001b[0;34m(\u001b[0m\u001b[0;34m**\u001b[0m\u001b[0mkwargs\u001b[0m\u001b[0;34m)\u001b[0m\u001b[0;34m\u001b[0m\u001b[0;34m\u001b[0m\u001b[0m\n\u001b[0m\u001b[1;32m   2549\u001b[0m         \u001b[0mdefect\u001b[0m\u001b[0;34m.\u001b[0m\u001b[0mrun\u001b[0m\u001b[0;34m(\u001b[0m\u001b[0mself\u001b[0m\u001b[0;34m)\u001b[0m\u001b[0;34m\u001b[0m\u001b[0;34m\u001b[0m\u001b[0m\n\u001b[1;32m   2550\u001b[0m         \u001b[0;32mreturn\u001b[0m \u001b[0mdefect\u001b[0m\u001b[0;34m\u001b[0m\u001b[0;34m\u001b[0m\u001b[0m\n",
      "\u001b[0;32m~/Documents/Projeto EDGE Petro/Ross_iza/ross/ross/units.py\u001b[0m in \u001b[0;36minner\u001b[0;34m(*args, **kwargs)\u001b[0m\n\u001b[1;32m    101\u001b[0m                 \u001b[0mbase_unit_kwargs\u001b[0m\u001b[0;34m[\u001b[0m\u001b[0mk\u001b[0m\u001b[0;34m]\u001b[0m \u001b[0;34m=\u001b[0m \u001b[0mv\u001b[0m\u001b[0;34m\u001b[0m\u001b[0;34m\u001b[0m\u001b[0m\n\u001b[1;32m    102\u001b[0m \u001b[0;34m\u001b[0m\u001b[0m\n\u001b[0;32m--> 103\u001b[0;31m         \u001b[0;32mreturn\u001b[0m \u001b[0mfunc\u001b[0m\u001b[0;34m(\u001b[0m\u001b[0;34m*\u001b[0m\u001b[0mbase_unit_args\u001b[0m\u001b[0;34m,\u001b[0m \u001b[0;34m**\u001b[0m\u001b[0mbase_unit_kwargs\u001b[0m\u001b[0;34m)\u001b[0m\u001b[0;34m\u001b[0m\u001b[0;34m\u001b[0m\u001b[0m\n\u001b[0m\u001b[1;32m    104\u001b[0m \u001b[0;34m\u001b[0m\u001b[0m\n\u001b[1;32m    105\u001b[0m     \u001b[0;32mreturn\u001b[0m \u001b[0minner\u001b[0m\u001b[0;34m\u001b[0m\u001b[0;34m\u001b[0m\u001b[0m\n",
      "\u001b[0;31mTypeError\u001b[0m: __init__() got an unexpected keyword argument 'cd'"
     ]
    }
   ],
   "source": [
    "crack = rotor.run_crack(\n",
    "    dt=0.0001,\n",
    "    tI=0,\n",
    "    tF=5,\n",
    "    cd=0.2,\n",
    "    n_crack=18,\n",
    "    speed=Q_(1200, \"RPM\"),\n",
    "    unbalance_magnitude=massunbt,\n",
    "    unbalance_phase=phaseunbt,\n",
    "    crack_type=\"Gasch\", #or crack_type=\"Mayes\"\n",
    "    print_progress=False,\n",
    ")"
   ]
  },
  {
   "cell_type": "code",
   "execution_count": 6,
   "metadata": {},
   "outputs": [
    {
     "output_type": "error",
     "ename": "AttributeError",
     "evalue": "module 'ross.defects.rubbing' has no attribute 'run_time_response'",
     "traceback": [
      "\u001b[0;31m---------------------------------------------------------------------------\u001b[0m",
      "\u001b[0;31mAttributeError\u001b[0m                            Traceback (most recent call last)",
      "\u001b[0;32m<ipython-input-6-92711117417f>\u001b[0m in \u001b[0;36m<module>\u001b[0;34m\u001b[0m\n\u001b[1;32m      1\u001b[0m \u001b[0;34m\"\"\"Plots the time response for the two given probes.\"\"\"\u001b[0m\u001b[0;34m\u001b[0m\u001b[0;34m\u001b[0m\u001b[0m\n\u001b[0;32m----> 2\u001b[0;31m \u001b[0mresults\u001b[0m \u001b[0;34m=\u001b[0m \u001b[0mrubbing\u001b[0m\u001b[0;34m.\u001b[0m\u001b[0mrun_time_response\u001b[0m\u001b[0;34m(\u001b[0m\u001b[0;34m)\u001b[0m\u001b[0;34m\u001b[0m\u001b[0;34m\u001b[0m\u001b[0m\n\u001b[0m\u001b[1;32m      3\u001b[0m \u001b[0mresults\u001b[0m\u001b[0;34m.\u001b[0m\u001b[0mplot_1d\u001b[0m\u001b[0;34m(\u001b[0m\u001b[0;34m[\u001b[0m\u001b[0mprobe1\u001b[0m\u001b[0;34m,\u001b[0m \u001b[0mprobe2\u001b[0m\u001b[0;34m]\u001b[0m\u001b[0;34m)\u001b[0m\u001b[0;34m.\u001b[0m\u001b[0mshow\u001b[0m\u001b[0;34m(\u001b[0m\u001b[0;34m)\u001b[0m\u001b[0;34m\u001b[0m\u001b[0;34m\u001b[0m\u001b[0m\n",
      "\u001b[0;31mAttributeError\u001b[0m: module 'ross.defects.rubbing' has no attribute 'run_time_response'"
     ]
    }
   ],
   "source": [
    "\"\"\"Plots the time response for the two given probes.\"\"\"\n",
    "results = crack.run_time_response()\n",
    "results.plot_1d([probe1, probe2]).show()"
   ]
  },
  {
   "cell_type": "code",
   "execution_count": null,
   "metadata": {},
   "outputs": [],
   "source": [
    "\"\"\"Plots the frequency response for the two given probes.\"\"\"\n",
    "crack.plot_dfft([probe1, probe2], range_freq=[0, 100], yaxis_type=\"log\").show()"
   ]
  }
 ]
}