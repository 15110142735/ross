{
 "cells": [
  {
   "cell_type": "markdown",
   "metadata": {},
   "source": [
    "EXAMPLE 5.9.1.\n",
    "=====\n",
    "A 1.5-m-long shaft,\n",
    "has a diameter of 0.05 m. The disks are keyed to the shaft at 0.5 and 1 m from\n",
    "one end. The left disk is 0.07 m thick with a diameter of 0.28 m; the right disk\n",
    "is 0.07 m thick with a diameter of 0.35 m. For the shaft, $E = 211 GN/m^2$ and\n",
    "$G = 81.2 GN/m^2$. There is no internal shaft damping. For both the shaft and the\n",
    "disks, $\\rho = 7,810 kg/m^3$. The shaft is supported by identical bearings at its ends.\n",
    "\n",
    "These bearings are isotropic and have a stiffness of 1 MN/m in both the x and\n",
    "y directions. The bearings contribute no additional stiffness to the rotational\n",
    "degrees of freedom and there is no damping or cross-coupling in the bearings.\n",
    "Create an FE model of the shaft using six Timoshenko beam elements and investigate the dynamics of the machine at 0 and 4,000 rev/min."
   ]
  },
  {
   "cell_type": "code",
   "execution_count": null,
   "metadata": {},
   "outputs": [],
   "source": [
    "from bokeh.io import output_notebook\n",
    "import ross as rs\n",
    "import numpy as np\n",
    "output_notebook()"
   ]
  },
  {
   "cell_type": "code",
   "execution_count": null,
   "metadata": {},
   "outputs": [],
   "source": [
    "#Classic Instantiation of the rotor\n",
    "shaft_elements = []\n",
    "bearing_seal_elements = []\n",
    "disk_elements = []\n",
    "Steel = rs.Material.use_material('Steel')\n",
    "for i in range(6):\n",
    "    shaft_elements.append(rs.ShaftElement(L=0.25, material=Steel, n=i, i_d=0, o_d=0.05))\n",
    "    \n",
    "disk_elements.append(rs.DiskElement.from_geometry(n=2,\n",
    "                                                  material=Steel, \n",
    "                                                  width=0.07,\n",
    "                                                  i_d=0.05, \n",
    "                                                  o_d=0.28\n",
    "                                                 )\n",
    "                    )\n",
    "\n",
    "disk_elements.append(rs.DiskElement.from_geometry(n=4,\n",
    "                                                  material=Steel, \n",
    "                                                  width=0.07,\n",
    "                                                  i_d=0.05, \n",
    "                                                  o_d=0.35\n",
    "                                                 )\n",
    "                    )\n",
    "bearing_seal_elements.append(rs.BearingElement(n=0, kxx=1e6, kyy=1e6, cxx=0, cyy=0))\n",
    "bearing_seal_elements.append(rs.BearingElement(n=6, kxx=1e6, kyy=1e6, cxx=0, cyy=0))\n",
    "\n",
    "rotor591c = rs.Rotor(shaft_elements=shaft_elements,\n",
    "                     bearing_seal_elements=bearing_seal_elements,\n",
    "                     disk_elements=disk_elements,n_eigen = 12)\n",
    "\n",
    "rotor591c.plot_rotor()"
   ]
  },
  {
   "cell_type": "code",
   "execution_count": null,
   "metadata": {},
   "outputs": [],
   "source": [
    "#From_section class method instantiation.\n",
    "bearing_seal_elements = []\n",
    "disk_elements = []\n",
    "shaft_length_data = 3*[0.5]\n",
    "i_d = 3*[0]\n",
    "o_d = 3*[0.05]\n",
    "\n",
    "disk_elements.append(rs.DiskElement.from_geometry(n=1,\n",
    "                                                  material=Steel, \n",
    "                                                  width=0.07,\n",
    "                                                  i_d=0.05, \n",
    "                                                  o_d=0.28\n",
    "                                                 )\n",
    "                    )\n",
    "\n",
    "disk_elements.append(rs.DiskElement.from_geometry(n=2,\n",
    "                                                  material=Steel, \n",
    "                                                  width=0.07,\n",
    "                                                  i_d=0.05, \n",
    "                                                  o_d=0.35\n",
    "                                                 )\n",
    "                    )\n",
    "bearing_seal_elements.append(rs.BearingElement(n=0, kxx=1e6, kyy=1e6, cxx=0, cyy=0))\n",
    "bearing_seal_elements.append(rs.BearingElement(n=3, kxx=1e6, kyy=1e6, cxx=0, cyy=0))\n",
    "\n",
    "rotor591fs = rs.Rotor.from_section(brg_seal_data=bearing_seal_elements,\n",
    "                                   disk_data=disk_elements,leng_data=shaft_length_data,\n",
    "                                   i_ds_data=i_d,o_ds_data=o_d\n",
    "                                  )\n",
    "rotor591fs.plot_rotor()\n"
   ]
  },
  {
   "cell_type": "code",
   "execution_count": null,
   "metadata": {},
   "outputs": [],
   "source": [
    "#Obtaining results (wn is in rad/s)\n",
    "rotor591c.run_campbell(np.linspace(0,4000*np.pi/30,250)).plot()\n",
    "\n",
    "print('Normal Instantiation =', rotor591c.wn)\n",
    "print('\\n')\n",
    "print('From Section Instantiation =', rotor591fs.wn)"
   ]
  },
  {
   "cell_type": "code",
   "execution_count": null,
   "metadata": {},
   "outputs": [],
   "source": [
    "#Obtaining modal results for w=4000RPM (wn is in rad/s)\n",
    "rotor591c.w = 4000*np.pi/30\n",
    "rotor591c.run_modal()\n",
    "\n",
    "print('Normal Instantiation =', rotor591c.wn)"
   ]
  },
  {
   "cell_type": "code",
   "execution_count": null,
   "metadata": {},
   "outputs": [],
   "source": []
  }
 ],
 "metadata": {
  "kernelspec": {
   "display_name": "Python 3",
   "language": "python",
   "name": "python3"
  },
  "language_info": {
   "codemirror_mode": {
    "name": "ipython",
    "version": 3
   },
   "file_extension": ".py",
   "mimetype": "text/x-python",
   "name": "python",
   "nbconvert_exporter": "python",
   "pygments_lexer": "ipython3",
   "version": "3.7.3"
  }
 },
 "nbformat": 4,
 "nbformat_minor": 2
}
