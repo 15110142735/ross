{
 "cells": [
  {
   "cell_type": "markdown",
   "metadata": {},
   "source": [
    "Example 2 - Effect of varying slenderness ratio\n",
    "=========\n",
    "In this example, we use the rotor seen in Example 5.8.2 from 'Dynamics of Rotating Machinery' by MI Friswell, JET Penny, SD Garvey & AW Lees, published by Cambridge University Press, 2010.\n",
    "\n"
   ]
  },
  {
   "cell_type": "code",
   "execution_count": null,
   "metadata": {},
   "outputs": [],
   "source": [
    "import numpy as np\n",
    "import matplotlib.pyplot as plt\n",
    "import ross as rs"
   ]
  },
  {
   "cell_type": "code",
   "execution_count": null,
   "metadata": {},
   "outputs": [],
   "source": [
    "steel = rs.materials.steel"
   ]
  },
  {
   "cell_type": "code",
   "execution_count": null,
   "metadata": {},
   "outputs": [],
   "source": [
    "number_of_elements = [2, 3, 4, 5, 6, 7, 8]"
   ]
  },
  {
   "cell_type": "code",
   "execution_count": null,
   "metadata": {},
   "outputs": [],
   "source": [
    "def create_rotor(n_el, R, shear_effects=False, rotary_inertia=False):\n",
    "    \"\"\"Create example rotor with given number of elements and R ration.\"\"\"\n",
    "    L_total = 1\n",
    "    D = R * L_total\n",
    "    \n",
    "    shaft = [\n",
    "        rs.ShaftElement(1./(n_el), i_d=0, o_d=D, material=steel,\n",
    "                        shear_effects=shear_effects,\n",
    "                        rotary_inertia=rotary_inertia)\n",
    "        for i in range(n_el)\n",
    "    ]\n",
    "\n",
    "    bearings = [\n",
    "        rs.BearingElement(0, kxx=1e15, cxx=0),\n",
    "        rs.BearingElement(n_el, kxx=1e15, cxx=0)\n",
    "    ]\n",
    "    \n",
    "    return rs.Rotor(shaft_elements=shaft, bearing_seal_elements=bearings, sparse=False)"
   ]
  },
  {
   "cell_type": "code",
   "execution_count": null,
   "metadata": {},
   "outputs": [],
   "source": [
    "# create reference rotor with 80 elements\n",
    "R = 0.04\n",
    "rotor_80 = create_rotor(80, R)\n",
    "rotor_80.run_modal()\n",
    "\n",
    "n_eigen = 8 \n",
    "errors = np.zeros([len(number_of_elements), n_eigen])\n",
    "\n",
    "for i, n_el in enumerate(number_of_elements):\n",
    "    rotor = create_rotor(n_el, R)\n",
    "    rotor.run_modal()\n",
    "    errors[i, :] = abs(\n",
    "        100 * (rotor.wn[:n_eigen] - rotor_80.wn[:n_eigen]) \n",
    "        / rotor_80.wn[:n_eigen])\n",
    "\n",
    "fig, ax = plt.subplots()\n",
    "ax.set_xlabel('number of elements')\n",
    "ax.set_ylabel('Natural Frequency error(%)')\n",
    "for i in range(8):\n",
    "    ax.semilogy(number_of_elements, errors[:, i])"
   ]
  },
  {
   "cell_type": "code",
   "execution_count": null,
   "metadata": {},
   "outputs": [],
   "source": [
    "# create reference rotor with 80 elements\n",
    "n_el = 6 \n",
    "R_list = np.linspace(1e-4, 0.15, 10)\n",
    "\n",
    "n_eigen = 8 \n",
    "errors = np.zeros([len(R_list), n_eigen])\n",
    "\n",
    "for i, R in enumerate(R_list):\n",
    "    rotor_ref = create_rotor(100, R, \n",
    "                             shear_effects=True, rotary_inertia=True)\n",
    "    rotor_ref.run_modal()\n",
    "\n",
    "    rotor = create_rotor(n_el, R)\n",
    "    rotor.run_modal()\n",
    "    errors[i, :] = abs(\n",
    "        100 * (rotor.wn[:n_eigen] - rotor_ref.wn[:n_eigen]) \n",
    "        / rotor_ref.wn[:n_eigen])\n",
    "\n",
    "fig, ax = plt.subplots()\n",
    "ax.set_xlabel('Slenderness ratio')\n",
    "ax.set_ylabel('Natural Frequency error(%)')\n",
    "for i in range(8):\n",
    "    ax.semilogy(R_list, errors[:, i])"
   ]
  }
 ],
 "metadata": {
  "kernelspec": {
   "display_name": "Python 3",
   "language": "python",
   "name": "python3"
  },
  "language_info": {
   "codemirror_mode": {
    "name": "ipython",
    "version": 3
   },
   "file_extension": ".py",
   "mimetype": "text/x-python",
   "name": "python",
   "nbconvert_exporter": "python",
   "pygments_lexer": "ipython3",
   "version": "3.7.3"
  }
 },
 "nbformat": 4,
 "nbformat_minor": 2
}
