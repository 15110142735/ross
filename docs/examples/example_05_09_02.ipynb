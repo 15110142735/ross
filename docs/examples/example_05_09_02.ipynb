{
 "cells": [
  {
   "cell_type": "markdown",
   "metadata": {},
   "source": [
    "EXAMPLE 5.9.2.\n",
    "=====\n",
    "This system is the same as that of Example 5.9.1 except that the isotropic bearings are replaced by anisotropic bearings.\n",
    "Both bearings have a stiffness of 1 MN/m in the x direction and 0.8 MN/m in the\n",
    "y direction. Calculate the eigenvalues and mode shapes at 0 and 4,000 rev/min\n",
    "and plot the natural frequency map for rotational speeds up to 4,500 rev/min."
   ]
  },
  {
   "cell_type": "code",
   "execution_count": null,
   "metadata": {},
   "outputs": [],
   "source": [
    "from bokeh.io import output_notebook\n",
    "import ross as rs\n",
    "import numpy as np\n",
    "output_notebook()"
   ]
  },
  {
   "cell_type": "code",
   "execution_count": null,
   "metadata": {},
   "outputs": [],
   "source": [
    "#Classic Instantiation of the rotor\n",
    "shaft_elements = []\n",
    "bearing_seal_elements = []\n",
    "disk_elements = []\n",
    "Steel = rs.steel\n",
    "\n",
    "for i in range(6):\n",
    "    shaft_elements.append(rs.ShaftElement(L=0.25, material=Steel, n=i, i_d=0, o_d=0.05))\n",
    "    \n",
    "disk_elements.append(rs.DiskElement.from_geometry(n=2,\n",
    "                                                  material=Steel, \n",
    "                                                  width=0.07,\n",
    "                                                  i_d=0.05, \n",
    "                                                  o_d=0.28\n",
    "                                                 )\n",
    "                    )\n",
    "\n",
    "disk_elements.append(rs.DiskElement.from_geometry(n=4,\n",
    "                                                  material=Steel, \n",
    "                                                  width=0.07,\n",
    "                                                  i_d=0.05, \n",
    "                                                  o_d=0.35\n",
    "                                                 )\n",
    "                    )\n",
    "bearing_seal_elements.append(rs.BearingElement(n=0, kxx=1e6, kyy=.8e6, cxx=0, cyy=0))\n",
    "bearing_seal_elements.append(rs.BearingElement(n=6, kxx=1e6, kyy=.8e6, cxx=0, cyy=0))\n",
    "\n",
    "rotor592c = rs.Rotor(shaft_elements=shaft_elements,\n",
    "                     bearing_seal_elements=bearing_seal_elements,\n",
    "                     disk_elements=disk_elements,n_eigen = 12)\n",
    "\n",
    "rotor592c.plot_rotor()"
   ]
  },
  {
   "cell_type": "code",
   "execution_count": null,
   "metadata": {},
   "outputs": [],
   "source": [
    "#From_section class method instantiation.\n",
    "bearing_seal_elements = []\n",
    "disk_elements = []\n",
    "shaft_length_data = 3*[0.5]\n",
    "i_d = 3*[0]\n",
    "o_d = 3*[0.05]\n",
    "\n",
    "disk_elements.append(rs.DiskElement.from_geometry(n=1,\n",
    "                                                  material=Steel, \n",
    "                                                  width=0.07,\n",
    "                                                  i_d=0.05, \n",
    "                                                  o_d=0.28\n",
    "                                                 )\n",
    "                    )\n",
    "\n",
    "disk_elements.append(rs.DiskElement.from_geometry(n=2,\n",
    "                                                  material=Steel, \n",
    "                                                  width=0.07,\n",
    "                                                  i_d=0.05, \n",
    "                                                  o_d=0.35\n",
    "                                                 )\n",
    "                    )\n",
    "bearing_seal_elements.append(rs.BearingElement(n=0, kxx=1e6, kyy=1e6, cxx=0, cyy=0))\n",
    "bearing_seal_elements.append(rs.BearingElement(n=3, kxx=1e6, kyy=1e6, cxx=0, cyy=0))\n",
    "\n",
    "rotor592fs = rs.Rotor.from_section(brg_seal_data=bearing_seal_elements,\n",
    "                                   disk_data=disk_elements,leng_data=shaft_length_data,\n",
    "                                   i_ds_data=i_d,o_ds_data=o_d                                  )\n",
    "rotor592fs.plot_rotor()\n"
   ]
  },
  {
   "cell_type": "code",
   "execution_count": null,
   "metadata": {},
   "outputs": [],
   "source": [
    "#Obtaining results (wn is in rad/s)\n",
    "\n",
    "print('Normal Instantiation =', rotor592c.wn)\n",
    "print('\\n')\n",
    "print('From Section Instantiation =', rotor592fs.wn)"
   ]
  },
  {
   "cell_type": "code",
   "execution_count": null,
   "metadata": {},
   "outputs": [],
   "source": [
    "#Obtaining results for w=4000RPM (wn is in rad/s)\n",
    "\n",
    "rotor592c.w=4000*np.pi/30\n",
    "\n",
    "print('Normal Instantiation =', rotor592c.wn)"
   ]
  },
  {
   "cell_type": "code",
   "execution_count": null,
   "metadata": {},
   "outputs": [],
   "source": [
    "rotor592c.run_campbell(np.linspace(0,4000*np.pi/30,100)).plot()"
   ]
  }
 ],
 "metadata": {
  "kernelspec": {
   "display_name": "Python 3",
   "language": "python",
   "name": "python3"
  },
  "language_info": {
   "codemirror_mode": {
    "name": "ipython",
    "version": 3
   },
   "file_extension": ".py",
   "mimetype": "text/x-python",
   "name": "python",
   "nbconvert_exporter": "python",
   "pygments_lexer": "ipython3",
   "version": "3.7.3"
  }
 },
 "nbformat": 4,
 "nbformat_minor": 2
}
