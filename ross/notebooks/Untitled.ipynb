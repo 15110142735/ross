{
 "cells": [
  {
   "cell_type": "code",
   "execution_count": 2,
   "metadata": {},
   "outputs": [],
   "source": [
    "import ross as rs"
   ]
  },
  {
   "cell_type": "code",
   "execution_count": 3,
   "metadata": {},
   "outputs": [
    {
     "name": "stdout",
     "output_type": "stream",
     "text": [
      "To check the rotor geometry, use the method plot_rotor()\n",
      "To calculate the rotor state, use the method run()\n"
     ]
    }
   ],
   "source": [
    ">>> #  Rotor without damping with 2 shaft elements 1 disk and 2 bearings\n",
    ">>> import ross as rs\n",
    ">>> from ross.materials import steel\n",
    ">>> z = 0\n",
    ">>> le = 0.25\n",
    ">>> i_d = 0\n",
    ">>> o_d = 0.05\n",
    ">>> tim0 = rs.ShaftElement(le, i_d, o_d, steel,\n",
    "...                    shear_effects=True,\n",
    "...                    rotary_inertia=True,\n",
    "...                    gyroscopic=True)\n",
    ">>> tim1 = rs.ShaftElement(le, i_d, o_d, steel,\n",
    "...                    shear_effects=True,\n",
    "...                    rotary_inertia=True,\n",
    "...                    gyroscopic=True)\n",
    ">>> shaft_elm = [tim0, tim1]\n",
    ">>> disk0 = rs.DiskElement(1, 0.07, 0.05, 0.28)\n",
    ">>> stf = 1e6\n",
    ">>> bearing0 = rs.BearingElement(0, kxx=stf, cxx=0)\n",
    ">>> bearing1 = rs.BearingElement(2, kxx=stf, cxx=0)\n",
    ">>> rotor = rs.Rotor(shaft_elm, [disk0], [bearing0, bearing1])"
   ]
  },
  {
   "cell_type": "code",
   "execution_count": 4,
   "metadata": {},
   "outputs": [],
   "source": []
  },
  {
   "cell_type": "code",
   "execution_count": null,
   "metadata": {},
   "outputs": [],
   "source": []
  }
 ],
 "metadata": {
  "kernelspec": {
   "display_name": "Python 3",
   "language": "python",
   "name": "python3"
  },
  "language_info": {
   "codemirror_mode": {
    "name": "ipython",
    "version": 3
   },
   "file_extension": ".py",
   "mimetype": "text/x-python",
   "name": "python",
   "nbconvert_exporter": "python",
   "pygments_lexer": "ipython3",
   "version": "3.7.2"
  }
 },
 "nbformat": 4,
 "nbformat_minor": 2
}
